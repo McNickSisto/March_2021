{
 "cells": [
  {
   "cell_type": "markdown",
   "id": "pleased-union",
   "metadata": {
    "ExecuteTime": {
     "end_time": "2021-03-18T10:30:57.053865Z",
     "start_time": "2021-03-18T10:30:57.048774Z"
    }
   },
   "source": [
    "# Tabular Playground Series - Mar 2021"
   ]
  },
  {
   "cell_type": "markdown",
   "id": "continued-index",
   "metadata": {
    "ExecuteTime": {
     "end_time": "2021-03-18T10:31:05.058336Z",
     "start_time": "2021-03-18T10:31:05.053907Z"
    },
    "heading_collapsed": true
   },
   "source": [
    "## Importing Modules"
   ]
  },
  {
   "cell_type": "code",
   "execution_count": 1,
   "id": "whole-yukon",
   "metadata": {
    "ExecuteTime": {
     "end_time": "2021-03-18T15:28:01.809381Z",
     "start_time": "2021-03-18T15:27:59.634744Z"
    },
    "hidden": true
   },
   "outputs": [],
   "source": [
    "import pandas as pd\n",
    "import seaborn as sns\n",
    "from scipy import stats\n",
    "import numpy as np\n",
    "import matplotlib.pyplot as plt"
   ]
  },
  {
   "cell_type": "markdown",
   "id": "norman-weekend",
   "metadata": {
    "ExecuteTime": {
     "end_time": "2021-03-18T10:31:19.126697Z",
     "start_time": "2021-03-18T10:31:19.118825Z"
    }
   },
   "source": [
    "## Data Exploration"
   ]
  },
  {
   "cell_type": "markdown",
   "id": "vital-trademark",
   "metadata": {
    "ExecuteTime": {
     "end_time": "2021-03-18T10:33:55.611010Z",
     "start_time": "2021-03-18T10:33:55.603712Z"
    },
    "heading_collapsed": true
   },
   "source": [
    "### Data Import "
   ]
  },
  {
   "cell_type": "code",
   "execution_count": 2,
   "id": "desirable-precipitation",
   "metadata": {
    "ExecuteTime": {
     "end_time": "2021-03-18T15:28:10.732992Z",
     "start_time": "2021-03-18T15:28:08.999663Z"
    },
    "hidden": true
   },
   "outputs": [],
   "source": [
    "data = pd.read_csv('raw_data/train.csv')"
   ]
  },
  {
   "cell_type": "code",
   "execution_count": 3,
   "id": "rural-fountain",
   "metadata": {
    "ExecuteTime": {
     "end_time": "2021-03-18T15:28:12.116557Z",
     "start_time": "2021-03-18T15:28:12.076246Z"
    },
    "hidden": true
   },
   "outputs": [
    {
     "data": {
      "text/html": [
       "<div>\n",
       "<style scoped>\n",
       "    .dataframe tbody tr th:only-of-type {\n",
       "        vertical-align: middle;\n",
       "    }\n",
       "\n",
       "    .dataframe tbody tr th {\n",
       "        vertical-align: top;\n",
       "    }\n",
       "\n",
       "    .dataframe thead th {\n",
       "        text-align: right;\n",
       "    }\n",
       "</style>\n",
       "<table border=\"1\" class=\"dataframe\">\n",
       "  <thead>\n",
       "    <tr style=\"text-align: right;\">\n",
       "      <th></th>\n",
       "      <th>id</th>\n",
       "      <th>cat0</th>\n",
       "      <th>cat1</th>\n",
       "      <th>cat2</th>\n",
       "      <th>cat3</th>\n",
       "      <th>cat4</th>\n",
       "      <th>cat5</th>\n",
       "      <th>cat6</th>\n",
       "      <th>cat7</th>\n",
       "      <th>cat8</th>\n",
       "      <th>...</th>\n",
       "      <th>cont2</th>\n",
       "      <th>cont3</th>\n",
       "      <th>cont4</th>\n",
       "      <th>cont5</th>\n",
       "      <th>cont6</th>\n",
       "      <th>cont7</th>\n",
       "      <th>cont8</th>\n",
       "      <th>cont9</th>\n",
       "      <th>cont10</th>\n",
       "      <th>target</th>\n",
       "    </tr>\n",
       "  </thead>\n",
       "  <tbody>\n",
       "    <tr>\n",
       "      <th>0</th>\n",
       "      <td>0</td>\n",
       "      <td>A</td>\n",
       "      <td>I</td>\n",
       "      <td>A</td>\n",
       "      <td>B</td>\n",
       "      <td>B</td>\n",
       "      <td>BI</td>\n",
       "      <td>A</td>\n",
       "      <td>S</td>\n",
       "      <td>Q</td>\n",
       "      <td>...</td>\n",
       "      <td>0.759439</td>\n",
       "      <td>0.795549</td>\n",
       "      <td>0.681917</td>\n",
       "      <td>0.621672</td>\n",
       "      <td>0.592184</td>\n",
       "      <td>0.791921</td>\n",
       "      <td>0.815254</td>\n",
       "      <td>0.965006</td>\n",
       "      <td>0.665915</td>\n",
       "      <td>0</td>\n",
       "    </tr>\n",
       "    <tr>\n",
       "      <th>1</th>\n",
       "      <td>1</td>\n",
       "      <td>A</td>\n",
       "      <td>I</td>\n",
       "      <td>A</td>\n",
       "      <td>A</td>\n",
       "      <td>E</td>\n",
       "      <td>BI</td>\n",
       "      <td>K</td>\n",
       "      <td>W</td>\n",
       "      <td>AD</td>\n",
       "      <td>...</td>\n",
       "      <td>0.386385</td>\n",
       "      <td>0.541366</td>\n",
       "      <td>0.388982</td>\n",
       "      <td>0.357778</td>\n",
       "      <td>0.600044</td>\n",
       "      <td>0.408701</td>\n",
       "      <td>0.399353</td>\n",
       "      <td>0.927406</td>\n",
       "      <td>0.493729</td>\n",
       "      <td>0</td>\n",
       "    </tr>\n",
       "    <tr>\n",
       "      <th>2</th>\n",
       "      <td>2</td>\n",
       "      <td>A</td>\n",
       "      <td>K</td>\n",
       "      <td>A</td>\n",
       "      <td>A</td>\n",
       "      <td>E</td>\n",
       "      <td>BI</td>\n",
       "      <td>A</td>\n",
       "      <td>E</td>\n",
       "      <td>BM</td>\n",
       "      <td>...</td>\n",
       "      <td>0.343255</td>\n",
       "      <td>0.616352</td>\n",
       "      <td>0.793687</td>\n",
       "      <td>0.552877</td>\n",
       "      <td>0.352113</td>\n",
       "      <td>0.388835</td>\n",
       "      <td>0.412303</td>\n",
       "      <td>0.292696</td>\n",
       "      <td>0.549452</td>\n",
       "      <td>0</td>\n",
       "    </tr>\n",
       "    <tr>\n",
       "      <th>3</th>\n",
       "      <td>3</td>\n",
       "      <td>A</td>\n",
       "      <td>K</td>\n",
       "      <td>A</td>\n",
       "      <td>C</td>\n",
       "      <td>E</td>\n",
       "      <td>BI</td>\n",
       "      <td>A</td>\n",
       "      <td>Y</td>\n",
       "      <td>AD</td>\n",
       "      <td>...</td>\n",
       "      <td>0.831147</td>\n",
       "      <td>0.807807</td>\n",
       "      <td>0.800032</td>\n",
       "      <td>0.619147</td>\n",
       "      <td>0.221789</td>\n",
       "      <td>0.897617</td>\n",
       "      <td>0.633669</td>\n",
       "      <td>0.760318</td>\n",
       "      <td>0.934242</td>\n",
       "      <td>0</td>\n",
       "    </tr>\n",
       "    <tr>\n",
       "      <th>4</th>\n",
       "      <td>4</td>\n",
       "      <td>A</td>\n",
       "      <td>I</td>\n",
       "      <td>G</td>\n",
       "      <td>B</td>\n",
       "      <td>E</td>\n",
       "      <td>BI</td>\n",
       "      <td>C</td>\n",
       "      <td>G</td>\n",
       "      <td>Q</td>\n",
       "      <td>...</td>\n",
       "      <td>0.338818</td>\n",
       "      <td>0.277308</td>\n",
       "      <td>0.610578</td>\n",
       "      <td>0.128291</td>\n",
       "      <td>0.578764</td>\n",
       "      <td>0.279167</td>\n",
       "      <td>0.351103</td>\n",
       "      <td>0.357084</td>\n",
       "      <td>0.328960</td>\n",
       "      <td>1</td>\n",
       "    </tr>\n",
       "  </tbody>\n",
       "</table>\n",
       "<p>5 rows × 32 columns</p>\n",
       "</div>"
      ],
      "text/plain": [
       "   id cat0 cat1 cat2 cat3 cat4 cat5 cat6 cat7 cat8  ...     cont2     cont3  \\\n",
       "0   0    A    I    A    B    B   BI    A    S    Q  ...  0.759439  0.795549   \n",
       "1   1    A    I    A    A    E   BI    K    W   AD  ...  0.386385  0.541366   \n",
       "2   2    A    K    A    A    E   BI    A    E   BM  ...  0.343255  0.616352   \n",
       "3   3    A    K    A    C    E   BI    A    Y   AD  ...  0.831147  0.807807   \n",
       "4   4    A    I    G    B    E   BI    C    G    Q  ...  0.338818  0.277308   \n",
       "\n",
       "      cont4     cont5     cont6     cont7     cont8     cont9    cont10 target  \n",
       "0  0.681917  0.621672  0.592184  0.791921  0.815254  0.965006  0.665915      0  \n",
       "1  0.388982  0.357778  0.600044  0.408701  0.399353  0.927406  0.493729      0  \n",
       "2  0.793687  0.552877  0.352113  0.388835  0.412303  0.292696  0.549452      0  \n",
       "3  0.800032  0.619147  0.221789  0.897617  0.633669  0.760318  0.934242      0  \n",
       "4  0.610578  0.128291  0.578764  0.279167  0.351103  0.357084  0.328960      1  \n",
       "\n",
       "[5 rows x 32 columns]"
      ]
     },
     "execution_count": 3,
     "metadata": {},
     "output_type": "execute_result"
    }
   ],
   "source": [
    "data.head()"
   ]
  },
  {
   "cell_type": "code",
   "execution_count": null,
   "id": "promising-chocolate",
   "metadata": {
    "ExecuteTime": {
     "end_time": "2021-03-18T11:31:52.004927Z",
     "start_time": "2021-03-18T11:31:51.829985Z"
    },
    "hidden": true,
    "scrolled": false
   },
   "outputs": [],
   "source": []
  },
  {
   "cell_type": "markdown",
   "id": "average-packaging",
   "metadata": {
    "ExecuteTime": {
     "end_time": "2021-03-18T11:05:40.281078Z",
     "start_time": "2021-03-18T11:05:40.269368Z"
    },
    "heading_collapsed": true
   },
   "source": [
    "### X & Y"
   ]
  },
  {
   "cell_type": "code",
   "execution_count": 4,
   "id": "aggressive-milwaukee",
   "metadata": {
    "ExecuteTime": {
     "end_time": "2021-03-18T15:28:27.588173Z",
     "start_time": "2021-03-18T15:28:27.462482Z"
    },
    "hidden": true
   },
   "outputs": [],
   "source": [
    "X = data.drop(columns = 'target')"
   ]
  },
  {
   "cell_type": "code",
   "execution_count": 5,
   "id": "natural-reset",
   "metadata": {
    "ExecuteTime": {
     "end_time": "2021-03-18T15:28:29.791372Z",
     "start_time": "2021-03-18T15:28:29.779769Z"
    },
    "hidden": true
   },
   "outputs": [
    {
     "data": {
      "text/plain": [
       "0         0\n",
       "1         0\n",
       "2         0\n",
       "3         0\n",
       "4         1\n",
       "         ..\n",
       "299995    0\n",
       "299996    0\n",
       "299997    1\n",
       "299998    0\n",
       "299999    0\n",
       "Name: target, Length: 300000, dtype: int64"
      ]
     },
     "execution_count": 5,
     "metadata": {},
     "output_type": "execute_result"
    }
   ],
   "source": [
    "y = data['target']\n",
    "y"
   ]
  },
  {
   "cell_type": "markdown",
   "id": "interesting-interview",
   "metadata": {
    "heading_collapsed": true
   },
   "source": [
    "### Checking for duplicates"
   ]
  },
  {
   "cell_type": "code",
   "execution_count": 6,
   "id": "smaller-recognition",
   "metadata": {
    "ExecuteTime": {
     "end_time": "2021-03-18T15:28:38.389481Z",
     "start_time": "2021-03-18T15:28:38.374346Z"
    },
    "hidden": true
   },
   "outputs": [
    {
     "data": {
      "text/plain": [
       "300000"
      ]
     },
     "execution_count": 6,
     "metadata": {},
     "output_type": "execute_result"
    }
   ],
   "source": [
    "len(X) # Check number of rows before removing duplicates"
   ]
  },
  {
   "cell_type": "code",
   "execution_count": 7,
   "id": "successful-breathing",
   "metadata": {
    "ExecuteTime": {
     "end_time": "2021-03-18T15:28:42.511061Z",
     "start_time": "2021-03-18T15:28:40.759100Z"
    },
    "hidden": true
   },
   "outputs": [
    {
     "data": {
      "text/plain": [
       "300000"
      ]
     },
     "execution_count": 7,
     "metadata": {},
     "output_type": "execute_result"
    }
   ],
   "source": [
    "X = X.drop_duplicates() # Remove duplicates\n",
    "len(X)# Check new number of rows"
   ]
  },
  {
   "cell_type": "markdown",
   "id": "functioning-paper",
   "metadata": {
    "ExecuteTime": {
     "end_time": "2021-03-18T10:34:07.337150Z",
     "start_time": "2021-03-18T10:34:07.332486Z"
    },
    "heading_collapsed": true
   },
   "source": [
    "### Null Values"
   ]
  },
  {
   "cell_type": "code",
   "execution_count": 8,
   "id": "interpreted-bleeding",
   "metadata": {
    "ExecuteTime": {
     "end_time": "2021-03-18T15:28:47.815247Z",
     "start_time": "2021-03-18T15:28:47.576989Z"
    },
    "hidden": true,
    "scrolled": true
   },
   "outputs": [
    {
     "data": {
      "text/plain": [
       "id        0\n",
       "cat15     0\n",
       "cont9     0\n",
       "cont8     0\n",
       "cont7     0\n",
       "cont6     0\n",
       "cont5     0\n",
       "cont4     0\n",
       "cont3     0\n",
       "cont2     0\n",
       "cont1     0\n",
       "cont0     0\n",
       "cat18     0\n",
       "cat17     0\n",
       "cat16     0\n",
       "cat14     0\n",
       "cat0      0\n",
       "cat13     0\n",
       "cat12     0\n",
       "cat11     0\n",
       "cat10     0\n",
       "cat9      0\n",
       "cat8      0\n",
       "cat7      0\n",
       "cat6      0\n",
       "cat5      0\n",
       "cat4      0\n",
       "cat3      0\n",
       "cat2      0\n",
       "cat1      0\n",
       "cont10    0\n",
       "dtype: int64"
      ]
     },
     "execution_count": 8,
     "metadata": {},
     "output_type": "execute_result"
    }
   ],
   "source": [
    "X.isnull().sum().sort_values(ascending=False) #NaN count for each column"
   ]
  },
  {
   "cell_type": "markdown",
   "id": "weighted-sphere",
   "metadata": {
    "ExecuteTime": {
     "end_time": "2021-03-18T10:53:18.000954Z",
     "start_time": "2021-03-18T10:53:17.996983Z"
    },
    "heading_collapsed": true
   },
   "source": [
    "### Checking Cat and Num values"
   ]
  },
  {
   "cell_type": "code",
   "execution_count": 9,
   "id": "relative-honor",
   "metadata": {
    "ExecuteTime": {
     "end_time": "2021-03-18T15:30:16.661264Z",
     "start_time": "2021-03-18T15:30:16.650389Z"
    },
    "hidden": true
   },
   "outputs": [],
   "source": [
    "num_cols = X._get_numeric_data().columns"
   ]
  },
  {
   "cell_type": "code",
   "execution_count": 10,
   "id": "korean-abuse",
   "metadata": {
    "ExecuteTime": {
     "end_time": "2021-03-18T15:30:19.490652Z",
     "start_time": "2021-03-18T15:30:19.483300Z"
    },
    "hidden": true
   },
   "outputs": [
    {
     "data": {
      "text/plain": [
       "12"
      ]
     },
     "execution_count": 10,
     "metadata": {},
     "output_type": "execute_result"
    }
   ],
   "source": [
    "len(num_cols)"
   ]
  },
  {
   "cell_type": "code",
   "execution_count": 11,
   "id": "documentary-median",
   "metadata": {
    "ExecuteTime": {
     "end_time": "2021-03-18T15:30:20.850503Z",
     "start_time": "2021-03-18T15:30:20.841761Z"
    },
    "hidden": true
   },
   "outputs": [
    {
     "data": {
      "text/plain": [
       "Index(['id', 'cont0', 'cont1', 'cont2', 'cont3', 'cont4', 'cont5', 'cont6',\n",
       "       'cont7', 'cont8', 'cont9', 'cont10'],\n",
       "      dtype='object')"
      ]
     },
     "execution_count": 11,
     "metadata": {},
     "output_type": "execute_result"
    }
   ],
   "source": [
    "num_cols"
   ]
  },
  {
   "cell_type": "code",
   "execution_count": 12,
   "id": "nutritional-template",
   "metadata": {
    "ExecuteTime": {
     "end_time": "2021-03-18T15:30:22.571384Z",
     "start_time": "2021-03-18T15:30:22.568009Z"
    },
    "hidden": true
   },
   "outputs": [],
   "source": [
    "num_cols = num_cols.drop('id')"
   ]
  },
  {
   "cell_type": "code",
   "execution_count": 13,
   "id": "settled-japan",
   "metadata": {
    "ExecuteTime": {
     "end_time": "2021-03-18T15:30:24.460538Z",
     "start_time": "2021-03-18T15:30:24.452325Z"
    },
    "hidden": true
   },
   "outputs": [
    {
     "data": {
      "text/plain": [
       "Index(['cont0', 'cont1', 'cont2', 'cont3', 'cont4', 'cont5', 'cont6', 'cont7',\n",
       "       'cont8', 'cont9', 'cont10'],\n",
       "      dtype='object')"
      ]
     },
     "execution_count": 13,
     "metadata": {},
     "output_type": "execute_result"
    }
   ],
   "source": [
    "num_cols"
   ]
  },
  {
   "cell_type": "code",
   "execution_count": 14,
   "id": "earned-matrix",
   "metadata": {
    "ExecuteTime": {
     "end_time": "2021-03-18T15:30:26.322917Z",
     "start_time": "2021-03-18T15:30:26.318934Z"
    },
    "hidden": true
   },
   "outputs": [],
   "source": [
    "cat_cols = list(set(X) - set(num_cols))"
   ]
  },
  {
   "cell_type": "code",
   "execution_count": 15,
   "id": "objective-simple",
   "metadata": {
    "ExecuteTime": {
     "end_time": "2021-03-18T15:30:28.468920Z",
     "start_time": "2021-03-18T15:30:28.462788Z"
    },
    "hidden": true
   },
   "outputs": [
    {
     "data": {
      "text/plain": [
       "['cat8',\n",
       " 'cat11',\n",
       " 'id',\n",
       " 'cat4',\n",
       " 'cat10',\n",
       " 'cat17',\n",
       " 'cat9',\n",
       " 'cat6',\n",
       " 'cat5',\n",
       " 'cat14',\n",
       " 'cat12',\n",
       " 'cat0',\n",
       " 'cat13',\n",
       " 'cat7',\n",
       " 'cat18',\n",
       " 'cat2',\n",
       " 'cat16',\n",
       " 'cat1',\n",
       " 'cat15',\n",
       " 'cat3']"
      ]
     },
     "execution_count": 15,
     "metadata": {},
     "output_type": "execute_result"
    }
   ],
   "source": [
    "cat_cols "
   ]
  },
  {
   "cell_type": "code",
   "execution_count": 16,
   "id": "rolled-microphone",
   "metadata": {
    "ExecuteTime": {
     "end_time": "2021-03-18T15:30:33.283212Z",
     "start_time": "2021-03-18T15:30:33.280414Z"
    },
    "hidden": true
   },
   "outputs": [],
   "source": [
    "cat_cols.remove('id')"
   ]
  },
  {
   "cell_type": "code",
   "execution_count": 17,
   "id": "tribal-birth",
   "metadata": {
    "ExecuteTime": {
     "end_time": "2021-03-18T15:30:35.332600Z",
     "start_time": "2021-03-18T15:30:35.327387Z"
    },
    "hidden": true
   },
   "outputs": [
    {
     "data": {
      "text/plain": [
       "['cat8',\n",
       " 'cat11',\n",
       " 'cat4',\n",
       " 'cat10',\n",
       " 'cat17',\n",
       " 'cat9',\n",
       " 'cat6',\n",
       " 'cat5',\n",
       " 'cat14',\n",
       " 'cat12',\n",
       " 'cat0',\n",
       " 'cat13',\n",
       " 'cat7',\n",
       " 'cat18',\n",
       " 'cat2',\n",
       " 'cat16',\n",
       " 'cat1',\n",
       " 'cat15',\n",
       " 'cat3']"
      ]
     },
     "execution_count": 17,
     "metadata": {},
     "output_type": "execute_result"
    }
   ],
   "source": [
    "cat_cols"
   ]
  },
  {
   "cell_type": "code",
   "execution_count": 18,
   "id": "supported-specific",
   "metadata": {
    "ExecuteTime": {
     "end_time": "2021-03-18T15:30:46.957878Z",
     "start_time": "2021-03-18T15:30:46.899348Z"
    },
    "hidden": true
   },
   "outputs": [],
   "source": [
    "data_cat = data[cat_cols]"
   ]
  },
  {
   "cell_type": "code",
   "execution_count": null,
   "id": "weighted-aberdeen",
   "metadata": {
    "ExecuteTime": {
     "end_time": "2021-03-18T11:37:35.852477Z",
     "start_time": "2021-03-18T11:37:35.802678Z"
    },
    "hidden": true
   },
   "outputs": [],
   "source": [
    "# plt.figure(figsize=(18,12))\n",
    "# sns.countplot(data= data, x='cat7', hue=y)"
   ]
  },
  {
   "cell_type": "code",
   "execution_count": null,
   "id": "higher-subscription",
   "metadata": {
    "hidden": true
   },
   "outputs": [],
   "source": [
    "# plt.figure(figsize=(30,50))\n",
    "# for index, cat in enumerate(cat_cols):\n",
    "#     index += 1\n",
    "#     plt.subplot(10,2,index)\n",
    "#     x = data[cat]\n",
    "#     sns.histplot(x)\n",
    "#     plt.title(cat)"
   ]
  },
  {
   "cell_type": "code",
   "execution_count": 19,
   "id": "considered-banana",
   "metadata": {
    "ExecuteTime": {
     "end_time": "2021-03-18T15:30:52.129317Z",
     "start_time": "2021-03-18T15:30:51.390527Z"
    },
    "hidden": true
   },
   "outputs": [
    {
     "data": {
      "text/plain": [
       "<AxesSubplot:>"
      ]
     },
     "execution_count": 19,
     "metadata": {},
     "output_type": "execute_result"
    },
    {
     "data": {
      "image/png": "[encoded data removed]",
      "text/plain": [
       "<Figure size 432x288 with 2 Axes>"
      ]
     },
     "metadata": {
      "needs_background": "light"
     },
     "output_type": "display_data"
    }
   ],
   "source": [
    "# Heatmap\n",
    "corr = data.corr()\n",
    "sns.heatmap(corr, \n",
    "        xticklabels=corr.columns,\n",
    "        yticklabels=corr.columns,\n",
    "        cmap= \"YlGnBu\")"
   ]
  },
  {
   "cell_type": "code",
   "execution_count": 91,
   "id": "russian-wealth",
   "metadata": {
    "ExecuteTime": {
     "end_time": "2021-03-18T16:48:19.971970Z",
     "start_time": "2021-03-18T16:48:18.948107Z"
    },
    "hidden": true
   },
   "outputs": [
    {
     "data": {
      "text/plain": [
       "<AxesSubplot:xlabel='target', ylabel='Count'>"
      ]
     },
     "execution_count": 91,
     "metadata": {},
     "output_type": "execute_result"
    },
    {
     "data": {
      "image/png": "[encoded data removed]",
      "text/plain": [
       "<Figure size 432x288 with 1 Axes>"
      ]
     },
     "metadata": {
      "needs_background": "light"
     },
     "output_type": "display_data"
    }
   ],
   "source": [
    "sns.histplot(y) #imbalanced, so i shouldnt use accuracy[[TN,FP], [FN,TP]], F1 identifies 1, & w/o wrong ones"
   ]
  },
  {
   "cell_type": "markdown",
   "id": "elect-booth",
   "metadata": {
    "heading_collapsed": true
   },
   "source": [
    "### Removing  outliers for numerical values"
   ]
  },
  {
   "cell_type": "code",
   "execution_count": 20,
   "id": "romantic-extreme",
   "metadata": {
    "ExecuteTime": {
     "end_time": "2021-03-18T15:31:13.441303Z",
     "start_time": "2021-03-18T15:31:13.423827Z"
    },
    "hidden": true
   },
   "outputs": [],
   "source": [
    "data_num = data[num_cols]"
   ]
  },
  {
   "cell_type": "code",
   "execution_count": 21,
   "id": "micro-affiliate",
   "metadata": {
    "ExecuteTime": {
     "end_time": "2021-03-18T15:31:15.078465Z",
     "start_time": "2021-03-18T15:31:15.044785Z"
    },
    "hidden": true
   },
   "outputs": [
    {
     "data": {
      "text/html": [
       "<div>\n",
       "<style scoped>\n",
       "    .dataframe tbody tr th:only-of-type {\n",
       "        vertical-align: middle;\n",
       "    }\n",
       "\n",
       "    .dataframe tbody tr th {\n",
       "        vertical-align: top;\n",
       "    }\n",
       "\n",
       "    .dataframe thead th {\n",
       "        text-align: right;\n",
       "    }\n",
       "</style>\n",
       "<table border=\"1\" class=\"dataframe\">\n",
       "  <thead>\n",
       "    <tr style=\"text-align: right;\">\n",
       "      <th></th>\n",
       "      <th>cont0</th>\n",
       "      <th>cont1</th>\n",
       "      <th>cont2</th>\n",
       "      <th>cont3</th>\n",
       "      <th>cont4</th>\n",
       "      <th>cont5</th>\n",
       "      <th>cont6</th>\n",
       "      <th>cont7</th>\n",
       "      <th>cont8</th>\n",
       "      <th>cont9</th>\n",
       "      <th>cont10</th>\n",
       "    </tr>\n",
       "  </thead>\n",
       "  <tbody>\n",
       "    <tr>\n",
       "      <th>0</th>\n",
       "      <td>0.629858</td>\n",
       "      <td>0.855349</td>\n",
       "      <td>0.759439</td>\n",
       "      <td>0.795549</td>\n",
       "      <td>0.681917</td>\n",
       "      <td>0.621672</td>\n",
       "      <td>0.592184</td>\n",
       "      <td>0.791921</td>\n",
       "      <td>0.815254</td>\n",
       "      <td>0.965006</td>\n",
       "      <td>0.665915</td>\n",
       "    </tr>\n",
       "    <tr>\n",
       "      <th>1</th>\n",
       "      <td>0.370727</td>\n",
       "      <td>0.328929</td>\n",
       "      <td>0.386385</td>\n",
       "      <td>0.541366</td>\n",
       "      <td>0.388982</td>\n",
       "      <td>0.357778</td>\n",
       "      <td>0.600044</td>\n",
       "      <td>0.408701</td>\n",
       "      <td>0.399353</td>\n",
       "      <td>0.927406</td>\n",
       "      <td>0.493729</td>\n",
       "    </tr>\n",
       "    <tr>\n",
       "      <th>2</th>\n",
       "      <td>0.502272</td>\n",
       "      <td>0.322749</td>\n",
       "      <td>0.343255</td>\n",
       "      <td>0.616352</td>\n",
       "      <td>0.793687</td>\n",
       "      <td>0.552877</td>\n",
       "      <td>0.352113</td>\n",
       "      <td>0.388835</td>\n",
       "      <td>0.412303</td>\n",
       "      <td>0.292696</td>\n",
       "      <td>0.549452</td>\n",
       "    </tr>\n",
       "    <tr>\n",
       "      <th>3</th>\n",
       "      <td>0.934242</td>\n",
       "      <td>0.707663</td>\n",
       "      <td>0.831147</td>\n",
       "      <td>0.807807</td>\n",
       "      <td>0.800032</td>\n",
       "      <td>0.619147</td>\n",
       "      <td>0.221789</td>\n",
       "      <td>0.897617</td>\n",
       "      <td>0.633669</td>\n",
       "      <td>0.760318</td>\n",
       "      <td>0.934242</td>\n",
       "    </tr>\n",
       "    <tr>\n",
       "      <th>4</th>\n",
       "      <td>0.254427</td>\n",
       "      <td>0.274514</td>\n",
       "      <td>0.338818</td>\n",
       "      <td>0.277308</td>\n",
       "      <td>0.610578</td>\n",
       "      <td>0.128291</td>\n",
       "      <td>0.578764</td>\n",
       "      <td>0.279167</td>\n",
       "      <td>0.351103</td>\n",
       "      <td>0.357084</td>\n",
       "      <td>0.328960</td>\n",
       "    </tr>\n",
       "    <tr>\n",
       "      <th>...</th>\n",
       "      <td>...</td>\n",
       "      <td>...</td>\n",
       "      <td>...</td>\n",
       "      <td>...</td>\n",
       "      <td>...</td>\n",
       "      <td>...</td>\n",
       "      <td>...</td>\n",
       "      <td>...</td>\n",
       "      <td>...</td>\n",
       "      <td>...</td>\n",
       "      <td>...</td>\n",
       "    </tr>\n",
       "    <tr>\n",
       "      <th>299995</th>\n",
       "      <td>0.681700</td>\n",
       "      <td>0.500730</td>\n",
       "      <td>0.662428</td>\n",
       "      <td>0.671927</td>\n",
       "      <td>0.390566</td>\n",
       "      <td>0.145840</td>\n",
       "      <td>0.262767</td>\n",
       "      <td>0.514248</td>\n",
       "      <td>0.519340</td>\n",
       "      <td>0.617436</td>\n",
       "      <td>0.688007</td>\n",
       "    </tr>\n",
       "    <tr>\n",
       "      <th>299996</th>\n",
       "      <td>0.489226</td>\n",
       "      <td>0.790664</td>\n",
       "      <td>0.821657</td>\n",
       "      <td>0.620356</td>\n",
       "      <td>0.384891</td>\n",
       "      <td>0.735879</td>\n",
       "      <td>0.547731</td>\n",
       "      <td>0.726653</td>\n",
       "      <td>0.470575</td>\n",
       "      <td>0.275743</td>\n",
       "      <td>0.638939</td>\n",
       "    </tr>\n",
       "    <tr>\n",
       "      <th>299997</th>\n",
       "      <td>0.487882</td>\n",
       "      <td>0.522347</td>\n",
       "      <td>0.407037</td>\n",
       "      <td>0.232436</td>\n",
       "      <td>0.832482</td>\n",
       "      <td>0.810663</td>\n",
       "      <td>0.596939</td>\n",
       "      <td>0.308821</td>\n",
       "      <td>0.373997</td>\n",
       "      <td>0.518024</td>\n",
       "      <td>0.452144</td>\n",
       "    </tr>\n",
       "    <tr>\n",
       "      <th>299998</th>\n",
       "      <td>0.331900</td>\n",
       "      <td>0.812891</td>\n",
       "      <td>0.808045</td>\n",
       "      <td>0.630708</td>\n",
       "      <td>0.346898</td>\n",
       "      <td>0.735147</td>\n",
       "      <td>0.563488</td>\n",
       "      <td>0.609836</td>\n",
       "      <td>0.680430</td>\n",
       "      <td>0.318453</td>\n",
       "      <td>0.335822</td>\n",
       "    </tr>\n",
       "    <tr>\n",
       "      <th>299999</th>\n",
       "      <td>0.822600</td>\n",
       "      <td>0.819735</td>\n",
       "      <td>0.775451</td>\n",
       "      <td>0.848696</td>\n",
       "      <td>0.819377</td>\n",
       "      <td>0.355467</td>\n",
       "      <td>0.218153</td>\n",
       "      <td>0.968856</td>\n",
       "      <td>0.823655</td>\n",
       "      <td>0.330515</td>\n",
       "      <td>0.972569</td>\n",
       "    </tr>\n",
       "  </tbody>\n",
       "</table>\n",
       "<p>300000 rows × 11 columns</p>\n",
       "</div>"
      ],
      "text/plain": [
       "           cont0     cont1     cont2     cont3     cont4     cont5     cont6  \\\n",
       "0       0.629858  0.855349  0.759439  0.795549  0.681917  0.621672  0.592184   \n",
       "1       0.370727  0.328929  0.386385  0.541366  0.388982  0.357778  0.600044   \n",
       "2       0.502272  0.322749  0.343255  0.616352  0.793687  0.552877  0.352113   \n",
       "3       0.934242  0.707663  0.831147  0.807807  0.800032  0.619147  0.221789   \n",
       "4       0.254427  0.274514  0.338818  0.277308  0.610578  0.128291  0.578764   \n",
       "...          ...       ...       ...       ...       ...       ...       ...   \n",
       "299995  0.681700  0.500730  0.662428  0.671927  0.390566  0.145840  0.262767   \n",
       "299996  0.489226  0.790664  0.821657  0.620356  0.384891  0.735879  0.547731   \n",
       "299997  0.487882  0.522347  0.407037  0.232436  0.832482  0.810663  0.596939   \n",
       "299998  0.331900  0.812891  0.808045  0.630708  0.346898  0.735147  0.563488   \n",
       "299999  0.822600  0.819735  0.775451  0.848696  0.819377  0.355467  0.218153   \n",
       "\n",
       "           cont7     cont8     cont9    cont10  \n",
       "0       0.791921  0.815254  0.965006  0.665915  \n",
       "1       0.408701  0.399353  0.927406  0.493729  \n",
       "2       0.388835  0.412303  0.292696  0.549452  \n",
       "3       0.897617  0.633669  0.760318  0.934242  \n",
       "4       0.279167  0.351103  0.357084  0.328960  \n",
       "...          ...       ...       ...       ...  \n",
       "299995  0.514248  0.519340  0.617436  0.688007  \n",
       "299996  0.726653  0.470575  0.275743  0.638939  \n",
       "299997  0.308821  0.373997  0.518024  0.452144  \n",
       "299998  0.609836  0.680430  0.318453  0.335822  \n",
       "299999  0.968856  0.823655  0.330515  0.972569  \n",
       "\n",
       "[300000 rows x 11 columns]"
      ]
     },
     "execution_count": 21,
     "metadata": {},
     "output_type": "execute_result"
    }
   ],
   "source": [
    "data_num"
   ]
  },
  {
   "cell_type": "code",
   "execution_count": null,
   "id": "relevant-correlation",
   "metadata": {
    "ExecuteTime": {
     "end_time": "2021-03-18T11:33:43.271373Z",
     "start_time": "2021-03-18T11:33:43.108878Z"
    },
    "hidden": true
   },
   "outputs": [],
   "source": [
    "# data_num[(np.abs(stats.zscore(data_num)) < 3).all(axis=1)]"
   ]
  },
  {
   "cell_type": "code",
   "execution_count": null,
   "id": "organic-species",
   "metadata": {
    "ExecuteTime": {
     "end_time": "2021-03-18T11:34:43.657905Z",
     "start_time": "2021-03-18T11:34:43.502853Z"
    },
    "hidden": true
   },
   "outputs": [],
   "source": [
    "# data_num=data_num[(np.abs(stats.zscore(data_num)) < 3).all(axis=1)]"
   ]
  },
  {
   "cell_type": "code",
   "execution_count": null,
   "id": "numerous-mineral",
   "metadata": {
    "ExecuteTime": {
     "end_time": "2021-03-18T12:00:07.603999Z",
     "start_time": "2021-03-18T12:00:07.595616Z"
    },
    "hidden": true
   },
   "outputs": [],
   "source": [
    "# len(data_num)"
   ]
  },
  {
   "cell_type": "markdown",
   "id": "published-graduation",
   "metadata": {},
   "source": [
    "### Categorical Sorting"
   ]
  },
  {
   "cell_type": "code",
   "execution_count": null,
   "id": "exact-oxygen",
   "metadata": {
    "ExecuteTime": {
     "end_time": "2021-03-18T14:44:49.201698Z",
     "start_time": "2021-03-18T14:44:48.606225Z"
    }
   },
   "outputs": [],
   "source": [
    "# data_cat.nunique()"
   ]
  },
  {
   "cell_type": "code",
   "execution_count": null,
   "id": "communist-composition",
   "metadata": {
    "ExecuteTime": {
     "end_time": "2021-03-18T12:19:38.320081Z",
     "start_time": "2021-03-18T12:19:38.312000Z"
    }
   },
   "outputs": [],
   "source": [
    "# len(data_cat)"
   ]
  },
  {
   "cell_type": "code",
   "execution_count": null,
   "id": "irish-stick",
   "metadata": {
    "ExecuteTime": {
     "end_time": "2021-03-18T13:20:35.114456Z",
     "start_time": "2021-03-18T13:20:35.027816Z"
    }
   },
   "outputs": [],
   "source": [
    "# test=data_cat['cat0'].value_counts()/300000*100\n",
    "# test"
   ]
  },
  {
   "cell_type": "code",
   "execution_count": null,
   "id": "electoral-adelaide",
   "metadata": {
    "ExecuteTime": {
     "end_time": "2021-03-18T13:34:03.666324Z",
     "start_time": "2021-03-18T13:34:03.658260Z"
    }
   },
   "outputs": [],
   "source": [
    "# test.index[0]"
   ]
  },
  {
   "cell_type": "code",
   "execution_count": null,
   "id": "adequate-inclusion",
   "metadata": {
    "ExecuteTime": {
     "end_time": "2021-03-18T13:52:19.630242Z",
     "start_time": "2021-03-18T13:52:19.620775Z"
    }
   },
   "outputs": [],
   "source": [
    "# for i in range(len(test)):\n",
    "#     if test[i] < 30.0:\n",
    "#         print(test.index[i])"
   ]
  },
  {
   "cell_type": "code",
   "execution_count": null,
   "id": "representative-airport",
   "metadata": {
    "ExecuteTime": {
     "end_time": "2021-03-18T14:45:02.145695Z",
     "start_time": "2021-03-18T14:45:02.058013Z"
    }
   },
   "outputs": [],
   "source": [
    "# for i in range(len(test)):\n",
    "#     if test[i] < 30.0:\n",
    "#         data_cat['cat0'].replace(test.index[i],'other',inplace=True)\n",
    "#         print(data_cat['cat0'].value_counts())\n"
   ]
  },
  {
   "cell_type": "code",
   "execution_count": null,
   "id": "stuffed-david",
   "metadata": {
    "ExecuteTime": {
     "end_time": "2021-03-18T12:20:43.216966Z",
     "start_time": "2021-03-18T12:20:42.568666Z"
    }
   },
   "outputs": [],
   "source": [
    "# for cat in data_cat:\n",
    "#     percentages=data_cat[cat].value_counts()/300000*100\n",
    "#     print(cat)\n",
    "#     print(percentages)"
   ]
  },
  {
   "cell_type": "code",
   "execution_count": 22,
   "id": "african-cooking",
   "metadata": {
    "ExecuteTime": {
     "end_time": "2021-03-18T15:32:48.110265Z",
     "start_time": "2021-03-18T15:32:39.456796Z"
    }
   },
   "outputs": [
    {
     "name": "stdout",
     "output_type": "stream",
     "text": [
      "cat8\n",
      "BM    14.126667\n",
      "AE     8.147333\n",
      "AX     7.376333\n",
      "Y      6.954667\n",
      "H      5.187000\n",
      "        ...    \n",
      "AQ     0.023000\n",
      "T      0.022333\n",
      "AC     0.019000\n",
      "B      0.019000\n",
      "AR     0.011000\n",
      "Name: cat8, Length: 61, dtype: float64\n"
     ]
    },
    {
     "name": "stderr",
     "output_type": "stream",
     "text": [
      "/Users/macbookair/.pyenv/versions/3.8.6/envs/lewagon/lib/python3.8/site-packages/pandas/core/series.py:4479: SettingWithCopyWarning: \n",
      "A value is trying to be set on a copy of a slice from a DataFrame\n",
      "\n",
      "See the caveats in the documentation: https://pandas.pydata.org/pandas-docs/stable/user_guide/indexing.html#returning-a-view-versus-a-copy\n",
      "  return super().replace(\n"
     ]
    },
    {
     "name": "stdout",
     "output_type": "stream",
     "text": [
      "cat11\n",
      "A    86.310667\n",
      "B    13.689333\n",
      "Name: cat11, dtype: float64\n",
      "cat4\n",
      "E    43.128333\n",
      "F    25.559333\n",
      "G    10.251333\n",
      "D     9.306333\n",
      "H     7.796000\n",
      "J     1.435667\n",
      "I     1.080333\n",
      "K     0.493667\n",
      "M     0.182333\n",
      "C     0.168667\n",
      "O     0.110000\n",
      "B     0.100333\n",
      "S     0.095000\n",
      "T     0.071667\n",
      "L     0.071333\n",
      "Q     0.039000\n",
      "P     0.033333\n",
      "A     0.030667\n",
      "N     0.027000\n",
      "R     0.019667\n",
      "Name: cat4, dtype: float64\n",
      "cat10\n",
      "DJ    10.528000\n",
      "HK    10.332667\n",
      "DP     7.893000\n",
      "GS     5.539667\n",
      "CR     4.794000\n",
      "        ...    \n",
      "CX     0.000333\n",
      "FW     0.000333\n",
      "GG     0.000333\n",
      "BA     0.000333\n",
      "GH     0.000333\n",
      "Name: cat10, Length: 299, dtype: float64\n",
      "cat17\n",
      "D    82.375000\n",
      "B     8.712000\n",
      "C     8.441667\n",
      "A     0.471333\n",
      "Name: cat17, dtype: float64\n",
      "cat9\n",
      "A    67.315000\n",
      "E    11.015333\n",
      "C     7.786667\n",
      "F     4.790333\n",
      "J     2.994000\n",
      "I     2.643667\n",
      "N     1.595000\n",
      "L     0.985667\n",
      "R     0.287333\n",
      "V     0.120000\n",
      "B     0.093333\n",
      "G     0.071333\n",
      "Q     0.070333\n",
      "D     0.063000\n",
      "W     0.041667\n",
      "O     0.040667\n",
      "U     0.033667\n",
      "X     0.033000\n",
      "S     0.020000\n",
      "Name: cat9, dtype: float64\n",
      "cat6\n",
      "A    62.632000\n",
      "C    23.809000\n",
      "E     5.527000\n",
      "G     3.732667\n",
      "I     2.216000\n",
      "M     0.727333\n",
      "K     0.517333\n",
      "O     0.224333\n",
      "S     0.194333\n",
      "F     0.104000\n",
      "D     0.071333\n",
      "Y     0.070667\n",
      "B     0.057333\n",
      "U     0.051667\n",
      "Q     0.041333\n",
      "W     0.023667\n",
      "Name: cat6, dtype: float64\n",
      "cat5\n",
      "BI    79.521000\n",
      "AB    13.879667\n",
      "BU     2.246667\n",
      "K      0.904333\n",
      "G      0.227667\n",
      "        ...    \n",
      "ZZ     0.008333\n",
      "B      0.008000\n",
      "AG     0.006333\n",
      "BP     0.006333\n",
      "CB     0.006000\n",
      "Name: cat5, Length: 84, dtype: float64\n",
      "cat14\n",
      "A    53.388667\n",
      "B    46.611333\n",
      "Name: cat14, dtype: float64\n",
      "cat12\n",
      "A    85.713\n",
      "B    14.287\n",
      "Name: cat12, dtype: float64\n",
      "cat0\n",
      "A    74.508333\n",
      "B    25.491667\n",
      "Name: cat0, dtype: float64\n",
      "cat13\n",
      "A    97.570667\n",
      "B     2.429333\n",
      "Name: cat13, dtype: float64\n",
      "cat7\n",
      "AH    15.272667\n",
      "E     13.200333\n",
      "AS     8.442000\n",
      "J      5.378333\n",
      "AN     5.365667\n",
      "U      5.224667\n",
      "N      4.994333\n",
      "AF     3.818333\n",
      "AK     3.232333\n",
      "AV     2.652667\n",
      "S      2.640333\n",
      "AI     2.556000\n",
      "A      2.144000\n",
      "K      2.088000\n",
      "Y      1.965333\n",
      "G      1.885333\n",
      "F      1.850000\n",
      "AW     1.774000\n",
      "C      1.441333\n",
      "AA     1.230667\n",
      "R      0.997000\n",
      "AX     0.878333\n",
      "O      0.846000\n",
      "AP     0.770333\n",
      "AD     0.608667\n",
      "V      0.599333\n",
      "AY     0.583000\n",
      "AO     0.578000\n",
      "AG     0.568667\n",
      "H      0.564000\n",
      "AL     0.524000\n",
      "W      0.508333\n",
      "B      0.469333\n",
      "Q      0.435333\n",
      "AM     0.394333\n",
      "AR     0.373667\n",
      "L      0.313667\n",
      "AT     0.306000\n",
      "M      0.302333\n",
      "D      0.278333\n",
      "BA     0.260333\n",
      "AU     0.223667\n",
      "X      0.220667\n",
      "AC     0.220000\n",
      "I      0.213333\n",
      "P      0.203667\n",
      "AB     0.179667\n",
      "AE     0.152667\n",
      "T      0.126333\n",
      "AJ     0.076333\n",
      "AQ     0.068333\n",
      "Name: cat7, dtype: float64\n",
      "cat18\n",
      "B    85.160667\n",
      "D     7.464667\n",
      "C     7.138000\n",
      "A     0.236667\n",
      "Name: cat18, dtype: float64\n",
      "cat2\n",
      "A    56.231333\n",
      "C    12.958333\n",
      "D     7.573333\n",
      "G     6.075000\n",
      "Q     3.633667\n",
      "F     3.292333\n",
      "J     3.034000\n",
      "M     2.689333\n",
      "I     1.762333\n",
      "L     1.332333\n",
      "O     0.916333\n",
      "N     0.113333\n",
      "H     0.073000\n",
      "B     0.072667\n",
      "S     0.065667\n",
      "U     0.055333\n",
      "R     0.043000\n",
      "K     0.042000\n",
      "E     0.036667\n",
      "Name: cat2, dtype: float64\n",
      "cat16\n",
      "D    68.968667\n",
      "B    28.180333\n",
      "C     1.789667\n",
      "A     1.061333\n",
      "Name: cat16, dtype: float64\n",
      "cat1\n",
      "I    30.269667\n",
      "F    14.606000\n",
      "K    13.956667\n",
      "L    10.630333\n",
      "H     5.752333\n",
      "N     4.410333\n",
      "M     3.784667\n",
      "G     3.749333\n",
      "A     3.515667\n",
      "J     3.345333\n",
      "O     2.913333\n",
      "B     2.282333\n",
      "C     0.567667\n",
      "D     0.138000\n",
      "E     0.078333\n",
      "Name: cat1, dtype: float64\n",
      "cat15\n",
      "B    67.858000\n",
      "D    27.729333\n",
      "A     3.690667\n",
      "C     0.722000\n",
      "Name: cat15, dtype: float64\n",
      "cat3\n",
      "A    62.417000\n",
      "B    26.650333\n",
      "C     5.319000\n",
      "D     2.892000\n",
      "E     1.106000\n",
      "F     0.829667\n",
      "K     0.282000\n",
      "G     0.124000\n",
      "L     0.097333\n",
      "J     0.095333\n",
      "H     0.091333\n",
      "I     0.059000\n",
      "N     0.037000\n",
      "Name: cat3, dtype: float64\n"
     ]
    }
   ],
   "source": [
    "for cat in data_cat:\n",
    "    percentages=data_cat[cat].value_counts()/300000*100\n",
    "    print(cat)\n",
    "    print(percentages)\n",
    "    for i in range(len(percentages)):\n",
    "        if percentages[i] < 5.0:\n",
    "            data_cat[cat].replace(percentages.index[i],'other',inplace=True)\n"
   ]
  },
  {
   "cell_type": "code",
   "execution_count": 23,
   "id": "eastern-jacket",
   "metadata": {
    "ExecuteTime": {
     "end_time": "2021-03-18T15:32:50.197847Z",
     "start_time": "2021-03-18T15:32:49.661512Z"
    }
   },
   "outputs": [
    {
     "name": "stdout",
     "output_type": "stream",
     "text": [
      "cat8\n",
      "other    58.208000\n",
      "BM       14.126667\n",
      "AE        8.147333\n",
      "AX        7.376333\n",
      "Y         6.954667\n",
      "H         5.187000\n",
      "Name: cat8, dtype: float64\n",
      "cat11\n",
      "A    86.310667\n",
      "B    13.689333\n",
      "Name: cat11, dtype: float64\n",
      "cat4\n",
      "E        43.128333\n",
      "F        25.559333\n",
      "G        10.251333\n",
      "D         9.306333\n",
      "H         7.796000\n",
      "other     3.958667\n",
      "Name: cat4, dtype: float64\n",
      "cat10\n",
      "other    65.706667\n",
      "DJ       10.528000\n",
      "HK       10.332667\n",
      "DP        7.893000\n",
      "GS        5.539667\n",
      "Name: cat10, dtype: float64\n",
      "cat17\n",
      "D        82.375000\n",
      "B         8.712000\n",
      "C         8.441667\n",
      "other     0.471333\n",
      "Name: cat17, dtype: float64\n",
      "cat9\n",
      "A        67.315000\n",
      "other    13.883000\n",
      "E        11.015333\n",
      "C         7.786667\n",
      "Name: cat9, dtype: float64\n",
      "cat6\n",
      "A        62.632\n",
      "C        23.809\n",
      "other     8.032\n",
      "E         5.527\n",
      "Name: cat6, dtype: float64\n",
      "cat5\n",
      "BI       79.521000\n",
      "AB       13.879667\n",
      "other     6.599333\n",
      "Name: cat5, dtype: float64\n",
      "cat14\n",
      "A    53.388667\n",
      "B    46.611333\n",
      "Name: cat14, dtype: float64\n",
      "cat12\n",
      "A    85.713\n",
      "B    14.287\n",
      "Name: cat12, dtype: float64\n",
      "cat0\n",
      "A    74.508333\n",
      "B    25.491667\n",
      "Name: cat0, dtype: float64\n",
      "cat13\n",
      "A        97.570667\n",
      "other     2.429333\n",
      "Name: cat13, dtype: float64\n",
      "cat7\n",
      "other    47.116333\n",
      "AH       15.272667\n",
      "E        13.200333\n",
      "AS        8.442000\n",
      "J         5.378333\n",
      "AN        5.365667\n",
      "U         5.224667\n",
      "Name: cat7, dtype: float64\n",
      "cat18\n",
      "B        85.160667\n",
      "D         7.464667\n",
      "C         7.138000\n",
      "other     0.236667\n",
      "Name: cat18, dtype: float64\n",
      "cat2\n",
      "A        56.231333\n",
      "other    17.162000\n",
      "C        12.958333\n",
      "D         7.573333\n",
      "G         6.075000\n",
      "Name: cat2, dtype: float64\n",
      "cat16\n",
      "D        68.968667\n",
      "B        28.180333\n",
      "other     2.851000\n",
      "Name: cat16, dtype: float64\n",
      "cat1\n",
      "I        30.269667\n",
      "other    24.785000\n",
      "F        14.606000\n",
      "K        13.956667\n",
      "L        10.630333\n",
      "H         5.752333\n",
      "Name: cat1, dtype: float64\n",
      "cat15\n",
      "B        67.858000\n",
      "D        27.729333\n",
      "other     4.412667\n",
      "Name: cat15, dtype: float64\n",
      "cat3\n",
      "A        62.417000\n",
      "B        26.650333\n",
      "other     5.613667\n",
      "C         5.319000\n",
      "Name: cat3, dtype: float64\n"
     ]
    }
   ],
   "source": [
    "for cat in data_cat:\n",
    "    print(cat)\n",
    "    print(data_cat[cat].value_counts()/300000*100)"
   ]
  },
  {
   "cell_type": "code",
   "execution_count": 24,
   "id": "starting-stick",
   "metadata": {
    "ExecuteTime": {
     "end_time": "2021-03-18T15:32:56.231138Z",
     "start_time": "2021-03-18T15:32:55.408905Z"
    }
   },
   "outputs": [
    {
     "data": {
      "text/plain": [
       "cat8     6\n",
       "cat11    2\n",
       "cat4     6\n",
       "cat10    5\n",
       "cat17    4\n",
       "cat9     4\n",
       "cat6     4\n",
       "cat5     3\n",
       "cat14    2\n",
       "cat12    2\n",
       "cat0     2\n",
       "cat13    2\n",
       "cat7     7\n",
       "cat18    4\n",
       "cat2     5\n",
       "cat16    3\n",
       "cat1     6\n",
       "cat15    3\n",
       "cat3     4\n",
       "dtype: int64"
      ]
     },
     "execution_count": 24,
     "metadata": {},
     "output_type": "execute_result"
    }
   ],
   "source": [
    "data_cat.nunique()"
   ]
  },
  {
   "cell_type": "markdown",
   "id": "electrical-mouth",
   "metadata": {
    "ExecuteTime": {
     "end_time": "2021-03-18T11:55:58.238588Z",
     "start_time": "2021-03-18T11:55:58.008960Z"
    }
   },
   "source": [
    "### One Hot Encode"
   ]
  },
  {
   "cell_type": "code",
   "execution_count": 25,
   "id": "opposed-terminal",
   "metadata": {
    "ExecuteTime": {
     "end_time": "2021-03-18T15:33:24.315622Z",
     "start_time": "2021-03-18T15:33:23.921593Z"
    }
   },
   "outputs": [
    {
     "data": {
      "text/plain": [
       "[array(['AE', 'AX', 'BM', 'H', 'Y', 'other'], dtype=object),\n",
       " array(['A', 'B'], dtype=object),\n",
       " array(['D', 'E', 'F', 'G', 'H', 'other'], dtype=object),\n",
       " array(['DJ', 'DP', 'GS', 'HK', 'other'], dtype=object),\n",
       " array(['B', 'C', 'D', 'other'], dtype=object),\n",
       " array(['A', 'C', 'E', 'other'], dtype=object),\n",
       " array(['A', 'C', 'E', 'other'], dtype=object),\n",
       " array(['AB', 'BI', 'other'], dtype=object),\n",
       " array(['A', 'B'], dtype=object),\n",
       " array(['A', 'B'], dtype=object),\n",
       " array(['A', 'B'], dtype=object),\n",
       " array(['A', 'other'], dtype=object),\n",
       " array(['AH', 'AN', 'AS', 'E', 'J', 'U', 'other'], dtype=object),\n",
       " array(['B', 'C', 'D', 'other'], dtype=object),\n",
       " array(['A', 'C', 'D', 'G', 'other'], dtype=object),\n",
       " array(['B', 'D', 'other'], dtype=object),\n",
       " array(['F', 'H', 'I', 'K', 'L', 'other'], dtype=object),\n",
       " array(['B', 'D', 'other'], dtype=object),\n",
       " array(['A', 'B', 'C', 'other'], dtype=object)]"
      ]
     },
     "execution_count": 25,
     "metadata": {},
     "output_type": "execute_result"
    }
   ],
   "source": [
    "from sklearn.preprocessing import OneHotEncoder\n",
    "\n",
    "ohe = OneHotEncoder()\n",
    "\n",
    "ohe.fit(data_cat)\n",
    "ohe.categories_"
   ]
  },
  {
   "cell_type": "code",
   "execution_count": 26,
   "id": "organizational-samoa",
   "metadata": {
    "ExecuteTime": {
     "end_time": "2021-03-18T15:33:30.480324Z",
     "start_time": "2021-03-18T15:33:28.551969Z"
    }
   },
   "outputs": [],
   "source": [
    "new_cat=ohe.transform(data_cat).toarray()"
   ]
  },
  {
   "cell_type": "code",
   "execution_count": 29,
   "id": "humanitarian-agency",
   "metadata": {
    "ExecuteTime": {
     "end_time": "2021-03-18T15:41:24.320662Z",
     "start_time": "2021-03-18T15:41:24.313635Z"
    }
   },
   "outputs": [
    {
     "data": {
      "text/plain": [
       "(300000, 74)"
      ]
     },
     "execution_count": 29,
     "metadata": {},
     "output_type": "execute_result"
    }
   ],
   "source": [
    "new_cat.shape"
   ]
  },
  {
   "cell_type": "code",
   "execution_count": 30,
   "id": "numeric-appearance",
   "metadata": {
    "ExecuteTime": {
     "end_time": "2021-03-18T15:43:39.660585Z",
     "start_time": "2021-03-18T15:43:39.652141Z"
    }
   },
   "outputs": [],
   "source": [
    "new_cat_df = pd.DataFrame(new_cat)"
   ]
  },
  {
   "cell_type": "markdown",
   "id": "local-current",
   "metadata": {
    "ExecuteTime": {
     "end_time": "2021-03-18T15:27:07.605812Z",
     "start_time": "2021-03-18T15:27:07.599760Z"
    }
   },
   "source": [
    "## Merge Numerical & Cat"
   ]
  },
  {
   "cell_type": "code",
   "execution_count": 31,
   "id": "willing-automation",
   "metadata": {
    "ExecuteTime": {
     "end_time": "2021-03-18T15:43:46.283493Z",
     "start_time": "2021-03-18T15:43:45.710835Z"
    }
   },
   "outputs": [],
   "source": [
    "new_data = data_num.join(new_cat_df)"
   ]
  },
  {
   "cell_type": "code",
   "execution_count": 33,
   "id": "romance-passage",
   "metadata": {
    "ExecuteTime": {
     "end_time": "2021-03-18T15:44:21.481833Z",
     "start_time": "2021-03-18T15:44:21.470960Z"
    }
   },
   "outputs": [
    {
     "data": {
      "text/plain": [
       "(300000, 85)"
      ]
     },
     "execution_count": 33,
     "metadata": {},
     "output_type": "execute_result"
    }
   ],
   "source": [
    "new_data.shape"
   ]
  },
  {
   "cell_type": "markdown",
   "id": "frozen-depth",
   "metadata": {},
   "source": [
    "## Split Data"
   ]
  },
  {
   "cell_type": "code",
   "execution_count": 35,
   "id": "uniform-child",
   "metadata": {
    "ExecuteTime": {
     "end_time": "2021-03-18T15:45:39.549523Z",
     "start_time": "2021-03-18T15:45:38.041479Z"
    }
   },
   "outputs": [],
   "source": [
    "from sklearn.model_selection import cross_validate\n",
    "from sklearn.model_selection import train_test_split\n",
    "from sklearn.linear_model import LogisticRegression # explicit class import from module\n",
    "X_train, X_test, y_train, y_test = train_test_split(new_data, y, test_size=0.3)"
   ]
  },
  {
   "cell_type": "markdown",
   "id": "raising-assessment",
   "metadata": {
    "ExecuteTime": {
     "end_time": "2021-03-18T11:56:02.361303Z",
     "start_time": "2021-03-18T11:56:02.145064Z"
    }
   },
   "source": [
    "## Baseline Model Other"
   ]
  },
  {
   "cell_type": "code",
   "execution_count": null,
   "id": "miniature-charlotte",
   "metadata": {
    "ExecuteTime": {
     "end_time": "2021-03-18T11:56:10.009321Z",
     "start_time": "2021-03-18T11:56:09.630785Z"
    }
   },
   "outputs": [],
   "source": [
    "# from sklearn.pipeline import Pipeline\n",
    "# from sklearn.impute import KNNImputer\n",
    "# from sklearn.preprocessing import StandardScaler\n",
    "# from sklearn.preprocessing import MinMaxScaler\n",
    "# from sklearn import set_config; set_config(display='diagram')\n",
    "\n",
    "# pipe = Pipeline([\n",
    "#     ('scaler', MinMaxScaler()),\n",
    "#     ('classification', SVC())\n",
    "# ])\n",
    "\n",
    "# pipe.get_params()"
   ]
  },
  {
   "cell_type": "code",
   "execution_count": 92,
   "id": "quick-agency",
   "metadata": {
    "ExecuteTime": {
     "end_time": "2021-03-18T17:20:17.582718Z",
     "start_time": "2021-03-18T17:20:17.561535Z"
    }
   },
   "outputs": [],
   "source": [
    "from sklearn.model_selection import GridSearchCV\n",
    "from sklearn.linear_model import LogisticRegression\n",
    "\n",
    "model = LogisticRegression()"
   ]
  },
  {
   "cell_type": "code",
   "execution_count": 93,
   "id": "lined-export",
   "metadata": {
    "ExecuteTime": {
     "end_time": "2021-03-18T17:20:42.449223Z",
     "start_time": "2021-03-18T17:20:23.110560Z"
    }
   },
   "outputs": [],
   "source": [
    "from sklearn.model_selection import cross_val_score \n",
    "\n",
    "cv_results = cross_validate(model, X_train, y_train, cv=5)"
   ]
  },
  {
   "cell_type": "code",
   "execution_count": 94,
   "id": "robust-wings",
   "metadata": {
    "ExecuteTime": {
     "end_time": "2021-03-18T17:20:45.559359Z",
     "start_time": "2021-03-18T17:20:45.544191Z"
    }
   },
   "outputs": [
    {
     "data": {
      "text/plain": [
       "{'fit_time': array([3.995893  , 3.74751592, 4.14788294, 3.46524191, 3.77013397]),\n",
       " 'score_time': array([0.01344776, 0.01123095, 0.01139283, 0.01572394, 0.01033568]),\n",
       " 'test_score': array([0.83854762, 0.84159524, 0.8435    , 0.83992857, 0.83914286])}"
      ]
     },
     "execution_count": 94,
     "metadata": {},
     "output_type": "execute_result"
    }
   ],
   "source": [
    "cv_results"
   ]
  },
  {
   "cell_type": "code",
   "execution_count": 39,
   "id": "wrong-neutral",
   "metadata": {
    "ExecuteTime": {
     "end_time": "2021-03-18T15:48:47.355895Z",
     "start_time": "2021-03-18T15:48:47.349436Z"
    }
   },
   "outputs": [
    {
     "data": {
      "text/plain": [
       "0.8405571428571428"
      ]
     },
     "execution_count": 39,
     "metadata": {},
     "output_type": "execute_result"
    }
   ],
   "source": [
    "cv_results['test_score'].mean()"
   ]
  },
  {
   "cell_type": "code",
   "execution_count": 97,
   "id": "julian-philadelphia",
   "metadata": {
    "ExecuteTime": {
     "end_time": "2021-03-18T17:21:37.123294Z",
     "start_time": "2021-03-18T17:21:31.935996Z"
    }
   },
   "outputs": [
    {
     "data": {
      "text/plain": [
       "LogisticRegression(C=1.0, class_weight=None, dual=False, fit_intercept=True,\n",
       "                   intercept_scaling=1, l1_ratio=None, max_iter=100,\n",
       "                   multi_class='auto', n_jobs=None, penalty='l2',\n",
       "                   random_state=None, solver='lbfgs', tol=0.0001, verbose=0,\n",
       "                   warm_start=False)"
      ]
     },
     "execution_count": 97,
     "metadata": {},
     "output_type": "execute_result"
    }
   ],
   "source": [
    "model.fit(X_train,y_train)"
   ]
  },
  {
   "cell_type": "code",
   "execution_count": 103,
   "id": "sophisticated-dream",
   "metadata": {
    "ExecuteTime": {
     "end_time": "2021-03-18T17:22:53.706861Z",
     "start_time": "2021-03-18T17:22:53.529206Z"
    }
   },
   "outputs": [],
   "source": [
    "y_pred = model.predict(X_test)"
   ]
  },
  {
   "cell_type": "code",
   "execution_count": 105,
   "id": "curious-zealand",
   "metadata": {
    "ExecuteTime": {
     "end_time": "2021-03-18T17:24:26.785712Z",
     "start_time": "2021-03-18T17:24:26.729781Z"
    }
   },
   "outputs": [
    {
     "data": {
      "text/plain": [
       "array([0.89380712, 0.66402961])"
      ]
     },
     "execution_count": 105,
     "metadata": {},
     "output_type": "execute_result"
    }
   ],
   "source": [
    "from sklearn.metrics import f1_score\n",
    "f1_score(y_test, y_pred, average=None)"
   ]
  },
  {
   "cell_type": "code",
   "execution_count": null,
   "id": "complimentary-orange",
   "metadata": {},
   "outputs": [],
   "source": []
  },
  {
   "cell_type": "code",
   "execution_count": null,
   "id": "cheap-illustration",
   "metadata": {},
   "outputs": [],
   "source": []
  },
  {
   "cell_type": "code",
   "execution_count": 43,
   "id": "chicken-agent",
   "metadata": {
    "ExecuteTime": {
     "end_time": "2021-03-18T15:50:53.159607Z",
     "start_time": "2021-03-18T15:50:17.939105Z"
    }
   },
   "outputs": [],
   "source": [
    "mean_score = cross_val_score(model, X_train, y_train, scoring=\"f1\", cv = 7).mean()"
   ]
  },
  {
   "cell_type": "code",
   "execution_count": 44,
   "id": "isolated-fireplace",
   "metadata": {
    "ExecuteTime": {
     "end_time": "2021-03-18T15:52:00.760843Z",
     "start_time": "2021-03-18T15:52:00.752272Z"
    }
   },
   "outputs": [
    {
     "data": {
      "text/plain": [
       "0.6641753743942065"
      ]
     },
     "execution_count": 44,
     "metadata": {},
     "output_type": "execute_result"
    }
   ],
   "source": [
    "mean_score"
   ]
  },
  {
   "cell_type": "code",
   "execution_count": 77,
   "id": "conscious-transaction",
   "metadata": {
    "ExecuteTime": {
     "end_time": "2021-03-18T16:35:36.257183Z",
     "start_time": "2021-03-18T16:35:25.354601Z"
    }
   },
   "outputs": [
    {
     "data": {
      "text/plain": [
       "LogisticRegression(C=1.0, class_weight=None, dual=False, fit_intercept=True,\n",
       "                   intercept_scaling=1, l1_ratio=None, max_iter=100,\n",
       "                   multi_class='auto', n_jobs=None, penalty='l2',\n",
       "                   random_state=None, solver='lbfgs', tol=0.0001, verbose=0,\n",
       "                   warm_start=False)"
      ]
     },
     "execution_count": 77,
     "metadata": {},
     "output_type": "execute_result"
    }
   ],
   "source": [
    "model.fit(new_data, y)\n"
   ]
  },
  {
   "cell_type": "markdown",
   "id": "intense-contributor",
   "metadata": {
    "heading_collapsed": true
   },
   "source": [
    "## Model w/o Corr features"
   ]
  },
  {
   "cell_type": "code",
   "execution_count": null,
   "id": "organizational-grade",
   "metadata": {
    "hidden": true
   },
   "outputs": [],
   "source": []
  },
  {
   "cell_type": "code",
   "execution_count": 48,
   "id": "oriented-intervention",
   "metadata": {
    "ExecuteTime": {
     "end_time": "2021-03-18T16:06:26.485940Z",
     "start_time": "2021-03-18T16:06:26.322995Z"
    },
    "hidden": true
   },
   "outputs": [
    {
     "data": {
      "text/html": [
       "<div>\n",
       "<style scoped>\n",
       "    .dataframe tbody tr th:only-of-type {\n",
       "        vertical-align: middle;\n",
       "    }\n",
       "\n",
       "    .dataframe tbody tr th {\n",
       "        vertical-align: top;\n",
       "    }\n",
       "\n",
       "    .dataframe thead th {\n",
       "        text-align: right;\n",
       "    }\n",
       "</style>\n",
       "<table border=\"1\" class=\"dataframe\">\n",
       "  <thead>\n",
       "    <tr style=\"text-align: right;\">\n",
       "      <th></th>\n",
       "      <th>cont0</th>\n",
       "      <th>cont1</th>\n",
       "      <th>cont2</th>\n",
       "      <th>cont3</th>\n",
       "      <th>cont4</th>\n",
       "      <th>cont5</th>\n",
       "      <th>cont6</th>\n",
       "      <th>cont7</th>\n",
       "      <th>cont8</th>\n",
       "      <th>cont9</th>\n",
       "      <th>...</th>\n",
       "      <th>64</th>\n",
       "      <th>65</th>\n",
       "      <th>66</th>\n",
       "      <th>67</th>\n",
       "      <th>68</th>\n",
       "      <th>69</th>\n",
       "      <th>70</th>\n",
       "      <th>71</th>\n",
       "      <th>72</th>\n",
       "      <th>73</th>\n",
       "    </tr>\n",
       "  </thead>\n",
       "  <tbody>\n",
       "    <tr>\n",
       "      <th>0</th>\n",
       "      <td>0.629858</td>\n",
       "      <td>0.855349</td>\n",
       "      <td>0.759439</td>\n",
       "      <td>0.795549</td>\n",
       "      <td>0.681917</td>\n",
       "      <td>0.621672</td>\n",
       "      <td>0.592184</td>\n",
       "      <td>0.791921</td>\n",
       "      <td>0.815254</td>\n",
       "      <td>0.965006</td>\n",
       "      <td>...</td>\n",
       "      <td>0.0</td>\n",
       "      <td>0.0</td>\n",
       "      <td>0.0</td>\n",
       "      <td>1.0</td>\n",
       "      <td>0.0</td>\n",
       "      <td>0.0</td>\n",
       "      <td>0.0</td>\n",
       "      <td>1.0</td>\n",
       "      <td>0.0</td>\n",
       "      <td>0.0</td>\n",
       "    </tr>\n",
       "    <tr>\n",
       "      <th>1</th>\n",
       "      <td>0.370727</td>\n",
       "      <td>0.328929</td>\n",
       "      <td>0.386385</td>\n",
       "      <td>0.541366</td>\n",
       "      <td>0.388982</td>\n",
       "      <td>0.357778</td>\n",
       "      <td>0.600044</td>\n",
       "      <td>0.408701</td>\n",
       "      <td>0.399353</td>\n",
       "      <td>0.927406</td>\n",
       "      <td>...</td>\n",
       "      <td>0.0</td>\n",
       "      <td>0.0</td>\n",
       "      <td>0.0</td>\n",
       "      <td>0.0</td>\n",
       "      <td>1.0</td>\n",
       "      <td>0.0</td>\n",
       "      <td>1.0</td>\n",
       "      <td>0.0</td>\n",
       "      <td>0.0</td>\n",
       "      <td>0.0</td>\n",
       "    </tr>\n",
       "    <tr>\n",
       "      <th>2</th>\n",
       "      <td>0.502272</td>\n",
       "      <td>0.322749</td>\n",
       "      <td>0.343255</td>\n",
       "      <td>0.616352</td>\n",
       "      <td>0.793687</td>\n",
       "      <td>0.552877</td>\n",
       "      <td>0.352113</td>\n",
       "      <td>0.388835</td>\n",
       "      <td>0.412303</td>\n",
       "      <td>0.292696</td>\n",
       "      <td>...</td>\n",
       "      <td>1.0</td>\n",
       "      <td>0.0</td>\n",
       "      <td>0.0</td>\n",
       "      <td>1.0</td>\n",
       "      <td>0.0</td>\n",
       "      <td>0.0</td>\n",
       "      <td>1.0</td>\n",
       "      <td>0.0</td>\n",
       "      <td>0.0</td>\n",
       "      <td>0.0</td>\n",
       "    </tr>\n",
       "    <tr>\n",
       "      <th>3</th>\n",
       "      <td>0.934242</td>\n",
       "      <td>0.707663</td>\n",
       "      <td>0.831147</td>\n",
       "      <td>0.807807</td>\n",
       "      <td>0.800032</td>\n",
       "      <td>0.619147</td>\n",
       "      <td>0.221789</td>\n",
       "      <td>0.897617</td>\n",
       "      <td>0.633669</td>\n",
       "      <td>0.760318</td>\n",
       "      <td>...</td>\n",
       "      <td>1.0</td>\n",
       "      <td>0.0</td>\n",
       "      <td>0.0</td>\n",
       "      <td>1.0</td>\n",
       "      <td>0.0</td>\n",
       "      <td>0.0</td>\n",
       "      <td>0.0</td>\n",
       "      <td>0.0</td>\n",
       "      <td>1.0</td>\n",
       "      <td>0.0</td>\n",
       "    </tr>\n",
       "    <tr>\n",
       "      <th>4</th>\n",
       "      <td>0.254427</td>\n",
       "      <td>0.274514</td>\n",
       "      <td>0.338818</td>\n",
       "      <td>0.277308</td>\n",
       "      <td>0.610578</td>\n",
       "      <td>0.128291</td>\n",
       "      <td>0.578764</td>\n",
       "      <td>0.279167</td>\n",
       "      <td>0.351103</td>\n",
       "      <td>0.357084</td>\n",
       "      <td>...</td>\n",
       "      <td>0.0</td>\n",
       "      <td>0.0</td>\n",
       "      <td>0.0</td>\n",
       "      <td>1.0</td>\n",
       "      <td>0.0</td>\n",
       "      <td>0.0</td>\n",
       "      <td>0.0</td>\n",
       "      <td>1.0</td>\n",
       "      <td>0.0</td>\n",
       "      <td>0.0</td>\n",
       "    </tr>\n",
       "    <tr>\n",
       "      <th>...</th>\n",
       "      <td>...</td>\n",
       "      <td>...</td>\n",
       "      <td>...</td>\n",
       "      <td>...</td>\n",
       "      <td>...</td>\n",
       "      <td>...</td>\n",
       "      <td>...</td>\n",
       "      <td>...</td>\n",
       "      <td>...</td>\n",
       "      <td>...</td>\n",
       "      <td>...</td>\n",
       "      <td>...</td>\n",
       "      <td>...</td>\n",
       "      <td>...</td>\n",
       "      <td>...</td>\n",
       "      <td>...</td>\n",
       "      <td>...</td>\n",
       "      <td>...</td>\n",
       "      <td>...</td>\n",
       "      <td>...</td>\n",
       "      <td>...</td>\n",
       "    </tr>\n",
       "    <tr>\n",
       "      <th>299995</th>\n",
       "      <td>0.681700</td>\n",
       "      <td>0.500730</td>\n",
       "      <td>0.662428</td>\n",
       "      <td>0.671927</td>\n",
       "      <td>0.390566</td>\n",
       "      <td>0.145840</td>\n",
       "      <td>0.262767</td>\n",
       "      <td>0.514248</td>\n",
       "      <td>0.519340</td>\n",
       "      <td>0.617436</td>\n",
       "      <td>...</td>\n",
       "      <td>0.0</td>\n",
       "      <td>0.0</td>\n",
       "      <td>1.0</td>\n",
       "      <td>0.0</td>\n",
       "      <td>1.0</td>\n",
       "      <td>0.0</td>\n",
       "      <td>1.0</td>\n",
       "      <td>0.0</td>\n",
       "      <td>0.0</td>\n",
       "      <td>0.0</td>\n",
       "    </tr>\n",
       "    <tr>\n",
       "      <th>299996</th>\n",
       "      <td>0.489226</td>\n",
       "      <td>0.790664</td>\n",
       "      <td>0.821657</td>\n",
       "      <td>0.620356</td>\n",
       "      <td>0.384891</td>\n",
       "      <td>0.735879</td>\n",
       "      <td>0.547731</td>\n",
       "      <td>0.726653</td>\n",
       "      <td>0.470575</td>\n",
       "      <td>0.275743</td>\n",
       "      <td>...</td>\n",
       "      <td>1.0</td>\n",
       "      <td>0.0</td>\n",
       "      <td>0.0</td>\n",
       "      <td>1.0</td>\n",
       "      <td>0.0</td>\n",
       "      <td>0.0</td>\n",
       "      <td>1.0</td>\n",
       "      <td>0.0</td>\n",
       "      <td>0.0</td>\n",
       "      <td>0.0</td>\n",
       "    </tr>\n",
       "    <tr>\n",
       "      <th>299997</th>\n",
       "      <td>0.487882</td>\n",
       "      <td>0.522347</td>\n",
       "      <td>0.407037</td>\n",
       "      <td>0.232436</td>\n",
       "      <td>0.832482</td>\n",
       "      <td>0.810663</td>\n",
       "      <td>0.596939</td>\n",
       "      <td>0.308821</td>\n",
       "      <td>0.373997</td>\n",
       "      <td>0.518024</td>\n",
       "      <td>...</td>\n",
       "      <td>0.0</td>\n",
       "      <td>0.0</td>\n",
       "      <td>1.0</td>\n",
       "      <td>0.0</td>\n",
       "      <td>1.0</td>\n",
       "      <td>0.0</td>\n",
       "      <td>1.0</td>\n",
       "      <td>0.0</td>\n",
       "      <td>0.0</td>\n",
       "      <td>0.0</td>\n",
       "    </tr>\n",
       "    <tr>\n",
       "      <th>299998</th>\n",
       "      <td>0.331900</td>\n",
       "      <td>0.812891</td>\n",
       "      <td>0.808045</td>\n",
       "      <td>0.630708</td>\n",
       "      <td>0.346898</td>\n",
       "      <td>0.735147</td>\n",
       "      <td>0.563488</td>\n",
       "      <td>0.609836</td>\n",
       "      <td>0.680430</td>\n",
       "      <td>0.318453</td>\n",
       "      <td>...</td>\n",
       "      <td>0.0</td>\n",
       "      <td>0.0</td>\n",
       "      <td>0.0</td>\n",
       "      <td>1.0</td>\n",
       "      <td>0.0</td>\n",
       "      <td>0.0</td>\n",
       "      <td>0.0</td>\n",
       "      <td>0.0</td>\n",
       "      <td>0.0</td>\n",
       "      <td>1.0</td>\n",
       "    </tr>\n",
       "    <tr>\n",
       "      <th>299999</th>\n",
       "      <td>0.822600</td>\n",
       "      <td>0.819735</td>\n",
       "      <td>0.775451</td>\n",
       "      <td>0.848696</td>\n",
       "      <td>0.819377</td>\n",
       "      <td>0.355467</td>\n",
       "      <td>0.218153</td>\n",
       "      <td>0.968856</td>\n",
       "      <td>0.823655</td>\n",
       "      <td>0.330515</td>\n",
       "      <td>...</td>\n",
       "      <td>0.0</td>\n",
       "      <td>0.0</td>\n",
       "      <td>0.0</td>\n",
       "      <td>1.0</td>\n",
       "      <td>0.0</td>\n",
       "      <td>0.0</td>\n",
       "      <td>1.0</td>\n",
       "      <td>0.0</td>\n",
       "      <td>0.0</td>\n",
       "      <td>0.0</td>\n",
       "    </tr>\n",
       "  </tbody>\n",
       "</table>\n",
       "<p>300000 rows × 85 columns</p>\n",
       "</div>"
      ],
      "text/plain": [
       "           cont0     cont1     cont2     cont3     cont4     cont5     cont6  \\\n",
       "0       0.629858  0.855349  0.759439  0.795549  0.681917  0.621672  0.592184   \n",
       "1       0.370727  0.328929  0.386385  0.541366  0.388982  0.357778  0.600044   \n",
       "2       0.502272  0.322749  0.343255  0.616352  0.793687  0.552877  0.352113   \n",
       "3       0.934242  0.707663  0.831147  0.807807  0.800032  0.619147  0.221789   \n",
       "4       0.254427  0.274514  0.338818  0.277308  0.610578  0.128291  0.578764   \n",
       "...          ...       ...       ...       ...       ...       ...       ...   \n",
       "299995  0.681700  0.500730  0.662428  0.671927  0.390566  0.145840  0.262767   \n",
       "299996  0.489226  0.790664  0.821657  0.620356  0.384891  0.735879  0.547731   \n",
       "299997  0.487882  0.522347  0.407037  0.232436  0.832482  0.810663  0.596939   \n",
       "299998  0.331900  0.812891  0.808045  0.630708  0.346898  0.735147  0.563488   \n",
       "299999  0.822600  0.819735  0.775451  0.848696  0.819377  0.355467  0.218153   \n",
       "\n",
       "           cont7     cont8     cont9  ...   64   65   66   67   68   69   70  \\\n",
       "0       0.791921  0.815254  0.965006  ...  0.0  0.0  0.0  1.0  0.0  0.0  0.0   \n",
       "1       0.408701  0.399353  0.927406  ...  0.0  0.0  0.0  0.0  1.0  0.0  1.0   \n",
       "2       0.388835  0.412303  0.292696  ...  1.0  0.0  0.0  1.0  0.0  0.0  1.0   \n",
       "3       0.897617  0.633669  0.760318  ...  1.0  0.0  0.0  1.0  0.0  0.0  0.0   \n",
       "4       0.279167  0.351103  0.357084  ...  0.0  0.0  0.0  1.0  0.0  0.0  0.0   \n",
       "...          ...       ...       ...  ...  ...  ...  ...  ...  ...  ...  ...   \n",
       "299995  0.514248  0.519340  0.617436  ...  0.0  0.0  1.0  0.0  1.0  0.0  1.0   \n",
       "299996  0.726653  0.470575  0.275743  ...  1.0  0.0  0.0  1.0  0.0  0.0  1.0   \n",
       "299997  0.308821  0.373997  0.518024  ...  0.0  0.0  1.0  0.0  1.0  0.0  1.0   \n",
       "299998  0.609836  0.680430  0.318453  ...  0.0  0.0  0.0  1.0  0.0  0.0  0.0   \n",
       "299999  0.968856  0.823655  0.330515  ...  0.0  0.0  0.0  1.0  0.0  0.0  1.0   \n",
       "\n",
       "         71   72   73  \n",
       "0       1.0  0.0  0.0  \n",
       "1       0.0  0.0  0.0  \n",
       "2       0.0  0.0  0.0  \n",
       "3       0.0  1.0  0.0  \n",
       "4       1.0  0.0  0.0  \n",
       "...     ...  ...  ...  \n",
       "299995  0.0  0.0  0.0  \n",
       "299996  0.0  0.0  0.0  \n",
       "299997  0.0  0.0  0.0  \n",
       "299998  0.0  0.0  1.0  \n",
       "299999  0.0  0.0  0.0  \n",
       "\n",
       "[300000 rows x 85 columns]"
      ]
     },
     "execution_count": 48,
     "metadata": {},
     "output_type": "execute_result"
    }
   ],
   "source": [
    "new_data"
   ]
  },
  {
   "cell_type": "code",
   "execution_count": null,
   "id": "characteristic-jungle",
   "metadata": {
    "hidden": true
   },
   "outputs": [],
   "source": [
    "# corr_df = corr.unstack().reset_index() # Unstack correlation matrix \n",
    "# corr_df.columns = ['feature_1','feature_2', 'correlation'] # rename columns\n",
    "# corr_df.sort_values(by=\"correlation\",ascending=False, inplace=True) # sort by correlation\n",
    "# corr_df = corr_df[corr_df['feature_1'] != corr_df['feature_2']] # Remove self correlation\n",
    "# corr_df"
   ]
  },
  {
   "cell_type": "code",
   "execution_count": 49,
   "id": "alike-header",
   "metadata": {
    "ExecuteTime": {
     "end_time": "2021-03-18T16:07:43.043671Z",
     "start_time": "2021-03-18T16:07:36.094617Z"
    },
    "hidden": true
   },
   "outputs": [
    {
     "data": {
      "text/html": [
       "<div>\n",
       "<style scoped>\n",
       "    .dataframe tbody tr th:only-of-type {\n",
       "        vertical-align: middle;\n",
       "    }\n",
       "\n",
       "    .dataframe tbody tr th {\n",
       "        vertical-align: top;\n",
       "    }\n",
       "\n",
       "    .dataframe thead th {\n",
       "        text-align: right;\n",
       "    }\n",
       "</style>\n",
       "<table border=\"1\" class=\"dataframe\">\n",
       "  <thead>\n",
       "    <tr style=\"text-align: right;\">\n",
       "      <th></th>\n",
       "      <th>cont0</th>\n",
       "      <th>cont1</th>\n",
       "      <th>cont2</th>\n",
       "      <th>cont3</th>\n",
       "      <th>cont4</th>\n",
       "      <th>cont5</th>\n",
       "      <th>cont6</th>\n",
       "      <th>cont7</th>\n",
       "      <th>cont8</th>\n",
       "      <th>cont9</th>\n",
       "      <th>...</th>\n",
       "      <th>64</th>\n",
       "      <th>65</th>\n",
       "      <th>66</th>\n",
       "      <th>67</th>\n",
       "      <th>68</th>\n",
       "      <th>69</th>\n",
       "      <th>70</th>\n",
       "      <th>71</th>\n",
       "      <th>72</th>\n",
       "      <th>73</th>\n",
       "    </tr>\n",
       "  </thead>\n",
       "  <tbody>\n",
       "    <tr>\n",
       "      <th>cont0</th>\n",
       "      <td>1.000000</td>\n",
       "      <td>0.474046</td>\n",
       "      <td>0.494622</td>\n",
       "      <td>0.549246</td>\n",
       "      <td>0.155805</td>\n",
       "      <td>-0.169393</td>\n",
       "      <td>-0.436555</td>\n",
       "      <td>0.740377</td>\n",
       "      <td>0.367794</td>\n",
       "      <td>0.414758</td>\n",
       "      <td>...</td>\n",
       "      <td>0.076876</td>\n",
       "      <td>-0.014942</td>\n",
       "      <td>-0.046593</td>\n",
       "      <td>0.068380</td>\n",
       "      <td>-0.022499</td>\n",
       "      <td>-0.106453</td>\n",
       "      <td>-0.186160</td>\n",
       "      <td>0.120612</td>\n",
       "      <td>0.033230</td>\n",
       "      <td>0.127637</td>\n",
       "    </tr>\n",
       "    <tr>\n",
       "      <th>cont1</th>\n",
       "      <td>0.474046</td>\n",
       "      <td>1.000000</td>\n",
       "      <td>0.861623</td>\n",
       "      <td>0.256854</td>\n",
       "      <td>0.133988</td>\n",
       "      <td>0.185838</td>\n",
       "      <td>0.116296</td>\n",
       "      <td>0.581201</td>\n",
       "      <td>0.672587</td>\n",
       "      <td>0.393313</td>\n",
       "      <td>...</td>\n",
       "      <td>0.039752</td>\n",
       "      <td>0.000888</td>\n",
       "      <td>-0.025663</td>\n",
       "      <td>-0.065557</td>\n",
       "      <td>0.115854</td>\n",
       "      <td>-0.103453</td>\n",
       "      <td>-0.056162</td>\n",
       "      <td>-0.016548</td>\n",
       "      <td>0.056552</td>\n",
       "      <td>0.094822</td>\n",
       "    </tr>\n",
       "    <tr>\n",
       "      <th>cont2</th>\n",
       "      <td>0.494622</td>\n",
       "      <td>0.861623</td>\n",
       "      <td>1.000000</td>\n",
       "      <td>0.286822</td>\n",
       "      <td>0.158749</td>\n",
       "      <td>0.158240</td>\n",
       "      <td>0.066997</td>\n",
       "      <td>0.606447</td>\n",
       "      <td>0.662832</td>\n",
       "      <td>0.399063</td>\n",
       "      <td>...</td>\n",
       "      <td>0.028426</td>\n",
       "      <td>0.021921</td>\n",
       "      <td>-0.026141</td>\n",
       "      <td>-0.040379</td>\n",
       "      <td>0.082424</td>\n",
       "      <td>-0.087840</td>\n",
       "      <td>-0.082488</td>\n",
       "      <td>0.003940</td>\n",
       "      <td>0.045879</td>\n",
       "      <td>0.121268</td>\n",
       "    </tr>\n",
       "    <tr>\n",
       "      <th>cont3</th>\n",
       "      <td>0.549246</td>\n",
       "      <td>0.256854</td>\n",
       "      <td>0.286822</td>\n",
       "      <td>1.000000</td>\n",
       "      <td>0.222817</td>\n",
       "      <td>-0.068856</td>\n",
       "      <td>-0.429911</td>\n",
       "      <td>0.641923</td>\n",
       "      <td>0.188794</td>\n",
       "      <td>0.383062</td>\n",
       "      <td>...</td>\n",
       "      <td>0.212583</td>\n",
       "      <td>-0.049407</td>\n",
       "      <td>-0.037383</td>\n",
       "      <td>0.153870</td>\n",
       "      <td>-0.128151</td>\n",
       "      <td>-0.070566</td>\n",
       "      <td>-0.155781</td>\n",
       "      <td>0.111534</td>\n",
       "      <td>0.023345</td>\n",
       "      <td>0.090793</td>\n",
       "    </tr>\n",
       "    <tr>\n",
       "      <th>cont4</th>\n",
       "      <td>0.155805</td>\n",
       "      <td>0.133988</td>\n",
       "      <td>0.158749</td>\n",
       "      <td>0.222817</td>\n",
       "      <td>1.000000</td>\n",
       "      <td>0.037509</td>\n",
       "      <td>-0.081020</td>\n",
       "      <td>0.231526</td>\n",
       "      <td>0.064836</td>\n",
       "      <td>0.161150</td>\n",
       "      <td>...</td>\n",
       "      <td>0.130850</td>\n",
       "      <td>0.018749</td>\n",
       "      <td>-0.010555</td>\n",
       "      <td>0.158636</td>\n",
       "      <td>-0.149165</td>\n",
       "      <td>-0.035599</td>\n",
       "      <td>-0.081197</td>\n",
       "      <td>0.034687</td>\n",
       "      <td>0.006341</td>\n",
       "      <td>0.098040</td>\n",
       "    </tr>\n",
       "    <tr>\n",
       "      <th>...</th>\n",
       "      <td>...</td>\n",
       "      <td>...</td>\n",
       "      <td>...</td>\n",
       "      <td>...</td>\n",
       "      <td>...</td>\n",
       "      <td>...</td>\n",
       "      <td>...</td>\n",
       "      <td>...</td>\n",
       "      <td>...</td>\n",
       "      <td>...</td>\n",
       "      <td>...</td>\n",
       "      <td>...</td>\n",
       "      <td>...</td>\n",
       "      <td>...</td>\n",
       "      <td>...</td>\n",
       "      <td>...</td>\n",
       "      <td>...</td>\n",
       "      <td>...</td>\n",
       "      <td>...</td>\n",
       "      <td>...</td>\n",
       "      <td>...</td>\n",
       "    </tr>\n",
       "    <tr>\n",
       "      <th>69</th>\n",
       "      <td>-0.106453</td>\n",
       "      <td>-0.103453</td>\n",
       "      <td>-0.087840</td>\n",
       "      <td>-0.070566</td>\n",
       "      <td>-0.035599</td>\n",
       "      <td>0.024294</td>\n",
       "      <td>0.044005</td>\n",
       "      <td>-0.102990</td>\n",
       "      <td>-0.056721</td>\n",
       "      <td>-0.072014</td>\n",
       "      <td>...</td>\n",
       "      <td>-0.032672</td>\n",
       "      <td>0.019786</td>\n",
       "      <td>0.001991</td>\n",
       "      <td>-0.312187</td>\n",
       "      <td>-0.133088</td>\n",
       "      <td>1.000000</td>\n",
       "      <td>0.042935</td>\n",
       "      <td>-0.022979</td>\n",
       "      <td>-0.038486</td>\n",
       "      <td>-0.008682</td>\n",
       "    </tr>\n",
       "    <tr>\n",
       "      <th>70</th>\n",
       "      <td>-0.186160</td>\n",
       "      <td>-0.056162</td>\n",
       "      <td>-0.082488</td>\n",
       "      <td>-0.155781</td>\n",
       "      <td>-0.081197</td>\n",
       "      <td>0.037608</td>\n",
       "      <td>0.160774</td>\n",
       "      <td>-0.181744</td>\n",
       "      <td>-0.028174</td>\n",
       "      <td>-0.078687</td>\n",
       "      <td>...</td>\n",
       "      <td>0.030048</td>\n",
       "      <td>-0.023454</td>\n",
       "      <td>-0.004529</td>\n",
       "      <td>0.010849</td>\n",
       "      <td>-0.031016</td>\n",
       "      <td>0.042935</td>\n",
       "      <td>1.000000</td>\n",
       "      <td>-0.776798</td>\n",
       "      <td>-0.305449</td>\n",
       "      <td>-0.314286</td>\n",
       "    </tr>\n",
       "    <tr>\n",
       "      <th>71</th>\n",
       "      <td>0.120612</td>\n",
       "      <td>-0.016548</td>\n",
       "      <td>0.003940</td>\n",
       "      <td>0.111534</td>\n",
       "      <td>0.034687</td>\n",
       "      <td>-0.088099</td>\n",
       "      <td>-0.170531</td>\n",
       "      <td>0.122138</td>\n",
       "      <td>0.004784</td>\n",
       "      <td>0.010887</td>\n",
       "      <td>...</td>\n",
       "      <td>-0.013674</td>\n",
       "      <td>0.046253</td>\n",
       "      <td>-0.008781</td>\n",
       "      <td>-0.008526</td>\n",
       "      <td>0.019437</td>\n",
       "      <td>-0.022979</td>\n",
       "      <td>-0.776798</td>\n",
       "      <td>1.000000</td>\n",
       "      <td>-0.142868</td>\n",
       "      <td>-0.147001</td>\n",
       "    </tr>\n",
       "    <tr>\n",
       "      <th>72</th>\n",
       "      <td>0.033230</td>\n",
       "      <td>0.056552</td>\n",
       "      <td>0.045879</td>\n",
       "      <td>0.023345</td>\n",
       "      <td>0.006341</td>\n",
       "      <td>0.066486</td>\n",
       "      <td>0.051492</td>\n",
       "      <td>0.022526</td>\n",
       "      <td>-0.009487</td>\n",
       "      <td>0.006545</td>\n",
       "      <td>...</td>\n",
       "      <td>-0.044623</td>\n",
       "      <td>-0.039434</td>\n",
       "      <td>0.038739</td>\n",
       "      <td>-0.009163</td>\n",
       "      <td>0.027216</td>\n",
       "      <td>-0.038486</td>\n",
       "      <td>-0.305449</td>\n",
       "      <td>-0.142868</td>\n",
       "      <td>1.000000</td>\n",
       "      <td>-0.057803</td>\n",
       "    </tr>\n",
       "    <tr>\n",
       "      <th>73</th>\n",
       "      <td>0.127637</td>\n",
       "      <td>0.094822</td>\n",
       "      <td>0.121268</td>\n",
       "      <td>0.090793</td>\n",
       "      <td>0.098040</td>\n",
       "      <td>0.025266</td>\n",
       "      <td>-0.060938</td>\n",
       "      <td>0.125851</td>\n",
       "      <td>0.059342</td>\n",
       "      <td>0.138275</td>\n",
       "      <td>...</td>\n",
       "      <td>0.006542</td>\n",
       "      <td>-0.001046</td>\n",
       "      <td>-0.011371</td>\n",
       "      <td>0.002482</td>\n",
       "      <td>0.001394</td>\n",
       "      <td>-0.008682</td>\n",
       "      <td>-0.314286</td>\n",
       "      <td>-0.147001</td>\n",
       "      <td>-0.057803</td>\n",
       "      <td>1.000000</td>\n",
       "    </tr>\n",
       "  </tbody>\n",
       "</table>\n",
       "<p>85 rows × 85 columns</p>\n",
       "</div>"
      ],
      "text/plain": [
       "          cont0     cont1     cont2     cont3     cont4     cont5     cont6  \\\n",
       "cont0  1.000000  0.474046  0.494622  0.549246  0.155805 -0.169393 -0.436555   \n",
       "cont1  0.474046  1.000000  0.861623  0.256854  0.133988  0.185838  0.116296   \n",
       "cont2  0.494622  0.861623  1.000000  0.286822  0.158749  0.158240  0.066997   \n",
       "cont3  0.549246  0.256854  0.286822  1.000000  0.222817 -0.068856 -0.429911   \n",
       "cont4  0.155805  0.133988  0.158749  0.222817  1.000000  0.037509 -0.081020   \n",
       "...         ...       ...       ...       ...       ...       ...       ...   \n",
       "69    -0.106453 -0.103453 -0.087840 -0.070566 -0.035599  0.024294  0.044005   \n",
       "70    -0.186160 -0.056162 -0.082488 -0.155781 -0.081197  0.037608  0.160774   \n",
       "71     0.120612 -0.016548  0.003940  0.111534  0.034687 -0.088099 -0.170531   \n",
       "72     0.033230  0.056552  0.045879  0.023345  0.006341  0.066486  0.051492   \n",
       "73     0.127637  0.094822  0.121268  0.090793  0.098040  0.025266 -0.060938   \n",
       "\n",
       "          cont7     cont8     cont9  ...        64        65        66  \\\n",
       "cont0  0.740377  0.367794  0.414758  ...  0.076876 -0.014942 -0.046593   \n",
       "cont1  0.581201  0.672587  0.393313  ...  0.039752  0.000888 -0.025663   \n",
       "cont2  0.606447  0.662832  0.399063  ...  0.028426  0.021921 -0.026141   \n",
       "cont3  0.641923  0.188794  0.383062  ...  0.212583 -0.049407 -0.037383   \n",
       "cont4  0.231526  0.064836  0.161150  ...  0.130850  0.018749 -0.010555   \n",
       "...         ...       ...       ...  ...       ...       ...       ...   \n",
       "69    -0.102990 -0.056721 -0.072014  ... -0.032672  0.019786  0.001991   \n",
       "70    -0.181744 -0.028174 -0.078687  ...  0.030048 -0.023454 -0.004529   \n",
       "71     0.122138  0.004784  0.010887  ... -0.013674  0.046253 -0.008781   \n",
       "72     0.022526 -0.009487  0.006545  ... -0.044623 -0.039434  0.038739   \n",
       "73     0.125851  0.059342  0.138275  ...  0.006542 -0.001046 -0.011371   \n",
       "\n",
       "             67        68        69        70        71        72        73  \n",
       "cont0  0.068380 -0.022499 -0.106453 -0.186160  0.120612  0.033230  0.127637  \n",
       "cont1 -0.065557  0.115854 -0.103453 -0.056162 -0.016548  0.056552  0.094822  \n",
       "cont2 -0.040379  0.082424 -0.087840 -0.082488  0.003940  0.045879  0.121268  \n",
       "cont3  0.153870 -0.128151 -0.070566 -0.155781  0.111534  0.023345  0.090793  \n",
       "cont4  0.158636 -0.149165 -0.035599 -0.081197  0.034687  0.006341  0.098040  \n",
       "...         ...       ...       ...       ...       ...       ...       ...  \n",
       "69    -0.312187 -0.133088  1.000000  0.042935 -0.022979 -0.038486 -0.008682  \n",
       "70     0.010849 -0.031016  0.042935  1.000000 -0.776798 -0.305449 -0.314286  \n",
       "71    -0.008526  0.019437 -0.022979 -0.776798  1.000000 -0.142868 -0.147001  \n",
       "72    -0.009163  0.027216 -0.038486 -0.305449 -0.142868  1.000000 -0.057803  \n",
       "73     0.002482  0.001394 -0.008682 -0.314286 -0.147001 -0.057803  1.000000  \n",
       "\n",
       "[85 rows x 85 columns]"
      ]
     },
     "execution_count": 49,
     "metadata": {},
     "output_type": "execute_result"
    }
   ],
   "source": [
    "new_data.corr()"
   ]
  },
  {
   "cell_type": "code",
   "execution_count": 50,
   "id": "introductory-booking",
   "metadata": {
    "ExecuteTime": {
     "end_time": "2021-03-18T16:11:08.402573Z",
     "start_time": "2021-03-18T16:11:08.130260Z"
    },
    "hidden": true
   },
   "outputs": [],
   "source": [
    "data_drop= new_data.drop(columns='cont7')"
   ]
  },
  {
   "cell_type": "code",
   "execution_count": 51,
   "id": "checked-migration",
   "metadata": {
    "ExecuteTime": {
     "end_time": "2021-03-18T16:11:36.009461Z",
     "start_time": "2021-03-18T16:11:35.568394Z"
    },
    "hidden": true
   },
   "outputs": [],
   "source": [
    "data_drop= data_drop.drop(columns='cont10')"
   ]
  },
  {
   "cell_type": "code",
   "execution_count": 59,
   "id": "handmade-train",
   "metadata": {
    "ExecuteTime": {
     "end_time": "2021-03-18T16:15:01.369882Z",
     "start_time": "2021-03-18T16:15:01.354676Z"
    },
    "hidden": true
   },
   "outputs": [
    {
     "data": {
      "text/plain": [
       "(300000, 83)"
      ]
     },
     "execution_count": 59,
     "metadata": {},
     "output_type": "execute_result"
    }
   ],
   "source": [
    "data_drop.shape"
   ]
  },
  {
   "cell_type": "code",
   "execution_count": 52,
   "id": "objective-moment",
   "metadata": {
    "ExecuteTime": {
     "end_time": "2021-03-18T16:13:12.213482Z",
     "start_time": "2021-03-18T16:13:11.587598Z"
    },
    "hidden": true
   },
   "outputs": [],
   "source": [
    "from sklearn.model_selection import cross_validate\n",
    "from sklearn.model_selection import train_test_split\n",
    "from sklearn.linear_model import LogisticRegression # explicit class import from module\n",
    "\n",
    "X_train, X_test, y_train, y_test = train_test_split(data_drop, y, test_size=0.3)"
   ]
  },
  {
   "cell_type": "code",
   "execution_count": null,
   "id": "collectible-recognition",
   "metadata": {
    "hidden": true
   },
   "outputs": [],
   "source": [
    "# corr_df = corr.unstack().reset_index() # Unstack correlation matrix \n",
    "# corr_df.columns = ['feature_1','feature_2', 'correlation'] # rename columns\n",
    "# corr_df.sort_values(by=\"correlation\",ascending=False, inplace=True) # sort by correlation\n",
    "# corr_df = corr_df[corr_df['feature_1'] != corr_df['feature_2']] # Remove self correlation\n",
    "# corr_df"
   ]
  },
  {
   "cell_type": "code",
   "execution_count": 60,
   "id": "japanese-brain",
   "metadata": {
    "ExecuteTime": {
     "end_time": "2021-03-18T16:16:29.616750Z",
     "start_time": "2021-03-18T16:16:07.650845Z"
    },
    "hidden": true
   },
   "outputs": [],
   "source": [
    "cv_results = cross_validate(model, X_train, y_train, cv=5)\n"
   ]
  },
  {
   "cell_type": "code",
   "execution_count": 62,
   "id": "active-equilibrium",
   "metadata": {
    "ExecuteTime": {
     "end_time": "2021-03-18T16:16:58.172110Z",
     "start_time": "2021-03-18T16:16:58.163686Z"
    },
    "hidden": true
   },
   "outputs": [
    {
     "data": {
      "text/plain": [
       "0.8405428571428573"
      ]
     },
     "execution_count": 62,
     "metadata": {},
     "output_type": "execute_result"
    }
   ],
   "source": [
    "cv_results['test_score'].mean()"
   ]
  },
  {
   "cell_type": "code",
   "execution_count": 63,
   "id": "capable-netscape",
   "metadata": {
    "ExecuteTime": {
     "end_time": "2021-03-18T16:17:41.007970Z",
     "start_time": "2021-03-18T16:17:12.657223Z"
    },
    "hidden": true
   },
   "outputs": [
    {
     "name": "stderr",
     "output_type": "stream",
     "text": [
      "/Users/macbookair/.pyenv/versions/3.8.6/envs/lewagon/lib/python3.8/site-packages/sklearn/model_selection/_validation.py:532: FitFailedWarning: Estimator fit failed. The score on this train-test partition for these parameters will be set to nan. Details: \n",
      "AttributeError: 'str' object has no attribute 'decode'\n",
      "\n",
      "  warnings.warn(\"Estimator fit failed. The score on this train-test\"\n"
     ]
    },
    {
     "data": {
      "text/plain": [
       "nan"
      ]
     },
     "execution_count": 63,
     "metadata": {},
     "output_type": "execute_result"
    }
   ],
   "source": [
    "cross_val_score(model, X_train, y_train, scoring=\"f1\", cv = 7).mean()"
   ]
  },
  {
   "cell_type": "markdown",
   "id": "standard-thermal",
   "metadata": {
    "heading_collapsed": true
   },
   "source": [
    "## Whole Data Model"
   ]
  },
  {
   "cell_type": "code",
   "execution_count": 64,
   "id": "radical-arrow",
   "metadata": {
    "ExecuteTime": {
     "end_time": "2021-03-18T16:20:41.951578Z",
     "start_time": "2021-03-18T16:20:14.159184Z"
    },
    "hidden": true
   },
   "outputs": [
    {
     "data": {
      "text/plain": [
       "{'fit_time': array([6.81820178, 4.78559899, 5.53385782, 4.67663431, 5.67986822]),\n",
       " 'score_time': array([0.01902318, 0.01380014, 0.01348996, 0.01362085, 0.01412582]),\n",
       " 'test_score': array([0.84015   , 0.84025   , 0.84013333, 0.83948333, 0.8398    ])}"
      ]
     },
     "execution_count": 64,
     "metadata": {},
     "output_type": "execute_result"
    }
   ],
   "source": [
    "cross_validate(model, new_data, y, cv=5) "
   ]
  },
  {
   "cell_type": "code",
   "execution_count": 65,
   "id": "banner-utilization",
   "metadata": {
    "ExecuteTime": {
     "end_time": "2021-03-18T16:21:28.966311Z",
     "start_time": "2021-03-18T16:20:55.650277Z"
    },
    "hidden": true
   },
   "outputs": [
    {
     "ename": "AttributeError",
     "evalue": "'dict' object has no attribute 'mean'",
     "output_type": "error",
     "traceback": [
      "\u001b[0;31m---------------------------------------------------------------------------\u001b[0m",
      "\u001b[0;31mAttributeError\u001b[0m                            Traceback (most recent call last)",
      "\u001b[0;32m<ipython-input-65-96070bb9b54c>\u001b[0m in \u001b[0;36m<module>\u001b[0;34m\u001b[0m\n\u001b[0;32m----> 1\u001b[0;31m \u001b[0mcross_validate\u001b[0m\u001b[0;34m(\u001b[0m\u001b[0mmodel\u001b[0m\u001b[0;34m,\u001b[0m \u001b[0mnew_data\u001b[0m\u001b[0;34m,\u001b[0m \u001b[0my\u001b[0m\u001b[0;34m,\u001b[0m \u001b[0mcv\u001b[0m\u001b[0;34m=\u001b[0m\u001b[0;36m5\u001b[0m\u001b[0;34m)\u001b[0m\u001b[0;34m.\u001b[0m\u001b[0mmean\u001b[0m\u001b[0;34m(\u001b[0m\u001b[0;34m)\u001b[0m\u001b[0;34m\u001b[0m\u001b[0;34m\u001b[0m\u001b[0m\n\u001b[0m",
      "\u001b[0;31mAttributeError\u001b[0m: 'dict' object has no attribute 'mean'"
     ]
    }
   ],
   "source": [
    "cv_results = cross_validate(model, new_data, y, cv=5)"
   ]
  },
  {
   "cell_type": "code",
   "execution_count": 66,
   "id": "bottom-professional",
   "metadata": {
    "ExecuteTime": {
     "end_time": "2021-03-18T16:22:56.826092Z",
     "start_time": "2021-03-18T16:22:04.949242Z"
    },
    "hidden": true
   },
   "outputs": [
    {
     "data": {
      "text/plain": [
       "0.6635545897576955"
      ]
     },
     "execution_count": 66,
     "metadata": {},
     "output_type": "execute_result"
    }
   ],
   "source": [
    "cross_val_score(model, new_data, y, scoring=\"f1\", cv = 7).mean()"
   ]
  },
  {
   "cell_type": "markdown",
   "id": "inner-touch",
   "metadata": {
    "heading_collapsed": true
   },
   "source": [
    "## import xgboost as xgb"
   ]
  },
  {
   "cell_type": "code",
   "execution_count": 69,
   "id": "popular-penetration",
   "metadata": {
    "ExecuteTime": {
     "end_time": "2021-03-18T16:26:25.536643Z",
     "start_time": "2021-03-18T16:24:48.150378Z"
    },
    "hidden": true
   },
   "outputs": [
    {
     "name": "stderr",
     "output_type": "stream",
     "text": [
      "/Users/macbookair/.pyenv/versions/3.8.6/envs/lewagon/lib/python3.8/site-packages/xgboost/sklearn.py:888: UserWarning: The use of label encoder in XGBClassifier is deprecated and will be removed in a future release. To remove this warning, do the following: 1) Pass option use_label_encoder=False when constructing XGBClassifier object; and 2) Encode your labels (y) as integers starting with 0, i.e. 0, 1, 2, ..., [num_class - 1].\n",
      "  warnings.warn(label_encoder_deprecation_msg, UserWarning)\n"
     ]
    },
    {
     "name": "stdout",
     "output_type": "stream",
     "text": [
      "[16:24:50] WARNING: /Users/travis/build/dmlc/xgboost/src/learner.cc:1061: Starting in XGBoost 1.3.0, the default evaluation metric used with the objective 'binary:logistic' was changed from 'error' to 'logloss'. Explicitly set eval_metric if you'd like to restore the old behavior.\n"
     ]
    },
    {
     "data": {
      "text/plain": [
       "0.8371444444444445"
      ]
     },
     "execution_count": 69,
     "metadata": {},
     "output_type": "execute_result"
    }
   ],
   "source": [
    "import xgboost as xgb\n",
    "\n",
    "model=xgb.XGBClassifier(random_state=1,learning_rate=0.01)\n",
    "model.fit(X_train, y_train)\n",
    "model.score(X_test,y_test)"
   ]
  },
  {
   "cell_type": "code",
   "execution_count": 71,
   "id": "helpful-clerk",
   "metadata": {
    "ExecuteTime": {
     "end_time": "2021-03-18T16:27:46.420000Z",
     "start_time": "2021-03-18T16:27:46.352846Z"
    },
    "hidden": true
   },
   "outputs": [
    {
     "ename": "TypeError",
     "evalue": "score() got an unexpected keyword argument 'score'",
     "output_type": "error",
     "traceback": [
      "\u001b[0;31m---------------------------------------------------------------------------\u001b[0m",
      "\u001b[0;31mTypeError\u001b[0m                                 Traceback (most recent call last)",
      "\u001b[0;32m<ipython-input-71-c9b2ab405df0>\u001b[0m in \u001b[0;36m<module>\u001b[0;34m\u001b[0m\n\u001b[0;32m----> 1\u001b[0;31m \u001b[0mmodel\u001b[0m\u001b[0;34m.\u001b[0m\u001b[0mscore\u001b[0m\u001b[0;34m(\u001b[0m\u001b[0mX_test\u001b[0m\u001b[0;34m,\u001b[0m\u001b[0my_test\u001b[0m\u001b[0;34m,\u001b[0m \u001b[0mscore\u001b[0m\u001b[0;34m=\u001b[0m\u001b[0;34m'f1'\u001b[0m\u001b[0;34m)\u001b[0m\u001b[0;34m\u001b[0m\u001b[0;34m\u001b[0m\u001b[0m\n\u001b[0m",
      "\u001b[0;31mTypeError\u001b[0m: score() got an unexpected keyword argument 'score'"
     ]
    }
   ],
   "source": [
    "model.score(X_test,y_test)"
   ]
  },
  {
   "cell_type": "code",
   "execution_count": 68,
   "id": "crazy-delivery",
   "metadata": {
    "ExecuteTime": {
     "end_time": "2021-03-18T16:24:33.709583Z",
     "start_time": "2021-03-18T16:24:27.612669Z"
    },
    "hidden": true
   },
   "outputs": [
    {
     "name": "stdout",
     "output_type": "stream",
     "text": [
      "Collecting xgboost\n",
      "  Downloading xgboost-1.3.3-py3-none-macosx_10_14_x86_64.macosx_10_15_x86_64.macosx_11_0_x86_64.whl (1.2 MB)\n",
      "\u001b[K     |████████████████████████████████| 1.2 MB 3.3 MB/s eta 0:00:01     |█████████▊                      | 358 kB 3.3 MB/s eta 0:00:01\n",
      "\u001b[?25hRequirement already satisfied: numpy in /Users/macbookair/.pyenv/versions/3.8.6/envs/lewagon/lib/python3.8/site-packages (from xgboost) (1.18.5)\n",
      "Requirement already satisfied: scipy in /Users/macbookair/.pyenv/versions/3.8.6/envs/lewagon/lib/python3.8/site-packages (from xgboost) (1.6.0)\n",
      "Installing collected packages: xgboost\n",
      "Successfully installed xgboost-1.3.3\n"
     ]
    }
   ],
   "source": [
    "!pip install xgboost"
   ]
  },
  {
   "cell_type": "code",
   "execution_count": 72,
   "id": "flexible-durham",
   "metadata": {
    "ExecuteTime": {
     "end_time": "2021-03-18T16:33:02.416409Z",
     "start_time": "2021-03-18T16:33:00.900075Z"
    },
    "hidden": true
   },
   "outputs": [],
   "source": [
    "data_test = pd.read_csv('raw_data/test.csv')"
   ]
  },
  {
   "cell_type": "markdown",
   "id": "coordinate-leather",
   "metadata": {
    "ExecuteTime": {
     "end_time": "2021-03-18T16:34:25.286896Z",
     "start_time": "2021-03-18T16:34:25.257997Z"
    }
   },
   "source": [
    "## SGDClassifier"
   ]
  },
  {
   "cell_type": "code",
   "execution_count": 83,
   "id": "aboriginal-gasoline",
   "metadata": {
    "ExecuteTime": {
     "end_time": "2021-03-18T16:40:33.454026Z",
     "start_time": "2021-03-18T16:40:33.447697Z"
    }
   },
   "outputs": [],
   "source": [
    "from sklearn.linear_model import SGDClassifier"
   ]
  },
  {
   "cell_type": "code",
   "execution_count": 85,
   "id": "latest-stable",
   "metadata": {
    "ExecuteTime": {
     "end_time": "2021-03-18T16:41:01.001476Z",
     "start_time": "2021-03-18T16:41:00.992980Z"
    }
   },
   "outputs": [],
   "source": [
    "model=SGDClassifier()"
   ]
  },
  {
   "cell_type": "code",
   "execution_count": 86,
   "id": "checked-recycling",
   "metadata": {
    "ExecuteTime": {
     "end_time": "2021-03-18T16:41:39.336839Z",
     "start_time": "2021-03-18T16:41:24.873269Z"
    }
   },
   "outputs": [],
   "source": [
    "cv_result=cross_validate(model, new_data, y, cv=5) "
   ]
  },
  {
   "cell_type": "code",
   "execution_count": 88,
   "id": "shared-vocabulary",
   "metadata": {
    "ExecuteTime": {
     "end_time": "2021-03-18T16:42:09.806717Z",
     "start_time": "2021-03-18T16:42:09.789639Z"
    }
   },
   "outputs": [
    {
     "data": {
      "text/plain": [
       "0.83468"
      ]
     },
     "execution_count": 88,
     "metadata": {},
     "output_type": "execute_result"
    }
   ],
   "source": [
    "cv_result['test_score'].mean()"
   ]
  },
  {
   "cell_type": "code",
   "execution_count": 89,
   "id": "together-badge",
   "metadata": {
    "ExecuteTime": {
     "end_time": "2021-03-18T16:42:32.237176Z",
     "start_time": "2021-03-18T16:42:15.921386Z"
    }
   },
   "outputs": [
    {
     "data": {
      "text/plain": [
       "0.6628201118959469"
      ]
     },
     "execution_count": 89,
     "metadata": {},
     "output_type": "execute_result"
    }
   ],
   "source": [
    "cross_val_score(model, new_data, y, scoring=\"f1\", cv = 7).mean()"
   ]
  },
  {
   "cell_type": "markdown",
   "id": "commercial-thunder",
   "metadata": {},
   "source": [
    "## Test Set"
   ]
  },
  {
   "cell_type": "code",
   "execution_count": null,
   "id": "ambient-basic",
   "metadata": {},
   "outputs": [],
   "source": [
    "test_enc=ohe.transform(data_test[cat_cols]).toarray()\n",
    "data_test[cat_cols]=test_enc\n",
    "model.predict(test)"
   ]
  }
 ],
 "metadata": {
  "kernelspec": {
   "display_name": "Python 3",
   "language": "python",
   "name": "python3"
  },
  "language_info": {
   "codemirror_mode": {
    "name": "ipython",
    "version": 3
   },
   "file_extension": ".py",
   "mimetype": "text/x-python",
   "name": "python",
   "nbconvert_exporter": "python",
   "pygments_lexer": "ipython3",
   "version": "3.8.6"
  },
  "toc": {
   "base_numbering": 1,
   "nav_menu": {},
   "number_sections": true,
   "sideBar": true,
   "skip_h1_title": false,
   "title_cell": "Table of Contents",
   "title_sidebar": "Contents",
   "toc_cell": false,
   "toc_position": {},
   "toc_section_display": true,
   "toc_window_display": false
  },
  "varInspector": {
   "cols": {
    "lenName": 16,
    "lenType": 16,
    "lenVar": 40
   },
   "kernels_config": {
    "python": {
     "delete_cmd_postfix": "",
     "delete_cmd_prefix": "del ",
     "library": "var_list.py",
     "varRefreshCmd": "print(var_dic_list())"
    },
    "r": {
     "delete_cmd_postfix": ") ",
     "delete_cmd_prefix": "rm(",
     "library": "var_list.r",
     "varRefreshCmd": "cat(var_dic_list()) "
    }
   },
   "types_to_exclude": [
    "module",
    "function",
    "builtin_function_or_method",
    "instance",
    "_Feature"
   ],
   "window_display": false
  }
 },
 "nbformat": 4,
 "nbformat_minor": 5
}
