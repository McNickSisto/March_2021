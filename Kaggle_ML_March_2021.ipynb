{
 "cells": [
  {
   "cell_type": "markdown",
   "id": "imposed-rings",
   "metadata": {
    "ExecuteTime": {
     "end_time": "2021-03-18T10:30:57.053865Z",
     "start_time": "2021-03-18T10:30:57.048774Z"
    }
   },
   "source": [
    "# Tabular Playground Series - Mar 2021"
   ]
  },
  {
   "cell_type": "markdown",
   "id": "economic-sister",
   "metadata": {
    "ExecuteTime": {
     "end_time": "2021-03-18T10:31:05.058336Z",
     "start_time": "2021-03-18T10:31:05.053907Z"
    }
   },
   "source": [
    "## Importing Modules"
   ]
  },
  {
   "cell_type": "code",
   "execution_count": 1,
   "id": "liberal-moses",
   "metadata": {
    "ExecuteTime": {
     "end_time": "2021-03-18T10:30:47.281912Z",
     "start_time": "2021-03-18T10:30:45.797645Z"
    }
   },
   "outputs": [],
   "source": [
    "import pandas as pd"
   ]
  },
  {
   "cell_type": "markdown",
   "id": "express-mystery",
   "metadata": {
    "ExecuteTime": {
     "end_time": "2021-03-18T10:31:19.126697Z",
     "start_time": "2021-03-18T10:31:19.118825Z"
    }
   },
   "source": [
    "## Data Exploration"
   ]
  },
  {
   "cell_type": "code",
   "execution_count": null,
   "id": "committed-virtue",
   "metadata": {},
   "outputs": [],
   "source": []
  }
 ],
 "metadata": {
  "kernelspec": {
   "display_name": "Python 3",
   "language": "python",
   "name": "python3"
  },
  "language_info": {
   "codemirror_mode": {
    "name": "ipython",
    "version": 3
   },
   "file_extension": ".py",
   "mimetype": "text/x-python",
   "name": "python",
   "nbconvert_exporter": "python",
   "pygments_lexer": "ipython3",
   "version": "3.8.6"
  },
  "toc": {
   "base_numbering": 1,
   "nav_menu": {},
   "number_sections": true,
   "sideBar": true,
   "skip_h1_title": false,
   "title_cell": "Table of Contents",
   "title_sidebar": "Contents",
   "toc_cell": false,
   "toc_position": {},
   "toc_section_display": true,
   "toc_window_display": false
  }
 },
 "nbformat": 4,
 "nbformat_minor": 5
}
