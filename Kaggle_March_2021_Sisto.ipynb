{
 "cells": [
  {
   "cell_type": "markdown",
   "id": "pleased-union",
   "metadata": {
    "ExecuteTime": {
     "end_time": "2021-03-18T10:30:57.053865Z",
     "start_time": "2021-03-18T10:30:57.048774Z"
    }
   },
   "source": [
    "# Data Exploration & Preparation"
   ]
  },
  {
   "cell_type": "markdown",
   "id": "continued-index",
   "metadata": {
    "ExecuteTime": {
     "end_time": "2021-03-18T10:31:05.058336Z",
     "start_time": "2021-03-18T10:31:05.053907Z"
    }
   },
   "source": [
    "## Importing Modules"
   ]
  },
  {
   "cell_type": "code",
   "execution_count": 1,
   "id": "whole-yukon",
   "metadata": {
    "ExecuteTime": {
     "end_time": "2021-03-27T18:36:19.853589Z",
     "start_time": "2021-03-27T18:36:18.356201Z"
    }
   },
   "outputs": [],
   "source": [
    "#importing basic modules\n",
    "import pandas as pd\n",
    "import seaborn as sns\n",
    "from scipy import stats\n",
    "import numpy as np\n",
    "import matplotlib.pyplot as plt"
   ]
  },
  {
   "cell_type": "markdown",
   "id": "norman-weekend",
   "metadata": {
    "ExecuteTime": {
     "end_time": "2021-03-18T10:31:19.126697Z",
     "start_time": "2021-03-18T10:31:19.118825Z"
    }
   },
   "source": [
    "## Data Exploration"
   ]
  },
  {
   "cell_type": "markdown",
   "id": "vital-trademark",
   "metadata": {
    "ExecuteTime": {
     "end_time": "2021-03-18T10:33:55.611010Z",
     "start_time": "2021-03-18T10:33:55.603712Z"
    }
   },
   "source": [
    "### Data Train & Data Test "
   ]
  },
  {
   "cell_type": "code",
   "execution_count": 2,
   "id": "desirable-precipitation",
   "metadata": {
    "ExecuteTime": {
     "end_time": "2021-03-27T18:36:21.834819Z",
     "start_time": "2021-03-27T18:36:19.858500Z"
    }
   },
   "outputs": [],
   "source": [
    "data_train = pd.read_csv('raw_data/train.csv')"
   ]
  },
  {
   "cell_type": "code",
   "execution_count": 3,
   "id": "rural-fountain",
   "metadata": {
    "ExecuteTime": {
     "end_time": "2021-03-27T18:36:21.940592Z",
     "start_time": "2021-03-27T18:36:21.844555Z"
    }
   },
   "outputs": [
    {
     "data": {
      "text/html": [
       "<div>\n",
       "<style scoped>\n",
       "    .dataframe tbody tr th:only-of-type {\n",
       "        vertical-align: middle;\n",
       "    }\n",
       "\n",
       "    .dataframe tbody tr th {\n",
       "        vertical-align: top;\n",
       "    }\n",
       "\n",
       "    .dataframe thead th {\n",
       "        text-align: right;\n",
       "    }\n",
       "</style>\n",
       "<table border=\"1\" class=\"dataframe\">\n",
       "  <thead>\n",
       "    <tr style=\"text-align: right;\">\n",
       "      <th></th>\n",
       "      <th>id</th>\n",
       "      <th>cat0</th>\n",
       "      <th>cat1</th>\n",
       "      <th>cat2</th>\n",
       "      <th>cat3</th>\n",
       "      <th>cat4</th>\n",
       "      <th>cat5</th>\n",
       "      <th>cat6</th>\n",
       "      <th>cat7</th>\n",
       "      <th>cat8</th>\n",
       "      <th>...</th>\n",
       "      <th>cont2</th>\n",
       "      <th>cont3</th>\n",
       "      <th>cont4</th>\n",
       "      <th>cont5</th>\n",
       "      <th>cont6</th>\n",
       "      <th>cont7</th>\n",
       "      <th>cont8</th>\n",
       "      <th>cont9</th>\n",
       "      <th>cont10</th>\n",
       "      <th>target</th>\n",
       "    </tr>\n",
       "  </thead>\n",
       "  <tbody>\n",
       "    <tr>\n",
       "      <th>0</th>\n",
       "      <td>0</td>\n",
       "      <td>A</td>\n",
       "      <td>I</td>\n",
       "      <td>A</td>\n",
       "      <td>B</td>\n",
       "      <td>B</td>\n",
       "      <td>BI</td>\n",
       "      <td>A</td>\n",
       "      <td>S</td>\n",
       "      <td>Q</td>\n",
       "      <td>...</td>\n",
       "      <td>0.759439</td>\n",
       "      <td>0.795549</td>\n",
       "      <td>0.681917</td>\n",
       "      <td>0.621672</td>\n",
       "      <td>0.592184</td>\n",
       "      <td>0.791921</td>\n",
       "      <td>0.815254</td>\n",
       "      <td>0.965006</td>\n",
       "      <td>0.665915</td>\n",
       "      <td>0</td>\n",
       "    </tr>\n",
       "    <tr>\n",
       "      <th>1</th>\n",
       "      <td>1</td>\n",
       "      <td>A</td>\n",
       "      <td>I</td>\n",
       "      <td>A</td>\n",
       "      <td>A</td>\n",
       "      <td>E</td>\n",
       "      <td>BI</td>\n",
       "      <td>K</td>\n",
       "      <td>W</td>\n",
       "      <td>AD</td>\n",
       "      <td>...</td>\n",
       "      <td>0.386385</td>\n",
       "      <td>0.541366</td>\n",
       "      <td>0.388982</td>\n",
       "      <td>0.357778</td>\n",
       "      <td>0.600044</td>\n",
       "      <td>0.408701</td>\n",
       "      <td>0.399353</td>\n",
       "      <td>0.927406</td>\n",
       "      <td>0.493729</td>\n",
       "      <td>0</td>\n",
       "    </tr>\n",
       "    <tr>\n",
       "      <th>2</th>\n",
       "      <td>2</td>\n",
       "      <td>A</td>\n",
       "      <td>K</td>\n",
       "      <td>A</td>\n",
       "      <td>A</td>\n",
       "      <td>E</td>\n",
       "      <td>BI</td>\n",
       "      <td>A</td>\n",
       "      <td>E</td>\n",
       "      <td>BM</td>\n",
       "      <td>...</td>\n",
       "      <td>0.343255</td>\n",
       "      <td>0.616352</td>\n",
       "      <td>0.793687</td>\n",
       "      <td>0.552877</td>\n",
       "      <td>0.352113</td>\n",
       "      <td>0.388835</td>\n",
       "      <td>0.412303</td>\n",
       "      <td>0.292696</td>\n",
       "      <td>0.549452</td>\n",
       "      <td>0</td>\n",
       "    </tr>\n",
       "    <tr>\n",
       "      <th>3</th>\n",
       "      <td>3</td>\n",
       "      <td>A</td>\n",
       "      <td>K</td>\n",
       "      <td>A</td>\n",
       "      <td>C</td>\n",
       "      <td>E</td>\n",
       "      <td>BI</td>\n",
       "      <td>A</td>\n",
       "      <td>Y</td>\n",
       "      <td>AD</td>\n",
       "      <td>...</td>\n",
       "      <td>0.831147</td>\n",
       "      <td>0.807807</td>\n",
       "      <td>0.800032</td>\n",
       "      <td>0.619147</td>\n",
       "      <td>0.221789</td>\n",
       "      <td>0.897617</td>\n",
       "      <td>0.633669</td>\n",
       "      <td>0.760318</td>\n",
       "      <td>0.934242</td>\n",
       "      <td>0</td>\n",
       "    </tr>\n",
       "    <tr>\n",
       "      <th>4</th>\n",
       "      <td>4</td>\n",
       "      <td>A</td>\n",
       "      <td>I</td>\n",
       "      <td>G</td>\n",
       "      <td>B</td>\n",
       "      <td>E</td>\n",
       "      <td>BI</td>\n",
       "      <td>C</td>\n",
       "      <td>G</td>\n",
       "      <td>Q</td>\n",
       "      <td>...</td>\n",
       "      <td>0.338818</td>\n",
       "      <td>0.277308</td>\n",
       "      <td>0.610578</td>\n",
       "      <td>0.128291</td>\n",
       "      <td>0.578764</td>\n",
       "      <td>0.279167</td>\n",
       "      <td>0.351103</td>\n",
       "      <td>0.357084</td>\n",
       "      <td>0.328960</td>\n",
       "      <td>1</td>\n",
       "    </tr>\n",
       "  </tbody>\n",
       "</table>\n",
       "<p>5 rows × 32 columns</p>\n",
       "</div>"
      ],
      "text/plain": [
       "   id cat0 cat1 cat2 cat3 cat4 cat5 cat6 cat7 cat8  ...     cont2     cont3  \\\n",
       "0   0    A    I    A    B    B   BI    A    S    Q  ...  0.759439  0.795549   \n",
       "1   1    A    I    A    A    E   BI    K    W   AD  ...  0.386385  0.541366   \n",
       "2   2    A    K    A    A    E   BI    A    E   BM  ...  0.343255  0.616352   \n",
       "3   3    A    K    A    C    E   BI    A    Y   AD  ...  0.831147  0.807807   \n",
       "4   4    A    I    G    B    E   BI    C    G    Q  ...  0.338818  0.277308   \n",
       "\n",
       "      cont4     cont5     cont6     cont7     cont8     cont9    cont10 target  \n",
       "0  0.681917  0.621672  0.592184  0.791921  0.815254  0.965006  0.665915      0  \n",
       "1  0.388982  0.357778  0.600044  0.408701  0.399353  0.927406  0.493729      0  \n",
       "2  0.793687  0.552877  0.352113  0.388835  0.412303  0.292696  0.549452      0  \n",
       "3  0.800032  0.619147  0.221789  0.897617  0.633669  0.760318  0.934242      0  \n",
       "4  0.610578  0.128291  0.578764  0.279167  0.351103  0.357084  0.328960      1  \n",
       "\n",
       "[5 rows x 32 columns]"
      ]
     },
     "execution_count": 3,
     "metadata": {},
     "output_type": "execute_result"
    }
   ],
   "source": [
    "data_train.head()"
   ]
  },
  {
   "cell_type": "code",
   "execution_count": 4,
   "id": "female-apparel",
   "metadata": {
    "ExecuteTime": {
     "end_time": "2021-03-27T18:36:22.834184Z",
     "start_time": "2021-03-27T18:36:21.946385Z"
    }
   },
   "outputs": [],
   "source": [
    "data_test = pd.read_csv('raw_data/test.csv')"
   ]
  },
  {
   "cell_type": "code",
   "execution_count": 5,
   "id": "raised-imagination",
   "metadata": {
    "ExecuteTime": {
     "end_time": "2021-03-27T18:36:22.869988Z",
     "start_time": "2021-03-27T18:36:22.836675Z"
    }
   },
   "outputs": [
    {
     "data": {
      "text/html": [
       "<div>\n",
       "<style scoped>\n",
       "    .dataframe tbody tr th:only-of-type {\n",
       "        vertical-align: middle;\n",
       "    }\n",
       "\n",
       "    .dataframe tbody tr th {\n",
       "        vertical-align: top;\n",
       "    }\n",
       "\n",
       "    .dataframe thead th {\n",
       "        text-align: right;\n",
       "    }\n",
       "</style>\n",
       "<table border=\"1\" class=\"dataframe\">\n",
       "  <thead>\n",
       "    <tr style=\"text-align: right;\">\n",
       "      <th></th>\n",
       "      <th>id</th>\n",
       "      <th>cat0</th>\n",
       "      <th>cat1</th>\n",
       "      <th>cat2</th>\n",
       "      <th>cat3</th>\n",
       "      <th>cat4</th>\n",
       "      <th>cat5</th>\n",
       "      <th>cat6</th>\n",
       "      <th>cat7</th>\n",
       "      <th>cat8</th>\n",
       "      <th>...</th>\n",
       "      <th>cont1</th>\n",
       "      <th>cont2</th>\n",
       "      <th>cont3</th>\n",
       "      <th>cont4</th>\n",
       "      <th>cont5</th>\n",
       "      <th>cont6</th>\n",
       "      <th>cont7</th>\n",
       "      <th>cont8</th>\n",
       "      <th>cont9</th>\n",
       "      <th>cont10</th>\n",
       "    </tr>\n",
       "  </thead>\n",
       "  <tbody>\n",
       "    <tr>\n",
       "      <th>0</th>\n",
       "      <td>5</td>\n",
       "      <td>A</td>\n",
       "      <td>F</td>\n",
       "      <td>A</td>\n",
       "      <td>A</td>\n",
       "      <td>F</td>\n",
       "      <td>BI</td>\n",
       "      <td>A</td>\n",
       "      <td>AH</td>\n",
       "      <td>AX</td>\n",
       "      <td>...</td>\n",
       "      <td>0.735690</td>\n",
       "      <td>0.578366</td>\n",
       "      <td>0.723154</td>\n",
       "      <td>0.228037</td>\n",
       "      <td>0.356227</td>\n",
       "      <td>0.551249</td>\n",
       "      <td>0.655693</td>\n",
       "      <td>0.598331</td>\n",
       "      <td>0.359987</td>\n",
       "      <td>0.947489</td>\n",
       "    </tr>\n",
       "    <tr>\n",
       "      <th>1</th>\n",
       "      <td>6</td>\n",
       "      <td>A</td>\n",
       "      <td>H</td>\n",
       "      <td>C</td>\n",
       "      <td>A</td>\n",
       "      <td>E</td>\n",
       "      <td>AB</td>\n",
       "      <td>I</td>\n",
       "      <td>F</td>\n",
       "      <td>N</td>\n",
       "      <td>...</td>\n",
       "      <td>0.313703</td>\n",
       "      <td>0.928885</td>\n",
       "      <td>0.516602</td>\n",
       "      <td>0.600169</td>\n",
       "      <td>0.795224</td>\n",
       "      <td>0.248987</td>\n",
       "      <td>0.654614</td>\n",
       "      <td>0.347944</td>\n",
       "      <td>0.565520</td>\n",
       "      <td>0.388580</td>\n",
       "    </tr>\n",
       "    <tr>\n",
       "      <th>2</th>\n",
       "      <td>8</td>\n",
       "      <td>A</td>\n",
       "      <td>N</td>\n",
       "      <td>C</td>\n",
       "      <td>A</td>\n",
       "      <td>F</td>\n",
       "      <td>AB</td>\n",
       "      <td>A</td>\n",
       "      <td>AH</td>\n",
       "      <td>BC</td>\n",
       "      <td>...</td>\n",
       "      <td>0.448201</td>\n",
       "      <td>0.424876</td>\n",
       "      <td>0.344729</td>\n",
       "      <td>0.242073</td>\n",
       "      <td>0.270632</td>\n",
       "      <td>0.746740</td>\n",
       "      <td>0.335590</td>\n",
       "      <td>0.341238</td>\n",
       "      <td>0.252289</td>\n",
       "      <td>0.411592</td>\n",
       "    </tr>\n",
       "    <tr>\n",
       "      <th>3</th>\n",
       "      <td>9</td>\n",
       "      <td>B</td>\n",
       "      <td>L</td>\n",
       "      <td>C</td>\n",
       "      <td>A</td>\n",
       "      <td>F</td>\n",
       "      <td>BI</td>\n",
       "      <td>A</td>\n",
       "      <td>E</td>\n",
       "      <td>AX</td>\n",
       "      <td>...</td>\n",
       "      <td>0.666092</td>\n",
       "      <td>0.598943</td>\n",
       "      <td>0.561971</td>\n",
       "      <td>0.806347</td>\n",
       "      <td>0.735983</td>\n",
       "      <td>0.538724</td>\n",
       "      <td>0.381566</td>\n",
       "      <td>0.481660</td>\n",
       "      <td>0.348514</td>\n",
       "      <td>0.325723</td>\n",
       "    </tr>\n",
       "    <tr>\n",
       "      <th>4</th>\n",
       "      <td>11</td>\n",
       "      <td>A</td>\n",
       "      <td>F</td>\n",
       "      <td>A</td>\n",
       "      <td>B</td>\n",
       "      <td>F</td>\n",
       "      <td>BI</td>\n",
       "      <td>A</td>\n",
       "      <td>AH</td>\n",
       "      <td>I</td>\n",
       "      <td>...</td>\n",
       "      <td>0.772229</td>\n",
       "      <td>0.479572</td>\n",
       "      <td>0.767745</td>\n",
       "      <td>0.252454</td>\n",
       "      <td>0.354810</td>\n",
       "      <td>0.178920</td>\n",
       "      <td>0.763479</td>\n",
       "      <td>0.562491</td>\n",
       "      <td>0.466261</td>\n",
       "      <td>0.585781</td>\n",
       "    </tr>\n",
       "  </tbody>\n",
       "</table>\n",
       "<p>5 rows × 31 columns</p>\n",
       "</div>"
      ],
      "text/plain": [
       "   id cat0 cat1 cat2 cat3 cat4 cat5 cat6 cat7 cat8  ...     cont1     cont2  \\\n",
       "0   5    A    F    A    A    F   BI    A   AH   AX  ...  0.735690  0.578366   \n",
       "1   6    A    H    C    A    E   AB    I    F    N  ...  0.313703  0.928885   \n",
       "2   8    A    N    C    A    F   AB    A   AH   BC  ...  0.448201  0.424876   \n",
       "3   9    B    L    C    A    F   BI    A    E   AX  ...  0.666092  0.598943   \n",
       "4  11    A    F    A    B    F   BI    A   AH    I  ...  0.772229  0.479572   \n",
       "\n",
       "      cont3     cont4     cont5     cont6     cont7     cont8     cont9  \\\n",
       "0  0.723154  0.228037  0.356227  0.551249  0.655693  0.598331  0.359987   \n",
       "1  0.516602  0.600169  0.795224  0.248987  0.654614  0.347944  0.565520   \n",
       "2  0.344729  0.242073  0.270632  0.746740  0.335590  0.341238  0.252289   \n",
       "3  0.561971  0.806347  0.735983  0.538724  0.381566  0.481660  0.348514   \n",
       "4  0.767745  0.252454  0.354810  0.178920  0.763479  0.562491  0.466261   \n",
       "\n",
       "     cont10  \n",
       "0  0.947489  \n",
       "1  0.388580  \n",
       "2  0.411592  \n",
       "3  0.325723  \n",
       "4  0.585781  \n",
       "\n",
       "[5 rows x 31 columns]"
      ]
     },
     "execution_count": 5,
     "metadata": {},
     "output_type": "execute_result"
    }
   ],
   "source": [
    "data_test.head()"
   ]
  },
  {
   "cell_type": "markdown",
   "id": "average-packaging",
   "metadata": {
    "ExecuteTime": {
     "end_time": "2021-03-18T11:05:40.281078Z",
     "start_time": "2021-03-18T11:05:40.269368Z"
    }
   },
   "source": [
    "### X_train & y_train"
   ]
  },
  {
   "cell_type": "code",
   "execution_count": 6,
   "id": "aggressive-milwaukee",
   "metadata": {
    "ExecuteTime": {
     "end_time": "2021-03-27T18:36:23.017962Z",
     "start_time": "2021-03-27T18:36:22.874949Z"
    }
   },
   "outputs": [],
   "source": [
    "X_train = data_train.drop(columns = 'target')"
   ]
  },
  {
   "cell_type": "code",
   "execution_count": 7,
   "id": "natural-reset",
   "metadata": {
    "ExecuteTime": {
     "end_time": "2021-03-27T18:36:23.062186Z",
     "start_time": "2021-03-27T18:36:23.021814Z"
    }
   },
   "outputs": [
    {
     "data": {
      "text/plain": [
       "0         0\n",
       "1         0\n",
       "2         0\n",
       "3         0\n",
       "4         1\n",
       "         ..\n",
       "299995    0\n",
       "299996    0\n",
       "299997    1\n",
       "299998    0\n",
       "299999    0\n",
       "Name: target, Length: 300000, dtype: int64"
      ]
     },
     "execution_count": 7,
     "metadata": {},
     "output_type": "execute_result"
    }
   ],
   "source": [
    "y_train = data_train['target']\n",
    "y_train"
   ]
  },
  {
   "cell_type": "markdown",
   "id": "interesting-interview",
   "metadata": {},
   "source": [
    "### Checking for duplicates"
   ]
  },
  {
   "cell_type": "code",
   "execution_count": 8,
   "id": "smaller-recognition",
   "metadata": {
    "ExecuteTime": {
     "end_time": "2021-03-27T18:36:23.097516Z",
     "start_time": "2021-03-27T18:36:23.068510Z"
    }
   },
   "outputs": [
    {
     "data": {
      "text/plain": [
       "300000"
      ]
     },
     "execution_count": 8,
     "metadata": {},
     "output_type": "execute_result"
    }
   ],
   "source": [
    "len(X_train) # Check number of rows before removing duplicates - no duplicates"
   ]
  },
  {
   "cell_type": "markdown",
   "id": "functioning-paper",
   "metadata": {
    "ExecuteTime": {
     "end_time": "2021-03-18T10:34:07.337150Z",
     "start_time": "2021-03-18T10:34:07.332486Z"
    }
   },
   "source": [
    "### Null Values"
   ]
  },
  {
   "cell_type": "code",
   "execution_count": 9,
   "id": "interpreted-bleeding",
   "metadata": {
    "ExecuteTime": {
     "end_time": "2021-03-27T18:36:23.453083Z",
     "start_time": "2021-03-27T18:36:23.102278Z"
    },
    "scrolled": true
   },
   "outputs": [
    {
     "data": {
      "text/plain": [
       "id        0\n",
       "cat15     0\n",
       "cont9     0\n",
       "cont8     0\n",
       "cont7     0\n",
       "cont6     0\n",
       "cont5     0\n",
       "cont4     0\n",
       "cont3     0\n",
       "cont2     0\n",
       "cont1     0\n",
       "cont0     0\n",
       "cat18     0\n",
       "cat17     0\n",
       "cat16     0\n",
       "cat14     0\n",
       "cat0      0\n",
       "cat13     0\n",
       "cat12     0\n",
       "cat11     0\n",
       "cat10     0\n",
       "cat9      0\n",
       "cat8      0\n",
       "cat7      0\n",
       "cat6      0\n",
       "cat5      0\n",
       "cat4      0\n",
       "cat3      0\n",
       "cat2      0\n",
       "cat1      0\n",
       "cont10    0\n",
       "dtype: int64"
      ]
     },
     "execution_count": 9,
     "metadata": {},
     "output_type": "execute_result"
    }
   ],
   "source": [
    "X_train.isnull().sum().sort_values(ascending=False) #NaN count for each column"
   ]
  },
  {
   "cell_type": "markdown",
   "id": "weighted-sphere",
   "metadata": {
    "ExecuteTime": {
     "end_time": "2021-03-18T10:53:18.000954Z",
     "start_time": "2021-03-18T10:53:17.996983Z"
    }
   },
   "source": [
    "### Checking Cat and Num values"
   ]
  },
  {
   "cell_type": "code",
   "execution_count": 10,
   "id": "relative-honor",
   "metadata": {
    "ExecuteTime": {
     "end_time": "2021-03-27T18:36:23.462062Z",
     "start_time": "2021-03-27T18:36:23.456316Z"
    }
   },
   "outputs": [],
   "source": [
    "num_cols = X_train._get_numeric_data().columns"
   ]
  },
  {
   "cell_type": "code",
   "execution_count": 11,
   "id": "korean-abuse",
   "metadata": {
    "ExecuteTime": {
     "end_time": "2021-03-27T18:36:23.479067Z",
     "start_time": "2021-03-27T18:36:23.465185Z"
    }
   },
   "outputs": [
    {
     "data": {
      "text/plain": [
       "12"
      ]
     },
     "execution_count": 11,
     "metadata": {},
     "output_type": "execute_result"
    }
   ],
   "source": [
    "len(num_cols)"
   ]
  },
  {
   "cell_type": "code",
   "execution_count": 12,
   "id": "documentary-median",
   "metadata": {
    "ExecuteTime": {
     "end_time": "2021-03-27T18:36:23.493952Z",
     "start_time": "2021-03-27T18:36:23.482005Z"
    }
   },
   "outputs": [
    {
     "data": {
      "text/plain": [
       "Index(['id', 'cont0', 'cont1', 'cont2', 'cont3', 'cont4', 'cont5', 'cont6',\n",
       "       'cont7', 'cont8', 'cont9', 'cont10'],\n",
       "      dtype='object')"
      ]
     },
     "execution_count": 12,
     "metadata": {},
     "output_type": "execute_result"
    }
   ],
   "source": [
    "num_cols"
   ]
  },
  {
   "cell_type": "code",
   "execution_count": 13,
   "id": "nutritional-template",
   "metadata": {
    "ExecuteTime": {
     "end_time": "2021-03-27T18:36:23.517166Z",
     "start_time": "2021-03-27T18:36:23.497388Z"
    }
   },
   "outputs": [],
   "source": [
    "num_cols = num_cols.drop('id')"
   ]
  },
  {
   "cell_type": "code",
   "execution_count": 14,
   "id": "settled-japan",
   "metadata": {
    "ExecuteTime": {
     "end_time": "2021-03-27T18:36:23.539773Z",
     "start_time": "2021-03-27T18:36:23.520373Z"
    }
   },
   "outputs": [
    {
     "data": {
      "text/plain": [
       "Index(['cont0', 'cont1', 'cont2', 'cont3', 'cont4', 'cont5', 'cont6', 'cont7',\n",
       "       'cont8', 'cont9', 'cont10'],\n",
       "      dtype='object')"
      ]
     },
     "execution_count": 14,
     "metadata": {},
     "output_type": "execute_result"
    }
   ],
   "source": [
    "num_cols"
   ]
  },
  {
   "cell_type": "code",
   "execution_count": 15,
   "id": "earned-matrix",
   "metadata": {
    "ExecuteTime": {
     "end_time": "2021-03-27T18:36:23.560397Z",
     "start_time": "2021-03-27T18:36:23.542876Z"
    }
   },
   "outputs": [],
   "source": [
    "cat_cols = list(set(X_train) - set(num_cols))"
   ]
  },
  {
   "cell_type": "code",
   "execution_count": 16,
   "id": "passive-twenty",
   "metadata": {
    "ExecuteTime": {
     "end_time": "2021-03-27T18:36:23.585246Z",
     "start_time": "2021-03-27T18:36:23.564036Z"
    }
   },
   "outputs": [
    {
     "data": {
      "text/plain": [
       "['cat9',\n",
       " 'cat16',\n",
       " 'cat8',\n",
       " 'cat0',\n",
       " 'cat14',\n",
       " 'cat17',\n",
       " 'cat18',\n",
       " 'cat6',\n",
       " 'cat1',\n",
       " 'cat3',\n",
       " 'cat5',\n",
       " 'id',\n",
       " 'cat7',\n",
       " 'cat11',\n",
       " 'cat10',\n",
       " 'cat4',\n",
       " 'cat12',\n",
       " 'cat15',\n",
       " 'cat2',\n",
       " 'cat13']"
      ]
     },
     "execution_count": 16,
     "metadata": {},
     "output_type": "execute_result"
    }
   ],
   "source": [
    "cat_cols "
   ]
  },
  {
   "cell_type": "code",
   "execution_count": 17,
   "id": "rolled-microphone",
   "metadata": {
    "ExecuteTime": {
     "end_time": "2021-03-27T18:36:23.607067Z",
     "start_time": "2021-03-27T18:36:23.588425Z"
    }
   },
   "outputs": [],
   "source": [
    "cat_cols.remove('id')"
   ]
  },
  {
   "cell_type": "code",
   "execution_count": 18,
   "id": "tribal-birth",
   "metadata": {
    "ExecuteTime": {
     "end_time": "2021-03-27T18:36:23.631648Z",
     "start_time": "2021-03-27T18:36:23.610126Z"
    }
   },
   "outputs": [
    {
     "data": {
      "text/plain": [
       "['cat9',\n",
       " 'cat16',\n",
       " 'cat8',\n",
       " 'cat0',\n",
       " 'cat14',\n",
       " 'cat17',\n",
       " 'cat18',\n",
       " 'cat6',\n",
       " 'cat1',\n",
       " 'cat3',\n",
       " 'cat5',\n",
       " 'cat7',\n",
       " 'cat11',\n",
       " 'cat10',\n",
       " 'cat4',\n",
       " 'cat12',\n",
       " 'cat15',\n",
       " 'cat2',\n",
       " 'cat13']"
      ]
     },
     "execution_count": 18,
     "metadata": {},
     "output_type": "execute_result"
    }
   ],
   "source": [
    "cat_cols"
   ]
  },
  {
   "cell_type": "code",
   "execution_count": 19,
   "id": "future-distribution",
   "metadata": {
    "ExecuteTime": {
     "end_time": "2021-03-27T18:36:23.766094Z",
     "start_time": "2021-03-27T18:36:23.634746Z"
    }
   },
   "outputs": [
    {
     "data": {
      "text/html": [
       "<div>\n",
       "<style scoped>\n",
       "    .dataframe tbody tr th:only-of-type {\n",
       "        vertical-align: middle;\n",
       "    }\n",
       "\n",
       "    .dataframe tbody tr th {\n",
       "        vertical-align: top;\n",
       "    }\n",
       "\n",
       "    .dataframe thead th {\n",
       "        text-align: right;\n",
       "    }\n",
       "</style>\n",
       "<table border=\"1\" class=\"dataframe\">\n",
       "  <thead>\n",
       "    <tr style=\"text-align: right;\">\n",
       "      <th></th>\n",
       "      <th>cat9</th>\n",
       "      <th>cat16</th>\n",
       "      <th>cat8</th>\n",
       "      <th>cat0</th>\n",
       "      <th>cat14</th>\n",
       "      <th>cat17</th>\n",
       "      <th>cat18</th>\n",
       "      <th>cat6</th>\n",
       "      <th>cat1</th>\n",
       "      <th>cat3</th>\n",
       "      <th>cat5</th>\n",
       "      <th>cat7</th>\n",
       "      <th>cat11</th>\n",
       "      <th>cat10</th>\n",
       "      <th>cat4</th>\n",
       "      <th>cat12</th>\n",
       "      <th>cat15</th>\n",
       "      <th>cat2</th>\n",
       "      <th>cat13</th>\n",
       "    </tr>\n",
       "  </thead>\n",
       "  <tbody>\n",
       "    <tr>\n",
       "      <th>0</th>\n",
       "      <td>A</td>\n",
       "      <td>D</td>\n",
       "      <td>Q</td>\n",
       "      <td>A</td>\n",
       "      <td>A</td>\n",
       "      <td>D</td>\n",
       "      <td>B</td>\n",
       "      <td>A</td>\n",
       "      <td>I</td>\n",
       "      <td>B</td>\n",
       "      <td>BI</td>\n",
       "      <td>S</td>\n",
       "      <td>A</td>\n",
       "      <td>LO</td>\n",
       "      <td>B</td>\n",
       "      <td>A</td>\n",
       "      <td>B</td>\n",
       "      <td>A</td>\n",
       "      <td>A</td>\n",
       "    </tr>\n",
       "    <tr>\n",
       "      <th>1</th>\n",
       "      <td>F</td>\n",
       "      <td>B</td>\n",
       "      <td>AD</td>\n",
       "      <td>A</td>\n",
       "      <td>B</td>\n",
       "      <td>D</td>\n",
       "      <td>B</td>\n",
       "      <td>K</td>\n",
       "      <td>I</td>\n",
       "      <td>A</td>\n",
       "      <td>BI</td>\n",
       "      <td>W</td>\n",
       "      <td>A</td>\n",
       "      <td>HJ</td>\n",
       "      <td>E</td>\n",
       "      <td>B</td>\n",
       "      <td>D</td>\n",
       "      <td>A</td>\n",
       "      <td>A</td>\n",
       "    </tr>\n",
       "    <tr>\n",
       "      <th>2</th>\n",
       "      <td>L</td>\n",
       "      <td>D</td>\n",
       "      <td>BM</td>\n",
       "      <td>A</td>\n",
       "      <td>A</td>\n",
       "      <td>D</td>\n",
       "      <td>B</td>\n",
       "      <td>A</td>\n",
       "      <td>K</td>\n",
       "      <td>A</td>\n",
       "      <td>BI</td>\n",
       "      <td>E</td>\n",
       "      <td>A</td>\n",
       "      <td>DJ</td>\n",
       "      <td>E</td>\n",
       "      <td>B</td>\n",
       "      <td>B</td>\n",
       "      <td>A</td>\n",
       "      <td>A</td>\n",
       "    </tr>\n",
       "    <tr>\n",
       "      <th>3</th>\n",
       "      <td>F</td>\n",
       "      <td>D</td>\n",
       "      <td>AD</td>\n",
       "      <td>A</td>\n",
       "      <td>A</td>\n",
       "      <td>D</td>\n",
       "      <td>B</td>\n",
       "      <td>A</td>\n",
       "      <td>K</td>\n",
       "      <td>C</td>\n",
       "      <td>BI</td>\n",
       "      <td>Y</td>\n",
       "      <td>A</td>\n",
       "      <td>KV</td>\n",
       "      <td>E</td>\n",
       "      <td>A</td>\n",
       "      <td>B</td>\n",
       "      <td>A</td>\n",
       "      <td>A</td>\n",
       "    </tr>\n",
       "    <tr>\n",
       "      <th>4</th>\n",
       "      <td>A</td>\n",
       "      <td>B</td>\n",
       "      <td>Q</td>\n",
       "      <td>A</td>\n",
       "      <td>B</td>\n",
       "      <td>D</td>\n",
       "      <td>B</td>\n",
       "      <td>C</td>\n",
       "      <td>I</td>\n",
       "      <td>B</td>\n",
       "      <td>BI</td>\n",
       "      <td>G</td>\n",
       "      <td>A</td>\n",
       "      <td>DP</td>\n",
       "      <td>E</td>\n",
       "      <td>A</td>\n",
       "      <td>B</td>\n",
       "      <td>G</td>\n",
       "      <td>A</td>\n",
       "    </tr>\n",
       "    <tr>\n",
       "      <th>...</th>\n",
       "      <td>...</td>\n",
       "      <td>...</td>\n",
       "      <td>...</td>\n",
       "      <td>...</td>\n",
       "      <td>...</td>\n",
       "      <td>...</td>\n",
       "      <td>...</td>\n",
       "      <td>...</td>\n",
       "      <td>...</td>\n",
       "      <td>...</td>\n",
       "      <td>...</td>\n",
       "      <td>...</td>\n",
       "      <td>...</td>\n",
       "      <td>...</td>\n",
       "      <td>...</td>\n",
       "      <td>...</td>\n",
       "      <td>...</td>\n",
       "      <td>...</td>\n",
       "      <td>...</td>\n",
       "    </tr>\n",
       "    <tr>\n",
       "      <th>299995</th>\n",
       "      <td>A</td>\n",
       "      <td>B</td>\n",
       "      <td>K</td>\n",
       "      <td>A</td>\n",
       "      <td>B</td>\n",
       "      <td>D</td>\n",
       "      <td>B</td>\n",
       "      <td>A</td>\n",
       "      <td>N</td>\n",
       "      <td>A</td>\n",
       "      <td>BU</td>\n",
       "      <td>AS</td>\n",
       "      <td>A</td>\n",
       "      <td>HG</td>\n",
       "      <td>E</td>\n",
       "      <td>A</td>\n",
       "      <td>D</td>\n",
       "      <td>F</td>\n",
       "      <td>A</td>\n",
       "    </tr>\n",
       "    <tr>\n",
       "      <th>299996</th>\n",
       "      <td>E</td>\n",
       "      <td>D</td>\n",
       "      <td>AE</td>\n",
       "      <td>A</td>\n",
       "      <td>B</td>\n",
       "      <td>D</td>\n",
       "      <td>B</td>\n",
       "      <td>A</td>\n",
       "      <td>K</td>\n",
       "      <td>A</td>\n",
       "      <td>BI</td>\n",
       "      <td>K</td>\n",
       "      <td>A</td>\n",
       "      <td>HK</td>\n",
       "      <td>G</td>\n",
       "      <td>B</td>\n",
       "      <td>B</td>\n",
       "      <td>A</td>\n",
       "      <td>A</td>\n",
       "    </tr>\n",
       "    <tr>\n",
       "      <th>299997</th>\n",
       "      <td>A</td>\n",
       "      <td>B</td>\n",
       "      <td>F</td>\n",
       "      <td>A</td>\n",
       "      <td>B</td>\n",
       "      <td>D</td>\n",
       "      <td>D</td>\n",
       "      <td>C</td>\n",
       "      <td>G</td>\n",
       "      <td>A</td>\n",
       "      <td>BI</td>\n",
       "      <td>L</td>\n",
       "      <td>B</td>\n",
       "      <td>HC</td>\n",
       "      <td>H</td>\n",
       "      <td>A</td>\n",
       "      <td>D</td>\n",
       "      <td>M</td>\n",
       "      <td>A</td>\n",
       "    </tr>\n",
       "    <tr>\n",
       "      <th>299998</th>\n",
       "      <td>A</td>\n",
       "      <td>A</td>\n",
       "      <td>AX</td>\n",
       "      <td>B</td>\n",
       "      <td>A</td>\n",
       "      <td>D</td>\n",
       "      <td>A</td>\n",
       "      <td>A</td>\n",
       "      <td>H</td>\n",
       "      <td>D</td>\n",
       "      <td>BI</td>\n",
       "      <td>AA</td>\n",
       "      <td>A</td>\n",
       "      <td>BF</td>\n",
       "      <td>B</td>\n",
       "      <td>A</td>\n",
       "      <td>B</td>\n",
       "      <td>A</td>\n",
       "      <td>A</td>\n",
       "    </tr>\n",
       "    <tr>\n",
       "      <th>299999</th>\n",
       "      <td>A</td>\n",
       "      <td>D</td>\n",
       "      <td>S</td>\n",
       "      <td>A</td>\n",
       "      <td>A</td>\n",
       "      <td>D</td>\n",
       "      <td>B</td>\n",
       "      <td>C</td>\n",
       "      <td>F</td>\n",
       "      <td>A</td>\n",
       "      <td>BI</td>\n",
       "      <td>AV</td>\n",
       "      <td>A</td>\n",
       "      <td>LM</td>\n",
       "      <td>E</td>\n",
       "      <td>A</td>\n",
       "      <td>B</td>\n",
       "      <td>C</td>\n",
       "      <td>A</td>\n",
       "    </tr>\n",
       "  </tbody>\n",
       "</table>\n",
       "<p>300000 rows × 19 columns</p>\n",
       "</div>"
      ],
      "text/plain": [
       "       cat9 cat16 cat8 cat0 cat14 cat17 cat18 cat6 cat1 cat3 cat5 cat7 cat11  \\\n",
       "0         A     D    Q    A     A     D     B    A    I    B   BI    S     A   \n",
       "1         F     B   AD    A     B     D     B    K    I    A   BI    W     A   \n",
       "2         L     D   BM    A     A     D     B    A    K    A   BI    E     A   \n",
       "3         F     D   AD    A     A     D     B    A    K    C   BI    Y     A   \n",
       "4         A     B    Q    A     B     D     B    C    I    B   BI    G     A   \n",
       "...     ...   ...  ...  ...   ...   ...   ...  ...  ...  ...  ...  ...   ...   \n",
       "299995    A     B    K    A     B     D     B    A    N    A   BU   AS     A   \n",
       "299996    E     D   AE    A     B     D     B    A    K    A   BI    K     A   \n",
       "299997    A     B    F    A     B     D     D    C    G    A   BI    L     B   \n",
       "299998    A     A   AX    B     A     D     A    A    H    D   BI   AA     A   \n",
       "299999    A     D    S    A     A     D     B    C    F    A   BI   AV     A   \n",
       "\n",
       "       cat10 cat4 cat12 cat15 cat2 cat13  \n",
       "0         LO    B     A     B    A     A  \n",
       "1         HJ    E     B     D    A     A  \n",
       "2         DJ    E     B     B    A     A  \n",
       "3         KV    E     A     B    A     A  \n",
       "4         DP    E     A     B    G     A  \n",
       "...      ...  ...   ...   ...  ...   ...  \n",
       "299995    HG    E     A     D    F     A  \n",
       "299996    HK    G     B     B    A     A  \n",
       "299997    HC    H     A     D    M     A  \n",
       "299998    BF    B     A     B    A     A  \n",
       "299999    LM    E     A     B    C     A  \n",
       "\n",
       "[300000 rows x 19 columns]"
      ]
     },
     "execution_count": 19,
     "metadata": {},
     "output_type": "execute_result"
    }
   ],
   "source": [
    "data_cat = data_train[cat_cols]\n",
    "data_cat"
   ]
  },
  {
   "cell_type": "code",
   "execution_count": 20,
   "id": "narrow-strand",
   "metadata": {
    "ExecuteTime": {
     "end_time": "2021-03-27T18:36:40.554938Z",
     "start_time": "2021-03-27T18:36:23.769338Z"
    }
   },
   "outputs": [
    {
     "data": {
      "image/png": "[encoded data removed]",
      "text/plain": [
       "<Figure size 2160x3600 with 19 Axes>"
      ]
     },
     "metadata": {
      "needs_background": "light"
     },
     "output_type": "display_data"
    }
   ],
   "source": [
    "plt.figure(figsize=(30,50))\n",
    "for index, cat in enumerate(cat_cols):\n",
    "    index += 1\n",
    "    plt.subplot(10,2,index)\n",
    "    x = data_train[cat]\n",
    "    sns.histplot(x)"
   ]
  },
  {
   "cell_type": "markdown",
   "id": "pointed-oliver",
   "metadata": {
    "ExecuteTime": {
     "end_time": "2021-03-27T18:07:35.074899Z",
     "start_time": "2021-03-27T18:07:35.070870Z"
    }
   },
   "source": [
    "### Correlation Matrix"
   ]
  },
  {
   "cell_type": "code",
   "execution_count": 21,
   "id": "damaged-belle",
   "metadata": {
    "ExecuteTime": {
     "end_time": "2021-03-27T18:36:41.250602Z",
     "start_time": "2021-03-27T18:36:40.557709Z"
    }
   },
   "outputs": [
    {
     "data": {
      "text/plain": [
       "<AxesSubplot:>"
      ]
     },
     "execution_count": 21,
     "metadata": {},
     "output_type": "execute_result"
    },
    {
     "data": {
      "image/png": "[encoded data removed]",
      "text/plain": [
       "<Figure size 432x288 with 2 Axes>"
      ]
     },
     "metadata": {
      "needs_background": "light"
     },
     "output_type": "display_data"
    }
   ],
   "source": [
    "# Heatmap\n",
    "corr = data_train.corr()\n",
    "sns.heatmap(corr, \n",
    "        xticklabels=corr.columns,\n",
    "        yticklabels=corr.columns,\n",
    "        cmap= \"YlGnBu\")"
   ]
  },
  {
   "cell_type": "markdown",
   "id": "female-walnut",
   "metadata": {
    "ExecuteTime": {
     "end_time": "2021-03-18T18:59:54.587236Z",
     "start_time": "2021-03-18T18:59:54.581509Z"
    }
   },
   "source": [
    "## Feature Removal"
   ]
  },
  {
   "cell_type": "markdown",
   "id": "center-davis",
   "metadata": {},
   "source": [
    "### Correlation Feature Removal "
   ]
  },
  {
   "cell_type": "code",
   "execution_count": 22,
   "id": "painful-diabetes",
   "metadata": {
    "ExecuteTime": {
     "end_time": "2021-03-27T18:36:42.079035Z",
     "start_time": "2021-03-27T18:36:41.253939Z"
    }
   },
   "outputs": [
    {
     "data": {
      "text/plain": [
       "<AxesSubplot:>"
      ]
     },
     "execution_count": 22,
     "metadata": {},
     "output_type": "execute_result"
    },
    {
     "data": {
      "image/png": "[encoded data removed]",
      "text/plain": [
       "<Figure size 432x288 with 2 Axes>"
      ]
     },
     "metadata": {
      "needs_background": "light"
     },
     "output_type": "display_data"
    }
   ],
   "source": [
    "corr = data_train.corr()\n",
    "sns.heatmap(corr, \n",
    "        xticklabels=corr.columns,\n",
    "        yticklabels=corr.columns,\n",
    "        cmap= \"YlGnBu\")"
   ]
  },
  {
   "cell_type": "code",
   "execution_count": 23,
   "id": "recent-still",
   "metadata": {
    "ExecuteTime": {
     "end_time": "2021-03-27T18:36:42.152678Z",
     "start_time": "2021-03-27T18:36:42.086714Z"
    },
    "scrolled": false
   },
   "outputs": [],
   "source": [
    "X_train = X_train.drop(columns=['cont2','cont7','cont10','id'])"
   ]
  },
  {
   "cell_type": "code",
   "execution_count": 24,
   "id": "internal-massachusetts",
   "metadata": {
    "ExecuteTime": {
     "end_time": "2021-03-27T18:36:42.169524Z",
     "start_time": "2021-03-27T18:36:42.157176Z"
    }
   },
   "outputs": [
    {
     "data": {
      "text/plain": [
       "(300000, 27)"
      ]
     },
     "execution_count": 24,
     "metadata": {},
     "output_type": "execute_result"
    }
   ],
   "source": [
    "X_train.shape"
   ]
  },
  {
   "cell_type": "code",
   "execution_count": 25,
   "id": "governing-picking",
   "metadata": {
    "ExecuteTime": {
     "end_time": "2021-03-27T18:36:42.196220Z",
     "start_time": "2021-03-27T18:36:42.172524Z"
    }
   },
   "outputs": [
    {
     "data": {
      "text/plain": [
       "Index(['cont0', 'cont1', 'cont3', 'cont4', 'cont5', 'cont6', 'cont8', 'cont9'], dtype='object')"
      ]
     },
     "execution_count": 25,
     "metadata": {},
     "output_type": "execute_result"
    }
   ],
   "source": [
    "num_cols = X_train._get_numeric_data().columns\n",
    "num_cols"
   ]
  },
  {
   "cell_type": "code",
   "execution_count": 26,
   "id": "numerous-salad",
   "metadata": {
    "ExecuteTime": {
     "end_time": "2021-03-27T18:36:42.381223Z",
     "start_time": "2021-03-27T18:36:42.201118Z"
    }
   },
   "outputs": [
    {
     "data": {
      "text/html": [
       "<div>\n",
       "<style scoped>\n",
       "    .dataframe tbody tr th:only-of-type {\n",
       "        vertical-align: middle;\n",
       "    }\n",
       "\n",
       "    .dataframe tbody tr th {\n",
       "        vertical-align: top;\n",
       "    }\n",
       "\n",
       "    .dataframe thead th {\n",
       "        text-align: right;\n",
       "    }\n",
       "</style>\n",
       "<table border=\"1\" class=\"dataframe\">\n",
       "  <thead>\n",
       "    <tr style=\"text-align: right;\">\n",
       "      <th></th>\n",
       "      <th>cat0</th>\n",
       "      <th>cat1</th>\n",
       "      <th>cat2</th>\n",
       "      <th>cat3</th>\n",
       "      <th>cat4</th>\n",
       "      <th>cat5</th>\n",
       "      <th>cat6</th>\n",
       "      <th>cat7</th>\n",
       "      <th>cat8</th>\n",
       "      <th>cat9</th>\n",
       "      <th>...</th>\n",
       "      <th>cat17</th>\n",
       "      <th>cat18</th>\n",
       "      <th>cont0</th>\n",
       "      <th>cont1</th>\n",
       "      <th>cont3</th>\n",
       "      <th>cont4</th>\n",
       "      <th>cont5</th>\n",
       "      <th>cont6</th>\n",
       "      <th>cont8</th>\n",
       "      <th>cont9</th>\n",
       "    </tr>\n",
       "  </thead>\n",
       "  <tbody>\n",
       "    <tr>\n",
       "      <th>0</th>\n",
       "      <td>A</td>\n",
       "      <td>I</td>\n",
       "      <td>A</td>\n",
       "      <td>B</td>\n",
       "      <td>B</td>\n",
       "      <td>BI</td>\n",
       "      <td>A</td>\n",
       "      <td>S</td>\n",
       "      <td>Q</td>\n",
       "      <td>A</td>\n",
       "      <td>...</td>\n",
       "      <td>D</td>\n",
       "      <td>B</td>\n",
       "      <td>0.629858</td>\n",
       "      <td>0.855349</td>\n",
       "      <td>0.795549</td>\n",
       "      <td>0.681917</td>\n",
       "      <td>0.621672</td>\n",
       "      <td>0.592184</td>\n",
       "      <td>0.815254</td>\n",
       "      <td>0.965006</td>\n",
       "    </tr>\n",
       "    <tr>\n",
       "      <th>1</th>\n",
       "      <td>A</td>\n",
       "      <td>I</td>\n",
       "      <td>A</td>\n",
       "      <td>A</td>\n",
       "      <td>E</td>\n",
       "      <td>BI</td>\n",
       "      <td>K</td>\n",
       "      <td>W</td>\n",
       "      <td>AD</td>\n",
       "      <td>F</td>\n",
       "      <td>...</td>\n",
       "      <td>D</td>\n",
       "      <td>B</td>\n",
       "      <td>0.370727</td>\n",
       "      <td>0.328929</td>\n",
       "      <td>0.541366</td>\n",
       "      <td>0.388982</td>\n",
       "      <td>0.357778</td>\n",
       "      <td>0.600044</td>\n",
       "      <td>0.399353</td>\n",
       "      <td>0.927406</td>\n",
       "    </tr>\n",
       "    <tr>\n",
       "      <th>2</th>\n",
       "      <td>A</td>\n",
       "      <td>K</td>\n",
       "      <td>A</td>\n",
       "      <td>A</td>\n",
       "      <td>E</td>\n",
       "      <td>BI</td>\n",
       "      <td>A</td>\n",
       "      <td>E</td>\n",
       "      <td>BM</td>\n",
       "      <td>L</td>\n",
       "      <td>...</td>\n",
       "      <td>D</td>\n",
       "      <td>B</td>\n",
       "      <td>0.502272</td>\n",
       "      <td>0.322749</td>\n",
       "      <td>0.616352</td>\n",
       "      <td>0.793687</td>\n",
       "      <td>0.552877</td>\n",
       "      <td>0.352113</td>\n",
       "      <td>0.412303</td>\n",
       "      <td>0.292696</td>\n",
       "    </tr>\n",
       "    <tr>\n",
       "      <th>3</th>\n",
       "      <td>A</td>\n",
       "      <td>K</td>\n",
       "      <td>A</td>\n",
       "      <td>C</td>\n",
       "      <td>E</td>\n",
       "      <td>BI</td>\n",
       "      <td>A</td>\n",
       "      <td>Y</td>\n",
       "      <td>AD</td>\n",
       "      <td>F</td>\n",
       "      <td>...</td>\n",
       "      <td>D</td>\n",
       "      <td>B</td>\n",
       "      <td>0.934242</td>\n",
       "      <td>0.707663</td>\n",
       "      <td>0.807807</td>\n",
       "      <td>0.800032</td>\n",
       "      <td>0.619147</td>\n",
       "      <td>0.221789</td>\n",
       "      <td>0.633669</td>\n",
       "      <td>0.760318</td>\n",
       "    </tr>\n",
       "    <tr>\n",
       "      <th>4</th>\n",
       "      <td>A</td>\n",
       "      <td>I</td>\n",
       "      <td>G</td>\n",
       "      <td>B</td>\n",
       "      <td>E</td>\n",
       "      <td>BI</td>\n",
       "      <td>C</td>\n",
       "      <td>G</td>\n",
       "      <td>Q</td>\n",
       "      <td>A</td>\n",
       "      <td>...</td>\n",
       "      <td>D</td>\n",
       "      <td>B</td>\n",
       "      <td>0.254427</td>\n",
       "      <td>0.274514</td>\n",
       "      <td>0.277308</td>\n",
       "      <td>0.610578</td>\n",
       "      <td>0.128291</td>\n",
       "      <td>0.578764</td>\n",
       "      <td>0.351103</td>\n",
       "      <td>0.357084</td>\n",
       "    </tr>\n",
       "    <tr>\n",
       "      <th>...</th>\n",
       "      <td>...</td>\n",
       "      <td>...</td>\n",
       "      <td>...</td>\n",
       "      <td>...</td>\n",
       "      <td>...</td>\n",
       "      <td>...</td>\n",
       "      <td>...</td>\n",
       "      <td>...</td>\n",
       "      <td>...</td>\n",
       "      <td>...</td>\n",
       "      <td>...</td>\n",
       "      <td>...</td>\n",
       "      <td>...</td>\n",
       "      <td>...</td>\n",
       "      <td>...</td>\n",
       "      <td>...</td>\n",
       "      <td>...</td>\n",
       "      <td>...</td>\n",
       "      <td>...</td>\n",
       "      <td>...</td>\n",
       "      <td>...</td>\n",
       "    </tr>\n",
       "    <tr>\n",
       "      <th>299995</th>\n",
       "      <td>A</td>\n",
       "      <td>N</td>\n",
       "      <td>F</td>\n",
       "      <td>A</td>\n",
       "      <td>E</td>\n",
       "      <td>BU</td>\n",
       "      <td>A</td>\n",
       "      <td>AS</td>\n",
       "      <td>K</td>\n",
       "      <td>A</td>\n",
       "      <td>...</td>\n",
       "      <td>D</td>\n",
       "      <td>B</td>\n",
       "      <td>0.681700</td>\n",
       "      <td>0.500730</td>\n",
       "      <td>0.671927</td>\n",
       "      <td>0.390566</td>\n",
       "      <td>0.145840</td>\n",
       "      <td>0.262767</td>\n",
       "      <td>0.519340</td>\n",
       "      <td>0.617436</td>\n",
       "    </tr>\n",
       "    <tr>\n",
       "      <th>299996</th>\n",
       "      <td>A</td>\n",
       "      <td>K</td>\n",
       "      <td>A</td>\n",
       "      <td>A</td>\n",
       "      <td>G</td>\n",
       "      <td>BI</td>\n",
       "      <td>A</td>\n",
       "      <td>K</td>\n",
       "      <td>AE</td>\n",
       "      <td>E</td>\n",
       "      <td>...</td>\n",
       "      <td>D</td>\n",
       "      <td>B</td>\n",
       "      <td>0.489226</td>\n",
       "      <td>0.790664</td>\n",
       "      <td>0.620356</td>\n",
       "      <td>0.384891</td>\n",
       "      <td>0.735879</td>\n",
       "      <td>0.547731</td>\n",
       "      <td>0.470575</td>\n",
       "      <td>0.275743</td>\n",
       "    </tr>\n",
       "    <tr>\n",
       "      <th>299997</th>\n",
       "      <td>A</td>\n",
       "      <td>G</td>\n",
       "      <td>M</td>\n",
       "      <td>A</td>\n",
       "      <td>H</td>\n",
       "      <td>BI</td>\n",
       "      <td>C</td>\n",
       "      <td>L</td>\n",
       "      <td>F</td>\n",
       "      <td>A</td>\n",
       "      <td>...</td>\n",
       "      <td>D</td>\n",
       "      <td>D</td>\n",
       "      <td>0.487882</td>\n",
       "      <td>0.522347</td>\n",
       "      <td>0.232436</td>\n",
       "      <td>0.832482</td>\n",
       "      <td>0.810663</td>\n",
       "      <td>0.596939</td>\n",
       "      <td>0.373997</td>\n",
       "      <td>0.518024</td>\n",
       "    </tr>\n",
       "    <tr>\n",
       "      <th>299998</th>\n",
       "      <td>B</td>\n",
       "      <td>H</td>\n",
       "      <td>A</td>\n",
       "      <td>D</td>\n",
       "      <td>B</td>\n",
       "      <td>BI</td>\n",
       "      <td>A</td>\n",
       "      <td>AA</td>\n",
       "      <td>AX</td>\n",
       "      <td>A</td>\n",
       "      <td>...</td>\n",
       "      <td>D</td>\n",
       "      <td>A</td>\n",
       "      <td>0.331900</td>\n",
       "      <td>0.812891</td>\n",
       "      <td>0.630708</td>\n",
       "      <td>0.346898</td>\n",
       "      <td>0.735147</td>\n",
       "      <td>0.563488</td>\n",
       "      <td>0.680430</td>\n",
       "      <td>0.318453</td>\n",
       "    </tr>\n",
       "    <tr>\n",
       "      <th>299999</th>\n",
       "      <td>A</td>\n",
       "      <td>F</td>\n",
       "      <td>C</td>\n",
       "      <td>A</td>\n",
       "      <td>E</td>\n",
       "      <td>BI</td>\n",
       "      <td>C</td>\n",
       "      <td>AV</td>\n",
       "      <td>S</td>\n",
       "      <td>A</td>\n",
       "      <td>...</td>\n",
       "      <td>D</td>\n",
       "      <td>B</td>\n",
       "      <td>0.822600</td>\n",
       "      <td>0.819735</td>\n",
       "      <td>0.848696</td>\n",
       "      <td>0.819377</td>\n",
       "      <td>0.355467</td>\n",
       "      <td>0.218153</td>\n",
       "      <td>0.823655</td>\n",
       "      <td>0.330515</td>\n",
       "    </tr>\n",
       "  </tbody>\n",
       "</table>\n",
       "<p>300000 rows × 27 columns</p>\n",
       "</div>"
      ],
      "text/plain": [
       "       cat0 cat1 cat2 cat3 cat4 cat5 cat6 cat7 cat8 cat9  ... cat17 cat18  \\\n",
       "0         A    I    A    B    B   BI    A    S    Q    A  ...     D     B   \n",
       "1         A    I    A    A    E   BI    K    W   AD    F  ...     D     B   \n",
       "2         A    K    A    A    E   BI    A    E   BM    L  ...     D     B   \n",
       "3         A    K    A    C    E   BI    A    Y   AD    F  ...     D     B   \n",
       "4         A    I    G    B    E   BI    C    G    Q    A  ...     D     B   \n",
       "...     ...  ...  ...  ...  ...  ...  ...  ...  ...  ...  ...   ...   ...   \n",
       "299995    A    N    F    A    E   BU    A   AS    K    A  ...     D     B   \n",
       "299996    A    K    A    A    G   BI    A    K   AE    E  ...     D     B   \n",
       "299997    A    G    M    A    H   BI    C    L    F    A  ...     D     D   \n",
       "299998    B    H    A    D    B   BI    A   AA   AX    A  ...     D     A   \n",
       "299999    A    F    C    A    E   BI    C   AV    S    A  ...     D     B   \n",
       "\n",
       "           cont0     cont1     cont3     cont4     cont5     cont6     cont8  \\\n",
       "0       0.629858  0.855349  0.795549  0.681917  0.621672  0.592184  0.815254   \n",
       "1       0.370727  0.328929  0.541366  0.388982  0.357778  0.600044  0.399353   \n",
       "2       0.502272  0.322749  0.616352  0.793687  0.552877  0.352113  0.412303   \n",
       "3       0.934242  0.707663  0.807807  0.800032  0.619147  0.221789  0.633669   \n",
       "4       0.254427  0.274514  0.277308  0.610578  0.128291  0.578764  0.351103   \n",
       "...          ...       ...       ...       ...       ...       ...       ...   \n",
       "299995  0.681700  0.500730  0.671927  0.390566  0.145840  0.262767  0.519340   \n",
       "299996  0.489226  0.790664  0.620356  0.384891  0.735879  0.547731  0.470575   \n",
       "299997  0.487882  0.522347  0.232436  0.832482  0.810663  0.596939  0.373997   \n",
       "299998  0.331900  0.812891  0.630708  0.346898  0.735147  0.563488  0.680430   \n",
       "299999  0.822600  0.819735  0.848696  0.819377  0.355467  0.218153  0.823655   \n",
       "\n",
       "           cont9  \n",
       "0       0.965006  \n",
       "1       0.927406  \n",
       "2       0.292696  \n",
       "3       0.760318  \n",
       "4       0.357084  \n",
       "...          ...  \n",
       "299995  0.617436  \n",
       "299996  0.275743  \n",
       "299997  0.518024  \n",
       "299998  0.318453  \n",
       "299999  0.330515  \n",
       "\n",
       "[300000 rows x 27 columns]"
      ]
     },
     "execution_count": 26,
     "metadata": {},
     "output_type": "execute_result"
    }
   ],
   "source": [
    "X_train"
   ]
  },
  {
   "cell_type": "markdown",
   "id": "married-vampire",
   "metadata": {
    "ExecuteTime": {
     "end_time": "2021-03-27T18:17:00.087027Z",
     "start_time": "2021-03-27T18:17:00.083382Z"
    }
   },
   "source": [
    "### Categorical Feature Reduction "
   ]
  },
  {
   "cell_type": "code",
   "execution_count": 27,
   "id": "overall-miniature",
   "metadata": {
    "ExecuteTime": {
     "end_time": "2021-03-27T18:36:42.445772Z",
     "start_time": "2021-03-27T18:36:42.384353Z"
    }
   },
   "outputs": [
    {
     "name": "stdout",
     "output_type": "stream",
     "text": [
      "DJ    31584\n",
      "HK    30998\n",
      "DP    23679\n",
      "GS    16619\n",
      "CR    14382\n",
      "      ...  \n",
      "IL        1\n",
      "BA        1\n",
      "MR        1\n",
      "GG        1\n",
      "MK        1\n",
      "Name: cat10, Length: 299, dtype: int64\n"
     ]
    }
   ],
   "source": [
    "# count different values/levels\n",
    "cat10_freq = X_train.cat10.value_counts()\n",
    "print(cat10_freq)"
   ]
  },
  {
   "cell_type": "code",
   "execution_count": 28,
   "id": "meaningful-permission",
   "metadata": {
    "ExecuteTime": {
     "end_time": "2021-03-27T18:36:42.767778Z",
     "start_time": "2021-03-27T18:36:42.449326Z"
    },
    "scrolled": true
   },
   "outputs": [
    {
     "data": {
      "image/png": "[encoded data removed]",
      "text/plain": [
       "<Figure size 864x288 with 1 Axes>"
      ]
     },
     "metadata": {
      "needs_background": "light"
     },
     "output_type": "display_data"
    }
   ],
   "source": [
    "# and plot frequency distribution using log scale\n",
    "fig, ax = plt.subplots(figsize=(12,4))\n",
    "ax.plot(np.log10(cat10_freq))\n",
    "ax.xaxis.set_major_locator(plt.MaxNLocator(20)) # reduce number of x-axis labels\n",
    "plt.title('cat10 - Frequencies')\n",
    "plt.ylabel('log10(Frequency)')\n",
    "plt.grid()\n",
    "plt.show()"
   ]
  },
  {
   "cell_type": "code",
   "execution_count": 29,
   "id": "heard-template",
   "metadata": {
    "ExecuteTime": {
     "end_time": "2021-03-27T18:36:43.149703Z",
     "start_time": "2021-03-27T18:36:42.770794Z"
    },
    "scrolled": true
   },
   "outputs": [
    {
     "data": {
      "image/png": "[encoded data removed]",
      "text/plain": [
       "<Figure size 864x432 with 1 Axes>"
      ]
     },
     "metadata": {
      "needs_background": "light"
     },
     "output_type": "display_data"
    }
   ],
   "source": [
    "# evaluate mean of target by level\n",
    "cat10_target = data_train.groupby(['cat10']).agg({\n",
    "    'target' : ['mean','count']})\n",
    "# ... and sort by frequency of level\n",
    "cat10_target = cat10_target.sort_values([('target','count')], ascending=False)\n",
    "\n",
    "# plot mean of target by level; bubble area ~ frequency\n",
    "fig, ax = plt.subplots(figsize=(12,6))\n",
    "ax.scatter(cat10_target.index, cat10_target[('target','mean')],\n",
    "           s=2*np.sqrt(cat10_target[('target','count')]),\n",
    "           alpha = 0.5)\n",
    "ax.xaxis.set_major_locator(plt.MaxNLocator(20)) # reduce number of x-axis labels\n",
    "plt.title('cat10 - Average target by level (bubble area ~ frequency)')\n",
    "plt.grid()\n",
    "plt.show()"
   ]
  },
  {
   "cell_type": "code",
   "execution_count": 30,
   "id": "entertaining-explosion",
   "metadata": {
    "ExecuteTime": {
     "end_time": "2021-03-27T18:36:43.160833Z",
     "start_time": "2021-03-27T18:36:43.153397Z"
    },
    "scrolled": true
   },
   "outputs": [
    {
     "name": "stdout",
     "output_type": "stream",
     "text": [
      "['DJ', 'HK', 'DP', 'GS', 'CR', 'HX', 'CK', 'DC', 'HQ', 'MD', 'LN', 'LF', 'IE', 'LM', 'KW', 'HG', 'IG', 'HB', 'DF', 'LB', 'HV', 'LO', 'HC', 'HJ', 'EK', 'GC', 'LY', 'GE', 'GK', 'CS', 'MJ', 'HH', 'CD', 'MC', 'HA', 'GQ', 'LI', 'KB', 'GI', 'JW', 'CB', 'JR', 'FR', 'R', 'JG', 'AV', 'GU', 'CU', 'FS', 'HL', 'BY', 'JD', 'FN', 'IJ', 'HN', 'MG', 'JK', 'MB', 'KV', 'BF', 'LV', 'EQ', 'BV', 'IX', 'AD', 'EV', 'V', 'DI', 'JX', 'IK', 'BM', 'KC', 'IA', 'BL', 'JT', 'FI', 'FC', 'CC', 'I', 'DO', 'HO', 'MT', 'AU', 'JH', 'J', 'JO', 'P', 'BC', 'AP', 'EY', 'MH', 'IV', 'LU', 'DY', 'BI', 'AE', 'LW', 'FO', 'FP', 'BP', 'T', 'AA', 'AN', 'KX', 'IO', 'LE', 'AB', 'GA', 'JP', 'LX', 'IR', 'AT', 'E', 'O', 'KF', 'AH', 'JN', 'DQ', 'FL', 'FT', 'LQ', 'JI', 'D', 'KS', 'GB', 'FJ', 'IB', 'MF', 'W', 'C', 'AS', 'BB', 'KH', 'JY', 'G', 'DV', 'JA', 'AR', 'KL', 'BG', 'FM', 'HE', 'EI', 'FK', 'AY', 'IT', 'EL', 'AM', 'MV', 'BT']\n"
     ]
    }
   ],
   "source": [
    "# let's give it a try: define levels to be kept\n",
    "n_keep = 150\n",
    "cat10_keep = cat10_freq[0:n_keep].index.tolist()\n",
    "print(cat10_keep)"
   ]
  },
  {
   "cell_type": "code",
   "execution_count": 31,
   "id": "clean-assumption",
   "metadata": {
    "ExecuteTime": {
     "end_time": "2021-03-27T18:36:43.276625Z",
     "start_time": "2021-03-27T18:36:43.167003Z"
    },
    "scrolled": true
   },
   "outputs": [
    {
     "data": {
      "text/plain": [
       "DJ    31584\n",
       "HK    30998\n",
       "DP    23679\n",
       "GS    16619\n",
       "CR    14382\n",
       "      ...  \n",
       "EL      156\n",
       "AM      156\n",
       "IT      156\n",
       "MV      154\n",
       "BT      150\n",
       "Name: cat10_reduced, Length: 151, dtype: int64"
      ]
     },
     "execution_count": 31,
     "metadata": {},
     "output_type": "execute_result"
    }
   ],
   "source": [
    "# add new column with reduced number of levels\n",
    "X_train['cat10_reduced'] = X_train.cat10.where(X_train.cat10.isin(cat10_keep), '_OTHER_')\n",
    "X_train.cat10_reduced.value_counts()"
   ]
  },
  {
   "cell_type": "code",
   "execution_count": 32,
   "id": "presidential-dividend",
   "metadata": {
    "ExecuteTime": {
     "end_time": "2021-03-27T18:36:43.411336Z",
     "start_time": "2021-03-27T18:36:43.280106Z"
    },
    "scrolled": true
   },
   "outputs": [
    {
     "data": {
      "text/plain": [
       "_OTHER_    5106\n",
       "Name: cat10_reduced, dtype: int64"
      ]
     },
     "execution_count": 32,
     "metadata": {},
     "output_type": "execute_result"
    }
   ],
   "source": [
    "X_train[X_train.cat10_reduced=='_OTHER_'].cat10_reduced.value_counts()"
   ]
  },
  {
   "cell_type": "code",
   "execution_count": 33,
   "id": "approved-modification",
   "metadata": {
    "ExecuteTime": {
     "end_time": "2021-03-27T18:36:43.477858Z",
     "start_time": "2021-03-27T18:36:43.414536Z"
    },
    "scrolled": true
   },
   "outputs": [
    {
     "data": {
      "text/plain": [
       "DJ    21166\n",
       "HK    20559\n",
       "DP    15732\n",
       "GS    10992\n",
       "CR     9559\n",
       "      ...  \n",
       "AY      102\n",
       "IT      100\n",
       "MV       90\n",
       "BT       89\n",
       "AM       87\n",
       "Name: cat10_reduced, Length: 151, dtype: int64"
      ]
     },
     "execution_count": 33,
     "metadata": {},
     "output_type": "execute_result"
    }
   ],
   "source": [
    "# same for test set!\n",
    "data_test['cat10_reduced'] = data_test.cat10.where(data_test.cat10.isin(cat10_keep), '_OTHER_')\n",
    "data_test.cat10_reduced.value_counts()"
   ]
  },
  {
   "cell_type": "code",
   "execution_count": 34,
   "id": "dietary-fitting",
   "metadata": {
    "ExecuteTime": {
     "end_time": "2021-03-27T18:36:43.488304Z",
     "start_time": "2021-03-27T18:36:43.481745Z"
    }
   },
   "outputs": [],
   "source": [
    "cat_cols = ['cat0', 'cat1', 'cat2', 'cat3',\n",
    "                'cat4', 'cat5', 'cat6', 'cat7',\n",
    "                'cat8', 'cat9', 'cat10_reduced', 'cat11',\n",
    "                'cat12', 'cat13', 'cat14', 'cat15',\n",
    "                'cat16', 'cat17', 'cat18']"
   ]
  },
  {
   "cell_type": "markdown",
   "id": "raised-bobby",
   "metadata": {
    "ExecuteTime": {
     "end_time": "2021-03-18T11:55:58.238588Z",
     "start_time": "2021-03-18T11:55:58.008960Z"
    }
   },
   "source": [
    "## Preprocessing"
   ]
  },
  {
   "cell_type": "markdown",
   "id": "unknown-launch",
   "metadata": {
    "ExecuteTime": {
     "end_time": "2021-03-27T18:17:24.382791Z",
     "start_time": "2021-03-27T18:17:24.378992Z"
    }
   },
   "source": [
    "### One Hot Encoding"
   ]
  },
  {
   "cell_type": "code",
   "execution_count": 35,
   "id": "official-message",
   "metadata": {
    "ExecuteTime": {
     "end_time": "2021-03-27T18:36:43.806677Z",
     "start_time": "2021-03-27T18:36:43.493477Z"
    }
   },
   "outputs": [],
   "source": [
    "from sklearn.preprocessing import OneHotEncoder"
   ]
  },
  {
   "cell_type": "code",
   "execution_count": 36,
   "id": "weekly-programming",
   "metadata": {
    "ExecuteTime": {
     "end_time": "2021-03-27T18:36:43.967914Z",
     "start_time": "2021-03-27T18:36:43.811719Z"
    }
   },
   "outputs": [
    {
     "data": {
      "text/html": [
       "<div>\n",
       "<style scoped>\n",
       "    .dataframe tbody tr th:only-of-type {\n",
       "        vertical-align: middle;\n",
       "    }\n",
       "\n",
       "    .dataframe tbody tr th {\n",
       "        vertical-align: top;\n",
       "    }\n",
       "\n",
       "    .dataframe thead th {\n",
       "        text-align: right;\n",
       "    }\n",
       "</style>\n",
       "<table border=\"1\" class=\"dataframe\">\n",
       "  <thead>\n",
       "    <tr style=\"text-align: right;\">\n",
       "      <th></th>\n",
       "      <th>cat0</th>\n",
       "      <th>cat1</th>\n",
       "      <th>cat2</th>\n",
       "      <th>cat3</th>\n",
       "      <th>cat4</th>\n",
       "      <th>cat5</th>\n",
       "      <th>cat6</th>\n",
       "      <th>cat7</th>\n",
       "      <th>cat8</th>\n",
       "      <th>cat9</th>\n",
       "      <th>cat10_reduced</th>\n",
       "      <th>cat11</th>\n",
       "      <th>cat12</th>\n",
       "      <th>cat13</th>\n",
       "      <th>cat14</th>\n",
       "      <th>cat15</th>\n",
       "      <th>cat16</th>\n",
       "      <th>cat17</th>\n",
       "      <th>cat18</th>\n",
       "    </tr>\n",
       "  </thead>\n",
       "  <tbody>\n",
       "    <tr>\n",
       "      <th>0</th>\n",
       "      <td>A</td>\n",
       "      <td>I</td>\n",
       "      <td>A</td>\n",
       "      <td>B</td>\n",
       "      <td>B</td>\n",
       "      <td>BI</td>\n",
       "      <td>A</td>\n",
       "      <td>S</td>\n",
       "      <td>Q</td>\n",
       "      <td>A</td>\n",
       "      <td>LO</td>\n",
       "      <td>A</td>\n",
       "      <td>A</td>\n",
       "      <td>A</td>\n",
       "      <td>A</td>\n",
       "      <td>B</td>\n",
       "      <td>D</td>\n",
       "      <td>D</td>\n",
       "      <td>B</td>\n",
       "    </tr>\n",
       "    <tr>\n",
       "      <th>1</th>\n",
       "      <td>A</td>\n",
       "      <td>I</td>\n",
       "      <td>A</td>\n",
       "      <td>A</td>\n",
       "      <td>E</td>\n",
       "      <td>BI</td>\n",
       "      <td>K</td>\n",
       "      <td>W</td>\n",
       "      <td>AD</td>\n",
       "      <td>F</td>\n",
       "      <td>HJ</td>\n",
       "      <td>A</td>\n",
       "      <td>B</td>\n",
       "      <td>A</td>\n",
       "      <td>B</td>\n",
       "      <td>D</td>\n",
       "      <td>B</td>\n",
       "      <td>D</td>\n",
       "      <td>B</td>\n",
       "    </tr>\n",
       "    <tr>\n",
       "      <th>2</th>\n",
       "      <td>A</td>\n",
       "      <td>K</td>\n",
       "      <td>A</td>\n",
       "      <td>A</td>\n",
       "      <td>E</td>\n",
       "      <td>BI</td>\n",
       "      <td>A</td>\n",
       "      <td>E</td>\n",
       "      <td>BM</td>\n",
       "      <td>L</td>\n",
       "      <td>DJ</td>\n",
       "      <td>A</td>\n",
       "      <td>B</td>\n",
       "      <td>A</td>\n",
       "      <td>A</td>\n",
       "      <td>B</td>\n",
       "      <td>D</td>\n",
       "      <td>D</td>\n",
       "      <td>B</td>\n",
       "    </tr>\n",
       "    <tr>\n",
       "      <th>3</th>\n",
       "      <td>A</td>\n",
       "      <td>K</td>\n",
       "      <td>A</td>\n",
       "      <td>C</td>\n",
       "      <td>E</td>\n",
       "      <td>BI</td>\n",
       "      <td>A</td>\n",
       "      <td>Y</td>\n",
       "      <td>AD</td>\n",
       "      <td>F</td>\n",
       "      <td>KV</td>\n",
       "      <td>A</td>\n",
       "      <td>A</td>\n",
       "      <td>A</td>\n",
       "      <td>A</td>\n",
       "      <td>B</td>\n",
       "      <td>D</td>\n",
       "      <td>D</td>\n",
       "      <td>B</td>\n",
       "    </tr>\n",
       "    <tr>\n",
       "      <th>4</th>\n",
       "      <td>A</td>\n",
       "      <td>I</td>\n",
       "      <td>G</td>\n",
       "      <td>B</td>\n",
       "      <td>E</td>\n",
       "      <td>BI</td>\n",
       "      <td>C</td>\n",
       "      <td>G</td>\n",
       "      <td>Q</td>\n",
       "      <td>A</td>\n",
       "      <td>DP</td>\n",
       "      <td>A</td>\n",
       "      <td>A</td>\n",
       "      <td>A</td>\n",
       "      <td>B</td>\n",
       "      <td>B</td>\n",
       "      <td>B</td>\n",
       "      <td>D</td>\n",
       "      <td>B</td>\n",
       "    </tr>\n",
       "    <tr>\n",
       "      <th>...</th>\n",
       "      <td>...</td>\n",
       "      <td>...</td>\n",
       "      <td>...</td>\n",
       "      <td>...</td>\n",
       "      <td>...</td>\n",
       "      <td>...</td>\n",
       "      <td>...</td>\n",
       "      <td>...</td>\n",
       "      <td>...</td>\n",
       "      <td>...</td>\n",
       "      <td>...</td>\n",
       "      <td>...</td>\n",
       "      <td>...</td>\n",
       "      <td>...</td>\n",
       "      <td>...</td>\n",
       "      <td>...</td>\n",
       "      <td>...</td>\n",
       "      <td>...</td>\n",
       "      <td>...</td>\n",
       "    </tr>\n",
       "    <tr>\n",
       "      <th>299995</th>\n",
       "      <td>A</td>\n",
       "      <td>N</td>\n",
       "      <td>F</td>\n",
       "      <td>A</td>\n",
       "      <td>E</td>\n",
       "      <td>BU</td>\n",
       "      <td>A</td>\n",
       "      <td>AS</td>\n",
       "      <td>K</td>\n",
       "      <td>A</td>\n",
       "      <td>HG</td>\n",
       "      <td>A</td>\n",
       "      <td>A</td>\n",
       "      <td>A</td>\n",
       "      <td>B</td>\n",
       "      <td>D</td>\n",
       "      <td>B</td>\n",
       "      <td>D</td>\n",
       "      <td>B</td>\n",
       "    </tr>\n",
       "    <tr>\n",
       "      <th>299996</th>\n",
       "      <td>A</td>\n",
       "      <td>K</td>\n",
       "      <td>A</td>\n",
       "      <td>A</td>\n",
       "      <td>G</td>\n",
       "      <td>BI</td>\n",
       "      <td>A</td>\n",
       "      <td>K</td>\n",
       "      <td>AE</td>\n",
       "      <td>E</td>\n",
       "      <td>HK</td>\n",
       "      <td>A</td>\n",
       "      <td>B</td>\n",
       "      <td>A</td>\n",
       "      <td>B</td>\n",
       "      <td>B</td>\n",
       "      <td>D</td>\n",
       "      <td>D</td>\n",
       "      <td>B</td>\n",
       "    </tr>\n",
       "    <tr>\n",
       "      <th>299997</th>\n",
       "      <td>A</td>\n",
       "      <td>G</td>\n",
       "      <td>M</td>\n",
       "      <td>A</td>\n",
       "      <td>H</td>\n",
       "      <td>BI</td>\n",
       "      <td>C</td>\n",
       "      <td>L</td>\n",
       "      <td>F</td>\n",
       "      <td>A</td>\n",
       "      <td>HC</td>\n",
       "      <td>B</td>\n",
       "      <td>A</td>\n",
       "      <td>A</td>\n",
       "      <td>B</td>\n",
       "      <td>D</td>\n",
       "      <td>B</td>\n",
       "      <td>D</td>\n",
       "      <td>D</td>\n",
       "    </tr>\n",
       "    <tr>\n",
       "      <th>299998</th>\n",
       "      <td>B</td>\n",
       "      <td>H</td>\n",
       "      <td>A</td>\n",
       "      <td>D</td>\n",
       "      <td>B</td>\n",
       "      <td>BI</td>\n",
       "      <td>A</td>\n",
       "      <td>AA</td>\n",
       "      <td>AX</td>\n",
       "      <td>A</td>\n",
       "      <td>BF</td>\n",
       "      <td>A</td>\n",
       "      <td>A</td>\n",
       "      <td>A</td>\n",
       "      <td>A</td>\n",
       "      <td>B</td>\n",
       "      <td>A</td>\n",
       "      <td>D</td>\n",
       "      <td>A</td>\n",
       "    </tr>\n",
       "    <tr>\n",
       "      <th>299999</th>\n",
       "      <td>A</td>\n",
       "      <td>F</td>\n",
       "      <td>C</td>\n",
       "      <td>A</td>\n",
       "      <td>E</td>\n",
       "      <td>BI</td>\n",
       "      <td>C</td>\n",
       "      <td>AV</td>\n",
       "      <td>S</td>\n",
       "      <td>A</td>\n",
       "      <td>LM</td>\n",
       "      <td>A</td>\n",
       "      <td>A</td>\n",
       "      <td>A</td>\n",
       "      <td>A</td>\n",
       "      <td>B</td>\n",
       "      <td>D</td>\n",
       "      <td>D</td>\n",
       "      <td>B</td>\n",
       "    </tr>\n",
       "  </tbody>\n",
       "</table>\n",
       "<p>300000 rows × 19 columns</p>\n",
       "</div>"
      ],
      "text/plain": [
       "       cat0 cat1 cat2 cat3 cat4 cat5 cat6 cat7 cat8 cat9 cat10_reduced cat11  \\\n",
       "0         A    I    A    B    B   BI    A    S    Q    A            LO     A   \n",
       "1         A    I    A    A    E   BI    K    W   AD    F            HJ     A   \n",
       "2         A    K    A    A    E   BI    A    E   BM    L            DJ     A   \n",
       "3         A    K    A    C    E   BI    A    Y   AD    F            KV     A   \n",
       "4         A    I    G    B    E   BI    C    G    Q    A            DP     A   \n",
       "...     ...  ...  ...  ...  ...  ...  ...  ...  ...  ...           ...   ...   \n",
       "299995    A    N    F    A    E   BU    A   AS    K    A            HG     A   \n",
       "299996    A    K    A    A    G   BI    A    K   AE    E            HK     A   \n",
       "299997    A    G    M    A    H   BI    C    L    F    A            HC     B   \n",
       "299998    B    H    A    D    B   BI    A   AA   AX    A            BF     A   \n",
       "299999    A    F    C    A    E   BI    C   AV    S    A            LM     A   \n",
       "\n",
       "       cat12 cat13 cat14 cat15 cat16 cat17 cat18  \n",
       "0          A     A     A     B     D     D     B  \n",
       "1          B     A     B     D     B     D     B  \n",
       "2          B     A     A     B     D     D     B  \n",
       "3          A     A     A     B     D     D     B  \n",
       "4          A     A     B     B     B     D     B  \n",
       "...      ...   ...   ...   ...   ...   ...   ...  \n",
       "299995     A     A     B     D     B     D     B  \n",
       "299996     B     A     B     B     D     D     B  \n",
       "299997     A     A     B     D     B     D     D  \n",
       "299998     A     A     A     B     A     D     A  \n",
       "299999     A     A     A     B     D     D     B  \n",
       "\n",
       "[300000 rows x 19 columns]"
      ]
     },
     "execution_count": 36,
     "metadata": {},
     "output_type": "execute_result"
    }
   ],
   "source": [
    "X_train[cat_cols]"
   ]
  },
  {
   "cell_type": "code",
   "execution_count": 37,
   "id": "outdoor-filling",
   "metadata": {
    "ExecuteTime": {
     "end_time": "2021-03-27T18:36:43.994980Z",
     "start_time": "2021-03-27T18:36:43.978848Z"
    }
   },
   "outputs": [],
   "source": [
    "# Encode categorical variables\n",
    "def one_hot_encoding(X):\n",
    "    ohe = OneHotEncoder(handle_unknown='ignore')\n",
    "    ohe.fit(X[cat_cols])\n",
    "    return pd.DataFrame(ohe.transform(X).toarray())"
   ]
  },
  {
   "cell_type": "code",
   "execution_count": 38,
   "id": "assured-obligation",
   "metadata": {
    "ExecuteTime": {
     "end_time": "2021-03-27T18:36:45.926353Z",
     "start_time": "2021-03-27T18:36:43.998992Z"
    }
   },
   "outputs": [],
   "source": [
    "X_cat_ohe = one_hot_encoding(X_train[cat_cols])"
   ]
  },
  {
   "cell_type": "code",
   "execution_count": 39,
   "id": "medieval-subdivision",
   "metadata": {
    "ExecuteTime": {
     "end_time": "2021-03-27T18:36:46.284940Z",
     "start_time": "2021-03-27T18:36:45.929014Z"
    }
   },
   "outputs": [
    {
     "data": {
      "text/html": [
       "<div>\n",
       "<style scoped>\n",
       "    .dataframe tbody tr th:only-of-type {\n",
       "        vertical-align: middle;\n",
       "    }\n",
       "\n",
       "    .dataframe tbody tr th {\n",
       "        vertical-align: top;\n",
       "    }\n",
       "\n",
       "    .dataframe thead th {\n",
       "        text-align: right;\n",
       "    }\n",
       "</style>\n",
       "<table border=\"1\" class=\"dataframe\">\n",
       "  <thead>\n",
       "    <tr style=\"text-align: right;\">\n",
       "      <th></th>\n",
       "      <th>0</th>\n",
       "      <th>1</th>\n",
       "      <th>2</th>\n",
       "      <th>3</th>\n",
       "      <th>4</th>\n",
       "      <th>5</th>\n",
       "      <th>6</th>\n",
       "      <th>7</th>\n",
       "      <th>8</th>\n",
       "      <th>9</th>\n",
       "      <th>...</th>\n",
       "      <th>465</th>\n",
       "      <th>466</th>\n",
       "      <th>467</th>\n",
       "      <th>468</th>\n",
       "      <th>469</th>\n",
       "      <th>470</th>\n",
       "      <th>471</th>\n",
       "      <th>472</th>\n",
       "      <th>473</th>\n",
       "      <th>474</th>\n",
       "    </tr>\n",
       "  </thead>\n",
       "  <tbody>\n",
       "    <tr>\n",
       "      <th>0</th>\n",
       "      <td>1.0</td>\n",
       "      <td>0.0</td>\n",
       "      <td>0.0</td>\n",
       "      <td>0.0</td>\n",
       "      <td>0.0</td>\n",
       "      <td>0.0</td>\n",
       "      <td>0.0</td>\n",
       "      <td>0.0</td>\n",
       "      <td>0.0</td>\n",
       "      <td>0.0</td>\n",
       "      <td>...</td>\n",
       "      <td>0.0</td>\n",
       "      <td>1.0</td>\n",
       "      <td>0.0</td>\n",
       "      <td>0.0</td>\n",
       "      <td>0.0</td>\n",
       "      <td>1.0</td>\n",
       "      <td>0.0</td>\n",
       "      <td>1.0</td>\n",
       "      <td>0.0</td>\n",
       "      <td>0.0</td>\n",
       "    </tr>\n",
       "    <tr>\n",
       "      <th>1</th>\n",
       "      <td>1.0</td>\n",
       "      <td>0.0</td>\n",
       "      <td>0.0</td>\n",
       "      <td>0.0</td>\n",
       "      <td>0.0</td>\n",
       "      <td>0.0</td>\n",
       "      <td>0.0</td>\n",
       "      <td>0.0</td>\n",
       "      <td>0.0</td>\n",
       "      <td>0.0</td>\n",
       "      <td>...</td>\n",
       "      <td>0.0</td>\n",
       "      <td>0.0</td>\n",
       "      <td>0.0</td>\n",
       "      <td>0.0</td>\n",
       "      <td>0.0</td>\n",
       "      <td>1.0</td>\n",
       "      <td>0.0</td>\n",
       "      <td>1.0</td>\n",
       "      <td>0.0</td>\n",
       "      <td>0.0</td>\n",
       "    </tr>\n",
       "    <tr>\n",
       "      <th>2</th>\n",
       "      <td>1.0</td>\n",
       "      <td>0.0</td>\n",
       "      <td>0.0</td>\n",
       "      <td>0.0</td>\n",
       "      <td>0.0</td>\n",
       "      <td>0.0</td>\n",
       "      <td>0.0</td>\n",
       "      <td>0.0</td>\n",
       "      <td>0.0</td>\n",
       "      <td>0.0</td>\n",
       "      <td>...</td>\n",
       "      <td>0.0</td>\n",
       "      <td>1.0</td>\n",
       "      <td>0.0</td>\n",
       "      <td>0.0</td>\n",
       "      <td>0.0</td>\n",
       "      <td>1.0</td>\n",
       "      <td>0.0</td>\n",
       "      <td>1.0</td>\n",
       "      <td>0.0</td>\n",
       "      <td>0.0</td>\n",
       "    </tr>\n",
       "    <tr>\n",
       "      <th>3</th>\n",
       "      <td>1.0</td>\n",
       "      <td>0.0</td>\n",
       "      <td>0.0</td>\n",
       "      <td>0.0</td>\n",
       "      <td>0.0</td>\n",
       "      <td>0.0</td>\n",
       "      <td>0.0</td>\n",
       "      <td>0.0</td>\n",
       "      <td>0.0</td>\n",
       "      <td>0.0</td>\n",
       "      <td>...</td>\n",
       "      <td>0.0</td>\n",
       "      <td>1.0</td>\n",
       "      <td>0.0</td>\n",
       "      <td>0.0</td>\n",
       "      <td>0.0</td>\n",
       "      <td>1.0</td>\n",
       "      <td>0.0</td>\n",
       "      <td>1.0</td>\n",
       "      <td>0.0</td>\n",
       "      <td>0.0</td>\n",
       "    </tr>\n",
       "    <tr>\n",
       "      <th>4</th>\n",
       "      <td>1.0</td>\n",
       "      <td>0.0</td>\n",
       "      <td>0.0</td>\n",
       "      <td>0.0</td>\n",
       "      <td>0.0</td>\n",
       "      <td>0.0</td>\n",
       "      <td>0.0</td>\n",
       "      <td>0.0</td>\n",
       "      <td>0.0</td>\n",
       "      <td>0.0</td>\n",
       "      <td>...</td>\n",
       "      <td>0.0</td>\n",
       "      <td>0.0</td>\n",
       "      <td>0.0</td>\n",
       "      <td>0.0</td>\n",
       "      <td>0.0</td>\n",
       "      <td>1.0</td>\n",
       "      <td>0.0</td>\n",
       "      <td>1.0</td>\n",
       "      <td>0.0</td>\n",
       "      <td>0.0</td>\n",
       "    </tr>\n",
       "    <tr>\n",
       "      <th>...</th>\n",
       "      <td>...</td>\n",
       "      <td>...</td>\n",
       "      <td>...</td>\n",
       "      <td>...</td>\n",
       "      <td>...</td>\n",
       "      <td>...</td>\n",
       "      <td>...</td>\n",
       "      <td>...</td>\n",
       "      <td>...</td>\n",
       "      <td>...</td>\n",
       "      <td>...</td>\n",
       "      <td>...</td>\n",
       "      <td>...</td>\n",
       "      <td>...</td>\n",
       "      <td>...</td>\n",
       "      <td>...</td>\n",
       "      <td>...</td>\n",
       "      <td>...</td>\n",
       "      <td>...</td>\n",
       "      <td>...</td>\n",
       "      <td>...</td>\n",
       "    </tr>\n",
       "    <tr>\n",
       "      <th>299995</th>\n",
       "      <td>1.0</td>\n",
       "      <td>0.0</td>\n",
       "      <td>0.0</td>\n",
       "      <td>0.0</td>\n",
       "      <td>0.0</td>\n",
       "      <td>0.0</td>\n",
       "      <td>0.0</td>\n",
       "      <td>0.0</td>\n",
       "      <td>0.0</td>\n",
       "      <td>0.0</td>\n",
       "      <td>...</td>\n",
       "      <td>0.0</td>\n",
       "      <td>0.0</td>\n",
       "      <td>0.0</td>\n",
       "      <td>0.0</td>\n",
       "      <td>0.0</td>\n",
       "      <td>1.0</td>\n",
       "      <td>0.0</td>\n",
       "      <td>1.0</td>\n",
       "      <td>0.0</td>\n",
       "      <td>0.0</td>\n",
       "    </tr>\n",
       "    <tr>\n",
       "      <th>299996</th>\n",
       "      <td>1.0</td>\n",
       "      <td>0.0</td>\n",
       "      <td>0.0</td>\n",
       "      <td>0.0</td>\n",
       "      <td>0.0</td>\n",
       "      <td>0.0</td>\n",
       "      <td>0.0</td>\n",
       "      <td>0.0</td>\n",
       "      <td>0.0</td>\n",
       "      <td>0.0</td>\n",
       "      <td>...</td>\n",
       "      <td>0.0</td>\n",
       "      <td>1.0</td>\n",
       "      <td>0.0</td>\n",
       "      <td>0.0</td>\n",
       "      <td>0.0</td>\n",
       "      <td>1.0</td>\n",
       "      <td>0.0</td>\n",
       "      <td>1.0</td>\n",
       "      <td>0.0</td>\n",
       "      <td>0.0</td>\n",
       "    </tr>\n",
       "    <tr>\n",
       "      <th>299997</th>\n",
       "      <td>1.0</td>\n",
       "      <td>0.0</td>\n",
       "      <td>0.0</td>\n",
       "      <td>0.0</td>\n",
       "      <td>0.0</td>\n",
       "      <td>0.0</td>\n",
       "      <td>0.0</td>\n",
       "      <td>0.0</td>\n",
       "      <td>1.0</td>\n",
       "      <td>0.0</td>\n",
       "      <td>...</td>\n",
       "      <td>0.0</td>\n",
       "      <td>0.0</td>\n",
       "      <td>0.0</td>\n",
       "      <td>0.0</td>\n",
       "      <td>0.0</td>\n",
       "      <td>1.0</td>\n",
       "      <td>0.0</td>\n",
       "      <td>0.0</td>\n",
       "      <td>0.0</td>\n",
       "      <td>1.0</td>\n",
       "    </tr>\n",
       "    <tr>\n",
       "      <th>299998</th>\n",
       "      <td>0.0</td>\n",
       "      <td>1.0</td>\n",
       "      <td>0.0</td>\n",
       "      <td>0.0</td>\n",
       "      <td>0.0</td>\n",
       "      <td>0.0</td>\n",
       "      <td>0.0</td>\n",
       "      <td>0.0</td>\n",
       "      <td>0.0</td>\n",
       "      <td>1.0</td>\n",
       "      <td>...</td>\n",
       "      <td>0.0</td>\n",
       "      <td>0.0</td>\n",
       "      <td>0.0</td>\n",
       "      <td>0.0</td>\n",
       "      <td>0.0</td>\n",
       "      <td>1.0</td>\n",
       "      <td>1.0</td>\n",
       "      <td>0.0</td>\n",
       "      <td>0.0</td>\n",
       "      <td>0.0</td>\n",
       "    </tr>\n",
       "    <tr>\n",
       "      <th>299999</th>\n",
       "      <td>1.0</td>\n",
       "      <td>0.0</td>\n",
       "      <td>0.0</td>\n",
       "      <td>0.0</td>\n",
       "      <td>0.0</td>\n",
       "      <td>0.0</td>\n",
       "      <td>0.0</td>\n",
       "      <td>1.0</td>\n",
       "      <td>0.0</td>\n",
       "      <td>0.0</td>\n",
       "      <td>...</td>\n",
       "      <td>0.0</td>\n",
       "      <td>1.0</td>\n",
       "      <td>0.0</td>\n",
       "      <td>0.0</td>\n",
       "      <td>0.0</td>\n",
       "      <td>1.0</td>\n",
       "      <td>0.0</td>\n",
       "      <td>1.0</td>\n",
       "      <td>0.0</td>\n",
       "      <td>0.0</td>\n",
       "    </tr>\n",
       "  </tbody>\n",
       "</table>\n",
       "<p>300000 rows × 475 columns</p>\n",
       "</div>"
      ],
      "text/plain": [
       "        0    1    2    3    4    5    6    7    8    9    ...  465  466  467  \\\n",
       "0       1.0  0.0  0.0  0.0  0.0  0.0  0.0  0.0  0.0  0.0  ...  0.0  1.0  0.0   \n",
       "1       1.0  0.0  0.0  0.0  0.0  0.0  0.0  0.0  0.0  0.0  ...  0.0  0.0  0.0   \n",
       "2       1.0  0.0  0.0  0.0  0.0  0.0  0.0  0.0  0.0  0.0  ...  0.0  1.0  0.0   \n",
       "3       1.0  0.0  0.0  0.0  0.0  0.0  0.0  0.0  0.0  0.0  ...  0.0  1.0  0.0   \n",
       "4       1.0  0.0  0.0  0.0  0.0  0.0  0.0  0.0  0.0  0.0  ...  0.0  0.0  0.0   \n",
       "...     ...  ...  ...  ...  ...  ...  ...  ...  ...  ...  ...  ...  ...  ...   \n",
       "299995  1.0  0.0  0.0  0.0  0.0  0.0  0.0  0.0  0.0  0.0  ...  0.0  0.0  0.0   \n",
       "299996  1.0  0.0  0.0  0.0  0.0  0.0  0.0  0.0  0.0  0.0  ...  0.0  1.0  0.0   \n",
       "299997  1.0  0.0  0.0  0.0  0.0  0.0  0.0  0.0  1.0  0.0  ...  0.0  0.0  0.0   \n",
       "299998  0.0  1.0  0.0  0.0  0.0  0.0  0.0  0.0  0.0  1.0  ...  0.0  0.0  0.0   \n",
       "299999  1.0  0.0  0.0  0.0  0.0  0.0  0.0  1.0  0.0  0.0  ...  0.0  1.0  0.0   \n",
       "\n",
       "        468  469  470  471  472  473  474  \n",
       "0       0.0  0.0  1.0  0.0  1.0  0.0  0.0  \n",
       "1       0.0  0.0  1.0  0.0  1.0  0.0  0.0  \n",
       "2       0.0  0.0  1.0  0.0  1.0  0.0  0.0  \n",
       "3       0.0  0.0  1.0  0.0  1.0  0.0  0.0  \n",
       "4       0.0  0.0  1.0  0.0  1.0  0.0  0.0  \n",
       "...     ...  ...  ...  ...  ...  ...  ...  \n",
       "299995  0.0  0.0  1.0  0.0  1.0  0.0  0.0  \n",
       "299996  0.0  0.0  1.0  0.0  1.0  0.0  0.0  \n",
       "299997  0.0  0.0  1.0  0.0  0.0  0.0  1.0  \n",
       "299998  0.0  0.0  1.0  1.0  0.0  0.0  0.0  \n",
       "299999  0.0  0.0  1.0  0.0  1.0  0.0  0.0  \n",
       "\n",
       "[300000 rows x 475 columns]"
      ]
     },
     "execution_count": 39,
     "metadata": {},
     "output_type": "execute_result"
    }
   ],
   "source": [
    "X_cat_ohe"
   ]
  },
  {
   "cell_type": "code",
   "execution_count": 40,
   "id": "false-watershed",
   "metadata": {
    "ExecuteTime": {
     "end_time": "2021-03-27T18:36:46.318523Z",
     "start_time": "2021-03-27T18:36:46.299598Z"
    }
   },
   "outputs": [
    {
     "data": {
      "text/plain": [
       "Index(['cont0', 'cont1', 'cont3', 'cont4', 'cont5', 'cont6', 'cont8', 'cont9'], dtype='object')"
      ]
     },
     "execution_count": 40,
     "metadata": {},
     "output_type": "execute_result"
    }
   ],
   "source": [
    "num_cols"
   ]
  },
  {
   "cell_type": "code",
   "execution_count": 41,
   "id": "verbal-cemetery",
   "metadata": {
    "ExecuteTime": {
     "end_time": "2021-03-27T18:36:46.652343Z",
     "start_time": "2021-03-27T18:36:46.322296Z"
    }
   },
   "outputs": [
    {
     "data": {
      "text/html": [
       "<div>\n",
       "<style scoped>\n",
       "    .dataframe tbody tr th:only-of-type {\n",
       "        vertical-align: middle;\n",
       "    }\n",
       "\n",
       "    .dataframe tbody tr th {\n",
       "        vertical-align: top;\n",
       "    }\n",
       "\n",
       "    .dataframe thead th {\n",
       "        text-align: right;\n",
       "    }\n",
       "</style>\n",
       "<table border=\"1\" class=\"dataframe\">\n",
       "  <thead>\n",
       "    <tr style=\"text-align: right;\">\n",
       "      <th></th>\n",
       "      <th>cat0</th>\n",
       "      <th>cat1</th>\n",
       "      <th>cat2</th>\n",
       "      <th>cat3</th>\n",
       "      <th>cat4</th>\n",
       "      <th>cat5</th>\n",
       "      <th>cat6</th>\n",
       "      <th>cat7</th>\n",
       "      <th>cat8</th>\n",
       "      <th>cat9</th>\n",
       "      <th>...</th>\n",
       "      <th>cat18</th>\n",
       "      <th>cont0</th>\n",
       "      <th>cont1</th>\n",
       "      <th>cont3</th>\n",
       "      <th>cont4</th>\n",
       "      <th>cont5</th>\n",
       "      <th>cont6</th>\n",
       "      <th>cont8</th>\n",
       "      <th>cont9</th>\n",
       "      <th>cat10_reduced</th>\n",
       "    </tr>\n",
       "  </thead>\n",
       "  <tbody>\n",
       "    <tr>\n",
       "      <th>0</th>\n",
       "      <td>A</td>\n",
       "      <td>I</td>\n",
       "      <td>A</td>\n",
       "      <td>B</td>\n",
       "      <td>B</td>\n",
       "      <td>BI</td>\n",
       "      <td>A</td>\n",
       "      <td>S</td>\n",
       "      <td>Q</td>\n",
       "      <td>A</td>\n",
       "      <td>...</td>\n",
       "      <td>B</td>\n",
       "      <td>0.629858</td>\n",
       "      <td>0.855349</td>\n",
       "      <td>0.795549</td>\n",
       "      <td>0.681917</td>\n",
       "      <td>0.621672</td>\n",
       "      <td>0.592184</td>\n",
       "      <td>0.815254</td>\n",
       "      <td>0.965006</td>\n",
       "      <td>LO</td>\n",
       "    </tr>\n",
       "    <tr>\n",
       "      <th>1</th>\n",
       "      <td>A</td>\n",
       "      <td>I</td>\n",
       "      <td>A</td>\n",
       "      <td>A</td>\n",
       "      <td>E</td>\n",
       "      <td>BI</td>\n",
       "      <td>K</td>\n",
       "      <td>W</td>\n",
       "      <td>AD</td>\n",
       "      <td>F</td>\n",
       "      <td>...</td>\n",
       "      <td>B</td>\n",
       "      <td>0.370727</td>\n",
       "      <td>0.328929</td>\n",
       "      <td>0.541366</td>\n",
       "      <td>0.388982</td>\n",
       "      <td>0.357778</td>\n",
       "      <td>0.600044</td>\n",
       "      <td>0.399353</td>\n",
       "      <td>0.927406</td>\n",
       "      <td>HJ</td>\n",
       "    </tr>\n",
       "    <tr>\n",
       "      <th>2</th>\n",
       "      <td>A</td>\n",
       "      <td>K</td>\n",
       "      <td>A</td>\n",
       "      <td>A</td>\n",
       "      <td>E</td>\n",
       "      <td>BI</td>\n",
       "      <td>A</td>\n",
       "      <td>E</td>\n",
       "      <td>BM</td>\n",
       "      <td>L</td>\n",
       "      <td>...</td>\n",
       "      <td>B</td>\n",
       "      <td>0.502272</td>\n",
       "      <td>0.322749</td>\n",
       "      <td>0.616352</td>\n",
       "      <td>0.793687</td>\n",
       "      <td>0.552877</td>\n",
       "      <td>0.352113</td>\n",
       "      <td>0.412303</td>\n",
       "      <td>0.292696</td>\n",
       "      <td>DJ</td>\n",
       "    </tr>\n",
       "    <tr>\n",
       "      <th>3</th>\n",
       "      <td>A</td>\n",
       "      <td>K</td>\n",
       "      <td>A</td>\n",
       "      <td>C</td>\n",
       "      <td>E</td>\n",
       "      <td>BI</td>\n",
       "      <td>A</td>\n",
       "      <td>Y</td>\n",
       "      <td>AD</td>\n",
       "      <td>F</td>\n",
       "      <td>...</td>\n",
       "      <td>B</td>\n",
       "      <td>0.934242</td>\n",
       "      <td>0.707663</td>\n",
       "      <td>0.807807</td>\n",
       "      <td>0.800032</td>\n",
       "      <td>0.619147</td>\n",
       "      <td>0.221789</td>\n",
       "      <td>0.633669</td>\n",
       "      <td>0.760318</td>\n",
       "      <td>KV</td>\n",
       "    </tr>\n",
       "    <tr>\n",
       "      <th>4</th>\n",
       "      <td>A</td>\n",
       "      <td>I</td>\n",
       "      <td>G</td>\n",
       "      <td>B</td>\n",
       "      <td>E</td>\n",
       "      <td>BI</td>\n",
       "      <td>C</td>\n",
       "      <td>G</td>\n",
       "      <td>Q</td>\n",
       "      <td>A</td>\n",
       "      <td>...</td>\n",
       "      <td>B</td>\n",
       "      <td>0.254427</td>\n",
       "      <td>0.274514</td>\n",
       "      <td>0.277308</td>\n",
       "      <td>0.610578</td>\n",
       "      <td>0.128291</td>\n",
       "      <td>0.578764</td>\n",
       "      <td>0.351103</td>\n",
       "      <td>0.357084</td>\n",
       "      <td>DP</td>\n",
       "    </tr>\n",
       "    <tr>\n",
       "      <th>...</th>\n",
       "      <td>...</td>\n",
       "      <td>...</td>\n",
       "      <td>...</td>\n",
       "      <td>...</td>\n",
       "      <td>...</td>\n",
       "      <td>...</td>\n",
       "      <td>...</td>\n",
       "      <td>...</td>\n",
       "      <td>...</td>\n",
       "      <td>...</td>\n",
       "      <td>...</td>\n",
       "      <td>...</td>\n",
       "      <td>...</td>\n",
       "      <td>...</td>\n",
       "      <td>...</td>\n",
       "      <td>...</td>\n",
       "      <td>...</td>\n",
       "      <td>...</td>\n",
       "      <td>...</td>\n",
       "      <td>...</td>\n",
       "      <td>...</td>\n",
       "    </tr>\n",
       "    <tr>\n",
       "      <th>299995</th>\n",
       "      <td>A</td>\n",
       "      <td>N</td>\n",
       "      <td>F</td>\n",
       "      <td>A</td>\n",
       "      <td>E</td>\n",
       "      <td>BU</td>\n",
       "      <td>A</td>\n",
       "      <td>AS</td>\n",
       "      <td>K</td>\n",
       "      <td>A</td>\n",
       "      <td>...</td>\n",
       "      <td>B</td>\n",
       "      <td>0.681700</td>\n",
       "      <td>0.500730</td>\n",
       "      <td>0.671927</td>\n",
       "      <td>0.390566</td>\n",
       "      <td>0.145840</td>\n",
       "      <td>0.262767</td>\n",
       "      <td>0.519340</td>\n",
       "      <td>0.617436</td>\n",
       "      <td>HG</td>\n",
       "    </tr>\n",
       "    <tr>\n",
       "      <th>299996</th>\n",
       "      <td>A</td>\n",
       "      <td>K</td>\n",
       "      <td>A</td>\n",
       "      <td>A</td>\n",
       "      <td>G</td>\n",
       "      <td>BI</td>\n",
       "      <td>A</td>\n",
       "      <td>K</td>\n",
       "      <td>AE</td>\n",
       "      <td>E</td>\n",
       "      <td>...</td>\n",
       "      <td>B</td>\n",
       "      <td>0.489226</td>\n",
       "      <td>0.790664</td>\n",
       "      <td>0.620356</td>\n",
       "      <td>0.384891</td>\n",
       "      <td>0.735879</td>\n",
       "      <td>0.547731</td>\n",
       "      <td>0.470575</td>\n",
       "      <td>0.275743</td>\n",
       "      <td>HK</td>\n",
       "    </tr>\n",
       "    <tr>\n",
       "      <th>299997</th>\n",
       "      <td>A</td>\n",
       "      <td>G</td>\n",
       "      <td>M</td>\n",
       "      <td>A</td>\n",
       "      <td>H</td>\n",
       "      <td>BI</td>\n",
       "      <td>C</td>\n",
       "      <td>L</td>\n",
       "      <td>F</td>\n",
       "      <td>A</td>\n",
       "      <td>...</td>\n",
       "      <td>D</td>\n",
       "      <td>0.487882</td>\n",
       "      <td>0.522347</td>\n",
       "      <td>0.232436</td>\n",
       "      <td>0.832482</td>\n",
       "      <td>0.810663</td>\n",
       "      <td>0.596939</td>\n",
       "      <td>0.373997</td>\n",
       "      <td>0.518024</td>\n",
       "      <td>HC</td>\n",
       "    </tr>\n",
       "    <tr>\n",
       "      <th>299998</th>\n",
       "      <td>B</td>\n",
       "      <td>H</td>\n",
       "      <td>A</td>\n",
       "      <td>D</td>\n",
       "      <td>B</td>\n",
       "      <td>BI</td>\n",
       "      <td>A</td>\n",
       "      <td>AA</td>\n",
       "      <td>AX</td>\n",
       "      <td>A</td>\n",
       "      <td>...</td>\n",
       "      <td>A</td>\n",
       "      <td>0.331900</td>\n",
       "      <td>0.812891</td>\n",
       "      <td>0.630708</td>\n",
       "      <td>0.346898</td>\n",
       "      <td>0.735147</td>\n",
       "      <td>0.563488</td>\n",
       "      <td>0.680430</td>\n",
       "      <td>0.318453</td>\n",
       "      <td>BF</td>\n",
       "    </tr>\n",
       "    <tr>\n",
       "      <th>299999</th>\n",
       "      <td>A</td>\n",
       "      <td>F</td>\n",
       "      <td>C</td>\n",
       "      <td>A</td>\n",
       "      <td>E</td>\n",
       "      <td>BI</td>\n",
       "      <td>C</td>\n",
       "      <td>AV</td>\n",
       "      <td>S</td>\n",
       "      <td>A</td>\n",
       "      <td>...</td>\n",
       "      <td>B</td>\n",
       "      <td>0.822600</td>\n",
       "      <td>0.819735</td>\n",
       "      <td>0.848696</td>\n",
       "      <td>0.819377</td>\n",
       "      <td>0.355467</td>\n",
       "      <td>0.218153</td>\n",
       "      <td>0.823655</td>\n",
       "      <td>0.330515</td>\n",
       "      <td>LM</td>\n",
       "    </tr>\n",
       "  </tbody>\n",
       "</table>\n",
       "<p>300000 rows × 28 columns</p>\n",
       "</div>"
      ],
      "text/plain": [
       "       cat0 cat1 cat2 cat3 cat4 cat5 cat6 cat7 cat8 cat9  ... cat18     cont0  \\\n",
       "0         A    I    A    B    B   BI    A    S    Q    A  ...     B  0.629858   \n",
       "1         A    I    A    A    E   BI    K    W   AD    F  ...     B  0.370727   \n",
       "2         A    K    A    A    E   BI    A    E   BM    L  ...     B  0.502272   \n",
       "3         A    K    A    C    E   BI    A    Y   AD    F  ...     B  0.934242   \n",
       "4         A    I    G    B    E   BI    C    G    Q    A  ...     B  0.254427   \n",
       "...     ...  ...  ...  ...  ...  ...  ...  ...  ...  ...  ...   ...       ...   \n",
       "299995    A    N    F    A    E   BU    A   AS    K    A  ...     B  0.681700   \n",
       "299996    A    K    A    A    G   BI    A    K   AE    E  ...     B  0.489226   \n",
       "299997    A    G    M    A    H   BI    C    L    F    A  ...     D  0.487882   \n",
       "299998    B    H    A    D    B   BI    A   AA   AX    A  ...     A  0.331900   \n",
       "299999    A    F    C    A    E   BI    C   AV    S    A  ...     B  0.822600   \n",
       "\n",
       "           cont1     cont3     cont4     cont5     cont6     cont8     cont9  \\\n",
       "0       0.855349  0.795549  0.681917  0.621672  0.592184  0.815254  0.965006   \n",
       "1       0.328929  0.541366  0.388982  0.357778  0.600044  0.399353  0.927406   \n",
       "2       0.322749  0.616352  0.793687  0.552877  0.352113  0.412303  0.292696   \n",
       "3       0.707663  0.807807  0.800032  0.619147  0.221789  0.633669  0.760318   \n",
       "4       0.274514  0.277308  0.610578  0.128291  0.578764  0.351103  0.357084   \n",
       "...          ...       ...       ...       ...       ...       ...       ...   \n",
       "299995  0.500730  0.671927  0.390566  0.145840  0.262767  0.519340  0.617436   \n",
       "299996  0.790664  0.620356  0.384891  0.735879  0.547731  0.470575  0.275743   \n",
       "299997  0.522347  0.232436  0.832482  0.810663  0.596939  0.373997  0.518024   \n",
       "299998  0.812891  0.630708  0.346898  0.735147  0.563488  0.680430  0.318453   \n",
       "299999  0.819735  0.848696  0.819377  0.355467  0.218153  0.823655  0.330515   \n",
       "\n",
       "        cat10_reduced  \n",
       "0                  LO  \n",
       "1                  HJ  \n",
       "2                  DJ  \n",
       "3                  KV  \n",
       "4                  DP  \n",
       "...               ...  \n",
       "299995             HG  \n",
       "299996             HK  \n",
       "299997             HC  \n",
       "299998             BF  \n",
       "299999             LM  \n",
       "\n",
       "[300000 rows x 28 columns]"
      ]
     },
     "execution_count": 41,
     "metadata": {},
     "output_type": "execute_result"
    }
   ],
   "source": [
    "X_train"
   ]
  },
  {
   "cell_type": "code",
   "execution_count": 42,
   "id": "sized-handbook",
   "metadata": {
    "ExecuteTime": {
     "end_time": "2021-03-27T18:36:50.095543Z",
     "start_time": "2021-03-27T18:36:46.664641Z"
    },
    "scrolled": true
   },
   "outputs": [],
   "source": [
    "new_X = X_cat_ohe.join(X_train[num_cols])"
   ]
  },
  {
   "cell_type": "code",
   "execution_count": 43,
   "id": "announced-floor",
   "metadata": {
    "ExecuteTime": {
     "end_time": "2021-03-27T18:36:50.231434Z",
     "start_time": "2021-03-27T18:36:50.098032Z"
    },
    "scrolled": true
   },
   "outputs": [
    {
     "data": {
      "text/html": [
       "<div>\n",
       "<style scoped>\n",
       "    .dataframe tbody tr th:only-of-type {\n",
       "        vertical-align: middle;\n",
       "    }\n",
       "\n",
       "    .dataframe tbody tr th {\n",
       "        vertical-align: top;\n",
       "    }\n",
       "\n",
       "    .dataframe thead th {\n",
       "        text-align: right;\n",
       "    }\n",
       "</style>\n",
       "<table border=\"1\" class=\"dataframe\">\n",
       "  <thead>\n",
       "    <tr style=\"text-align: right;\">\n",
       "      <th></th>\n",
       "      <th>0</th>\n",
       "      <th>1</th>\n",
       "      <th>2</th>\n",
       "      <th>3</th>\n",
       "      <th>4</th>\n",
       "      <th>5</th>\n",
       "      <th>6</th>\n",
       "      <th>7</th>\n",
       "      <th>8</th>\n",
       "      <th>9</th>\n",
       "      <th>...</th>\n",
       "      <th>473</th>\n",
       "      <th>474</th>\n",
       "      <th>cont0</th>\n",
       "      <th>cont1</th>\n",
       "      <th>cont3</th>\n",
       "      <th>cont4</th>\n",
       "      <th>cont5</th>\n",
       "      <th>cont6</th>\n",
       "      <th>cont8</th>\n",
       "      <th>cont9</th>\n",
       "    </tr>\n",
       "  </thead>\n",
       "  <tbody>\n",
       "    <tr>\n",
       "      <th>0</th>\n",
       "      <td>1.0</td>\n",
       "      <td>0.0</td>\n",
       "      <td>0.0</td>\n",
       "      <td>0.0</td>\n",
       "      <td>0.0</td>\n",
       "      <td>0.0</td>\n",
       "      <td>0.0</td>\n",
       "      <td>0.0</td>\n",
       "      <td>0.0</td>\n",
       "      <td>0.0</td>\n",
       "      <td>...</td>\n",
       "      <td>0.0</td>\n",
       "      <td>0.0</td>\n",
       "      <td>0.629858</td>\n",
       "      <td>0.855349</td>\n",
       "      <td>0.795549</td>\n",
       "      <td>0.681917</td>\n",
       "      <td>0.621672</td>\n",
       "      <td>0.592184</td>\n",
       "      <td>0.815254</td>\n",
       "      <td>0.965006</td>\n",
       "    </tr>\n",
       "    <tr>\n",
       "      <th>1</th>\n",
       "      <td>1.0</td>\n",
       "      <td>0.0</td>\n",
       "      <td>0.0</td>\n",
       "      <td>0.0</td>\n",
       "      <td>0.0</td>\n",
       "      <td>0.0</td>\n",
       "      <td>0.0</td>\n",
       "      <td>0.0</td>\n",
       "      <td>0.0</td>\n",
       "      <td>0.0</td>\n",
       "      <td>...</td>\n",
       "      <td>0.0</td>\n",
       "      <td>0.0</td>\n",
       "      <td>0.370727</td>\n",
       "      <td>0.328929</td>\n",
       "      <td>0.541366</td>\n",
       "      <td>0.388982</td>\n",
       "      <td>0.357778</td>\n",
       "      <td>0.600044</td>\n",
       "      <td>0.399353</td>\n",
       "      <td>0.927406</td>\n",
       "    </tr>\n",
       "    <tr>\n",
       "      <th>2</th>\n",
       "      <td>1.0</td>\n",
       "      <td>0.0</td>\n",
       "      <td>0.0</td>\n",
       "      <td>0.0</td>\n",
       "      <td>0.0</td>\n",
       "      <td>0.0</td>\n",
       "      <td>0.0</td>\n",
       "      <td>0.0</td>\n",
       "      <td>0.0</td>\n",
       "      <td>0.0</td>\n",
       "      <td>...</td>\n",
       "      <td>0.0</td>\n",
       "      <td>0.0</td>\n",
       "      <td>0.502272</td>\n",
       "      <td>0.322749</td>\n",
       "      <td>0.616352</td>\n",
       "      <td>0.793687</td>\n",
       "      <td>0.552877</td>\n",
       "      <td>0.352113</td>\n",
       "      <td>0.412303</td>\n",
       "      <td>0.292696</td>\n",
       "    </tr>\n",
       "    <tr>\n",
       "      <th>3</th>\n",
       "      <td>1.0</td>\n",
       "      <td>0.0</td>\n",
       "      <td>0.0</td>\n",
       "      <td>0.0</td>\n",
       "      <td>0.0</td>\n",
       "      <td>0.0</td>\n",
       "      <td>0.0</td>\n",
       "      <td>0.0</td>\n",
       "      <td>0.0</td>\n",
       "      <td>0.0</td>\n",
       "      <td>...</td>\n",
       "      <td>0.0</td>\n",
       "      <td>0.0</td>\n",
       "      <td>0.934242</td>\n",
       "      <td>0.707663</td>\n",
       "      <td>0.807807</td>\n",
       "      <td>0.800032</td>\n",
       "      <td>0.619147</td>\n",
       "      <td>0.221789</td>\n",
       "      <td>0.633669</td>\n",
       "      <td>0.760318</td>\n",
       "    </tr>\n",
       "    <tr>\n",
       "      <th>4</th>\n",
       "      <td>1.0</td>\n",
       "      <td>0.0</td>\n",
       "      <td>0.0</td>\n",
       "      <td>0.0</td>\n",
       "      <td>0.0</td>\n",
       "      <td>0.0</td>\n",
       "      <td>0.0</td>\n",
       "      <td>0.0</td>\n",
       "      <td>0.0</td>\n",
       "      <td>0.0</td>\n",
       "      <td>...</td>\n",
       "      <td>0.0</td>\n",
       "      <td>0.0</td>\n",
       "      <td>0.254427</td>\n",
       "      <td>0.274514</td>\n",
       "      <td>0.277308</td>\n",
       "      <td>0.610578</td>\n",
       "      <td>0.128291</td>\n",
       "      <td>0.578764</td>\n",
       "      <td>0.351103</td>\n",
       "      <td>0.357084</td>\n",
       "    </tr>\n",
       "    <tr>\n",
       "      <th>...</th>\n",
       "      <td>...</td>\n",
       "      <td>...</td>\n",
       "      <td>...</td>\n",
       "      <td>...</td>\n",
       "      <td>...</td>\n",
       "      <td>...</td>\n",
       "      <td>...</td>\n",
       "      <td>...</td>\n",
       "      <td>...</td>\n",
       "      <td>...</td>\n",
       "      <td>...</td>\n",
       "      <td>...</td>\n",
       "      <td>...</td>\n",
       "      <td>...</td>\n",
       "      <td>...</td>\n",
       "      <td>...</td>\n",
       "      <td>...</td>\n",
       "      <td>...</td>\n",
       "      <td>...</td>\n",
       "      <td>...</td>\n",
       "      <td>...</td>\n",
       "    </tr>\n",
       "    <tr>\n",
       "      <th>299995</th>\n",
       "      <td>1.0</td>\n",
       "      <td>0.0</td>\n",
       "      <td>0.0</td>\n",
       "      <td>0.0</td>\n",
       "      <td>0.0</td>\n",
       "      <td>0.0</td>\n",
       "      <td>0.0</td>\n",
       "      <td>0.0</td>\n",
       "      <td>0.0</td>\n",
       "      <td>0.0</td>\n",
       "      <td>...</td>\n",
       "      <td>0.0</td>\n",
       "      <td>0.0</td>\n",
       "      <td>0.681700</td>\n",
       "      <td>0.500730</td>\n",
       "      <td>0.671927</td>\n",
       "      <td>0.390566</td>\n",
       "      <td>0.145840</td>\n",
       "      <td>0.262767</td>\n",
       "      <td>0.519340</td>\n",
       "      <td>0.617436</td>\n",
       "    </tr>\n",
       "    <tr>\n",
       "      <th>299996</th>\n",
       "      <td>1.0</td>\n",
       "      <td>0.0</td>\n",
       "      <td>0.0</td>\n",
       "      <td>0.0</td>\n",
       "      <td>0.0</td>\n",
       "      <td>0.0</td>\n",
       "      <td>0.0</td>\n",
       "      <td>0.0</td>\n",
       "      <td>0.0</td>\n",
       "      <td>0.0</td>\n",
       "      <td>...</td>\n",
       "      <td>0.0</td>\n",
       "      <td>0.0</td>\n",
       "      <td>0.489226</td>\n",
       "      <td>0.790664</td>\n",
       "      <td>0.620356</td>\n",
       "      <td>0.384891</td>\n",
       "      <td>0.735879</td>\n",
       "      <td>0.547731</td>\n",
       "      <td>0.470575</td>\n",
       "      <td>0.275743</td>\n",
       "    </tr>\n",
       "    <tr>\n",
       "      <th>299997</th>\n",
       "      <td>1.0</td>\n",
       "      <td>0.0</td>\n",
       "      <td>0.0</td>\n",
       "      <td>0.0</td>\n",
       "      <td>0.0</td>\n",
       "      <td>0.0</td>\n",
       "      <td>0.0</td>\n",
       "      <td>0.0</td>\n",
       "      <td>1.0</td>\n",
       "      <td>0.0</td>\n",
       "      <td>...</td>\n",
       "      <td>0.0</td>\n",
       "      <td>1.0</td>\n",
       "      <td>0.487882</td>\n",
       "      <td>0.522347</td>\n",
       "      <td>0.232436</td>\n",
       "      <td>0.832482</td>\n",
       "      <td>0.810663</td>\n",
       "      <td>0.596939</td>\n",
       "      <td>0.373997</td>\n",
       "      <td>0.518024</td>\n",
       "    </tr>\n",
       "    <tr>\n",
       "      <th>299998</th>\n",
       "      <td>0.0</td>\n",
       "      <td>1.0</td>\n",
       "      <td>0.0</td>\n",
       "      <td>0.0</td>\n",
       "      <td>0.0</td>\n",
       "      <td>0.0</td>\n",
       "      <td>0.0</td>\n",
       "      <td>0.0</td>\n",
       "      <td>0.0</td>\n",
       "      <td>1.0</td>\n",
       "      <td>...</td>\n",
       "      <td>0.0</td>\n",
       "      <td>0.0</td>\n",
       "      <td>0.331900</td>\n",
       "      <td>0.812891</td>\n",
       "      <td>0.630708</td>\n",
       "      <td>0.346898</td>\n",
       "      <td>0.735147</td>\n",
       "      <td>0.563488</td>\n",
       "      <td>0.680430</td>\n",
       "      <td>0.318453</td>\n",
       "    </tr>\n",
       "    <tr>\n",
       "      <th>299999</th>\n",
       "      <td>1.0</td>\n",
       "      <td>0.0</td>\n",
       "      <td>0.0</td>\n",
       "      <td>0.0</td>\n",
       "      <td>0.0</td>\n",
       "      <td>0.0</td>\n",
       "      <td>0.0</td>\n",
       "      <td>1.0</td>\n",
       "      <td>0.0</td>\n",
       "      <td>0.0</td>\n",
       "      <td>...</td>\n",
       "      <td>0.0</td>\n",
       "      <td>0.0</td>\n",
       "      <td>0.822600</td>\n",
       "      <td>0.819735</td>\n",
       "      <td>0.848696</td>\n",
       "      <td>0.819377</td>\n",
       "      <td>0.355467</td>\n",
       "      <td>0.218153</td>\n",
       "      <td>0.823655</td>\n",
       "      <td>0.330515</td>\n",
       "    </tr>\n",
       "  </tbody>\n",
       "</table>\n",
       "<p>300000 rows × 483 columns</p>\n",
       "</div>"
      ],
      "text/plain": [
       "          0    1    2    3    4    5    6    7    8    9  ...  473  474  \\\n",
       "0       1.0  0.0  0.0  0.0  0.0  0.0  0.0  0.0  0.0  0.0  ...  0.0  0.0   \n",
       "1       1.0  0.0  0.0  0.0  0.0  0.0  0.0  0.0  0.0  0.0  ...  0.0  0.0   \n",
       "2       1.0  0.0  0.0  0.0  0.0  0.0  0.0  0.0  0.0  0.0  ...  0.0  0.0   \n",
       "3       1.0  0.0  0.0  0.0  0.0  0.0  0.0  0.0  0.0  0.0  ...  0.0  0.0   \n",
       "4       1.0  0.0  0.0  0.0  0.0  0.0  0.0  0.0  0.0  0.0  ...  0.0  0.0   \n",
       "...     ...  ...  ...  ...  ...  ...  ...  ...  ...  ...  ...  ...  ...   \n",
       "299995  1.0  0.0  0.0  0.0  0.0  0.0  0.0  0.0  0.0  0.0  ...  0.0  0.0   \n",
       "299996  1.0  0.0  0.0  0.0  0.0  0.0  0.0  0.0  0.0  0.0  ...  0.0  0.0   \n",
       "299997  1.0  0.0  0.0  0.0  0.0  0.0  0.0  0.0  1.0  0.0  ...  0.0  1.0   \n",
       "299998  0.0  1.0  0.0  0.0  0.0  0.0  0.0  0.0  0.0  1.0  ...  0.0  0.0   \n",
       "299999  1.0  0.0  0.0  0.0  0.0  0.0  0.0  1.0  0.0  0.0  ...  0.0  0.0   \n",
       "\n",
       "           cont0     cont1     cont3     cont4     cont5     cont6     cont8  \\\n",
       "0       0.629858  0.855349  0.795549  0.681917  0.621672  0.592184  0.815254   \n",
       "1       0.370727  0.328929  0.541366  0.388982  0.357778  0.600044  0.399353   \n",
       "2       0.502272  0.322749  0.616352  0.793687  0.552877  0.352113  0.412303   \n",
       "3       0.934242  0.707663  0.807807  0.800032  0.619147  0.221789  0.633669   \n",
       "4       0.254427  0.274514  0.277308  0.610578  0.128291  0.578764  0.351103   \n",
       "...          ...       ...       ...       ...       ...       ...       ...   \n",
       "299995  0.681700  0.500730  0.671927  0.390566  0.145840  0.262767  0.519340   \n",
       "299996  0.489226  0.790664  0.620356  0.384891  0.735879  0.547731  0.470575   \n",
       "299997  0.487882  0.522347  0.232436  0.832482  0.810663  0.596939  0.373997   \n",
       "299998  0.331900  0.812891  0.630708  0.346898  0.735147  0.563488  0.680430   \n",
       "299999  0.822600  0.819735  0.848696  0.819377  0.355467  0.218153  0.823655   \n",
       "\n",
       "           cont9  \n",
       "0       0.965006  \n",
       "1       0.927406  \n",
       "2       0.292696  \n",
       "3       0.760318  \n",
       "4       0.357084  \n",
       "...          ...  \n",
       "299995  0.617436  \n",
       "299996  0.275743  \n",
       "299997  0.518024  \n",
       "299998  0.318453  \n",
       "299999  0.330515  \n",
       "\n",
       "[300000 rows x 483 columns]"
      ]
     },
     "execution_count": 43,
     "metadata": {},
     "output_type": "execute_result"
    }
   ],
   "source": [
    "new_X"
   ]
  },
  {
   "cell_type": "markdown",
   "id": "emotional-movement",
   "metadata": {
    "ExecuteTime": {
     "end_time": "2021-03-27T18:11:24.283778Z",
     "start_time": "2021-03-27T18:11:24.280011Z"
    }
   },
   "source": [
    "### SMOTE Balancing"
   ]
  },
  {
   "cell_type": "code",
   "execution_count": 49,
   "id": "tender-guard",
   "metadata": {
    "ExecuteTime": {
     "end_time": "2021-03-27T18:37:42.502471Z",
     "start_time": "2021-03-27T18:37:42.068918Z"
    }
   },
   "outputs": [
    {
     "data": {
      "text/plain": [
       "<AxesSubplot:xlabel='target', ylabel='Count'>"
      ]
     },
     "execution_count": 49,
     "metadata": {},
     "output_type": "execute_result"
    },
    {
     "data": {
      "image/png": "[encoded data removed]",
      "text/plain": [
       "<Figure size 432x288 with 1 Axes>"
      ]
     },
     "metadata": {
      "needs_background": "light"
     },
     "output_type": "display_data"
    }
   ],
   "source": [
    "b"
   ]
  },
  {
   "cell_type": "code",
   "execution_count": null,
   "id": "indonesian-reduction",
   "metadata": {},
   "outputs": [],
   "source": []
  },
  {
   "cell_type": "code",
   "execution_count": 50,
   "id": "cathedral-america",
   "metadata": {
    "ExecuteTime": {
     "end_time": "2021-03-27T18:37:57.038783Z",
     "start_time": "2021-03-27T18:37:56.925945Z"
    }
   },
   "outputs": [],
   "source": [
    "from imblearn.over_sampling import SMOTE\n",
    "sm = SMOTE(random_state = 33)"
   ]
  },
  {
   "cell_type": "code",
   "execution_count": 56,
   "id": "accompanied-indian",
   "metadata": {
    "ExecuteTime": {
     "end_time": "2021-03-27T18:40:04.337819Z",
     "start_time": "2021-03-27T18:40:04.261482Z"
    }
   },
   "outputs": [
    {
     "data": {
      "text/html": [
       "<div>\n",
       "<style scoped>\n",
       "    .dataframe tbody tr th:only-of-type {\n",
       "        vertical-align: middle;\n",
       "    }\n",
       "\n",
       "    .dataframe tbody tr th {\n",
       "        vertical-align: top;\n",
       "    }\n",
       "\n",
       "    .dataframe thead th {\n",
       "        text-align: right;\n",
       "    }\n",
       "</style>\n",
       "<table border=\"1\" class=\"dataframe\">\n",
       "  <thead>\n",
       "    <tr style=\"text-align: right;\">\n",
       "      <th></th>\n",
       "      <th>0</th>\n",
       "      <th>1</th>\n",
       "      <th>2</th>\n",
       "      <th>3</th>\n",
       "      <th>4</th>\n",
       "      <th>5</th>\n",
       "      <th>6</th>\n",
       "      <th>7</th>\n",
       "      <th>8</th>\n",
       "      <th>9</th>\n",
       "      <th>...</th>\n",
       "      <th>473</th>\n",
       "      <th>474</th>\n",
       "      <th>cont0</th>\n",
       "      <th>cont1</th>\n",
       "      <th>cont3</th>\n",
       "      <th>cont4</th>\n",
       "      <th>cont5</th>\n",
       "      <th>cont6</th>\n",
       "      <th>cont8</th>\n",
       "      <th>cont9</th>\n",
       "    </tr>\n",
       "  </thead>\n",
       "  <tbody>\n",
       "    <tr>\n",
       "      <th>0</th>\n",
       "      <td>1.0</td>\n",
       "      <td>0.0</td>\n",
       "      <td>0.0</td>\n",
       "      <td>0.0</td>\n",
       "      <td>0.0</td>\n",
       "      <td>0.0</td>\n",
       "      <td>0.0</td>\n",
       "      <td>0.0</td>\n",
       "      <td>0.0</td>\n",
       "      <td>0.0</td>\n",
       "      <td>...</td>\n",
       "      <td>0.0</td>\n",
       "      <td>0.0</td>\n",
       "      <td>0.629858</td>\n",
       "      <td>0.855349</td>\n",
       "      <td>0.795549</td>\n",
       "      <td>0.681917</td>\n",
       "      <td>0.621672</td>\n",
       "      <td>0.592184</td>\n",
       "      <td>0.815254</td>\n",
       "      <td>0.965006</td>\n",
       "    </tr>\n",
       "    <tr>\n",
       "      <th>1</th>\n",
       "      <td>1.0</td>\n",
       "      <td>0.0</td>\n",
       "      <td>0.0</td>\n",
       "      <td>0.0</td>\n",
       "      <td>0.0</td>\n",
       "      <td>0.0</td>\n",
       "      <td>0.0</td>\n",
       "      <td>0.0</td>\n",
       "      <td>0.0</td>\n",
       "      <td>0.0</td>\n",
       "      <td>...</td>\n",
       "      <td>0.0</td>\n",
       "      <td>0.0</td>\n",
       "      <td>0.370727</td>\n",
       "      <td>0.328929</td>\n",
       "      <td>0.541366</td>\n",
       "      <td>0.388982</td>\n",
       "      <td>0.357778</td>\n",
       "      <td>0.600044</td>\n",
       "      <td>0.399353</td>\n",
       "      <td>0.927406</td>\n",
       "    </tr>\n",
       "    <tr>\n",
       "      <th>2</th>\n",
       "      <td>1.0</td>\n",
       "      <td>0.0</td>\n",
       "      <td>0.0</td>\n",
       "      <td>0.0</td>\n",
       "      <td>0.0</td>\n",
       "      <td>0.0</td>\n",
       "      <td>0.0</td>\n",
       "      <td>0.0</td>\n",
       "      <td>0.0</td>\n",
       "      <td>0.0</td>\n",
       "      <td>...</td>\n",
       "      <td>0.0</td>\n",
       "      <td>0.0</td>\n",
       "      <td>0.502272</td>\n",
       "      <td>0.322749</td>\n",
       "      <td>0.616352</td>\n",
       "      <td>0.793687</td>\n",
       "      <td>0.552877</td>\n",
       "      <td>0.352113</td>\n",
       "      <td>0.412303</td>\n",
       "      <td>0.292696</td>\n",
       "    </tr>\n",
       "    <tr>\n",
       "      <th>3</th>\n",
       "      <td>1.0</td>\n",
       "      <td>0.0</td>\n",
       "      <td>0.0</td>\n",
       "      <td>0.0</td>\n",
       "      <td>0.0</td>\n",
       "      <td>0.0</td>\n",
       "      <td>0.0</td>\n",
       "      <td>0.0</td>\n",
       "      <td>0.0</td>\n",
       "      <td>0.0</td>\n",
       "      <td>...</td>\n",
       "      <td>0.0</td>\n",
       "      <td>0.0</td>\n",
       "      <td>0.934242</td>\n",
       "      <td>0.707663</td>\n",
       "      <td>0.807807</td>\n",
       "      <td>0.800032</td>\n",
       "      <td>0.619147</td>\n",
       "      <td>0.221789</td>\n",
       "      <td>0.633669</td>\n",
       "      <td>0.760318</td>\n",
       "    </tr>\n",
       "    <tr>\n",
       "      <th>4</th>\n",
       "      <td>1.0</td>\n",
       "      <td>0.0</td>\n",
       "      <td>0.0</td>\n",
       "      <td>0.0</td>\n",
       "      <td>0.0</td>\n",
       "      <td>0.0</td>\n",
       "      <td>0.0</td>\n",
       "      <td>0.0</td>\n",
       "      <td>0.0</td>\n",
       "      <td>0.0</td>\n",
       "      <td>...</td>\n",
       "      <td>0.0</td>\n",
       "      <td>0.0</td>\n",
       "      <td>0.254427</td>\n",
       "      <td>0.274514</td>\n",
       "      <td>0.277308</td>\n",
       "      <td>0.610578</td>\n",
       "      <td>0.128291</td>\n",
       "      <td>0.578764</td>\n",
       "      <td>0.351103</td>\n",
       "      <td>0.357084</td>\n",
       "    </tr>\n",
       "    <tr>\n",
       "      <th>...</th>\n",
       "      <td>...</td>\n",
       "      <td>...</td>\n",
       "      <td>...</td>\n",
       "      <td>...</td>\n",
       "      <td>...</td>\n",
       "      <td>...</td>\n",
       "      <td>...</td>\n",
       "      <td>...</td>\n",
       "      <td>...</td>\n",
       "      <td>...</td>\n",
       "      <td>...</td>\n",
       "      <td>...</td>\n",
       "      <td>...</td>\n",
       "      <td>...</td>\n",
       "      <td>...</td>\n",
       "      <td>...</td>\n",
       "      <td>...</td>\n",
       "      <td>...</td>\n",
       "      <td>...</td>\n",
       "      <td>...</td>\n",
       "      <td>...</td>\n",
       "    </tr>\n",
       "    <tr>\n",
       "      <th>299995</th>\n",
       "      <td>1.0</td>\n",
       "      <td>0.0</td>\n",
       "      <td>0.0</td>\n",
       "      <td>0.0</td>\n",
       "      <td>0.0</td>\n",
       "      <td>0.0</td>\n",
       "      <td>0.0</td>\n",
       "      <td>0.0</td>\n",
       "      <td>0.0</td>\n",
       "      <td>0.0</td>\n",
       "      <td>...</td>\n",
       "      <td>0.0</td>\n",
       "      <td>0.0</td>\n",
       "      <td>0.681700</td>\n",
       "      <td>0.500730</td>\n",
       "      <td>0.671927</td>\n",
       "      <td>0.390566</td>\n",
       "      <td>0.145840</td>\n",
       "      <td>0.262767</td>\n",
       "      <td>0.519340</td>\n",
       "      <td>0.617436</td>\n",
       "    </tr>\n",
       "    <tr>\n",
       "      <th>299996</th>\n",
       "      <td>1.0</td>\n",
       "      <td>0.0</td>\n",
       "      <td>0.0</td>\n",
       "      <td>0.0</td>\n",
       "      <td>0.0</td>\n",
       "      <td>0.0</td>\n",
       "      <td>0.0</td>\n",
       "      <td>0.0</td>\n",
       "      <td>0.0</td>\n",
       "      <td>0.0</td>\n",
       "      <td>...</td>\n",
       "      <td>0.0</td>\n",
       "      <td>0.0</td>\n",
       "      <td>0.489226</td>\n",
       "      <td>0.790664</td>\n",
       "      <td>0.620356</td>\n",
       "      <td>0.384891</td>\n",
       "      <td>0.735879</td>\n",
       "      <td>0.547731</td>\n",
       "      <td>0.470575</td>\n",
       "      <td>0.275743</td>\n",
       "    </tr>\n",
       "    <tr>\n",
       "      <th>299997</th>\n",
       "      <td>1.0</td>\n",
       "      <td>0.0</td>\n",
       "      <td>0.0</td>\n",
       "      <td>0.0</td>\n",
       "      <td>0.0</td>\n",
       "      <td>0.0</td>\n",
       "      <td>0.0</td>\n",
       "      <td>0.0</td>\n",
       "      <td>1.0</td>\n",
       "      <td>0.0</td>\n",
       "      <td>...</td>\n",
       "      <td>0.0</td>\n",
       "      <td>1.0</td>\n",
       "      <td>0.487882</td>\n",
       "      <td>0.522347</td>\n",
       "      <td>0.232436</td>\n",
       "      <td>0.832482</td>\n",
       "      <td>0.810663</td>\n",
       "      <td>0.596939</td>\n",
       "      <td>0.373997</td>\n",
       "      <td>0.518024</td>\n",
       "    </tr>\n",
       "    <tr>\n",
       "      <th>299998</th>\n",
       "      <td>0.0</td>\n",
       "      <td>1.0</td>\n",
       "      <td>0.0</td>\n",
       "      <td>0.0</td>\n",
       "      <td>0.0</td>\n",
       "      <td>0.0</td>\n",
       "      <td>0.0</td>\n",
       "      <td>0.0</td>\n",
       "      <td>0.0</td>\n",
       "      <td>1.0</td>\n",
       "      <td>...</td>\n",
       "      <td>0.0</td>\n",
       "      <td>0.0</td>\n",
       "      <td>0.331900</td>\n",
       "      <td>0.812891</td>\n",
       "      <td>0.630708</td>\n",
       "      <td>0.346898</td>\n",
       "      <td>0.735147</td>\n",
       "      <td>0.563488</td>\n",
       "      <td>0.680430</td>\n",
       "      <td>0.318453</td>\n",
       "    </tr>\n",
       "    <tr>\n",
       "      <th>299999</th>\n",
       "      <td>1.0</td>\n",
       "      <td>0.0</td>\n",
       "      <td>0.0</td>\n",
       "      <td>0.0</td>\n",
       "      <td>0.0</td>\n",
       "      <td>0.0</td>\n",
       "      <td>0.0</td>\n",
       "      <td>1.0</td>\n",
       "      <td>0.0</td>\n",
       "      <td>0.0</td>\n",
       "      <td>...</td>\n",
       "      <td>0.0</td>\n",
       "      <td>0.0</td>\n",
       "      <td>0.822600</td>\n",
       "      <td>0.819735</td>\n",
       "      <td>0.848696</td>\n",
       "      <td>0.819377</td>\n",
       "      <td>0.355467</td>\n",
       "      <td>0.218153</td>\n",
       "      <td>0.823655</td>\n",
       "      <td>0.330515</td>\n",
       "    </tr>\n",
       "  </tbody>\n",
       "</table>\n",
       "<p>300000 rows × 483 columns</p>\n",
       "</div>"
      ],
      "text/plain": [
       "          0    1    2    3    4    5    6    7    8    9  ...  473  474  \\\n",
       "0       1.0  0.0  0.0  0.0  0.0  0.0  0.0  0.0  0.0  0.0  ...  0.0  0.0   \n",
       "1       1.0  0.0  0.0  0.0  0.0  0.0  0.0  0.0  0.0  0.0  ...  0.0  0.0   \n",
       "2       1.0  0.0  0.0  0.0  0.0  0.0  0.0  0.0  0.0  0.0  ...  0.0  0.0   \n",
       "3       1.0  0.0  0.0  0.0  0.0  0.0  0.0  0.0  0.0  0.0  ...  0.0  0.0   \n",
       "4       1.0  0.0  0.0  0.0  0.0  0.0  0.0  0.0  0.0  0.0  ...  0.0  0.0   \n",
       "...     ...  ...  ...  ...  ...  ...  ...  ...  ...  ...  ...  ...  ...   \n",
       "299995  1.0  0.0  0.0  0.0  0.0  0.0  0.0  0.0  0.0  0.0  ...  0.0  0.0   \n",
       "299996  1.0  0.0  0.0  0.0  0.0  0.0  0.0  0.0  0.0  0.0  ...  0.0  0.0   \n",
       "299997  1.0  0.0  0.0  0.0  0.0  0.0  0.0  0.0  1.0  0.0  ...  0.0  1.0   \n",
       "299998  0.0  1.0  0.0  0.0  0.0  0.0  0.0  0.0  0.0  1.0  ...  0.0  0.0   \n",
       "299999  1.0  0.0  0.0  0.0  0.0  0.0  0.0  1.0  0.0  0.0  ...  0.0  0.0   \n",
       "\n",
       "           cont0     cont1     cont3     cont4     cont5     cont6     cont8  \\\n",
       "0       0.629858  0.855349  0.795549  0.681917  0.621672  0.592184  0.815254   \n",
       "1       0.370727  0.328929  0.541366  0.388982  0.357778  0.600044  0.399353   \n",
       "2       0.502272  0.322749  0.616352  0.793687  0.552877  0.352113  0.412303   \n",
       "3       0.934242  0.707663  0.807807  0.800032  0.619147  0.221789  0.633669   \n",
       "4       0.254427  0.274514  0.277308  0.610578  0.128291  0.578764  0.351103   \n",
       "...          ...       ...       ...       ...       ...       ...       ...   \n",
       "299995  0.681700  0.500730  0.671927  0.390566  0.145840  0.262767  0.519340   \n",
       "299996  0.489226  0.790664  0.620356  0.384891  0.735879  0.547731  0.470575   \n",
       "299997  0.487882  0.522347  0.232436  0.832482  0.810663  0.596939  0.373997   \n",
       "299998  0.331900  0.812891  0.630708  0.346898  0.735147  0.563488  0.680430   \n",
       "299999  0.822600  0.819735  0.848696  0.819377  0.355467  0.218153  0.823655   \n",
       "\n",
       "           cont9  \n",
       "0       0.965006  \n",
       "1       0.927406  \n",
       "2       0.292696  \n",
       "3       0.760318  \n",
       "4       0.357084  \n",
       "...          ...  \n",
       "299995  0.617436  \n",
       "299996  0.275743  \n",
       "299997  0.518024  \n",
       "299998  0.318453  \n",
       "299999  0.330515  \n",
       "\n",
       "[300000 rows x 483 columns]"
      ]
     },
     "execution_count": 56,
     "metadata": {},
     "output_type": "execute_result"
    }
   ],
   "source": [
    "new_X"
   ]
  },
  {
   "cell_type": "code",
   "execution_count": 62,
   "id": "boolean-tutorial",
   "metadata": {
    "ExecuteTime": {
     "end_time": "2021-03-27T18:43:31.678848Z",
     "start_time": "2021-03-27T18:43:31.542829Z"
    }
   },
   "outputs": [
    {
     "ename": "TypeError",
     "evalue": "cannot unpack non-iterable SMOTE object",
     "output_type": "error",
     "traceback": [
      "\u001b[0;31m---------------------------------------------------------------------------\u001b[0m",
      "\u001b[0;31mTypeError\u001b[0m                                 Traceback (most recent call last)",
      "\u001b[0;32m<ipython-input-62-05476e56c67f>\u001b[0m in \u001b[0;36m<module>\u001b[0;34m\u001b[0m\n\u001b[0;32m----> 1\u001b[0;31m \u001b[0mX_train_new\u001b[0m\u001b[0;34m,\u001b[0m \u001b[0my_train_new\u001b[0m \u001b[0;34m=\u001b[0m \u001b[0msm\u001b[0m\u001b[0;34m.\u001b[0m\u001b[0mfit\u001b[0m\u001b[0;34m(\u001b[0m\u001b[0mnew_X\u001b[0m\u001b[0;34m,\u001b[0m \u001b[0my_train\u001b[0m\u001b[0;34m.\u001b[0m\u001b[0mravel\u001b[0m\u001b[0;34m(\u001b[0m\u001b[0;34m)\u001b[0m\u001b[0;34m)\u001b[0m\u001b[0;34m\u001b[0m\u001b[0;34m\u001b[0m\u001b[0m\n\u001b[0m",
      "\u001b[0;31mTypeError\u001b[0m: cannot unpack non-iterable SMOTE object"
     ]
    }
   ],
   "source": [
    "X_train_new, y_train_new = sm.fit(new_X, y_train.ravel())"
   ]
  },
  {
   "cell_type": "markdown",
   "id": "nominated-venture",
   "metadata": {
    "ExecuteTime": {
     "end_time": "2021-03-18T11:56:02.361303Z",
     "start_time": "2021-03-18T11:56:02.145064Z"
    }
   },
   "source": [
    "## Baseline Model "
   ]
  },
  {
   "cell_type": "code",
   "execution_count": 66,
   "id": "laughing-baking",
   "metadata": {
    "ExecuteTime": {
     "end_time": "2021-03-27T18:46:54.324132Z",
     "start_time": "2021-03-27T18:46:54.318824Z"
    }
   },
   "outputs": [],
   "source": [
    "from sklearn.model_selection import cross_validate\n",
    "from sklearn.model_selection import train_test_split\n",
    "from sklearn.linear_model import LogisticRegression # explicit class import from module\n",
    "from sklearn.model_selection import GridSearchCV"
   ]
  },
  {
   "cell_type": "code",
   "execution_count": 67,
   "id": "wanted-springer",
   "metadata": {
    "ExecuteTime": {
     "end_time": "2021-03-27T18:46:55.438744Z",
     "start_time": "2021-03-27T18:46:55.434735Z"
    }
   },
   "outputs": [],
   "source": [
    "log = LogisticRegression(max_iter=1000)"
   ]
  },
  {
   "cell_type": "code",
   "execution_count": 68,
   "id": "afraid-commission",
   "metadata": {
    "ExecuteTime": {
     "end_time": "2021-03-27T18:46:56.770873Z",
     "start_time": "2021-03-27T18:46:56.766660Z"
    }
   },
   "outputs": [],
   "source": [
    "X_train = new_X"
   ]
  },
  {
   "cell_type": "code",
   "execution_count": 70,
   "id": "hydraulic-thompson",
   "metadata": {
    "ExecuteTime": {
     "end_time": "2021-03-27T18:50:36.946379Z",
     "start_time": "2021-03-27T18:47:01.391674Z"
    }
   },
   "outputs": [],
   "source": [
    "from sklearn.model_selection import cross_val_score \n",
    "\n",
    "cv_results = cross_validate(log, X_train, y_train, scoring= \"f1\", cv=3)"
   ]
  },
  {
   "cell_type": "code",
   "execution_count": 71,
   "id": "quick-fleece",
   "metadata": {
    "ExecuteTime": {
     "end_time": "2021-03-27T18:50:36.983501Z",
     "start_time": "2021-03-27T18:50:36.959056Z"
    }
   },
   "outputs": [
    {
     "data": {
      "text/plain": [
       "{'fit_time': array([60.91937423, 69.49084282, 84.53695345]),\n",
       " 'score_time': array([0.1467855 , 0.17861724, 0.20169687]),\n",
       " 'test_score': array([0.67443129, 0.670535  , 0.67297138])}"
      ]
     },
     "execution_count": 71,
     "metadata": {},
     "output_type": "execute_result"
    }
   ],
   "source": [
    "cv_results"
   ]
  },
  {
   "cell_type": "code",
   "execution_count": 72,
   "id": "exterior-dress",
   "metadata": {
    "ExecuteTime": {
     "end_time": "2021-03-27T18:50:36.999424Z",
     "start_time": "2021-03-27T18:50:36.989422Z"
    }
   },
   "outputs": [
    {
     "data": {
      "text/plain": [
       "0.6726458908673484"
      ]
     },
     "execution_count": 72,
     "metadata": {},
     "output_type": "execute_result"
    }
   ],
   "source": [
    "cv_results['test_score'].mean()"
   ]
  },
  {
   "cell_type": "markdown",
   "id": "spanish-tyler",
   "metadata": {},
   "source": [
    "## Feature permutation"
   ]
  },
  {
   "cell_type": "code",
   "execution_count": null,
   "id": "further-theme",
   "metadata": {
    "ExecuteTime": {
     "end_time": "2021-03-27T21:16:51.049989Z",
     "start_time": "2021-03-27T20:41:56.534Z"
    }
   },
   "outputs": [],
   "source": [
    "from sklearn.inspection import permutation_importance\n",
    "\n",
    "log_model = log.fit(X_train, y_train) # Fit model\n",
    "\n",
    "permutation_score = permutation_importance(log_model, X_train, y_train, n_repeats=100) # Perform Permutation\n",
    "\n",
    "importance_df = pd.DataFrame(np.vstack((X_train.columns,\n",
    "                                        permutation_score.importances_mean)).T) # Unstack results\n",
    "importance_df.columns=['feature','score decrease']\n",
    "\n",
    "importance_df.sort_values(by=\"score decrease\", ascending = False) # Order by importance"
   ]
  },
  {
   "cell_type": "code",
   "execution_count": null,
   "id": "successful-webmaster",
   "metadata": {
    "ExecuteTime": {
     "end_time": "2021-03-27T18:36:51.223757Z",
     "start_time": "2021-03-27T18:36:19.511Z"
    }
   },
   "outputs": [],
   "source": [
    "X = X.drop(columns=['WHATEVER COLUMNS']) # Drops weak features\n",
    "\n",
    "log_reg = LogisticRegression()\n",
    "\n",
    "scores = cross_val_score(log_reg, X, y, cv=10)\n",
    "\n",
    "scores.mean()"
   ]
  },
  {
   "cell_type": "markdown",
   "id": "diagnostic-chick",
   "metadata": {
    "ExecuteTime": {
     "end_time": "2021-03-18T19:05:15.854187Z",
     "start_time": "2021-03-18T19:05:15.848770Z"
    }
   },
   "source": [
    "# Modeling"
   ]
  },
  {
   "cell_type": "markdown",
   "id": "allied-nitrogen",
   "metadata": {},
   "source": [
    "## XGBoost"
   ]
  },
  {
   "cell_type": "code",
   "execution_count": null,
   "id": "sought-freeze",
   "metadata": {
    "ExecuteTime": {
     "end_time": "2021-03-27T18:36:51.225830Z",
     "start_time": "2021-03-27T18:36:19.517Z"
    }
   },
   "outputs": [],
   "source": [
    "import xgboost as xgb\n",
    "\n",
    "model=xgb.XGBClassifier(random_state=1,learning_rate=0.01)\n",
    "model.fit(X_train, y_train)\n",
    "model.score(X_test,y_test)"
   ]
  },
  {
   "cell_type": "code",
   "execution_count": null,
   "id": "golden-reservoir",
   "metadata": {
    "ExecuteTime": {
     "end_time": "2021-03-27T18:36:51.228260Z",
     "start_time": "2021-03-27T18:36:19.521Z"
    }
   },
   "outputs": [],
   "source": [
    "model.score(X_test,y_test)"
   ]
  },
  {
   "cell_type": "code",
   "execution_count": null,
   "id": "thousand-control",
   "metadata": {
    "ExecuteTime": {
     "end_time": "2021-03-27T18:36:51.237728Z",
     "start_time": "2021-03-27T18:36:19.525Z"
    }
   },
   "outputs": [],
   "source": [
    "!pip install xgboost"
   ]
  },
  {
   "cell_type": "code",
   "execution_count": null,
   "id": "military-matthew",
   "metadata": {
    "ExecuteTime": {
     "end_time": "2021-03-27T18:36:51.238963Z",
     "start_time": "2021-03-27T18:36:19.529Z"
    }
   },
   "outputs": [],
   "source": [
    "data_test = pd.read_csv('raw_data/test.csv')"
   ]
  },
  {
   "cell_type": "markdown",
   "id": "supreme-membrane",
   "metadata": {
    "ExecuteTime": {
     "end_time": "2021-03-18T16:34:25.286896Z",
     "start_time": "2021-03-18T16:34:25.257997Z"
    }
   },
   "source": [
    "## SGDClassifier"
   ]
  },
  {
   "cell_type": "code",
   "execution_count": null,
   "id": "ethical-reaction",
   "metadata": {
    "ExecuteTime": {
     "end_time": "2021-03-27T18:36:51.240543Z",
     "start_time": "2021-03-27T18:36:19.534Z"
    }
   },
   "outputs": [],
   "source": [
    "from sklearn.linear_model import SGDClassifier"
   ]
  },
  {
   "cell_type": "code",
   "execution_count": null,
   "id": "isolated-baptist",
   "metadata": {
    "ExecuteTime": {
     "end_time": "2021-03-27T18:36:51.242445Z",
     "start_time": "2021-03-27T18:36:19.539Z"
    }
   },
   "outputs": [],
   "source": [
    "model=SGDClassifier()"
   ]
  },
  {
   "cell_type": "code",
   "execution_count": null,
   "id": "elementary-orleans",
   "metadata": {
    "ExecuteTime": {
     "end_time": "2021-03-27T18:36:51.243984Z",
     "start_time": "2021-03-27T18:36:19.544Z"
    }
   },
   "outputs": [],
   "source": [
    "cv_result=cross_validate(model, new_data, y, cv=5) "
   ]
  },
  {
   "cell_type": "code",
   "execution_count": null,
   "id": "expensive-northern",
   "metadata": {
    "ExecuteTime": {
     "end_time": "2021-03-27T18:36:51.245463Z",
     "start_time": "2021-03-27T18:36:19.548Z"
    }
   },
   "outputs": [],
   "source": [
    "cv_result['test_score'].mean()"
   ]
  },
  {
   "cell_type": "code",
   "execution_count": null,
   "id": "mobile-awareness",
   "metadata": {
    "ExecuteTime": {
     "end_time": "2021-03-27T18:36:51.250152Z",
     "start_time": "2021-03-27T18:36:19.553Z"
    }
   },
   "outputs": [],
   "source": [
    "cross_val_score(model, new_data, y, scoring=\"f1\", cv = 7).mean()"
   ]
  },
  {
   "cell_type": "markdown",
   "id": "static-albuquerque",
   "metadata": {},
   "source": [
    "## Test Set"
   ]
  },
  {
   "cell_type": "code",
   "execution_count": null,
   "id": "reduced-emergency",
   "metadata": {
    "ExecuteTime": {
     "end_time": "2021-03-27T18:36:51.258380Z",
     "start_time": "2021-03-27T18:36:19.558Z"
    }
   },
   "outputs": [],
   "source": [
    "test_enc=ohe.transform(data_test[cat_cols]).toarray()\n",
    "data_test[cat_cols]=test_enc\n",
    "model.predict(test)"
   ]
  }
 ],
 "metadata": {
  "kernelspec": {
   "display_name": "Python 3",
   "language": "python",
   "name": "python3"
  },
  "language_info": {
   "codemirror_mode": {
    "name": "ipython",
    "version": 3
   },
   "file_extension": ".py",
   "mimetype": "text/x-python",
   "name": "python",
   "nbconvert_exporter": "python",
   "pygments_lexer": "ipython3",
   "version": "3.8.6"
  },
  "toc": {
   "base_numbering": 1,
   "nav_menu": {},
   "number_sections": true,
   "sideBar": true,
   "skip_h1_title": false,
   "title_cell": "Table of Contents",
   "title_sidebar": "Contents",
   "toc_cell": false,
   "toc_position": {},
   "toc_section_display": true,
   "toc_window_display": false
  },
  "varInspector": {
   "cols": {
    "lenName": 16,
    "lenType": 16,
    "lenVar": 40
   },
   "kernels_config": {
    "python": {
     "delete_cmd_postfix": "",
     "delete_cmd_prefix": "del ",
     "library": "var_list.py",
     "varRefreshCmd": "print(var_dic_list())"
    },
    "r": {
     "delete_cmd_postfix": ") ",
     "delete_cmd_prefix": "rm(",
     "library": "var_list.r",
     "varRefreshCmd": "cat(var_dic_list()) "
    }
   },
   "types_to_exclude": [
    "module",
    "function",
    "builtin_function_or_method",
    "instance",
    "_Feature"
   ],
   "window_display": false
  }
 },
 "nbformat": 4,
 "nbformat_minor": 5
}
