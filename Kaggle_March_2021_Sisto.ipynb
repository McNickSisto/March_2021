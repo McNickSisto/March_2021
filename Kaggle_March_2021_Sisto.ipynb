{
 "cells": [
  {
   "cell_type": "markdown",
   "id": "pleased-union",
   "metadata": {
    "ExecuteTime": {
     "end_time": "2021-03-18T10:30:57.053865Z",
     "start_time": "2021-03-18T10:30:57.048774Z"
    }
   },
   "source": [
    "# Data Exploration & Preparation"
   ]
  },
  {
   "cell_type": "markdown",
   "id": "continued-index",
   "metadata": {
    "ExecuteTime": {
     "end_time": "2021-03-18T10:31:05.058336Z",
     "start_time": "2021-03-18T10:31:05.053907Z"
    },
    "heading_collapsed": true
   },
   "source": [
    "## Importing Modules"
   ]
  },
  {
   "cell_type": "code",
   "execution_count": 1,
   "id": "whole-yukon",
   "metadata": {
    "ExecuteTime": {
     "end_time": "2021-03-18T19:22:16.009697Z",
     "start_time": "2021-03-18T19:22:14.756609Z"
    },
    "hidden": true
   },
   "outputs": [],
   "source": [
    "import pandas as pd\n",
    "import seaborn as sns\n",
    "from scipy import stats\n",
    "import numpy as np\n",
    "import matplotlib.pyplot as plt"
   ]
  },
  {
   "cell_type": "markdown",
   "id": "norman-weekend",
   "metadata": {
    "ExecuteTime": {
     "end_time": "2021-03-18T10:31:19.126697Z",
     "start_time": "2021-03-18T10:31:19.118825Z"
    }
   },
   "source": [
    "## Data Exploration"
   ]
  },
  {
   "cell_type": "markdown",
   "id": "vital-trademark",
   "metadata": {
    "ExecuteTime": {
     "end_time": "2021-03-18T10:33:55.611010Z",
     "start_time": "2021-03-18T10:33:55.603712Z"
    },
    "heading_collapsed": true
   },
   "source": [
    "### Data Import "
   ]
  },
  {
   "cell_type": "code",
   "execution_count": 2,
   "id": "desirable-precipitation",
   "metadata": {
    "ExecuteTime": {
     "end_time": "2021-03-18T19:22:17.375397Z",
     "start_time": "2021-03-18T19:22:16.012851Z"
    },
    "hidden": true
   },
   "outputs": [],
   "source": [
    "data = pd.read_csv('raw_data/train.csv')"
   ]
  },
  {
   "cell_type": "code",
   "execution_count": 3,
   "id": "rural-fountain",
   "metadata": {
    "ExecuteTime": {
     "end_time": "2021-03-18T19:22:17.429877Z",
     "start_time": "2021-03-18T19:22:17.378716Z"
    },
    "hidden": true
   },
   "outputs": [
    {
     "data": {
      "text/html": [
       "<div>\n",
       "<style scoped>\n",
       "    .dataframe tbody tr th:only-of-type {\n",
       "        vertical-align: middle;\n",
       "    }\n",
       "\n",
       "    .dataframe tbody tr th {\n",
       "        vertical-align: top;\n",
       "    }\n",
       "\n",
       "    .dataframe thead th {\n",
       "        text-align: right;\n",
       "    }\n",
       "</style>\n",
       "<table border=\"1\" class=\"dataframe\">\n",
       "  <thead>\n",
       "    <tr style=\"text-align: right;\">\n",
       "      <th></th>\n",
       "      <th>id</th>\n",
       "      <th>cat0</th>\n",
       "      <th>cat1</th>\n",
       "      <th>cat2</th>\n",
       "      <th>cat3</th>\n",
       "      <th>cat4</th>\n",
       "      <th>cat5</th>\n",
       "      <th>cat6</th>\n",
       "      <th>cat7</th>\n",
       "      <th>cat8</th>\n",
       "      <th>...</th>\n",
       "      <th>cont2</th>\n",
       "      <th>cont3</th>\n",
       "      <th>cont4</th>\n",
       "      <th>cont5</th>\n",
       "      <th>cont6</th>\n",
       "      <th>cont7</th>\n",
       "      <th>cont8</th>\n",
       "      <th>cont9</th>\n",
       "      <th>cont10</th>\n",
       "      <th>target</th>\n",
       "    </tr>\n",
       "  </thead>\n",
       "  <tbody>\n",
       "    <tr>\n",
       "      <th>0</th>\n",
       "      <td>0</td>\n",
       "      <td>A</td>\n",
       "      <td>I</td>\n",
       "      <td>A</td>\n",
       "      <td>B</td>\n",
       "      <td>B</td>\n",
       "      <td>BI</td>\n",
       "      <td>A</td>\n",
       "      <td>S</td>\n",
       "      <td>Q</td>\n",
       "      <td>...</td>\n",
       "      <td>0.759439</td>\n",
       "      <td>0.795549</td>\n",
       "      <td>0.681917</td>\n",
       "      <td>0.621672</td>\n",
       "      <td>0.592184</td>\n",
       "      <td>0.791921</td>\n",
       "      <td>0.815254</td>\n",
       "      <td>0.965006</td>\n",
       "      <td>0.665915</td>\n",
       "      <td>0</td>\n",
       "    </tr>\n",
       "    <tr>\n",
       "      <th>1</th>\n",
       "      <td>1</td>\n",
       "      <td>A</td>\n",
       "      <td>I</td>\n",
       "      <td>A</td>\n",
       "      <td>A</td>\n",
       "      <td>E</td>\n",
       "      <td>BI</td>\n",
       "      <td>K</td>\n",
       "      <td>W</td>\n",
       "      <td>AD</td>\n",
       "      <td>...</td>\n",
       "      <td>0.386385</td>\n",
       "      <td>0.541366</td>\n",
       "      <td>0.388982</td>\n",
       "      <td>0.357778</td>\n",
       "      <td>0.600044</td>\n",
       "      <td>0.408701</td>\n",
       "      <td>0.399353</td>\n",
       "      <td>0.927406</td>\n",
       "      <td>0.493729</td>\n",
       "      <td>0</td>\n",
       "    </tr>\n",
       "    <tr>\n",
       "      <th>2</th>\n",
       "      <td>2</td>\n",
       "      <td>A</td>\n",
       "      <td>K</td>\n",
       "      <td>A</td>\n",
       "      <td>A</td>\n",
       "      <td>E</td>\n",
       "      <td>BI</td>\n",
       "      <td>A</td>\n",
       "      <td>E</td>\n",
       "      <td>BM</td>\n",
       "      <td>...</td>\n",
       "      <td>0.343255</td>\n",
       "      <td>0.616352</td>\n",
       "      <td>0.793687</td>\n",
       "      <td>0.552877</td>\n",
       "      <td>0.352113</td>\n",
       "      <td>0.388835</td>\n",
       "      <td>0.412303</td>\n",
       "      <td>0.292696</td>\n",
       "      <td>0.549452</td>\n",
       "      <td>0</td>\n",
       "    </tr>\n",
       "    <tr>\n",
       "      <th>3</th>\n",
       "      <td>3</td>\n",
       "      <td>A</td>\n",
       "      <td>K</td>\n",
       "      <td>A</td>\n",
       "      <td>C</td>\n",
       "      <td>E</td>\n",
       "      <td>BI</td>\n",
       "      <td>A</td>\n",
       "      <td>Y</td>\n",
       "      <td>AD</td>\n",
       "      <td>...</td>\n",
       "      <td>0.831147</td>\n",
       "      <td>0.807807</td>\n",
       "      <td>0.800032</td>\n",
       "      <td>0.619147</td>\n",
       "      <td>0.221789</td>\n",
       "      <td>0.897617</td>\n",
       "      <td>0.633669</td>\n",
       "      <td>0.760318</td>\n",
       "      <td>0.934242</td>\n",
       "      <td>0</td>\n",
       "    </tr>\n",
       "    <tr>\n",
       "      <th>4</th>\n",
       "      <td>4</td>\n",
       "      <td>A</td>\n",
       "      <td>I</td>\n",
       "      <td>G</td>\n",
       "      <td>B</td>\n",
       "      <td>E</td>\n",
       "      <td>BI</td>\n",
       "      <td>C</td>\n",
       "      <td>G</td>\n",
       "      <td>Q</td>\n",
       "      <td>...</td>\n",
       "      <td>0.338818</td>\n",
       "      <td>0.277308</td>\n",
       "      <td>0.610578</td>\n",
       "      <td>0.128291</td>\n",
       "      <td>0.578764</td>\n",
       "      <td>0.279167</td>\n",
       "      <td>0.351103</td>\n",
       "      <td>0.357084</td>\n",
       "      <td>0.328960</td>\n",
       "      <td>1</td>\n",
       "    </tr>\n",
       "  </tbody>\n",
       "</table>\n",
       "<p>5 rows × 32 columns</p>\n",
       "</div>"
      ],
      "text/plain": [
       "   id cat0 cat1 cat2 cat3 cat4 cat5 cat6 cat7 cat8  ...     cont2     cont3  \\\n",
       "0   0    A    I    A    B    B   BI    A    S    Q  ...  0.759439  0.795549   \n",
       "1   1    A    I    A    A    E   BI    K    W   AD  ...  0.386385  0.541366   \n",
       "2   2    A    K    A    A    E   BI    A    E   BM  ...  0.343255  0.616352   \n",
       "3   3    A    K    A    C    E   BI    A    Y   AD  ...  0.831147  0.807807   \n",
       "4   4    A    I    G    B    E   BI    C    G    Q  ...  0.338818  0.277308   \n",
       "\n",
       "      cont4     cont5     cont6     cont7     cont8     cont9    cont10 target  \n",
       "0  0.681917  0.621672  0.592184  0.791921  0.815254  0.965006  0.665915      0  \n",
       "1  0.388982  0.357778  0.600044  0.408701  0.399353  0.927406  0.493729      0  \n",
       "2  0.793687  0.552877  0.352113  0.388835  0.412303  0.292696  0.549452      0  \n",
       "3  0.800032  0.619147  0.221789  0.897617  0.633669  0.760318  0.934242      0  \n",
       "4  0.610578  0.128291  0.578764  0.279167  0.351103  0.357084  0.328960      1  \n",
       "\n",
       "[5 rows x 32 columns]"
      ]
     },
     "execution_count": 3,
     "metadata": {},
     "output_type": "execute_result"
    }
   ],
   "source": [
    "data.head()"
   ]
  },
  {
   "cell_type": "markdown",
   "id": "average-packaging",
   "metadata": {
    "ExecuteTime": {
     "end_time": "2021-03-18T11:05:40.281078Z",
     "start_time": "2021-03-18T11:05:40.269368Z"
    },
    "heading_collapsed": true
   },
   "source": [
    "### X & Y"
   ]
  },
  {
   "cell_type": "code",
   "execution_count": 4,
   "id": "aggressive-milwaukee",
   "metadata": {
    "ExecuteTime": {
     "end_time": "2021-03-18T19:22:17.507821Z",
     "start_time": "2021-03-18T19:22:17.434995Z"
    },
    "hidden": true
   },
   "outputs": [],
   "source": [
    "X = data.drop(columns = 'target')"
   ]
  },
  {
   "cell_type": "code",
   "execution_count": 5,
   "id": "natural-reset",
   "metadata": {
    "ExecuteTime": {
     "end_time": "2021-03-18T19:22:17.523533Z",
     "start_time": "2021-03-18T19:22:17.511450Z"
    },
    "hidden": true
   },
   "outputs": [
    {
     "data": {
      "text/plain": [
       "0         0\n",
       "1         0\n",
       "2         0\n",
       "3         0\n",
       "4         1\n",
       "         ..\n",
       "299995    0\n",
       "299996    0\n",
       "299997    1\n",
       "299998    0\n",
       "299999    0\n",
       "Name: target, Length: 300000, dtype: int64"
      ]
     },
     "execution_count": 5,
     "metadata": {},
     "output_type": "execute_result"
    }
   ],
   "source": [
    "y = data['target']\n",
    "y"
   ]
  },
  {
   "cell_type": "markdown",
   "id": "interesting-interview",
   "metadata": {
    "heading_collapsed": true
   },
   "source": [
    "### Checking for duplicates"
   ]
  },
  {
   "cell_type": "code",
   "execution_count": 6,
   "id": "smaller-recognition",
   "metadata": {
    "ExecuteTime": {
     "end_time": "2021-03-18T19:22:17.539223Z",
     "start_time": "2021-03-18T19:22:17.526850Z"
    },
    "hidden": true
   },
   "outputs": [
    {
     "data": {
      "text/plain": [
       "300000"
      ]
     },
     "execution_count": 6,
     "metadata": {},
     "output_type": "execute_result"
    }
   ],
   "source": [
    "len(X) # Check number of rows before removing duplicates"
   ]
  },
  {
   "cell_type": "code",
   "execution_count": 7,
   "id": "successful-breathing",
   "metadata": {
    "ExecuteTime": {
     "end_time": "2021-03-18T19:22:18.461082Z",
     "start_time": "2021-03-18T19:22:17.542681Z"
    },
    "hidden": true
   },
   "outputs": [
    {
     "data": {
      "text/plain": [
       "300000"
      ]
     },
     "execution_count": 7,
     "metadata": {},
     "output_type": "execute_result"
    }
   ],
   "source": [
    "X = X.drop_duplicates() # Remove duplicates\n",
    "len(X)# Check new number of rows"
   ]
  },
  {
   "cell_type": "markdown",
   "id": "functioning-paper",
   "metadata": {
    "ExecuteTime": {
     "end_time": "2021-03-18T10:34:07.337150Z",
     "start_time": "2021-03-18T10:34:07.332486Z"
    },
    "heading_collapsed": true
   },
   "source": [
    "### Null Values"
   ]
  },
  {
   "cell_type": "code",
   "execution_count": 8,
   "id": "interpreted-bleeding",
   "metadata": {
    "ExecuteTime": {
     "end_time": "2021-03-18T19:22:18.772651Z",
     "start_time": "2021-03-18T19:22:18.466815Z"
    },
    "hidden": true,
    "scrolled": true
   },
   "outputs": [
    {
     "data": {
      "text/plain": [
       "id        0\n",
       "cat15     0\n",
       "cont9     0\n",
       "cont8     0\n",
       "cont7     0\n",
       "cont6     0\n",
       "cont5     0\n",
       "cont4     0\n",
       "cont3     0\n",
       "cont2     0\n",
       "cont1     0\n",
       "cont0     0\n",
       "cat18     0\n",
       "cat17     0\n",
       "cat16     0\n",
       "cat14     0\n",
       "cat0      0\n",
       "cat13     0\n",
       "cat12     0\n",
       "cat11     0\n",
       "cat10     0\n",
       "cat9      0\n",
       "cat8      0\n",
       "cat7      0\n",
       "cat6      0\n",
       "cat5      0\n",
       "cat4      0\n",
       "cat3      0\n",
       "cat2      0\n",
       "cat1      0\n",
       "cont10    0\n",
       "dtype: int64"
      ]
     },
     "execution_count": 8,
     "metadata": {},
     "output_type": "execute_result"
    }
   ],
   "source": [
    "X.isnull().sum().sort_values(ascending=False) #NaN count for each column"
   ]
  },
  {
   "cell_type": "markdown",
   "id": "weighted-sphere",
   "metadata": {
    "ExecuteTime": {
     "end_time": "2021-03-18T10:53:18.000954Z",
     "start_time": "2021-03-18T10:53:17.996983Z"
    }
   },
   "source": [
    "### Checking Cat and Num values"
   ]
  },
  {
   "cell_type": "code",
   "execution_count": 9,
   "id": "relative-honor",
   "metadata": {
    "ExecuteTime": {
     "end_time": "2021-03-18T19:22:18.785470Z",
     "start_time": "2021-03-18T19:22:18.777076Z"
    }
   },
   "outputs": [],
   "source": [
    "num_cols = X._get_numeric_data().columns"
   ]
  },
  {
   "cell_type": "code",
   "execution_count": 10,
   "id": "korean-abuse",
   "metadata": {
    "ExecuteTime": {
     "end_time": "2021-03-18T19:22:18.813630Z",
     "start_time": "2021-03-18T19:22:18.788605Z"
    }
   },
   "outputs": [
    {
     "data": {
      "text/plain": [
       "12"
      ]
     },
     "execution_count": 10,
     "metadata": {},
     "output_type": "execute_result"
    }
   ],
   "source": [
    "len(num_cols)"
   ]
  },
  {
   "cell_type": "code",
   "execution_count": 11,
   "id": "documentary-median",
   "metadata": {
    "ExecuteTime": {
     "end_time": "2021-03-18T19:22:18.839632Z",
     "start_time": "2021-03-18T19:22:18.817896Z"
    }
   },
   "outputs": [
    {
     "data": {
      "text/plain": [
       "Index(['id', 'cont0', 'cont1', 'cont2', 'cont3', 'cont4', 'cont5', 'cont6',\n",
       "       'cont7', 'cont8', 'cont9', 'cont10'],\n",
       "      dtype='object')"
      ]
     },
     "execution_count": 11,
     "metadata": {},
     "output_type": "execute_result"
    }
   ],
   "source": [
    "num_cols"
   ]
  },
  {
   "cell_type": "code",
   "execution_count": 12,
   "id": "nutritional-template",
   "metadata": {
    "ExecuteTime": {
     "end_time": "2021-03-18T19:22:18.858700Z",
     "start_time": "2021-03-18T19:22:18.844051Z"
    }
   },
   "outputs": [],
   "source": [
    "num_cols = num_cols.drop('id')"
   ]
  },
  {
   "cell_type": "code",
   "execution_count": 13,
   "id": "settled-japan",
   "metadata": {
    "ExecuteTime": {
     "end_time": "2021-03-18T19:22:18.887242Z",
     "start_time": "2021-03-18T19:22:18.862361Z"
    }
   },
   "outputs": [
    {
     "data": {
      "text/plain": [
       "Index(['cont0', 'cont1', 'cont2', 'cont3', 'cont4', 'cont5', 'cont6', 'cont7',\n",
       "       'cont8', 'cont9', 'cont10'],\n",
       "      dtype='object')"
      ]
     },
     "execution_count": 13,
     "metadata": {},
     "output_type": "execute_result"
    }
   ],
   "source": [
    "num_cols"
   ]
  },
  {
   "cell_type": "code",
   "execution_count": 14,
   "id": "earned-matrix",
   "metadata": {
    "ExecuteTime": {
     "end_time": "2021-03-18T19:22:18.909993Z",
     "start_time": "2021-03-18T19:22:18.895110Z"
    }
   },
   "outputs": [],
   "source": [
    "cat_cols = list(set(X) - set(num_cols))"
   ]
  },
  {
   "cell_type": "code",
   "execution_count": 15,
   "id": "passive-twenty",
   "metadata": {
    "ExecuteTime": {
     "end_time": "2021-03-18T19:22:18.925728Z",
     "start_time": "2021-03-18T19:22:18.913301Z"
    }
   },
   "outputs": [
    {
     "data": {
      "text/plain": [
       "['cat11',\n",
       " 'cat12',\n",
       " 'id',\n",
       " 'cat14',\n",
       " 'cat2',\n",
       " 'cat0',\n",
       " 'cat4',\n",
       " 'cat7',\n",
       " 'cat9',\n",
       " 'cat17',\n",
       " 'cat5',\n",
       " 'cat15',\n",
       " 'cat1',\n",
       " 'cat10',\n",
       " 'cat16',\n",
       " 'cat6',\n",
       " 'cat3',\n",
       " 'cat13',\n",
       " 'cat18',\n",
       " 'cat8']"
      ]
     },
     "execution_count": 15,
     "metadata": {},
     "output_type": "execute_result"
    }
   ],
   "source": [
    "cat_cols "
   ]
  },
  {
   "cell_type": "code",
   "execution_count": 16,
   "id": "rolled-microphone",
   "metadata": {
    "ExecuteTime": {
     "end_time": "2021-03-18T19:22:18.937805Z",
     "start_time": "2021-03-18T19:22:18.928976Z"
    }
   },
   "outputs": [],
   "source": [
    "cat_cols.remove('id')"
   ]
  },
  {
   "cell_type": "code",
   "execution_count": 17,
   "id": "tribal-birth",
   "metadata": {
    "ExecuteTime": {
     "end_time": "2021-03-18T19:22:18.956394Z",
     "start_time": "2021-03-18T19:22:18.940931Z"
    }
   },
   "outputs": [
    {
     "data": {
      "text/plain": [
       "['cat11',\n",
       " 'cat12',\n",
       " 'cat14',\n",
       " 'cat2',\n",
       " 'cat0',\n",
       " 'cat4',\n",
       " 'cat7',\n",
       " 'cat9',\n",
       " 'cat17',\n",
       " 'cat5',\n",
       " 'cat15',\n",
       " 'cat1',\n",
       " 'cat10',\n",
       " 'cat16',\n",
       " 'cat6',\n",
       " 'cat3',\n",
       " 'cat13',\n",
       " 'cat18',\n",
       " 'cat8']"
      ]
     },
     "execution_count": 17,
     "metadata": {},
     "output_type": "execute_result"
    }
   ],
   "source": [
    "cat_cols"
   ]
  },
  {
   "cell_type": "code",
   "execution_count": 18,
   "id": "future-distribution",
   "metadata": {
    "ExecuteTime": {
     "end_time": "2021-03-18T19:22:19.038962Z",
     "start_time": "2021-03-18T19:22:18.959851Z"
    }
   },
   "outputs": [],
   "source": [
    "data_cat = data[cat_cols]"
   ]
  },
  {
   "cell_type": "code",
   "execution_count": 19,
   "id": "complete-collectible",
   "metadata": {
    "ExecuteTime": {
     "end_time": "2021-03-18T19:22:19.046736Z",
     "start_time": "2021-03-18T19:22:19.042389Z"
    }
   },
   "outputs": [],
   "source": [
    "# plt.figure(figsize=(18,12))\n",
    "# sns.countplot(data= data, x='cat7', hue=y)"
   ]
  },
  {
   "cell_type": "code",
   "execution_count": 20,
   "id": "narrow-strand",
   "metadata": {
    "ExecuteTime": {
     "end_time": "2021-03-18T19:22:19.069406Z",
     "start_time": "2021-03-18T19:22:19.050703Z"
    }
   },
   "outputs": [],
   "source": [
    "# plt.figure(figsize=(30,50))\n",
    "# for index, cat in enumerate(cat_cols):\n",
    "#     index += 1\n",
    "#     plt.subplot(10,2,index)\n",
    "#     x = data[cat]\n",
    "#     sns.histplot(x)\n",
    "#     plt.title(cat)"
   ]
  },
  {
   "cell_type": "code",
   "execution_count": 21,
   "id": "damaged-belle",
   "metadata": {
    "ExecuteTime": {
     "end_time": "2021-03-18T19:22:19.806400Z",
     "start_time": "2021-03-18T19:22:19.072659Z"
    }
   },
   "outputs": [
    {
     "data": {
      "text/plain": [
       "<AxesSubplot:>"
      ]
     },
     "execution_count": 21,
     "metadata": {},
     "output_type": "execute_result"
    },
    {
     "data": {
      "image/png": "[encoded data removed]",
      "text/plain": [
       "<Figure size 432x288 with 2 Axes>"
      ]
     },
     "metadata": {
      "needs_background": "light"
     },
     "output_type": "display_data"
    }
   ],
   "source": [
    "# Heatmap\n",
    "corr = data.corr()\n",
    "sns.heatmap(corr, \n",
    "        xticklabels=corr.columns,\n",
    "        yticklabels=corr.columns,\n",
    "        cmap= \"YlGnBu\")"
   ]
  },
  {
   "cell_type": "code",
   "execution_count": 22,
   "id": "environmental-directory",
   "metadata": {
    "ExecuteTime": {
     "end_time": "2021-03-18T19:22:20.289439Z",
     "start_time": "2021-03-18T19:22:19.809810Z"
    },
    "scrolled": true
   },
   "outputs": [
    {
     "data": {
      "text/plain": [
       "<AxesSubplot:xlabel='target', ylabel='Count'>"
      ]
     },
     "execution_count": 22,
     "metadata": {},
     "output_type": "execute_result"
    },
    {
     "data": {
      "image/png": "[encoded data removed]",
      "text/plain": [
       "<Figure size 432x288 with 1 Axes>"
      ]
     },
     "metadata": {
      "needs_background": "light"
     },
     "output_type": "display_data"
    }
   ],
   "source": [
    "sns.histplot(y) #imbalanced, so i shouldnt use accuracy[[TN,FP], [FN,TP]], F1 identifies 1, & w/o wrong ones"
   ]
  },
  {
   "cell_type": "markdown",
   "id": "female-walnut",
   "metadata": {
    "ExecuteTime": {
     "end_time": "2021-03-18T18:59:54.587236Z",
     "start_time": "2021-03-18T18:59:54.581509Z"
    }
   },
   "source": [
    "### Correlation features removed "
   ]
  },
  {
   "cell_type": "code",
   "execution_count": 23,
   "id": "painful-diabetes",
   "metadata": {
    "ExecuteTime": {
     "end_time": "2021-03-18T19:22:20.935867Z",
     "start_time": "2021-03-18T19:22:20.301045Z"
    }
   },
   "outputs": [
    {
     "data": {
      "text/plain": [
       "<AxesSubplot:>"
      ]
     },
     "execution_count": 23,
     "metadata": {},
     "output_type": "execute_result"
    },
    {
     "data": {
      "image/png": "[encoded data removed]",
      "text/plain": [
       "<Figure size 432x288 with 2 Axes>"
      ]
     },
     "metadata": {
      "needs_background": "light"
     },
     "output_type": "display_data"
    }
   ],
   "source": [
    "corr = data.corr()\n",
    "sns.heatmap(corr, \n",
    "        xticklabels=corr.columns,\n",
    "        yticklabels=corr.columns,\n",
    "        cmap= \"YlGnBu\")"
   ]
  },
  {
   "cell_type": "code",
   "execution_count": 36,
   "id": "recent-still",
   "metadata": {
    "ExecuteTime": {
     "end_time": "2021-03-18T19:23:12.051865Z",
     "start_time": "2021-03-18T19:23:11.991256Z"
    },
    "scrolled": false
   },
   "outputs": [
    {
     "ename": "KeyError",
     "evalue": "\"['cont2' 'cont7' 'cont10' 'id'] not found in axis\"",
     "output_type": "error",
     "traceback": [
      "\u001b[0;31m---------------------------------------------------------------------------\u001b[0m",
      "\u001b[0;31mKeyError\u001b[0m                                  Traceback (most recent call last)",
      "\u001b[0;32m<ipython-input-36-6098a6147e9b>\u001b[0m in \u001b[0;36m<module>\u001b[0;34m\u001b[0m\n\u001b[0;32m----> 1\u001b[0;31m \u001b[0mX\u001b[0m \u001b[0;34m=\u001b[0m \u001b[0mX\u001b[0m\u001b[0;34m.\u001b[0m\u001b[0mdrop\u001b[0m\u001b[0;34m(\u001b[0m\u001b[0mcolumns\u001b[0m\u001b[0;34m=\u001b[0m\u001b[0;34m[\u001b[0m\u001b[0;34m'cont2'\u001b[0m\u001b[0;34m,\u001b[0m\u001b[0;34m'cont7'\u001b[0m\u001b[0;34m,\u001b[0m\u001b[0;34m'cont10'\u001b[0m\u001b[0;34m,\u001b[0m\u001b[0;34m'id'\u001b[0m\u001b[0;34m]\u001b[0m\u001b[0;34m)\u001b[0m\u001b[0;34m\u001b[0m\u001b[0;34m\u001b[0m\u001b[0m\n\u001b[0m",
      "\u001b[0;32m~/.pyenv/versions/3.8.6/envs/lewagon/lib/python3.8/site-packages/pandas/core/frame.py\u001b[0m in \u001b[0;36mdrop\u001b[0;34m(self, labels, axis, index, columns, level, inplace, errors)\u001b[0m\n\u001b[1;32m   4303\u001b[0m                 \u001b[0mweight\u001b[0m  \u001b[0;36m1.0\u001b[0m     \u001b[0;36m0.8\u001b[0m\u001b[0;34m\u001b[0m\u001b[0;34m\u001b[0m\u001b[0m\n\u001b[1;32m   4304\u001b[0m         \"\"\"\n\u001b[0;32m-> 4305\u001b[0;31m         return super().drop(\n\u001b[0m\u001b[1;32m   4306\u001b[0m             \u001b[0mlabels\u001b[0m\u001b[0;34m=\u001b[0m\u001b[0mlabels\u001b[0m\u001b[0;34m,\u001b[0m\u001b[0;34m\u001b[0m\u001b[0;34m\u001b[0m\u001b[0m\n\u001b[1;32m   4307\u001b[0m             \u001b[0maxis\u001b[0m\u001b[0;34m=\u001b[0m\u001b[0maxis\u001b[0m\u001b[0;34m,\u001b[0m\u001b[0;34m\u001b[0m\u001b[0;34m\u001b[0m\u001b[0m\n",
      "\u001b[0;32m~/.pyenv/versions/3.8.6/envs/lewagon/lib/python3.8/site-packages/pandas/core/generic.py\u001b[0m in \u001b[0;36mdrop\u001b[0;34m(self, labels, axis, index, columns, level, inplace, errors)\u001b[0m\n\u001b[1;32m   4148\u001b[0m         \u001b[0;32mfor\u001b[0m \u001b[0maxis\u001b[0m\u001b[0;34m,\u001b[0m \u001b[0mlabels\u001b[0m \u001b[0;32min\u001b[0m \u001b[0maxes\u001b[0m\u001b[0;34m.\u001b[0m\u001b[0mitems\u001b[0m\u001b[0;34m(\u001b[0m\u001b[0;34m)\u001b[0m\u001b[0;34m:\u001b[0m\u001b[0;34m\u001b[0m\u001b[0;34m\u001b[0m\u001b[0m\n\u001b[1;32m   4149\u001b[0m             \u001b[0;32mif\u001b[0m \u001b[0mlabels\u001b[0m \u001b[0;32mis\u001b[0m \u001b[0;32mnot\u001b[0m \u001b[0;32mNone\u001b[0m\u001b[0;34m:\u001b[0m\u001b[0;34m\u001b[0m\u001b[0;34m\u001b[0m\u001b[0m\n\u001b[0;32m-> 4150\u001b[0;31m                 \u001b[0mobj\u001b[0m \u001b[0;34m=\u001b[0m \u001b[0mobj\u001b[0m\u001b[0;34m.\u001b[0m\u001b[0m_drop_axis\u001b[0m\u001b[0;34m(\u001b[0m\u001b[0mlabels\u001b[0m\u001b[0;34m,\u001b[0m \u001b[0maxis\u001b[0m\u001b[0;34m,\u001b[0m \u001b[0mlevel\u001b[0m\u001b[0;34m=\u001b[0m\u001b[0mlevel\u001b[0m\u001b[0;34m,\u001b[0m \u001b[0merrors\u001b[0m\u001b[0;34m=\u001b[0m\u001b[0merrors\u001b[0m\u001b[0;34m)\u001b[0m\u001b[0;34m\u001b[0m\u001b[0;34m\u001b[0m\u001b[0m\n\u001b[0m\u001b[1;32m   4151\u001b[0m \u001b[0;34m\u001b[0m\u001b[0m\n\u001b[1;32m   4152\u001b[0m         \u001b[0;32mif\u001b[0m \u001b[0minplace\u001b[0m\u001b[0;34m:\u001b[0m\u001b[0;34m\u001b[0m\u001b[0;34m\u001b[0m\u001b[0m\n",
      "\u001b[0;32m~/.pyenv/versions/3.8.6/envs/lewagon/lib/python3.8/site-packages/pandas/core/generic.py\u001b[0m in \u001b[0;36m_drop_axis\u001b[0;34m(self, labels, axis, level, errors)\u001b[0m\n\u001b[1;32m   4183\u001b[0m                 \u001b[0mnew_axis\u001b[0m \u001b[0;34m=\u001b[0m \u001b[0maxis\u001b[0m\u001b[0;34m.\u001b[0m\u001b[0mdrop\u001b[0m\u001b[0;34m(\u001b[0m\u001b[0mlabels\u001b[0m\u001b[0;34m,\u001b[0m \u001b[0mlevel\u001b[0m\u001b[0;34m=\u001b[0m\u001b[0mlevel\u001b[0m\u001b[0;34m,\u001b[0m \u001b[0merrors\u001b[0m\u001b[0;34m=\u001b[0m\u001b[0merrors\u001b[0m\u001b[0;34m)\u001b[0m\u001b[0;34m\u001b[0m\u001b[0;34m\u001b[0m\u001b[0m\n\u001b[1;32m   4184\u001b[0m             \u001b[0;32melse\u001b[0m\u001b[0;34m:\u001b[0m\u001b[0;34m\u001b[0m\u001b[0;34m\u001b[0m\u001b[0m\n\u001b[0;32m-> 4185\u001b[0;31m                 \u001b[0mnew_axis\u001b[0m \u001b[0;34m=\u001b[0m \u001b[0maxis\u001b[0m\u001b[0;34m.\u001b[0m\u001b[0mdrop\u001b[0m\u001b[0;34m(\u001b[0m\u001b[0mlabels\u001b[0m\u001b[0;34m,\u001b[0m \u001b[0merrors\u001b[0m\u001b[0;34m=\u001b[0m\u001b[0merrors\u001b[0m\u001b[0;34m)\u001b[0m\u001b[0;34m\u001b[0m\u001b[0;34m\u001b[0m\u001b[0m\n\u001b[0m\u001b[1;32m   4186\u001b[0m             \u001b[0mresult\u001b[0m \u001b[0;34m=\u001b[0m \u001b[0mself\u001b[0m\u001b[0;34m.\u001b[0m\u001b[0mreindex\u001b[0m\u001b[0;34m(\u001b[0m\u001b[0;34m**\u001b[0m\u001b[0;34m{\u001b[0m\u001b[0maxis_name\u001b[0m\u001b[0;34m:\u001b[0m \u001b[0mnew_axis\u001b[0m\u001b[0;34m}\u001b[0m\u001b[0;34m)\u001b[0m\u001b[0;34m\u001b[0m\u001b[0;34m\u001b[0m\u001b[0m\n\u001b[1;32m   4187\u001b[0m \u001b[0;34m\u001b[0m\u001b[0m\n",
      "\u001b[0;32m~/.pyenv/versions/3.8.6/envs/lewagon/lib/python3.8/site-packages/pandas/core/indexes/base.py\u001b[0m in \u001b[0;36mdrop\u001b[0;34m(self, labels, errors)\u001b[0m\n\u001b[1;32m   5589\u001b[0m         \u001b[0;32mif\u001b[0m \u001b[0mmask\u001b[0m\u001b[0;34m.\u001b[0m\u001b[0many\u001b[0m\u001b[0;34m(\u001b[0m\u001b[0;34m)\u001b[0m\u001b[0;34m:\u001b[0m\u001b[0;34m\u001b[0m\u001b[0;34m\u001b[0m\u001b[0m\n\u001b[1;32m   5590\u001b[0m             \u001b[0;32mif\u001b[0m \u001b[0merrors\u001b[0m \u001b[0;34m!=\u001b[0m \u001b[0;34m\"ignore\"\u001b[0m\u001b[0;34m:\u001b[0m\u001b[0;34m\u001b[0m\u001b[0;34m\u001b[0m\u001b[0m\n\u001b[0;32m-> 5591\u001b[0;31m                 \u001b[0;32mraise\u001b[0m \u001b[0mKeyError\u001b[0m\u001b[0;34m(\u001b[0m\u001b[0;34mf\"{labels[mask]} not found in axis\"\u001b[0m\u001b[0;34m)\u001b[0m\u001b[0;34m\u001b[0m\u001b[0;34m\u001b[0m\u001b[0m\n\u001b[0m\u001b[1;32m   5592\u001b[0m             \u001b[0mindexer\u001b[0m \u001b[0;34m=\u001b[0m \u001b[0mindexer\u001b[0m\u001b[0;34m[\u001b[0m\u001b[0;34m~\u001b[0m\u001b[0mmask\u001b[0m\u001b[0;34m]\u001b[0m\u001b[0;34m\u001b[0m\u001b[0;34m\u001b[0m\u001b[0m\n\u001b[1;32m   5593\u001b[0m         \u001b[0;32mreturn\u001b[0m \u001b[0mself\u001b[0m\u001b[0;34m.\u001b[0m\u001b[0mdelete\u001b[0m\u001b[0;34m(\u001b[0m\u001b[0mindexer\u001b[0m\u001b[0;34m)\u001b[0m\u001b[0;34m\u001b[0m\u001b[0;34m\u001b[0m\u001b[0m\n",
      "\u001b[0;31mKeyError\u001b[0m: \"['cont2' 'cont7' 'cont10' 'id'] not found in axis\""
     ]
    }
   ],
   "source": [
    "X = X.drop(columns=['cont2','cont7','cont10','id'])"
   ]
  },
  {
   "cell_type": "code",
   "execution_count": 25,
   "id": "internal-massachusetts",
   "metadata": {
    "ExecuteTime": {
     "end_time": "2021-03-18T19:22:21.038352Z",
     "start_time": "2021-03-18T19:22:21.028043Z"
    }
   },
   "outputs": [
    {
     "data": {
      "text/plain": [
       "(300000, 28)"
      ]
     },
     "execution_count": 25,
     "metadata": {},
     "output_type": "execute_result"
    }
   ],
   "source": [
    "X.shape"
   ]
  },
  {
   "cell_type": "code",
   "execution_count": 26,
   "id": "governing-picking",
   "metadata": {
    "ExecuteTime": {
     "end_time": "2021-03-18T19:22:21.064180Z",
     "start_time": "2021-03-18T19:22:21.042306Z"
    }
   },
   "outputs": [],
   "source": [
    "num_cols = X._get_numeric_data().columns"
   ]
  },
  {
   "cell_type": "markdown",
   "id": "interior-graphic",
   "metadata": {
    "ExecuteTime": {
     "end_time": "2021-03-18T19:11:58.358383Z",
     "start_time": "2021-03-18T19:11:58.349241Z"
    },
    "heading_collapsed": true
   },
   "source": [
    "## Balancing with SMOTE"
   ]
  },
  {
   "cell_type": "markdown",
   "id": "raised-bobby",
   "metadata": {
    "ExecuteTime": {
     "end_time": "2021-03-18T11:55:58.238588Z",
     "start_time": "2021-03-18T11:55:58.008960Z"
    }
   },
   "source": [
    "## Preprocessing"
   ]
  },
  {
   "cell_type": "code",
   "execution_count": 27,
   "id": "weekly-programming",
   "metadata": {
    "ExecuteTime": {
     "end_time": "2021-03-18T19:22:21.288518Z",
     "start_time": "2021-03-18T19:22:21.068635Z"
    }
   },
   "outputs": [
    {
     "data": {
      "text/html": [
       "<div>\n",
       "<style scoped>\n",
       "    .dataframe tbody tr th:only-of-type {\n",
       "        vertical-align: middle;\n",
       "    }\n",
       "\n",
       "    .dataframe tbody tr th {\n",
       "        vertical-align: top;\n",
       "    }\n",
       "\n",
       "    .dataframe thead th {\n",
       "        text-align: right;\n",
       "    }\n",
       "</style>\n",
       "<table border=\"1\" class=\"dataframe\">\n",
       "  <thead>\n",
       "    <tr style=\"text-align: right;\">\n",
       "      <th></th>\n",
       "      <th>id</th>\n",
       "      <th>cat0</th>\n",
       "      <th>cat1</th>\n",
       "      <th>cat2</th>\n",
       "      <th>cat3</th>\n",
       "      <th>cat4</th>\n",
       "      <th>cat5</th>\n",
       "      <th>cat6</th>\n",
       "      <th>cat7</th>\n",
       "      <th>cat8</th>\n",
       "      <th>...</th>\n",
       "      <th>cat17</th>\n",
       "      <th>cat18</th>\n",
       "      <th>cont0</th>\n",
       "      <th>cont1</th>\n",
       "      <th>cont3</th>\n",
       "      <th>cont4</th>\n",
       "      <th>cont5</th>\n",
       "      <th>cont6</th>\n",
       "      <th>cont8</th>\n",
       "      <th>cont9</th>\n",
       "    </tr>\n",
       "  </thead>\n",
       "  <tbody>\n",
       "    <tr>\n",
       "      <th>0</th>\n",
       "      <td>0</td>\n",
       "      <td>A</td>\n",
       "      <td>I</td>\n",
       "      <td>A</td>\n",
       "      <td>B</td>\n",
       "      <td>B</td>\n",
       "      <td>BI</td>\n",
       "      <td>A</td>\n",
       "      <td>S</td>\n",
       "      <td>Q</td>\n",
       "      <td>...</td>\n",
       "      <td>D</td>\n",
       "      <td>B</td>\n",
       "      <td>0.629858</td>\n",
       "      <td>0.855349</td>\n",
       "      <td>0.795549</td>\n",
       "      <td>0.681917</td>\n",
       "      <td>0.621672</td>\n",
       "      <td>0.592184</td>\n",
       "      <td>0.815254</td>\n",
       "      <td>0.965006</td>\n",
       "    </tr>\n",
       "    <tr>\n",
       "      <th>1</th>\n",
       "      <td>1</td>\n",
       "      <td>A</td>\n",
       "      <td>I</td>\n",
       "      <td>A</td>\n",
       "      <td>A</td>\n",
       "      <td>E</td>\n",
       "      <td>BI</td>\n",
       "      <td>K</td>\n",
       "      <td>W</td>\n",
       "      <td>AD</td>\n",
       "      <td>...</td>\n",
       "      <td>D</td>\n",
       "      <td>B</td>\n",
       "      <td>0.370727</td>\n",
       "      <td>0.328929</td>\n",
       "      <td>0.541366</td>\n",
       "      <td>0.388982</td>\n",
       "      <td>0.357778</td>\n",
       "      <td>0.600044</td>\n",
       "      <td>0.399353</td>\n",
       "      <td>0.927406</td>\n",
       "    </tr>\n",
       "    <tr>\n",
       "      <th>2</th>\n",
       "      <td>2</td>\n",
       "      <td>A</td>\n",
       "      <td>K</td>\n",
       "      <td>A</td>\n",
       "      <td>A</td>\n",
       "      <td>E</td>\n",
       "      <td>BI</td>\n",
       "      <td>A</td>\n",
       "      <td>E</td>\n",
       "      <td>BM</td>\n",
       "      <td>...</td>\n",
       "      <td>D</td>\n",
       "      <td>B</td>\n",
       "      <td>0.502272</td>\n",
       "      <td>0.322749</td>\n",
       "      <td>0.616352</td>\n",
       "      <td>0.793687</td>\n",
       "      <td>0.552877</td>\n",
       "      <td>0.352113</td>\n",
       "      <td>0.412303</td>\n",
       "      <td>0.292696</td>\n",
       "    </tr>\n",
       "    <tr>\n",
       "      <th>3</th>\n",
       "      <td>3</td>\n",
       "      <td>A</td>\n",
       "      <td>K</td>\n",
       "      <td>A</td>\n",
       "      <td>C</td>\n",
       "      <td>E</td>\n",
       "      <td>BI</td>\n",
       "      <td>A</td>\n",
       "      <td>Y</td>\n",
       "      <td>AD</td>\n",
       "      <td>...</td>\n",
       "      <td>D</td>\n",
       "      <td>B</td>\n",
       "      <td>0.934242</td>\n",
       "      <td>0.707663</td>\n",
       "      <td>0.807807</td>\n",
       "      <td>0.800032</td>\n",
       "      <td>0.619147</td>\n",
       "      <td>0.221789</td>\n",
       "      <td>0.633669</td>\n",
       "      <td>0.760318</td>\n",
       "    </tr>\n",
       "    <tr>\n",
       "      <th>4</th>\n",
       "      <td>4</td>\n",
       "      <td>A</td>\n",
       "      <td>I</td>\n",
       "      <td>G</td>\n",
       "      <td>B</td>\n",
       "      <td>E</td>\n",
       "      <td>BI</td>\n",
       "      <td>C</td>\n",
       "      <td>G</td>\n",
       "      <td>Q</td>\n",
       "      <td>...</td>\n",
       "      <td>D</td>\n",
       "      <td>B</td>\n",
       "      <td>0.254427</td>\n",
       "      <td>0.274514</td>\n",
       "      <td>0.277308</td>\n",
       "      <td>0.610578</td>\n",
       "      <td>0.128291</td>\n",
       "      <td>0.578764</td>\n",
       "      <td>0.351103</td>\n",
       "      <td>0.357084</td>\n",
       "    </tr>\n",
       "    <tr>\n",
       "      <th>...</th>\n",
       "      <td>...</td>\n",
       "      <td>...</td>\n",
       "      <td>...</td>\n",
       "      <td>...</td>\n",
       "      <td>...</td>\n",
       "      <td>...</td>\n",
       "      <td>...</td>\n",
       "      <td>...</td>\n",
       "      <td>...</td>\n",
       "      <td>...</td>\n",
       "      <td>...</td>\n",
       "      <td>...</td>\n",
       "      <td>...</td>\n",
       "      <td>...</td>\n",
       "      <td>...</td>\n",
       "      <td>...</td>\n",
       "      <td>...</td>\n",
       "      <td>...</td>\n",
       "      <td>...</td>\n",
       "      <td>...</td>\n",
       "      <td>...</td>\n",
       "    </tr>\n",
       "    <tr>\n",
       "      <th>299995</th>\n",
       "      <td>499993</td>\n",
       "      <td>A</td>\n",
       "      <td>N</td>\n",
       "      <td>F</td>\n",
       "      <td>A</td>\n",
       "      <td>E</td>\n",
       "      <td>BU</td>\n",
       "      <td>A</td>\n",
       "      <td>AS</td>\n",
       "      <td>K</td>\n",
       "      <td>...</td>\n",
       "      <td>D</td>\n",
       "      <td>B</td>\n",
       "      <td>0.681700</td>\n",
       "      <td>0.500730</td>\n",
       "      <td>0.671927</td>\n",
       "      <td>0.390566</td>\n",
       "      <td>0.145840</td>\n",
       "      <td>0.262767</td>\n",
       "      <td>0.519340</td>\n",
       "      <td>0.617436</td>\n",
       "    </tr>\n",
       "    <tr>\n",
       "      <th>299996</th>\n",
       "      <td>499995</td>\n",
       "      <td>A</td>\n",
       "      <td>K</td>\n",
       "      <td>A</td>\n",
       "      <td>A</td>\n",
       "      <td>G</td>\n",
       "      <td>BI</td>\n",
       "      <td>A</td>\n",
       "      <td>K</td>\n",
       "      <td>AE</td>\n",
       "      <td>...</td>\n",
       "      <td>D</td>\n",
       "      <td>B</td>\n",
       "      <td>0.489226</td>\n",
       "      <td>0.790664</td>\n",
       "      <td>0.620356</td>\n",
       "      <td>0.384891</td>\n",
       "      <td>0.735879</td>\n",
       "      <td>0.547731</td>\n",
       "      <td>0.470575</td>\n",
       "      <td>0.275743</td>\n",
       "    </tr>\n",
       "    <tr>\n",
       "      <th>299997</th>\n",
       "      <td>499996</td>\n",
       "      <td>A</td>\n",
       "      <td>G</td>\n",
       "      <td>M</td>\n",
       "      <td>A</td>\n",
       "      <td>H</td>\n",
       "      <td>BI</td>\n",
       "      <td>C</td>\n",
       "      <td>L</td>\n",
       "      <td>F</td>\n",
       "      <td>...</td>\n",
       "      <td>D</td>\n",
       "      <td>D</td>\n",
       "      <td>0.487882</td>\n",
       "      <td>0.522347</td>\n",
       "      <td>0.232436</td>\n",
       "      <td>0.832482</td>\n",
       "      <td>0.810663</td>\n",
       "      <td>0.596939</td>\n",
       "      <td>0.373997</td>\n",
       "      <td>0.518024</td>\n",
       "    </tr>\n",
       "    <tr>\n",
       "      <th>299998</th>\n",
       "      <td>499997</td>\n",
       "      <td>B</td>\n",
       "      <td>H</td>\n",
       "      <td>A</td>\n",
       "      <td>D</td>\n",
       "      <td>B</td>\n",
       "      <td>BI</td>\n",
       "      <td>A</td>\n",
       "      <td>AA</td>\n",
       "      <td>AX</td>\n",
       "      <td>...</td>\n",
       "      <td>D</td>\n",
       "      <td>A</td>\n",
       "      <td>0.331900</td>\n",
       "      <td>0.812891</td>\n",
       "      <td>0.630708</td>\n",
       "      <td>0.346898</td>\n",
       "      <td>0.735147</td>\n",
       "      <td>0.563488</td>\n",
       "      <td>0.680430</td>\n",
       "      <td>0.318453</td>\n",
       "    </tr>\n",
       "    <tr>\n",
       "      <th>299999</th>\n",
       "      <td>499999</td>\n",
       "      <td>A</td>\n",
       "      <td>F</td>\n",
       "      <td>C</td>\n",
       "      <td>A</td>\n",
       "      <td>E</td>\n",
       "      <td>BI</td>\n",
       "      <td>C</td>\n",
       "      <td>AV</td>\n",
       "      <td>S</td>\n",
       "      <td>...</td>\n",
       "      <td>D</td>\n",
       "      <td>B</td>\n",
       "      <td>0.822600</td>\n",
       "      <td>0.819735</td>\n",
       "      <td>0.848696</td>\n",
       "      <td>0.819377</td>\n",
       "      <td>0.355467</td>\n",
       "      <td>0.218153</td>\n",
       "      <td>0.823655</td>\n",
       "      <td>0.330515</td>\n",
       "    </tr>\n",
       "  </tbody>\n",
       "</table>\n",
       "<p>300000 rows × 28 columns</p>\n",
       "</div>"
      ],
      "text/plain": [
       "            id cat0 cat1 cat2 cat3 cat4 cat5 cat6 cat7 cat8  ... cat17 cat18  \\\n",
       "0            0    A    I    A    B    B   BI    A    S    Q  ...     D     B   \n",
       "1            1    A    I    A    A    E   BI    K    W   AD  ...     D     B   \n",
       "2            2    A    K    A    A    E   BI    A    E   BM  ...     D     B   \n",
       "3            3    A    K    A    C    E   BI    A    Y   AD  ...     D     B   \n",
       "4            4    A    I    G    B    E   BI    C    G    Q  ...     D     B   \n",
       "...        ...  ...  ...  ...  ...  ...  ...  ...  ...  ...  ...   ...   ...   \n",
       "299995  499993    A    N    F    A    E   BU    A   AS    K  ...     D     B   \n",
       "299996  499995    A    K    A    A    G   BI    A    K   AE  ...     D     B   \n",
       "299997  499996    A    G    M    A    H   BI    C    L    F  ...     D     D   \n",
       "299998  499997    B    H    A    D    B   BI    A   AA   AX  ...     D     A   \n",
       "299999  499999    A    F    C    A    E   BI    C   AV    S  ...     D     B   \n",
       "\n",
       "           cont0     cont1     cont3     cont4     cont5     cont6     cont8  \\\n",
       "0       0.629858  0.855349  0.795549  0.681917  0.621672  0.592184  0.815254   \n",
       "1       0.370727  0.328929  0.541366  0.388982  0.357778  0.600044  0.399353   \n",
       "2       0.502272  0.322749  0.616352  0.793687  0.552877  0.352113  0.412303   \n",
       "3       0.934242  0.707663  0.807807  0.800032  0.619147  0.221789  0.633669   \n",
       "4       0.254427  0.274514  0.277308  0.610578  0.128291  0.578764  0.351103   \n",
       "...          ...       ...       ...       ...       ...       ...       ...   \n",
       "299995  0.681700  0.500730  0.671927  0.390566  0.145840  0.262767  0.519340   \n",
       "299996  0.489226  0.790664  0.620356  0.384891  0.735879  0.547731  0.470575   \n",
       "299997  0.487882  0.522347  0.232436  0.832482  0.810663  0.596939  0.373997   \n",
       "299998  0.331900  0.812891  0.630708  0.346898  0.735147  0.563488  0.680430   \n",
       "299999  0.822600  0.819735  0.848696  0.819377  0.355467  0.218153  0.823655   \n",
       "\n",
       "           cont9  \n",
       "0       0.965006  \n",
       "1       0.927406  \n",
       "2       0.292696  \n",
       "3       0.760318  \n",
       "4       0.357084  \n",
       "...          ...  \n",
       "299995  0.617436  \n",
       "299996  0.275743  \n",
       "299997  0.518024  \n",
       "299998  0.318453  \n",
       "299999  0.330515  \n",
       "\n",
       "[300000 rows x 28 columns]"
      ]
     },
     "execution_count": 27,
     "metadata": {},
     "output_type": "execute_result"
    }
   ],
   "source": [
    "X"
   ]
  },
  {
   "cell_type": "code",
   "execution_count": 28,
   "id": "assisted-christmas",
   "metadata": {
    "ExecuteTime": {
     "end_time": "2021-03-18T19:22:21.558032Z",
     "start_time": "2021-03-18T19:22:21.294592Z"
    }
   },
   "outputs": [],
   "source": [
    "from sklearn.preprocessing import OneHotEncoder"
   ]
  },
  {
   "cell_type": "code",
   "execution_count": 29,
   "id": "neural-liberty",
   "metadata": {
    "ExecuteTime": {
     "end_time": "2021-03-18T19:22:21.620200Z",
     "start_time": "2021-03-18T19:22:21.560202Z"
    }
   },
   "outputs": [],
   "source": [
    "def remove_ID(X):\n",
    "    return X.drop(columns='id')\n",
    "\n",
    "X = remove_ID(X)"
   ]
  },
  {
   "cell_type": "code",
   "execution_count": 30,
   "id": "announced-electron",
   "metadata": {
    "ExecuteTime": {
     "end_time": "2021-03-18T19:22:21.712535Z",
     "start_time": "2021-03-18T19:22:21.623643Z"
    }
   },
   "outputs": [
    {
     "data": {
      "text/html": [
       "<div>\n",
       "<style scoped>\n",
       "    .dataframe tbody tr th:only-of-type {\n",
       "        vertical-align: middle;\n",
       "    }\n",
       "\n",
       "    .dataframe tbody tr th {\n",
       "        vertical-align: top;\n",
       "    }\n",
       "\n",
       "    .dataframe thead th {\n",
       "        text-align: right;\n",
       "    }\n",
       "</style>\n",
       "<table border=\"1\" class=\"dataframe\">\n",
       "  <thead>\n",
       "    <tr style=\"text-align: right;\">\n",
       "      <th></th>\n",
       "      <th>cat11</th>\n",
       "      <th>cat12</th>\n",
       "      <th>cat14</th>\n",
       "      <th>cat2</th>\n",
       "      <th>cat0</th>\n",
       "      <th>cat4</th>\n",
       "      <th>cat7</th>\n",
       "      <th>cat9</th>\n",
       "      <th>cat17</th>\n",
       "      <th>cat5</th>\n",
       "      <th>cat15</th>\n",
       "      <th>cat1</th>\n",
       "      <th>cat10</th>\n",
       "      <th>cat16</th>\n",
       "      <th>cat6</th>\n",
       "      <th>cat3</th>\n",
       "      <th>cat13</th>\n",
       "      <th>cat18</th>\n",
       "      <th>cat8</th>\n",
       "    </tr>\n",
       "  </thead>\n",
       "  <tbody>\n",
       "    <tr>\n",
       "      <th>0</th>\n",
       "      <td>A</td>\n",
       "      <td>A</td>\n",
       "      <td>A</td>\n",
       "      <td>A</td>\n",
       "      <td>A</td>\n",
       "      <td>B</td>\n",
       "      <td>S</td>\n",
       "      <td>A</td>\n",
       "      <td>D</td>\n",
       "      <td>BI</td>\n",
       "      <td>B</td>\n",
       "      <td>I</td>\n",
       "      <td>LO</td>\n",
       "      <td>D</td>\n",
       "      <td>A</td>\n",
       "      <td>B</td>\n",
       "      <td>A</td>\n",
       "      <td>B</td>\n",
       "      <td>Q</td>\n",
       "    </tr>\n",
       "    <tr>\n",
       "      <th>1</th>\n",
       "      <td>A</td>\n",
       "      <td>B</td>\n",
       "      <td>B</td>\n",
       "      <td>A</td>\n",
       "      <td>A</td>\n",
       "      <td>E</td>\n",
       "      <td>W</td>\n",
       "      <td>F</td>\n",
       "      <td>D</td>\n",
       "      <td>BI</td>\n",
       "      <td>D</td>\n",
       "      <td>I</td>\n",
       "      <td>HJ</td>\n",
       "      <td>B</td>\n",
       "      <td>K</td>\n",
       "      <td>A</td>\n",
       "      <td>A</td>\n",
       "      <td>B</td>\n",
       "      <td>AD</td>\n",
       "    </tr>\n",
       "    <tr>\n",
       "      <th>2</th>\n",
       "      <td>A</td>\n",
       "      <td>B</td>\n",
       "      <td>A</td>\n",
       "      <td>A</td>\n",
       "      <td>A</td>\n",
       "      <td>E</td>\n",
       "      <td>E</td>\n",
       "      <td>L</td>\n",
       "      <td>D</td>\n",
       "      <td>BI</td>\n",
       "      <td>B</td>\n",
       "      <td>K</td>\n",
       "      <td>DJ</td>\n",
       "      <td>D</td>\n",
       "      <td>A</td>\n",
       "      <td>A</td>\n",
       "      <td>A</td>\n",
       "      <td>B</td>\n",
       "      <td>BM</td>\n",
       "    </tr>\n",
       "    <tr>\n",
       "      <th>3</th>\n",
       "      <td>A</td>\n",
       "      <td>A</td>\n",
       "      <td>A</td>\n",
       "      <td>A</td>\n",
       "      <td>A</td>\n",
       "      <td>E</td>\n",
       "      <td>Y</td>\n",
       "      <td>F</td>\n",
       "      <td>D</td>\n",
       "      <td>BI</td>\n",
       "      <td>B</td>\n",
       "      <td>K</td>\n",
       "      <td>KV</td>\n",
       "      <td>D</td>\n",
       "      <td>A</td>\n",
       "      <td>C</td>\n",
       "      <td>A</td>\n",
       "      <td>B</td>\n",
       "      <td>AD</td>\n",
       "    </tr>\n",
       "    <tr>\n",
       "      <th>4</th>\n",
       "      <td>A</td>\n",
       "      <td>A</td>\n",
       "      <td>B</td>\n",
       "      <td>G</td>\n",
       "      <td>A</td>\n",
       "      <td>E</td>\n",
       "      <td>G</td>\n",
       "      <td>A</td>\n",
       "      <td>D</td>\n",
       "      <td>BI</td>\n",
       "      <td>B</td>\n",
       "      <td>I</td>\n",
       "      <td>DP</td>\n",
       "      <td>B</td>\n",
       "      <td>C</td>\n",
       "      <td>B</td>\n",
       "      <td>A</td>\n",
       "      <td>B</td>\n",
       "      <td>Q</td>\n",
       "    </tr>\n",
       "    <tr>\n",
       "      <th>...</th>\n",
       "      <td>...</td>\n",
       "      <td>...</td>\n",
       "      <td>...</td>\n",
       "      <td>...</td>\n",
       "      <td>...</td>\n",
       "      <td>...</td>\n",
       "      <td>...</td>\n",
       "      <td>...</td>\n",
       "      <td>...</td>\n",
       "      <td>...</td>\n",
       "      <td>...</td>\n",
       "      <td>...</td>\n",
       "      <td>...</td>\n",
       "      <td>...</td>\n",
       "      <td>...</td>\n",
       "      <td>...</td>\n",
       "      <td>...</td>\n",
       "      <td>...</td>\n",
       "      <td>...</td>\n",
       "    </tr>\n",
       "    <tr>\n",
       "      <th>299995</th>\n",
       "      <td>A</td>\n",
       "      <td>A</td>\n",
       "      <td>B</td>\n",
       "      <td>F</td>\n",
       "      <td>A</td>\n",
       "      <td>E</td>\n",
       "      <td>AS</td>\n",
       "      <td>A</td>\n",
       "      <td>D</td>\n",
       "      <td>BU</td>\n",
       "      <td>D</td>\n",
       "      <td>N</td>\n",
       "      <td>HG</td>\n",
       "      <td>B</td>\n",
       "      <td>A</td>\n",
       "      <td>A</td>\n",
       "      <td>A</td>\n",
       "      <td>B</td>\n",
       "      <td>K</td>\n",
       "    </tr>\n",
       "    <tr>\n",
       "      <th>299996</th>\n",
       "      <td>A</td>\n",
       "      <td>B</td>\n",
       "      <td>B</td>\n",
       "      <td>A</td>\n",
       "      <td>A</td>\n",
       "      <td>G</td>\n",
       "      <td>K</td>\n",
       "      <td>E</td>\n",
       "      <td>D</td>\n",
       "      <td>BI</td>\n",
       "      <td>B</td>\n",
       "      <td>K</td>\n",
       "      <td>HK</td>\n",
       "      <td>D</td>\n",
       "      <td>A</td>\n",
       "      <td>A</td>\n",
       "      <td>A</td>\n",
       "      <td>B</td>\n",
       "      <td>AE</td>\n",
       "    </tr>\n",
       "    <tr>\n",
       "      <th>299997</th>\n",
       "      <td>B</td>\n",
       "      <td>A</td>\n",
       "      <td>B</td>\n",
       "      <td>M</td>\n",
       "      <td>A</td>\n",
       "      <td>H</td>\n",
       "      <td>L</td>\n",
       "      <td>A</td>\n",
       "      <td>D</td>\n",
       "      <td>BI</td>\n",
       "      <td>D</td>\n",
       "      <td>G</td>\n",
       "      <td>HC</td>\n",
       "      <td>B</td>\n",
       "      <td>C</td>\n",
       "      <td>A</td>\n",
       "      <td>A</td>\n",
       "      <td>D</td>\n",
       "      <td>F</td>\n",
       "    </tr>\n",
       "    <tr>\n",
       "      <th>299998</th>\n",
       "      <td>A</td>\n",
       "      <td>A</td>\n",
       "      <td>A</td>\n",
       "      <td>A</td>\n",
       "      <td>B</td>\n",
       "      <td>B</td>\n",
       "      <td>AA</td>\n",
       "      <td>A</td>\n",
       "      <td>D</td>\n",
       "      <td>BI</td>\n",
       "      <td>B</td>\n",
       "      <td>H</td>\n",
       "      <td>BF</td>\n",
       "      <td>A</td>\n",
       "      <td>A</td>\n",
       "      <td>D</td>\n",
       "      <td>A</td>\n",
       "      <td>A</td>\n",
       "      <td>AX</td>\n",
       "    </tr>\n",
       "    <tr>\n",
       "      <th>299999</th>\n",
       "      <td>A</td>\n",
       "      <td>A</td>\n",
       "      <td>A</td>\n",
       "      <td>C</td>\n",
       "      <td>A</td>\n",
       "      <td>E</td>\n",
       "      <td>AV</td>\n",
       "      <td>A</td>\n",
       "      <td>D</td>\n",
       "      <td>BI</td>\n",
       "      <td>B</td>\n",
       "      <td>F</td>\n",
       "      <td>LM</td>\n",
       "      <td>D</td>\n",
       "      <td>C</td>\n",
       "      <td>A</td>\n",
       "      <td>A</td>\n",
       "      <td>B</td>\n",
       "      <td>S</td>\n",
       "    </tr>\n",
       "  </tbody>\n",
       "</table>\n",
       "<p>300000 rows × 19 columns</p>\n",
       "</div>"
      ],
      "text/plain": [
       "       cat11 cat12 cat14 cat2 cat0 cat4 cat7 cat9 cat17 cat5 cat15 cat1 cat10  \\\n",
       "0          A     A     A    A    A    B    S    A     D   BI     B    I    LO   \n",
       "1          A     B     B    A    A    E    W    F     D   BI     D    I    HJ   \n",
       "2          A     B     A    A    A    E    E    L     D   BI     B    K    DJ   \n",
       "3          A     A     A    A    A    E    Y    F     D   BI     B    K    KV   \n",
       "4          A     A     B    G    A    E    G    A     D   BI     B    I    DP   \n",
       "...      ...   ...   ...  ...  ...  ...  ...  ...   ...  ...   ...  ...   ...   \n",
       "299995     A     A     B    F    A    E   AS    A     D   BU     D    N    HG   \n",
       "299996     A     B     B    A    A    G    K    E     D   BI     B    K    HK   \n",
       "299997     B     A     B    M    A    H    L    A     D   BI     D    G    HC   \n",
       "299998     A     A     A    A    B    B   AA    A     D   BI     B    H    BF   \n",
       "299999     A     A     A    C    A    E   AV    A     D   BI     B    F    LM   \n",
       "\n",
       "       cat16 cat6 cat3 cat13 cat18 cat8  \n",
       "0          D    A    B     A     B    Q  \n",
       "1          B    K    A     A     B   AD  \n",
       "2          D    A    A     A     B   BM  \n",
       "3          D    A    C     A     B   AD  \n",
       "4          B    C    B     A     B    Q  \n",
       "...      ...  ...  ...   ...   ...  ...  \n",
       "299995     B    A    A     A     B    K  \n",
       "299996     D    A    A     A     B   AE  \n",
       "299997     B    C    A     A     D    F  \n",
       "299998     A    A    D     A     A   AX  \n",
       "299999     D    C    A     A     B    S  \n",
       "\n",
       "[300000 rows x 19 columns]"
      ]
     },
     "execution_count": 30,
     "metadata": {},
     "output_type": "execute_result"
    }
   ],
   "source": [
    "X[cat_cols]"
   ]
  },
  {
   "cell_type": "code",
   "execution_count": 31,
   "id": "directed-colleague",
   "metadata": {
    "ExecuteTime": {
     "end_time": "2021-03-18T19:22:21.723727Z",
     "start_time": "2021-03-18T19:22:21.716707Z"
    }
   },
   "outputs": [],
   "source": [
    "import sys\n",
    "sys.setrecursionlimit(1500)"
   ]
  },
  {
   "cell_type": "code",
   "execution_count": 32,
   "id": "outdoor-filling",
   "metadata": {
    "ExecuteTime": {
     "end_time": "2021-03-18T19:22:21.743070Z",
     "start_time": "2021-03-18T19:22:21.726614Z"
    }
   },
   "outputs": [],
   "source": [
    "# Encode categorical variables\n",
    "def one_hot_encoding(X):\n",
    "    ohe = OneHotEncoder(handle_unknown='ignore')\n",
    "    ohe.fit(X[cat_cols])\n",
    "    return pd.DataFrame(ohe.transform(X).toarray())"
   ]
  },
  {
   "cell_type": "code",
   "execution_count": 33,
   "id": "assured-obligation",
   "metadata": {
    "ExecuteTime": {
     "end_time": "2021-03-18T19:22:23.854196Z",
     "start_time": "2021-03-18T19:22:21.746214Z"
    }
   },
   "outputs": [],
   "source": [
    "X_cat_ohe = one_hot_encoding(X[cat_cols])"
   ]
  },
  {
   "cell_type": "code",
   "execution_count": 34,
   "id": "medieval-subdivision",
   "metadata": {
    "ExecuteTime": {
     "end_time": "2021-03-18T19:22:24.302988Z",
     "start_time": "2021-03-18T19:22:23.856759Z"
    }
   },
   "outputs": [
    {
     "data": {
      "text/html": [
       "<div>\n",
       "<style scoped>\n",
       "    .dataframe tbody tr th:only-of-type {\n",
       "        vertical-align: middle;\n",
       "    }\n",
       "\n",
       "    .dataframe tbody tr th {\n",
       "        vertical-align: top;\n",
       "    }\n",
       "\n",
       "    .dataframe thead th {\n",
       "        text-align: right;\n",
       "    }\n",
       "</style>\n",
       "<table border=\"1\" class=\"dataframe\">\n",
       "  <thead>\n",
       "    <tr style=\"text-align: right;\">\n",
       "      <th></th>\n",
       "      <th>0</th>\n",
       "      <th>1</th>\n",
       "      <th>2</th>\n",
       "      <th>3</th>\n",
       "      <th>4</th>\n",
       "      <th>5</th>\n",
       "      <th>6</th>\n",
       "      <th>7</th>\n",
       "      <th>8</th>\n",
       "      <th>9</th>\n",
       "      <th>...</th>\n",
       "      <th>613</th>\n",
       "      <th>614</th>\n",
       "      <th>615</th>\n",
       "      <th>616</th>\n",
       "      <th>617</th>\n",
       "      <th>618</th>\n",
       "      <th>619</th>\n",
       "      <th>620</th>\n",
       "      <th>621</th>\n",
       "      <th>622</th>\n",
       "    </tr>\n",
       "  </thead>\n",
       "  <tbody>\n",
       "    <tr>\n",
       "      <th>0</th>\n",
       "      <td>1.0</td>\n",
       "      <td>0.0</td>\n",
       "      <td>1.0</td>\n",
       "      <td>0.0</td>\n",
       "      <td>1.0</td>\n",
       "      <td>0.0</td>\n",
       "      <td>1.0</td>\n",
       "      <td>0.0</td>\n",
       "      <td>0.0</td>\n",
       "      <td>0.0</td>\n",
       "      <td>...</td>\n",
       "      <td>0.0</td>\n",
       "      <td>0.0</td>\n",
       "      <td>0.0</td>\n",
       "      <td>1.0</td>\n",
       "      <td>0.0</td>\n",
       "      <td>0.0</td>\n",
       "      <td>0.0</td>\n",
       "      <td>0.0</td>\n",
       "      <td>0.0</td>\n",
       "      <td>0.0</td>\n",
       "    </tr>\n",
       "    <tr>\n",
       "      <th>1</th>\n",
       "      <td>1.0</td>\n",
       "      <td>0.0</td>\n",
       "      <td>0.0</td>\n",
       "      <td>1.0</td>\n",
       "      <td>0.0</td>\n",
       "      <td>1.0</td>\n",
       "      <td>1.0</td>\n",
       "      <td>0.0</td>\n",
       "      <td>0.0</td>\n",
       "      <td>0.0</td>\n",
       "      <td>...</td>\n",
       "      <td>0.0</td>\n",
       "      <td>0.0</td>\n",
       "      <td>0.0</td>\n",
       "      <td>0.0</td>\n",
       "      <td>0.0</td>\n",
       "      <td>0.0</td>\n",
       "      <td>0.0</td>\n",
       "      <td>0.0</td>\n",
       "      <td>0.0</td>\n",
       "      <td>0.0</td>\n",
       "    </tr>\n",
       "    <tr>\n",
       "      <th>2</th>\n",
       "      <td>1.0</td>\n",
       "      <td>0.0</td>\n",
       "      <td>0.0</td>\n",
       "      <td>1.0</td>\n",
       "      <td>1.0</td>\n",
       "      <td>0.0</td>\n",
       "      <td>1.0</td>\n",
       "      <td>0.0</td>\n",
       "      <td>0.0</td>\n",
       "      <td>0.0</td>\n",
       "      <td>...</td>\n",
       "      <td>0.0</td>\n",
       "      <td>0.0</td>\n",
       "      <td>0.0</td>\n",
       "      <td>0.0</td>\n",
       "      <td>0.0</td>\n",
       "      <td>0.0</td>\n",
       "      <td>0.0</td>\n",
       "      <td>0.0</td>\n",
       "      <td>0.0</td>\n",
       "      <td>0.0</td>\n",
       "    </tr>\n",
       "    <tr>\n",
       "      <th>3</th>\n",
       "      <td>1.0</td>\n",
       "      <td>0.0</td>\n",
       "      <td>1.0</td>\n",
       "      <td>0.0</td>\n",
       "      <td>1.0</td>\n",
       "      <td>0.0</td>\n",
       "      <td>1.0</td>\n",
       "      <td>0.0</td>\n",
       "      <td>0.0</td>\n",
       "      <td>0.0</td>\n",
       "      <td>...</td>\n",
       "      <td>0.0</td>\n",
       "      <td>0.0</td>\n",
       "      <td>0.0</td>\n",
       "      <td>0.0</td>\n",
       "      <td>0.0</td>\n",
       "      <td>0.0</td>\n",
       "      <td>0.0</td>\n",
       "      <td>0.0</td>\n",
       "      <td>0.0</td>\n",
       "      <td>0.0</td>\n",
       "    </tr>\n",
       "    <tr>\n",
       "      <th>4</th>\n",
       "      <td>1.0</td>\n",
       "      <td>0.0</td>\n",
       "      <td>1.0</td>\n",
       "      <td>0.0</td>\n",
       "      <td>0.0</td>\n",
       "      <td>1.0</td>\n",
       "      <td>0.0</td>\n",
       "      <td>0.0</td>\n",
       "      <td>0.0</td>\n",
       "      <td>0.0</td>\n",
       "      <td>...</td>\n",
       "      <td>0.0</td>\n",
       "      <td>0.0</td>\n",
       "      <td>0.0</td>\n",
       "      <td>1.0</td>\n",
       "      <td>0.0</td>\n",
       "      <td>0.0</td>\n",
       "      <td>0.0</td>\n",
       "      <td>0.0</td>\n",
       "      <td>0.0</td>\n",
       "      <td>0.0</td>\n",
       "    </tr>\n",
       "    <tr>\n",
       "      <th>...</th>\n",
       "      <td>...</td>\n",
       "      <td>...</td>\n",
       "      <td>...</td>\n",
       "      <td>...</td>\n",
       "      <td>...</td>\n",
       "      <td>...</td>\n",
       "      <td>...</td>\n",
       "      <td>...</td>\n",
       "      <td>...</td>\n",
       "      <td>...</td>\n",
       "      <td>...</td>\n",
       "      <td>...</td>\n",
       "      <td>...</td>\n",
       "      <td>...</td>\n",
       "      <td>...</td>\n",
       "      <td>...</td>\n",
       "      <td>...</td>\n",
       "      <td>...</td>\n",
       "      <td>...</td>\n",
       "      <td>...</td>\n",
       "      <td>...</td>\n",
       "    </tr>\n",
       "    <tr>\n",
       "      <th>299995</th>\n",
       "      <td>1.0</td>\n",
       "      <td>0.0</td>\n",
       "      <td>1.0</td>\n",
       "      <td>0.0</td>\n",
       "      <td>0.0</td>\n",
       "      <td>1.0</td>\n",
       "      <td>0.0</td>\n",
       "      <td>0.0</td>\n",
       "      <td>0.0</td>\n",
       "      <td>0.0</td>\n",
       "      <td>...</td>\n",
       "      <td>0.0</td>\n",
       "      <td>0.0</td>\n",
       "      <td>0.0</td>\n",
       "      <td>0.0</td>\n",
       "      <td>0.0</td>\n",
       "      <td>0.0</td>\n",
       "      <td>0.0</td>\n",
       "      <td>0.0</td>\n",
       "      <td>0.0</td>\n",
       "      <td>0.0</td>\n",
       "    </tr>\n",
       "    <tr>\n",
       "      <th>299996</th>\n",
       "      <td>1.0</td>\n",
       "      <td>0.0</td>\n",
       "      <td>0.0</td>\n",
       "      <td>1.0</td>\n",
       "      <td>0.0</td>\n",
       "      <td>1.0</td>\n",
       "      <td>1.0</td>\n",
       "      <td>0.0</td>\n",
       "      <td>0.0</td>\n",
       "      <td>0.0</td>\n",
       "      <td>...</td>\n",
       "      <td>0.0</td>\n",
       "      <td>0.0</td>\n",
       "      <td>0.0</td>\n",
       "      <td>0.0</td>\n",
       "      <td>0.0</td>\n",
       "      <td>0.0</td>\n",
       "      <td>0.0</td>\n",
       "      <td>0.0</td>\n",
       "      <td>0.0</td>\n",
       "      <td>0.0</td>\n",
       "    </tr>\n",
       "    <tr>\n",
       "      <th>299997</th>\n",
       "      <td>0.0</td>\n",
       "      <td>1.0</td>\n",
       "      <td>1.0</td>\n",
       "      <td>0.0</td>\n",
       "      <td>0.0</td>\n",
       "      <td>1.0</td>\n",
       "      <td>0.0</td>\n",
       "      <td>0.0</td>\n",
       "      <td>0.0</td>\n",
       "      <td>0.0</td>\n",
       "      <td>...</td>\n",
       "      <td>0.0</td>\n",
       "      <td>0.0</td>\n",
       "      <td>0.0</td>\n",
       "      <td>0.0</td>\n",
       "      <td>0.0</td>\n",
       "      <td>0.0</td>\n",
       "      <td>0.0</td>\n",
       "      <td>0.0</td>\n",
       "      <td>0.0</td>\n",
       "      <td>0.0</td>\n",
       "    </tr>\n",
       "    <tr>\n",
       "      <th>299998</th>\n",
       "      <td>1.0</td>\n",
       "      <td>0.0</td>\n",
       "      <td>1.0</td>\n",
       "      <td>0.0</td>\n",
       "      <td>1.0</td>\n",
       "      <td>0.0</td>\n",
       "      <td>1.0</td>\n",
       "      <td>0.0</td>\n",
       "      <td>0.0</td>\n",
       "      <td>0.0</td>\n",
       "      <td>...</td>\n",
       "      <td>0.0</td>\n",
       "      <td>0.0</td>\n",
       "      <td>0.0</td>\n",
       "      <td>0.0</td>\n",
       "      <td>0.0</td>\n",
       "      <td>0.0</td>\n",
       "      <td>0.0</td>\n",
       "      <td>0.0</td>\n",
       "      <td>0.0</td>\n",
       "      <td>0.0</td>\n",
       "    </tr>\n",
       "    <tr>\n",
       "      <th>299999</th>\n",
       "      <td>1.0</td>\n",
       "      <td>0.0</td>\n",
       "      <td>1.0</td>\n",
       "      <td>0.0</td>\n",
       "      <td>1.0</td>\n",
       "      <td>0.0</td>\n",
       "      <td>0.0</td>\n",
       "      <td>0.0</td>\n",
       "      <td>1.0</td>\n",
       "      <td>0.0</td>\n",
       "      <td>...</td>\n",
       "      <td>0.0</td>\n",
       "      <td>0.0</td>\n",
       "      <td>0.0</td>\n",
       "      <td>0.0</td>\n",
       "      <td>1.0</td>\n",
       "      <td>0.0</td>\n",
       "      <td>0.0</td>\n",
       "      <td>0.0</td>\n",
       "      <td>0.0</td>\n",
       "      <td>0.0</td>\n",
       "    </tr>\n",
       "  </tbody>\n",
       "</table>\n",
       "<p>300000 rows × 623 columns</p>\n",
       "</div>"
      ],
      "text/plain": [
       "        0    1    2    3    4    5    6    7    8    9    ...  613  614  615  \\\n",
       "0       1.0  0.0  1.0  0.0  1.0  0.0  1.0  0.0  0.0  0.0  ...  0.0  0.0  0.0   \n",
       "1       1.0  0.0  0.0  1.0  0.0  1.0  1.0  0.0  0.0  0.0  ...  0.0  0.0  0.0   \n",
       "2       1.0  0.0  0.0  1.0  1.0  0.0  1.0  0.0  0.0  0.0  ...  0.0  0.0  0.0   \n",
       "3       1.0  0.0  1.0  0.0  1.0  0.0  1.0  0.0  0.0  0.0  ...  0.0  0.0  0.0   \n",
       "4       1.0  0.0  1.0  0.0  0.0  1.0  0.0  0.0  0.0  0.0  ...  0.0  0.0  0.0   \n",
       "...     ...  ...  ...  ...  ...  ...  ...  ...  ...  ...  ...  ...  ...  ...   \n",
       "299995  1.0  0.0  1.0  0.0  0.0  1.0  0.0  0.0  0.0  0.0  ...  0.0  0.0  0.0   \n",
       "299996  1.0  0.0  0.0  1.0  0.0  1.0  1.0  0.0  0.0  0.0  ...  0.0  0.0  0.0   \n",
       "299997  0.0  1.0  1.0  0.0  0.0  1.0  0.0  0.0  0.0  0.0  ...  0.0  0.0  0.0   \n",
       "299998  1.0  0.0  1.0  0.0  1.0  0.0  1.0  0.0  0.0  0.0  ...  0.0  0.0  0.0   \n",
       "299999  1.0  0.0  1.0  0.0  1.0  0.0  0.0  0.0  1.0  0.0  ...  0.0  0.0  0.0   \n",
       "\n",
       "        616  617  618  619  620  621  622  \n",
       "0       1.0  0.0  0.0  0.0  0.0  0.0  0.0  \n",
       "1       0.0  0.0  0.0  0.0  0.0  0.0  0.0  \n",
       "2       0.0  0.0  0.0  0.0  0.0  0.0  0.0  \n",
       "3       0.0  0.0  0.0  0.0  0.0  0.0  0.0  \n",
       "4       1.0  0.0  0.0  0.0  0.0  0.0  0.0  \n",
       "...     ...  ...  ...  ...  ...  ...  ...  \n",
       "299995  0.0  0.0  0.0  0.0  0.0  0.0  0.0  \n",
       "299996  0.0  0.0  0.0  0.0  0.0  0.0  0.0  \n",
       "299997  0.0  0.0  0.0  0.0  0.0  0.0  0.0  \n",
       "299998  0.0  0.0  0.0  0.0  0.0  0.0  0.0  \n",
       "299999  0.0  1.0  0.0  0.0  0.0  0.0  0.0  \n",
       "\n",
       "[300000 rows x 623 columns]"
      ]
     },
     "execution_count": 34,
     "metadata": {},
     "output_type": "execute_result"
    }
   ],
   "source": [
    "X_cat_ohe"
   ]
  },
  {
   "cell_type": "code",
   "execution_count": 35,
   "id": "sized-handbook",
   "metadata": {
    "ExecuteTime": {
     "end_time": "2021-03-18T19:22:24.679929Z",
     "start_time": "2021-03-18T19:22:24.310199Z"
    },
    "scrolled": true
   },
   "outputs": [
    {
     "ename": "KeyError",
     "evalue": "\"['id'] not in index\"",
     "output_type": "error",
     "traceback": [
      "\u001b[0;31m---------------------------------------------------------------------------\u001b[0m",
      "\u001b[0;31mKeyError\u001b[0m                                  Traceback (most recent call last)",
      "\u001b[0;32m<ipython-input-35-6dfc53882f5a>\u001b[0m in \u001b[0;36m<module>\u001b[0;34m\u001b[0m\n\u001b[0;32m----> 1\u001b[0;31m \u001b[0mnew_X\u001b[0m \u001b[0;34m=\u001b[0m \u001b[0mX_cat_ohe\u001b[0m\u001b[0;34m.\u001b[0m\u001b[0mjoin\u001b[0m\u001b[0;34m(\u001b[0m\u001b[0mX\u001b[0m\u001b[0;34m[\u001b[0m\u001b[0mnum_cols\u001b[0m\u001b[0;34m]\u001b[0m\u001b[0;34m)\u001b[0m\u001b[0;34m\u001b[0m\u001b[0;34m\u001b[0m\u001b[0m\n\u001b[0m",
      "\u001b[0;32m~/.pyenv/versions/3.8.6/envs/lewagon/lib/python3.8/site-packages/pandas/core/frame.py\u001b[0m in \u001b[0;36m__getitem__\u001b[0;34m(self, key)\u001b[0m\n\u001b[1;32m   3028\u001b[0m             \u001b[0;32mif\u001b[0m \u001b[0mis_iterator\u001b[0m\u001b[0;34m(\u001b[0m\u001b[0mkey\u001b[0m\u001b[0;34m)\u001b[0m\u001b[0;34m:\u001b[0m\u001b[0;34m\u001b[0m\u001b[0;34m\u001b[0m\u001b[0m\n\u001b[1;32m   3029\u001b[0m                 \u001b[0mkey\u001b[0m \u001b[0;34m=\u001b[0m \u001b[0mlist\u001b[0m\u001b[0;34m(\u001b[0m\u001b[0mkey\u001b[0m\u001b[0;34m)\u001b[0m\u001b[0;34m\u001b[0m\u001b[0;34m\u001b[0m\u001b[0m\n\u001b[0;32m-> 3030\u001b[0;31m             \u001b[0mindexer\u001b[0m \u001b[0;34m=\u001b[0m \u001b[0mself\u001b[0m\u001b[0;34m.\u001b[0m\u001b[0mloc\u001b[0m\u001b[0;34m.\u001b[0m\u001b[0m_get_listlike_indexer\u001b[0m\u001b[0;34m(\u001b[0m\u001b[0mkey\u001b[0m\u001b[0;34m,\u001b[0m \u001b[0maxis\u001b[0m\u001b[0;34m=\u001b[0m\u001b[0;36m1\u001b[0m\u001b[0;34m,\u001b[0m \u001b[0mraise_missing\u001b[0m\u001b[0;34m=\u001b[0m\u001b[0;32mTrue\u001b[0m\u001b[0;34m)\u001b[0m\u001b[0;34m[\u001b[0m\u001b[0;36m1\u001b[0m\u001b[0;34m]\u001b[0m\u001b[0;34m\u001b[0m\u001b[0;34m\u001b[0m\u001b[0m\n\u001b[0m\u001b[1;32m   3031\u001b[0m \u001b[0;34m\u001b[0m\u001b[0m\n\u001b[1;32m   3032\u001b[0m         \u001b[0;31m# take() does not accept boolean indexers\u001b[0m\u001b[0;34m\u001b[0m\u001b[0;34m\u001b[0m\u001b[0;34m\u001b[0m\u001b[0m\n",
      "\u001b[0;32m~/.pyenv/versions/3.8.6/envs/lewagon/lib/python3.8/site-packages/pandas/core/indexing.py\u001b[0m in \u001b[0;36m_get_listlike_indexer\u001b[0;34m(self, key, axis, raise_missing)\u001b[0m\n\u001b[1;32m   1263\u001b[0m             \u001b[0mkeyarr\u001b[0m\u001b[0;34m,\u001b[0m \u001b[0mindexer\u001b[0m\u001b[0;34m,\u001b[0m \u001b[0mnew_indexer\u001b[0m \u001b[0;34m=\u001b[0m \u001b[0max\u001b[0m\u001b[0;34m.\u001b[0m\u001b[0m_reindex_non_unique\u001b[0m\u001b[0;34m(\u001b[0m\u001b[0mkeyarr\u001b[0m\u001b[0;34m)\u001b[0m\u001b[0;34m\u001b[0m\u001b[0;34m\u001b[0m\u001b[0m\n\u001b[1;32m   1264\u001b[0m \u001b[0;34m\u001b[0m\u001b[0m\n\u001b[0;32m-> 1265\u001b[0;31m         \u001b[0mself\u001b[0m\u001b[0;34m.\u001b[0m\u001b[0m_validate_read_indexer\u001b[0m\u001b[0;34m(\u001b[0m\u001b[0mkeyarr\u001b[0m\u001b[0;34m,\u001b[0m \u001b[0mindexer\u001b[0m\u001b[0;34m,\u001b[0m \u001b[0maxis\u001b[0m\u001b[0;34m,\u001b[0m \u001b[0mraise_missing\u001b[0m\u001b[0;34m=\u001b[0m\u001b[0mraise_missing\u001b[0m\u001b[0;34m)\u001b[0m\u001b[0;34m\u001b[0m\u001b[0;34m\u001b[0m\u001b[0m\n\u001b[0m\u001b[1;32m   1266\u001b[0m         \u001b[0;32mreturn\u001b[0m \u001b[0mkeyarr\u001b[0m\u001b[0;34m,\u001b[0m \u001b[0mindexer\u001b[0m\u001b[0;34m\u001b[0m\u001b[0;34m\u001b[0m\u001b[0m\n\u001b[1;32m   1267\u001b[0m \u001b[0;34m\u001b[0m\u001b[0m\n",
      "\u001b[0;32m~/.pyenv/versions/3.8.6/envs/lewagon/lib/python3.8/site-packages/pandas/core/indexing.py\u001b[0m in \u001b[0;36m_validate_read_indexer\u001b[0;34m(self, key, indexer, axis, raise_missing)\u001b[0m\n\u001b[1;32m   1313\u001b[0m             \u001b[0;32mif\u001b[0m \u001b[0mraise_missing\u001b[0m\u001b[0;34m:\u001b[0m\u001b[0;34m\u001b[0m\u001b[0;34m\u001b[0m\u001b[0m\n\u001b[1;32m   1314\u001b[0m                 \u001b[0mnot_found\u001b[0m \u001b[0;34m=\u001b[0m \u001b[0mlist\u001b[0m\u001b[0;34m(\u001b[0m\u001b[0mset\u001b[0m\u001b[0;34m(\u001b[0m\u001b[0mkey\u001b[0m\u001b[0;34m)\u001b[0m \u001b[0;34m-\u001b[0m \u001b[0mset\u001b[0m\u001b[0;34m(\u001b[0m\u001b[0max\u001b[0m\u001b[0;34m)\u001b[0m\u001b[0;34m)\u001b[0m\u001b[0;34m\u001b[0m\u001b[0;34m\u001b[0m\u001b[0m\n\u001b[0;32m-> 1315\u001b[0;31m                 \u001b[0;32mraise\u001b[0m \u001b[0mKeyError\u001b[0m\u001b[0;34m(\u001b[0m\u001b[0;34mf\"{not_found} not in index\"\u001b[0m\u001b[0;34m)\u001b[0m\u001b[0;34m\u001b[0m\u001b[0;34m\u001b[0m\u001b[0m\n\u001b[0m\u001b[1;32m   1316\u001b[0m \u001b[0;34m\u001b[0m\u001b[0m\n\u001b[1;32m   1317\u001b[0m             \u001b[0mnot_found\u001b[0m \u001b[0;34m=\u001b[0m \u001b[0mkey\u001b[0m\u001b[0;34m[\u001b[0m\u001b[0mmissing_mask\u001b[0m\u001b[0;34m]\u001b[0m\u001b[0;34m\u001b[0m\u001b[0;34m\u001b[0m\u001b[0m\n",
      "\u001b[0;31mKeyError\u001b[0m: \"['id'] not in index\""
     ]
    }
   ],
   "source": [
    "new_X = X_cat_ohe.join(X[num_cols])"
   ]
  },
  {
   "cell_type": "code",
   "execution_count": null,
   "id": "announced-floor",
   "metadata": {
    "ExecuteTime": {
     "end_time": "2021-03-18T19:22:24.683919Z",
     "start_time": "2021-03-18T19:22:16.804Z"
    }
   },
   "outputs": [],
   "source": [
    "new_X"
   ]
  },
  {
   "cell_type": "markdown",
   "id": "nominated-venture",
   "metadata": {
    "ExecuteTime": {
     "end_time": "2021-03-18T11:56:02.361303Z",
     "start_time": "2021-03-18T11:56:02.145064Z"
    }
   },
   "source": [
    "## Baseline Model "
   ]
  },
  {
   "cell_type": "code",
   "execution_count": null,
   "id": "laughing-baking",
   "metadata": {
    "ExecuteTime": {
     "end_time": "2021-03-18T19:22:24.686386Z",
     "start_time": "2021-03-18T19:22:16.807Z"
    }
   },
   "outputs": [],
   "source": [
    "from sklearn.model_selection import cross_validate\n",
    "from sklearn.model_selection import train_test_split\n",
    "from sklearn.linear_model import LogisticRegression # explicit class import from module\n",
    "from sklearn.model_selection import GridSearchCV"
   ]
  },
  {
   "cell_type": "code",
   "execution_count": null,
   "id": "wanted-springer",
   "metadata": {
    "ExecuteTime": {
     "end_time": "2021-03-18T19:22:24.697443Z",
     "start_time": "2021-03-18T19:22:16.810Z"
    }
   },
   "outputs": [],
   "source": [
    "model = LogisticRegression(max_iter=1000)"
   ]
  },
  {
   "cell_type": "code",
   "execution_count": null,
   "id": "afraid-commission",
   "metadata": {
    "ExecuteTime": {
     "end_time": "2021-03-18T19:22:24.700086Z",
     "start_time": "2021-03-18T19:22:16.817Z"
    }
   },
   "outputs": [],
   "source": [
    "X = new_X"
   ]
  },
  {
   "cell_type": "code",
   "execution_count": null,
   "id": "hydraulic-thompson",
   "metadata": {
    "ExecuteTime": {
     "end_time": "2021-03-18T19:22:24.713611Z",
     "start_time": "2021-03-18T19:22:16.821Z"
    }
   },
   "outputs": [],
   "source": [
    "from sklearn.model_selection import cross_val_score \n",
    "\n",
    "cv_results = cross_validate(model, X, y, cv=5)"
   ]
  },
  {
   "cell_type": "code",
   "execution_count": null,
   "id": "quick-fleece",
   "metadata": {
    "ExecuteTime": {
     "end_time": "2021-03-18T19:22:24.716541Z",
     "start_time": "2021-03-18T19:22:16.825Z"
    }
   },
   "outputs": [],
   "source": [
    "cv_results"
   ]
  },
  {
   "cell_type": "code",
   "execution_count": null,
   "id": "exterior-dress",
   "metadata": {
    "ExecuteTime": {
     "end_time": "2021-03-18T19:22:24.719139Z",
     "start_time": "2021-03-18T19:22:16.830Z"
    }
   },
   "outputs": [],
   "source": [
    "cv_results['test_score'].mean()"
   ]
  },
  {
   "cell_type": "markdown",
   "id": "junior-stanley",
   "metadata": {
    "ExecuteTime": {
     "end_time": "2021-03-18T18:59:18.288235Z",
     "start_time": "2021-03-18T18:59:18.265374Z"
    }
   },
   "source": [
    "### Finding F1 score"
   ]
  },
  {
   "cell_type": "code",
   "execution_count": null,
   "id": "dietary-terminal",
   "metadata": {
    "ExecuteTime": {
     "end_time": "2021-03-18T19:22:24.733012Z",
     "start_time": "2021-03-18T19:22:16.836Z"
    }
   },
   "outputs": [],
   "source": [
    "mean_score = cross_val_score(model, X_train, y_train, scoring=\"f1\", cv = 7).mean()"
   ]
  },
  {
   "cell_type": "code",
   "execution_count": null,
   "id": "executed-tanzania",
   "metadata": {
    "ExecuteTime": {
     "end_time": "2021-03-18T19:22:24.735201Z",
     "start_time": "2021-03-18T19:22:16.840Z"
    }
   },
   "outputs": [],
   "source": [
    "mean_score"
   ]
  },
  {
   "cell_type": "code",
   "execution_count": null,
   "id": "hollywood-spoke",
   "metadata": {
    "ExecuteTime": {
     "end_time": "2021-03-18T19:22:24.741177Z",
     "start_time": "2021-03-18T19:22:16.844Z"
    }
   },
   "outputs": [],
   "source": [
    "model.fit(new_data, y)\n"
   ]
  },
  {
   "cell_type": "code",
   "execution_count": null,
   "id": "surprised-bedroom",
   "metadata": {
    "ExecuteTime": {
     "end_time": "2021-03-18T19:22:24.743411Z",
     "start_time": "2021-03-18T19:22:16.848Z"
    }
   },
   "outputs": [],
   "source": [
    "cross_val_score(model, X_train, y_train, scoring=\"f1\", cv = 7).mean()"
   ]
  },
  {
   "cell_type": "markdown",
   "id": "spanish-tyler",
   "metadata": {},
   "source": [
    "## Feature permutation"
   ]
  },
  {
   "cell_type": "code",
   "execution_count": null,
   "id": "further-theme",
   "metadata": {
    "ExecuteTime": {
     "end_time": "2021-03-18T19:22:24.755052Z",
     "start_time": "2021-03-18T19:22:16.853Z"
    }
   },
   "outputs": [],
   "source": [
    "from sklearn.inspection import permutation_importance\n",
    "\n",
    "log_model = LogisticRegression().fit(X, y) # Fit model\n",
    "\n",
    "permutation_score = permutation_importance(log_model, X, y, n_repeats=100) # Perform Permutation\n",
    "\n",
    "importance_df = pd.DataFrame(np.vstack((X.columns,\n",
    "                                        permutation_score.importances_mean)).T) # Unstack results\n",
    "importance_df.columns=['feature','score decrease']\n",
    "\n",
    "importance_df.sort_values(by=\"score decrease\", ascending = False) # Order by importance"
   ]
  },
  {
   "cell_type": "code",
   "execution_count": null,
   "id": "successful-webmaster",
   "metadata": {
    "ExecuteTime": {
     "end_time": "2021-03-18T19:22:24.757905Z",
     "start_time": "2021-03-18T19:22:16.857Z"
    }
   },
   "outputs": [],
   "source": [
    "X = X.drop(columns=['WHATEVER COLUMNS']) # Drops weak features\n",
    "\n",
    "log_reg = LogisticRegression()\n",
    "\n",
    "scores = cross_val_score(log_reg, X, y, cv=10)\n",
    "\n",
    "scores.mean()"
   ]
  },
  {
   "cell_type": "markdown",
   "id": "diagnostic-chick",
   "metadata": {
    "ExecuteTime": {
     "end_time": "2021-03-18T19:05:15.854187Z",
     "start_time": "2021-03-18T19:05:15.848770Z"
    }
   },
   "source": [
    "# Modeling"
   ]
  },
  {
   "cell_type": "markdown",
   "id": "allied-nitrogen",
   "metadata": {},
   "source": [
    "## XGBoost"
   ]
  },
  {
   "cell_type": "code",
   "execution_count": null,
   "id": "sought-freeze",
   "metadata": {
    "ExecuteTime": {
     "end_time": "2021-03-18T19:22:24.760549Z",
     "start_time": "2021-03-18T19:22:16.862Z"
    }
   },
   "outputs": [],
   "source": [
    "import xgboost as xgb\n",
    "\n",
    "model=xgb.XGBClassifier(random_state=1,learning_rate=0.01)\n",
    "model.fit(X_train, y_train)\n",
    "model.score(X_test,y_test)"
   ]
  },
  {
   "cell_type": "code",
   "execution_count": null,
   "id": "golden-reservoir",
   "metadata": {
    "ExecuteTime": {
     "end_time": "2021-03-18T19:22:24.766183Z",
     "start_time": "2021-03-18T19:22:16.866Z"
    }
   },
   "outputs": [],
   "source": [
    "model.score(X_test,y_test)"
   ]
  },
  {
   "cell_type": "code",
   "execution_count": null,
   "id": "thousand-control",
   "metadata": {
    "ExecuteTime": {
     "end_time": "2021-03-18T19:22:24.773242Z",
     "start_time": "2021-03-18T19:22:16.870Z"
    }
   },
   "outputs": [],
   "source": [
    "!pip install xgboost"
   ]
  },
  {
   "cell_type": "code",
   "execution_count": null,
   "id": "military-matthew",
   "metadata": {
    "ExecuteTime": {
     "end_time": "2021-03-18T19:22:24.775084Z",
     "start_time": "2021-03-18T19:22:16.875Z"
    }
   },
   "outputs": [],
   "source": [
    "data_test = pd.read_csv('raw_data/test.csv')"
   ]
  },
  {
   "cell_type": "markdown",
   "id": "supreme-membrane",
   "metadata": {
    "ExecuteTime": {
     "end_time": "2021-03-18T16:34:25.286896Z",
     "start_time": "2021-03-18T16:34:25.257997Z"
    }
   },
   "source": [
    "## SGDClassifier"
   ]
  },
  {
   "cell_type": "code",
   "execution_count": null,
   "id": "ethical-reaction",
   "metadata": {
    "ExecuteTime": {
     "end_time": "2021-03-18T19:22:24.777911Z",
     "start_time": "2021-03-18T19:22:16.880Z"
    }
   },
   "outputs": [],
   "source": [
    "from sklearn.linear_model import SGDClassifier"
   ]
  },
  {
   "cell_type": "code",
   "execution_count": null,
   "id": "isolated-baptist",
   "metadata": {
    "ExecuteTime": {
     "end_time": "2021-03-18T19:22:24.780971Z",
     "start_time": "2021-03-18T19:22:16.884Z"
    }
   },
   "outputs": [],
   "source": [
    "model=SGDClassifier()"
   ]
  },
  {
   "cell_type": "code",
   "execution_count": null,
   "id": "elementary-orleans",
   "metadata": {
    "ExecuteTime": {
     "end_time": "2021-03-18T19:22:24.782515Z",
     "start_time": "2021-03-18T19:22:16.888Z"
    }
   },
   "outputs": [],
   "source": [
    "cv_result=cross_validate(model, new_data, y, cv=5) "
   ]
  },
  {
   "cell_type": "code",
   "execution_count": null,
   "id": "expensive-northern",
   "metadata": {
    "ExecuteTime": {
     "end_time": "2021-03-18T19:22:24.792763Z",
     "start_time": "2021-03-18T19:22:16.891Z"
    }
   },
   "outputs": [],
   "source": [
    "cv_result['test_score'].mean()"
   ]
  },
  {
   "cell_type": "code",
   "execution_count": null,
   "id": "mobile-awareness",
   "metadata": {
    "ExecuteTime": {
     "end_time": "2021-03-18T19:22:24.794576Z",
     "start_time": "2021-03-18T19:22:16.893Z"
    }
   },
   "outputs": [],
   "source": [
    "cross_val_score(model, new_data, y, scoring=\"f1\", cv = 7).mean()"
   ]
  },
  {
   "cell_type": "markdown",
   "id": "static-albuquerque",
   "metadata": {},
   "source": [
    "## Test Set"
   ]
  },
  {
   "cell_type": "code",
   "execution_count": null,
   "id": "reduced-emergency",
   "metadata": {
    "ExecuteTime": {
     "end_time": "2021-03-18T19:22:24.797814Z",
     "start_time": "2021-03-18T19:22:16.897Z"
    }
   },
   "outputs": [],
   "source": [
    "test_enc=ohe.transform(data_test[cat_cols]).toarray()\n",
    "data_test[cat_cols]=test_enc\n",
    "model.predict(test)"
   ]
  }
 ],
 "metadata": {
  "kernelspec": {
   "display_name": "Python 3",
   "language": "python",
   "name": "python3"
  },
  "language_info": {
   "codemirror_mode": {
    "name": "ipython",
    "version": 3
   },
   "file_extension": ".py",
   "mimetype": "text/x-python",
   "name": "python",
   "nbconvert_exporter": "python",
   "pygments_lexer": "ipython3",
   "version": "3.8.6"
  },
  "toc": {
   "base_numbering": 1,
   "nav_menu": {},
   "number_sections": true,
   "sideBar": true,
   "skip_h1_title": false,
   "title_cell": "Table of Contents",
   "title_sidebar": "Contents",
   "toc_cell": false,
   "toc_position": {},
   "toc_section_display": true,
   "toc_window_display": false
  },
  "varInspector": {
   "cols": {
    "lenName": 16,
    "lenType": 16,
    "lenVar": 40
   },
   "kernels_config": {
    "python": {
     "delete_cmd_postfix": "",
     "delete_cmd_prefix": "del ",
     "library": "var_list.py",
     "varRefreshCmd": "print(var_dic_list())"
    },
    "r": {
     "delete_cmd_postfix": ") ",
     "delete_cmd_prefix": "rm(",
     "library": "var_list.r",
     "varRefreshCmd": "cat(var_dic_list()) "
    }
   },
   "types_to_exclude": [
    "module",
    "function",
    "builtin_function_or_method",
    "instance",
    "_Feature"
   ],
   "window_display": false
  }
 },
 "nbformat": 4,
 "nbformat_minor": 5
}
