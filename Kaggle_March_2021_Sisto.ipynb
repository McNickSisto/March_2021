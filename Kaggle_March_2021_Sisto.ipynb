{
 "cells": [
  {
   "cell_type": "markdown",
   "id": "pleased-union",
   "metadata": {
    "ExecuteTime": {
     "end_time": "2021-03-18T10:30:57.053865Z",
     "start_time": "2021-03-18T10:30:57.048774Z"
    }
   },
   "source": [
    "# Data Exploration & Preparation"
   ]
  },
  {
   "cell_type": "markdown",
   "id": "continued-index",
   "metadata": {
    "ExecuteTime": {
     "end_time": "2021-03-18T10:31:05.058336Z",
     "start_time": "2021-03-18T10:31:05.053907Z"
    },
    "heading_collapsed": true
   },
   "source": [
    "## Importing Modules"
   ]
  },
  {
   "cell_type": "code",
   "execution_count": 1,
   "id": "whole-yukon",
   "metadata": {
    "ExecuteTime": {
     "end_time": "2021-03-26T17:35:24.312680Z",
     "start_time": "2021-03-26T17:35:21.522466Z"
    },
    "hidden": true
   },
   "outputs": [],
   "source": [
    "import pandas as pd\n",
    "import seaborn as sns\n",
    "from scipy import stats\n",
    "import numpy as np\n",
    "import matplotlib.pyplot as plt"
   ]
  },
  {
   "cell_type": "markdown",
   "id": "norman-weekend",
   "metadata": {
    "ExecuteTime": {
     "end_time": "2021-03-18T10:31:19.126697Z",
     "start_time": "2021-03-18T10:31:19.118825Z"
    },
    "heading_collapsed": true
   },
   "source": [
    "## Data Exploration"
   ]
  },
  {
   "cell_type": "markdown",
   "id": "vital-trademark",
   "metadata": {
    "ExecuteTime": {
     "end_time": "2021-03-18T10:33:55.611010Z",
     "start_time": "2021-03-18T10:33:55.603712Z"
    },
    "heading_collapsed": true,
    "hidden": true
   },
   "source": [
    "### Data Import "
   ]
  },
  {
   "cell_type": "code",
   "execution_count": 2,
   "id": "desirable-precipitation",
   "metadata": {
    "ExecuteTime": {
     "end_time": "2021-03-26T17:35:26.484672Z",
     "start_time": "2021-03-26T17:35:24.317460Z"
    },
    "hidden": true
   },
   "outputs": [],
   "source": [
    "data = pd.read_csv('raw_data/train.csv')"
   ]
  },
  {
   "cell_type": "code",
   "execution_count": 3,
   "id": "rural-fountain",
   "metadata": {
    "ExecuteTime": {
     "end_time": "2021-03-26T17:35:26.551873Z",
     "start_time": "2021-03-26T17:35:26.488642Z"
    },
    "hidden": true
   },
   "outputs": [
    {
     "data": {
      "text/html": [
       "<div>\n",
       "<style scoped>\n",
       "    .dataframe tbody tr th:only-of-type {\n",
       "        vertical-align: middle;\n",
       "    }\n",
       "\n",
       "    .dataframe tbody tr th {\n",
       "        vertical-align: top;\n",
       "    }\n",
       "\n",
       "    .dataframe thead th {\n",
       "        text-align: right;\n",
       "    }\n",
       "</style>\n",
       "<table border=\"1\" class=\"dataframe\">\n",
       "  <thead>\n",
       "    <tr style=\"text-align: right;\">\n",
       "      <th></th>\n",
       "      <th>id</th>\n",
       "      <th>cat0</th>\n",
       "      <th>cat1</th>\n",
       "      <th>cat2</th>\n",
       "      <th>cat3</th>\n",
       "      <th>cat4</th>\n",
       "      <th>cat5</th>\n",
       "      <th>cat6</th>\n",
       "      <th>cat7</th>\n",
       "      <th>cat8</th>\n",
       "      <th>...</th>\n",
       "      <th>cont2</th>\n",
       "      <th>cont3</th>\n",
       "      <th>cont4</th>\n",
       "      <th>cont5</th>\n",
       "      <th>cont6</th>\n",
       "      <th>cont7</th>\n",
       "      <th>cont8</th>\n",
       "      <th>cont9</th>\n",
       "      <th>cont10</th>\n",
       "      <th>target</th>\n",
       "    </tr>\n",
       "  </thead>\n",
       "  <tbody>\n",
       "    <tr>\n",
       "      <th>0</th>\n",
       "      <td>0</td>\n",
       "      <td>A</td>\n",
       "      <td>I</td>\n",
       "      <td>A</td>\n",
       "      <td>B</td>\n",
       "      <td>B</td>\n",
       "      <td>BI</td>\n",
       "      <td>A</td>\n",
       "      <td>S</td>\n",
       "      <td>Q</td>\n",
       "      <td>...</td>\n",
       "      <td>0.759439</td>\n",
       "      <td>0.795549</td>\n",
       "      <td>0.681917</td>\n",
       "      <td>0.621672</td>\n",
       "      <td>0.592184</td>\n",
       "      <td>0.791921</td>\n",
       "      <td>0.815254</td>\n",
       "      <td>0.965006</td>\n",
       "      <td>0.665915</td>\n",
       "      <td>0</td>\n",
       "    </tr>\n",
       "    <tr>\n",
       "      <th>1</th>\n",
       "      <td>1</td>\n",
       "      <td>A</td>\n",
       "      <td>I</td>\n",
       "      <td>A</td>\n",
       "      <td>A</td>\n",
       "      <td>E</td>\n",
       "      <td>BI</td>\n",
       "      <td>K</td>\n",
       "      <td>W</td>\n",
       "      <td>AD</td>\n",
       "      <td>...</td>\n",
       "      <td>0.386385</td>\n",
       "      <td>0.541366</td>\n",
       "      <td>0.388982</td>\n",
       "      <td>0.357778</td>\n",
       "      <td>0.600044</td>\n",
       "      <td>0.408701</td>\n",
       "      <td>0.399353</td>\n",
       "      <td>0.927406</td>\n",
       "      <td>0.493729</td>\n",
       "      <td>0</td>\n",
       "    </tr>\n",
       "    <tr>\n",
       "      <th>2</th>\n",
       "      <td>2</td>\n",
       "      <td>A</td>\n",
       "      <td>K</td>\n",
       "      <td>A</td>\n",
       "      <td>A</td>\n",
       "      <td>E</td>\n",
       "      <td>BI</td>\n",
       "      <td>A</td>\n",
       "      <td>E</td>\n",
       "      <td>BM</td>\n",
       "      <td>...</td>\n",
       "      <td>0.343255</td>\n",
       "      <td>0.616352</td>\n",
       "      <td>0.793687</td>\n",
       "      <td>0.552877</td>\n",
       "      <td>0.352113</td>\n",
       "      <td>0.388835</td>\n",
       "      <td>0.412303</td>\n",
       "      <td>0.292696</td>\n",
       "      <td>0.549452</td>\n",
       "      <td>0</td>\n",
       "    </tr>\n",
       "    <tr>\n",
       "      <th>3</th>\n",
       "      <td>3</td>\n",
       "      <td>A</td>\n",
       "      <td>K</td>\n",
       "      <td>A</td>\n",
       "      <td>C</td>\n",
       "      <td>E</td>\n",
       "      <td>BI</td>\n",
       "      <td>A</td>\n",
       "      <td>Y</td>\n",
       "      <td>AD</td>\n",
       "      <td>...</td>\n",
       "      <td>0.831147</td>\n",
       "      <td>0.807807</td>\n",
       "      <td>0.800032</td>\n",
       "      <td>0.619147</td>\n",
       "      <td>0.221789</td>\n",
       "      <td>0.897617</td>\n",
       "      <td>0.633669</td>\n",
       "      <td>0.760318</td>\n",
       "      <td>0.934242</td>\n",
       "      <td>0</td>\n",
       "    </tr>\n",
       "    <tr>\n",
       "      <th>4</th>\n",
       "      <td>4</td>\n",
       "      <td>A</td>\n",
       "      <td>I</td>\n",
       "      <td>G</td>\n",
       "      <td>B</td>\n",
       "      <td>E</td>\n",
       "      <td>BI</td>\n",
       "      <td>C</td>\n",
       "      <td>G</td>\n",
       "      <td>Q</td>\n",
       "      <td>...</td>\n",
       "      <td>0.338818</td>\n",
       "      <td>0.277308</td>\n",
       "      <td>0.610578</td>\n",
       "      <td>0.128291</td>\n",
       "      <td>0.578764</td>\n",
       "      <td>0.279167</td>\n",
       "      <td>0.351103</td>\n",
       "      <td>0.357084</td>\n",
       "      <td>0.328960</td>\n",
       "      <td>1</td>\n",
       "    </tr>\n",
       "  </tbody>\n",
       "</table>\n",
       "<p>5 rows × 32 columns</p>\n",
       "</div>"
      ],
      "text/plain": [
       "   id cat0 cat1 cat2 cat3 cat4 cat5 cat6 cat7 cat8  ...     cont2     cont3  \\\n",
       "0   0    A    I    A    B    B   BI    A    S    Q  ...  0.759439  0.795549   \n",
       "1   1    A    I    A    A    E   BI    K    W   AD  ...  0.386385  0.541366   \n",
       "2   2    A    K    A    A    E   BI    A    E   BM  ...  0.343255  0.616352   \n",
       "3   3    A    K    A    C    E   BI    A    Y   AD  ...  0.831147  0.807807   \n",
       "4   4    A    I    G    B    E   BI    C    G    Q  ...  0.338818  0.277308   \n",
       "\n",
       "      cont4     cont5     cont6     cont7     cont8     cont9    cont10 target  \n",
       "0  0.681917  0.621672  0.592184  0.791921  0.815254  0.965006  0.665915      0  \n",
       "1  0.388982  0.357778  0.600044  0.408701  0.399353  0.927406  0.493729      0  \n",
       "2  0.793687  0.552877  0.352113  0.388835  0.412303  0.292696  0.549452      0  \n",
       "3  0.800032  0.619147  0.221789  0.897617  0.633669  0.760318  0.934242      0  \n",
       "4  0.610578  0.128291  0.578764  0.279167  0.351103  0.357084  0.328960      1  \n",
       "\n",
       "[5 rows x 32 columns]"
      ]
     },
     "execution_count": 3,
     "metadata": {},
     "output_type": "execute_result"
    }
   ],
   "source": [
    "data.head()"
   ]
  },
  {
   "cell_type": "markdown",
   "id": "average-packaging",
   "metadata": {
    "ExecuteTime": {
     "end_time": "2021-03-18T11:05:40.281078Z",
     "start_time": "2021-03-18T11:05:40.269368Z"
    },
    "heading_collapsed": true,
    "hidden": true
   },
   "source": [
    "### X & Y"
   ]
  },
  {
   "cell_type": "code",
   "execution_count": 4,
   "id": "aggressive-milwaukee",
   "metadata": {
    "ExecuteTime": {
     "end_time": "2021-03-26T17:35:26.609083Z",
     "start_time": "2021-03-26T17:35:26.556172Z"
    },
    "hidden": true
   },
   "outputs": [],
   "source": [
    "X = data.drop(columns = 'target')"
   ]
  },
  {
   "cell_type": "code",
   "execution_count": 5,
   "id": "natural-reset",
   "metadata": {
    "ExecuteTime": {
     "end_time": "2021-03-26T17:35:26.623411Z",
     "start_time": "2021-03-26T17:35:26.612856Z"
    },
    "hidden": true
   },
   "outputs": [
    {
     "data": {
      "text/plain": [
       "0         0\n",
       "1         0\n",
       "2         0\n",
       "3         0\n",
       "4         1\n",
       "         ..\n",
       "299995    0\n",
       "299996    0\n",
       "299997    1\n",
       "299998    0\n",
       "299999    0\n",
       "Name: target, Length: 300000, dtype: int64"
      ]
     },
     "execution_count": 5,
     "metadata": {},
     "output_type": "execute_result"
    }
   ],
   "source": [
    "y = data['target']\n",
    "y"
   ]
  },
  {
   "cell_type": "markdown",
   "id": "interesting-interview",
   "metadata": {
    "heading_collapsed": true,
    "hidden": true
   },
   "source": [
    "### Checking for duplicates"
   ]
  },
  {
   "cell_type": "code",
   "execution_count": 6,
   "id": "smaller-recognition",
   "metadata": {
    "ExecuteTime": {
     "end_time": "2021-03-26T17:35:26.648009Z",
     "start_time": "2021-03-26T17:35:26.629966Z"
    },
    "hidden": true
   },
   "outputs": [
    {
     "data": {
      "text/plain": [
       "300000"
      ]
     },
     "execution_count": 6,
     "metadata": {},
     "output_type": "execute_result"
    }
   ],
   "source": [
    "len(X) # Check number of rows before removing duplicates"
   ]
  },
  {
   "cell_type": "code",
   "execution_count": 7,
   "id": "successful-breathing",
   "metadata": {
    "ExecuteTime": {
     "end_time": "2021-03-26T17:35:27.377734Z",
     "start_time": "2021-03-26T17:35:26.652127Z"
    },
    "hidden": true
   },
   "outputs": [
    {
     "data": {
      "text/plain": [
       "300000"
      ]
     },
     "execution_count": 7,
     "metadata": {},
     "output_type": "execute_result"
    }
   ],
   "source": [
    "X = X.drop_duplicates() # Remove duplicates\n",
    "len(X)# Check new number of rows"
   ]
  },
  {
   "cell_type": "markdown",
   "id": "functioning-paper",
   "metadata": {
    "ExecuteTime": {
     "end_time": "2021-03-18T10:34:07.337150Z",
     "start_time": "2021-03-18T10:34:07.332486Z"
    },
    "hidden": true
   },
   "source": [
    "### Null Values"
   ]
  },
  {
   "cell_type": "code",
   "execution_count": 8,
   "id": "interpreted-bleeding",
   "metadata": {
    "ExecuteTime": {
     "end_time": "2021-03-26T17:35:27.654625Z",
     "start_time": "2021-03-26T17:35:27.383179Z"
    },
    "hidden": true,
    "scrolled": true
   },
   "outputs": [
    {
     "data": {
      "text/plain": [
       "id        0\n",
       "cat15     0\n",
       "cont9     0\n",
       "cont8     0\n",
       "cont7     0\n",
       "cont6     0\n",
       "cont5     0\n",
       "cont4     0\n",
       "cont3     0\n",
       "cont2     0\n",
       "cont1     0\n",
       "cont0     0\n",
       "cat18     0\n",
       "cat17     0\n",
       "cat16     0\n",
       "cat14     0\n",
       "cat0      0\n",
       "cat13     0\n",
       "cat12     0\n",
       "cat11     0\n",
       "cat10     0\n",
       "cat9      0\n",
       "cat8      0\n",
       "cat7      0\n",
       "cat6      0\n",
       "cat5      0\n",
       "cat4      0\n",
       "cat3      0\n",
       "cat2      0\n",
       "cat1      0\n",
       "cont10    0\n",
       "dtype: int64"
      ]
     },
     "execution_count": 8,
     "metadata": {},
     "output_type": "execute_result"
    }
   ],
   "source": [
    "X.isnull().sum().sort_values(ascending=False) #NaN count for each column"
   ]
  },
  {
   "cell_type": "markdown",
   "id": "weighted-sphere",
   "metadata": {
    "ExecuteTime": {
     "end_time": "2021-03-18T10:53:18.000954Z",
     "start_time": "2021-03-18T10:53:17.996983Z"
    },
    "heading_collapsed": true,
    "hidden": true
   },
   "source": [
    "### Checking Cat and Num values"
   ]
  },
  {
   "cell_type": "code",
   "execution_count": 9,
   "id": "relative-honor",
   "metadata": {
    "ExecuteTime": {
     "end_time": "2021-03-26T17:35:27.662550Z",
     "start_time": "2021-03-26T17:35:27.658106Z"
    },
    "hidden": true
   },
   "outputs": [],
   "source": [
    "num_cols = X._get_numeric_data().columns"
   ]
  },
  {
   "cell_type": "code",
   "execution_count": 10,
   "id": "korean-abuse",
   "metadata": {
    "ExecuteTime": {
     "end_time": "2021-03-26T17:35:27.685029Z",
     "start_time": "2021-03-26T17:35:27.666099Z"
    },
    "hidden": true
   },
   "outputs": [
    {
     "data": {
      "text/plain": [
       "12"
      ]
     },
     "execution_count": 10,
     "metadata": {},
     "output_type": "execute_result"
    }
   ],
   "source": [
    "len(num_cols)"
   ]
  },
  {
   "cell_type": "code",
   "execution_count": 11,
   "id": "documentary-median",
   "metadata": {
    "ExecuteTime": {
     "end_time": "2021-03-26T17:35:27.706272Z",
     "start_time": "2021-03-26T17:35:27.688485Z"
    },
    "hidden": true
   },
   "outputs": [
    {
     "data": {
      "text/plain": [
       "Index(['id', 'cont0', 'cont1', 'cont2', 'cont3', 'cont4', 'cont5', 'cont6',\n",
       "       'cont7', 'cont8', 'cont9', 'cont10'],\n",
       "      dtype='object')"
      ]
     },
     "execution_count": 11,
     "metadata": {},
     "output_type": "execute_result"
    }
   ],
   "source": [
    "num_cols"
   ]
  },
  {
   "cell_type": "code",
   "execution_count": 12,
   "id": "nutritional-template",
   "metadata": {
    "ExecuteTime": {
     "end_time": "2021-03-26T17:35:27.717644Z",
     "start_time": "2021-03-26T17:35:27.709172Z"
    },
    "hidden": true
   },
   "outputs": [],
   "source": [
    "num_cols = num_cols.drop('id')"
   ]
  },
  {
   "cell_type": "code",
   "execution_count": 13,
   "id": "settled-japan",
   "metadata": {
    "ExecuteTime": {
     "end_time": "2021-03-26T17:35:27.731954Z",
     "start_time": "2021-03-26T17:35:27.720385Z"
    },
    "hidden": true
   },
   "outputs": [
    {
     "data": {
      "text/plain": [
       "Index(['cont0', 'cont1', 'cont2', 'cont3', 'cont4', 'cont5', 'cont6', 'cont7',\n",
       "       'cont8', 'cont9', 'cont10'],\n",
       "      dtype='object')"
      ]
     },
     "execution_count": 13,
     "metadata": {},
     "output_type": "execute_result"
    }
   ],
   "source": [
    "num_cols"
   ]
  },
  {
   "cell_type": "code",
   "execution_count": 14,
   "id": "earned-matrix",
   "metadata": {
    "ExecuteTime": {
     "end_time": "2021-03-26T17:35:27.746834Z",
     "start_time": "2021-03-26T17:35:27.734343Z"
    },
    "hidden": true
   },
   "outputs": [],
   "source": [
    "cat_cols = list(set(X) - set(num_cols))"
   ]
  },
  {
   "cell_type": "code",
   "execution_count": 15,
   "id": "passive-twenty",
   "metadata": {
    "ExecuteTime": {
     "end_time": "2021-03-26T17:35:27.782602Z",
     "start_time": "2021-03-26T17:35:27.750180Z"
    },
    "hidden": true
   },
   "outputs": [
    {
     "data": {
      "text/plain": [
       "['cat5',\n",
       " 'cat13',\n",
       " 'cat8',\n",
       " 'cat14',\n",
       " 'cat11',\n",
       " 'cat18',\n",
       " 'cat3',\n",
       " 'cat15',\n",
       " 'cat10',\n",
       " 'cat4',\n",
       " 'cat9',\n",
       " 'cat16',\n",
       " 'cat1',\n",
       " 'cat6',\n",
       " 'cat0',\n",
       " 'cat12',\n",
       " 'cat17',\n",
       " 'cat7',\n",
       " 'id',\n",
       " 'cat2']"
      ]
     },
     "execution_count": 15,
     "metadata": {},
     "output_type": "execute_result"
    }
   ],
   "source": [
    "cat_cols "
   ]
  },
  {
   "cell_type": "code",
   "execution_count": 16,
   "id": "rolled-microphone",
   "metadata": {
    "ExecuteTime": {
     "end_time": "2021-03-26T17:35:27.798585Z",
     "start_time": "2021-03-26T17:35:27.785794Z"
    },
    "hidden": true
   },
   "outputs": [],
   "source": [
    "cat_cols.remove('id')"
   ]
  },
  {
   "cell_type": "code",
   "execution_count": 17,
   "id": "tribal-birth",
   "metadata": {
    "ExecuteTime": {
     "end_time": "2021-03-26T17:35:27.823358Z",
     "start_time": "2021-03-26T17:35:27.801718Z"
    },
    "hidden": true
   },
   "outputs": [
    {
     "data": {
      "text/plain": [
       "['cat5',\n",
       " 'cat13',\n",
       " 'cat8',\n",
       " 'cat14',\n",
       " 'cat11',\n",
       " 'cat18',\n",
       " 'cat3',\n",
       " 'cat15',\n",
       " 'cat10',\n",
       " 'cat4',\n",
       " 'cat9',\n",
       " 'cat16',\n",
       " 'cat1',\n",
       " 'cat6',\n",
       " 'cat0',\n",
       " 'cat12',\n",
       " 'cat17',\n",
       " 'cat7',\n",
       " 'cat2']"
      ]
     },
     "execution_count": 17,
     "metadata": {},
     "output_type": "execute_result"
    }
   ],
   "source": [
    "cat_cols"
   ]
  },
  {
   "cell_type": "code",
   "execution_count": 18,
   "id": "future-distribution",
   "metadata": {
    "ExecuteTime": {
     "end_time": "2021-03-26T17:35:27.873460Z",
     "start_time": "2021-03-26T17:35:27.826410Z"
    },
    "hidden": true
   },
   "outputs": [],
   "source": [
    "data_cat = data[cat_cols]"
   ]
  },
  {
   "cell_type": "code",
   "execution_count": 19,
   "id": "complete-collectible",
   "metadata": {
    "ExecuteTime": {
     "end_time": "2021-03-26T17:35:27.886002Z",
     "start_time": "2021-03-26T17:35:27.879565Z"
    },
    "hidden": true
   },
   "outputs": [],
   "source": [
    "# plt.figure(figsize=(18,12))\n",
    "# sns.countplot(data= data, x='cat7', hue=y)"
   ]
  },
  {
   "cell_type": "code",
   "execution_count": 20,
   "id": "narrow-strand",
   "metadata": {
    "ExecuteTime": {
     "end_time": "2021-03-26T17:35:27.917215Z",
     "start_time": "2021-03-26T17:35:27.888930Z"
    },
    "hidden": true
   },
   "outputs": [],
   "source": [
    "# plt.figure(figsize=(30,50))\n",
    "# for index, cat in enumerate(cat_cols):\n",
    "#     index += 1\n",
    "#     plt.subplot(10,2,index)\n",
    "#     x = data[cat]\n",
    "#     sns.histplot(x)\n",
    "#     plt.title(cat)"
   ]
  },
  {
   "cell_type": "code",
   "execution_count": 21,
   "id": "damaged-belle",
   "metadata": {
    "ExecuteTime": {
     "end_time": "2021-03-26T17:35:28.612503Z",
     "start_time": "2021-03-26T17:35:27.920070Z"
    },
    "hidden": true
   },
   "outputs": [
    {
     "data": {
      "text/plain": [
       "<AxesSubplot:>"
      ]
     },
     "execution_count": 21,
     "metadata": {},
     "output_type": "execute_result"
    },
    {
     "data": {
      "image/png": "[encoded data removed]",
      "text/plain": [
       "<Figure size 432x288 with 2 Axes>"
      ]
     },
     "metadata": {
      "needs_background": "light"
     },
     "output_type": "display_data"
    }
   ],
   "source": [
    "# Heatmap\n",
    "corr = data.corr()\n",
    "sns.heatmap(corr, \n",
    "        xticklabels=corr.columns,\n",
    "        yticklabels=corr.columns,\n",
    "        cmap= \"YlGnBu\")"
   ]
  },
  {
   "cell_type": "code",
   "execution_count": 22,
   "id": "environmental-directory",
   "metadata": {
    "ExecuteTime": {
     "end_time": "2021-03-26T17:35:29.043436Z",
     "start_time": "2021-03-26T17:35:28.623754Z"
    },
    "hidden": true,
    "scrolled": true
   },
   "outputs": [
    {
     "data": {
      "text/plain": [
       "<AxesSubplot:xlabel='target', ylabel='Count'>"
      ]
     },
     "execution_count": 22,
     "metadata": {},
     "output_type": "execute_result"
    },
    {
     "data": {
      "image/png": "[encoded data removed]",
      "text/plain": [
       "<Figure size 432x288 with 1 Axes>"
      ]
     },
     "metadata": {
      "needs_background": "light"
     },
     "output_type": "display_data"
    }
   ],
   "source": [
    "sns.histplot(y) #imbalanced, so i shouldnt use accuracy[[TN,FP], [FN,TP]], F1 identifies 1, & w/o wrong ones"
   ]
  },
  {
   "cell_type": "markdown",
   "id": "female-walnut",
   "metadata": {
    "ExecuteTime": {
     "end_time": "2021-03-18T18:59:54.587236Z",
     "start_time": "2021-03-18T18:59:54.581509Z"
    },
    "hidden": true
   },
   "source": [
    "### Correlation features removed "
   ]
  },
  {
   "cell_type": "code",
   "execution_count": 23,
   "id": "painful-diabetes",
   "metadata": {
    "ExecuteTime": {
     "end_time": "2021-03-26T17:35:29.660312Z",
     "start_time": "2021-03-26T17:35:29.051388Z"
    },
    "hidden": true
   },
   "outputs": [
    {
     "data": {
      "text/plain": [
       "<AxesSubplot:>"
      ]
     },
     "execution_count": 23,
     "metadata": {},
     "output_type": "execute_result"
    },
    {
     "data": {
      "image/png": "[encoded data removed]",
      "text/plain": [
       "<Figure size 432x288 with 2 Axes>"
      ]
     },
     "metadata": {
      "needs_background": "light"
     },
     "output_type": "display_data"
    }
   ],
   "source": [
    "corr = data.corr()\n",
    "sns.heatmap(corr, \n",
    "        xticklabels=corr.columns,\n",
    "        yticklabels=corr.columns,\n",
    "        cmap= \"YlGnBu\")"
   ]
  },
  {
   "cell_type": "code",
   "execution_count": 24,
   "id": "recent-still",
   "metadata": {
    "ExecuteTime": {
     "end_time": "2021-03-26T17:35:29.719890Z",
     "start_time": "2021-03-26T17:35:29.665814Z"
    },
    "hidden": true,
    "scrolled": false
   },
   "outputs": [],
   "source": [
    "X = X.drop(columns=['cont2','cont7','cont10','id'])"
   ]
  },
  {
   "cell_type": "code",
   "execution_count": 25,
   "id": "internal-massachusetts",
   "metadata": {
    "ExecuteTime": {
     "end_time": "2021-03-26T17:35:29.734043Z",
     "start_time": "2021-03-26T17:35:29.722832Z"
    },
    "hidden": true
   },
   "outputs": [
    {
     "data": {
      "text/plain": [
       "(300000, 27)"
      ]
     },
     "execution_count": 25,
     "metadata": {},
     "output_type": "execute_result"
    }
   ],
   "source": [
    "X.shape"
   ]
  },
  {
   "cell_type": "code",
   "execution_count": 26,
   "id": "governing-picking",
   "metadata": {
    "ExecuteTime": {
     "end_time": "2021-03-26T17:35:29.751066Z",
     "start_time": "2021-03-26T17:35:29.737509Z"
    },
    "hidden": true
   },
   "outputs": [],
   "source": [
    "num_cols = X._get_numeric_data().columns"
   ]
  },
  {
   "cell_type": "markdown",
   "id": "interior-graphic",
   "metadata": {
    "ExecuteTime": {
     "end_time": "2021-03-18T19:11:58.358383Z",
     "start_time": "2021-03-18T19:11:58.349241Z"
    }
   },
   "source": [
    "## Balancing with SMOTE"
   ]
  },
  {
   "cell_type": "markdown",
   "id": "raised-bobby",
   "metadata": {
    "ExecuteTime": {
     "end_time": "2021-03-18T11:55:58.238588Z",
     "start_time": "2021-03-18T11:55:58.008960Z"
    },
    "heading_collapsed": true
   },
   "source": [
    "## Preprocessing"
   ]
  },
  {
   "cell_type": "code",
   "execution_count": 27,
   "id": "weekly-programming",
   "metadata": {
    "ExecuteTime": {
     "end_time": "2021-03-26T17:35:29.909493Z",
     "start_time": "2021-03-26T17:35:29.753542Z"
    },
    "hidden": true
   },
   "outputs": [
    {
     "data": {
      "text/html": [
       "<div>\n",
       "<style scoped>\n",
       "    .dataframe tbody tr th:only-of-type {\n",
       "        vertical-align: middle;\n",
       "    }\n",
       "\n",
       "    .dataframe tbody tr th {\n",
       "        vertical-align: top;\n",
       "    }\n",
       "\n",
       "    .dataframe thead th {\n",
       "        text-align: right;\n",
       "    }\n",
       "</style>\n",
       "<table border=\"1\" class=\"dataframe\">\n",
       "  <thead>\n",
       "    <tr style=\"text-align: right;\">\n",
       "      <th></th>\n",
       "      <th>cat0</th>\n",
       "      <th>cat1</th>\n",
       "      <th>cat2</th>\n",
       "      <th>cat3</th>\n",
       "      <th>cat4</th>\n",
       "      <th>cat5</th>\n",
       "      <th>cat6</th>\n",
       "      <th>cat7</th>\n",
       "      <th>cat8</th>\n",
       "      <th>cat9</th>\n",
       "      <th>...</th>\n",
       "      <th>cat17</th>\n",
       "      <th>cat18</th>\n",
       "      <th>cont0</th>\n",
       "      <th>cont1</th>\n",
       "      <th>cont3</th>\n",
       "      <th>cont4</th>\n",
       "      <th>cont5</th>\n",
       "      <th>cont6</th>\n",
       "      <th>cont8</th>\n",
       "      <th>cont9</th>\n",
       "    </tr>\n",
       "  </thead>\n",
       "  <tbody>\n",
       "    <tr>\n",
       "      <th>0</th>\n",
       "      <td>A</td>\n",
       "      <td>I</td>\n",
       "      <td>A</td>\n",
       "      <td>B</td>\n",
       "      <td>B</td>\n",
       "      <td>BI</td>\n",
       "      <td>A</td>\n",
       "      <td>S</td>\n",
       "      <td>Q</td>\n",
       "      <td>A</td>\n",
       "      <td>...</td>\n",
       "      <td>D</td>\n",
       "      <td>B</td>\n",
       "      <td>0.629858</td>\n",
       "      <td>0.855349</td>\n",
       "      <td>0.795549</td>\n",
       "      <td>0.681917</td>\n",
       "      <td>0.621672</td>\n",
       "      <td>0.592184</td>\n",
       "      <td>0.815254</td>\n",
       "      <td>0.965006</td>\n",
       "    </tr>\n",
       "    <tr>\n",
       "      <th>1</th>\n",
       "      <td>A</td>\n",
       "      <td>I</td>\n",
       "      <td>A</td>\n",
       "      <td>A</td>\n",
       "      <td>E</td>\n",
       "      <td>BI</td>\n",
       "      <td>K</td>\n",
       "      <td>W</td>\n",
       "      <td>AD</td>\n",
       "      <td>F</td>\n",
       "      <td>...</td>\n",
       "      <td>D</td>\n",
       "      <td>B</td>\n",
       "      <td>0.370727</td>\n",
       "      <td>0.328929</td>\n",
       "      <td>0.541366</td>\n",
       "      <td>0.388982</td>\n",
       "      <td>0.357778</td>\n",
       "      <td>0.600044</td>\n",
       "      <td>0.399353</td>\n",
       "      <td>0.927406</td>\n",
       "    </tr>\n",
       "    <tr>\n",
       "      <th>2</th>\n",
       "      <td>A</td>\n",
       "      <td>K</td>\n",
       "      <td>A</td>\n",
       "      <td>A</td>\n",
       "      <td>E</td>\n",
       "      <td>BI</td>\n",
       "      <td>A</td>\n",
       "      <td>E</td>\n",
       "      <td>BM</td>\n",
       "      <td>L</td>\n",
       "      <td>...</td>\n",
       "      <td>D</td>\n",
       "      <td>B</td>\n",
       "      <td>0.502272</td>\n",
       "      <td>0.322749</td>\n",
       "      <td>0.616352</td>\n",
       "      <td>0.793687</td>\n",
       "      <td>0.552877</td>\n",
       "      <td>0.352113</td>\n",
       "      <td>0.412303</td>\n",
       "      <td>0.292696</td>\n",
       "    </tr>\n",
       "    <tr>\n",
       "      <th>3</th>\n",
       "      <td>A</td>\n",
       "      <td>K</td>\n",
       "      <td>A</td>\n",
       "      <td>C</td>\n",
       "      <td>E</td>\n",
       "      <td>BI</td>\n",
       "      <td>A</td>\n",
       "      <td>Y</td>\n",
       "      <td>AD</td>\n",
       "      <td>F</td>\n",
       "      <td>...</td>\n",
       "      <td>D</td>\n",
       "      <td>B</td>\n",
       "      <td>0.934242</td>\n",
       "      <td>0.707663</td>\n",
       "      <td>0.807807</td>\n",
       "      <td>0.800032</td>\n",
       "      <td>0.619147</td>\n",
       "      <td>0.221789</td>\n",
       "      <td>0.633669</td>\n",
       "      <td>0.760318</td>\n",
       "    </tr>\n",
       "    <tr>\n",
       "      <th>4</th>\n",
       "      <td>A</td>\n",
       "      <td>I</td>\n",
       "      <td>G</td>\n",
       "      <td>B</td>\n",
       "      <td>E</td>\n",
       "      <td>BI</td>\n",
       "      <td>C</td>\n",
       "      <td>G</td>\n",
       "      <td>Q</td>\n",
       "      <td>A</td>\n",
       "      <td>...</td>\n",
       "      <td>D</td>\n",
       "      <td>B</td>\n",
       "      <td>0.254427</td>\n",
       "      <td>0.274514</td>\n",
       "      <td>0.277308</td>\n",
       "      <td>0.610578</td>\n",
       "      <td>0.128291</td>\n",
       "      <td>0.578764</td>\n",
       "      <td>0.351103</td>\n",
       "      <td>0.357084</td>\n",
       "    </tr>\n",
       "    <tr>\n",
       "      <th>...</th>\n",
       "      <td>...</td>\n",
       "      <td>...</td>\n",
       "      <td>...</td>\n",
       "      <td>...</td>\n",
       "      <td>...</td>\n",
       "      <td>...</td>\n",
       "      <td>...</td>\n",
       "      <td>...</td>\n",
       "      <td>...</td>\n",
       "      <td>...</td>\n",
       "      <td>...</td>\n",
       "      <td>...</td>\n",
       "      <td>...</td>\n",
       "      <td>...</td>\n",
       "      <td>...</td>\n",
       "      <td>...</td>\n",
       "      <td>...</td>\n",
       "      <td>...</td>\n",
       "      <td>...</td>\n",
       "      <td>...</td>\n",
       "      <td>...</td>\n",
       "    </tr>\n",
       "    <tr>\n",
       "      <th>299995</th>\n",
       "      <td>A</td>\n",
       "      <td>N</td>\n",
       "      <td>F</td>\n",
       "      <td>A</td>\n",
       "      <td>E</td>\n",
       "      <td>BU</td>\n",
       "      <td>A</td>\n",
       "      <td>AS</td>\n",
       "      <td>K</td>\n",
       "      <td>A</td>\n",
       "      <td>...</td>\n",
       "      <td>D</td>\n",
       "      <td>B</td>\n",
       "      <td>0.681700</td>\n",
       "      <td>0.500730</td>\n",
       "      <td>0.671927</td>\n",
       "      <td>0.390566</td>\n",
       "      <td>0.145840</td>\n",
       "      <td>0.262767</td>\n",
       "      <td>0.519340</td>\n",
       "      <td>0.617436</td>\n",
       "    </tr>\n",
       "    <tr>\n",
       "      <th>299996</th>\n",
       "      <td>A</td>\n",
       "      <td>K</td>\n",
       "      <td>A</td>\n",
       "      <td>A</td>\n",
       "      <td>G</td>\n",
       "      <td>BI</td>\n",
       "      <td>A</td>\n",
       "      <td>K</td>\n",
       "      <td>AE</td>\n",
       "      <td>E</td>\n",
       "      <td>...</td>\n",
       "      <td>D</td>\n",
       "      <td>B</td>\n",
       "      <td>0.489226</td>\n",
       "      <td>0.790664</td>\n",
       "      <td>0.620356</td>\n",
       "      <td>0.384891</td>\n",
       "      <td>0.735879</td>\n",
       "      <td>0.547731</td>\n",
       "      <td>0.470575</td>\n",
       "      <td>0.275743</td>\n",
       "    </tr>\n",
       "    <tr>\n",
       "      <th>299997</th>\n",
       "      <td>A</td>\n",
       "      <td>G</td>\n",
       "      <td>M</td>\n",
       "      <td>A</td>\n",
       "      <td>H</td>\n",
       "      <td>BI</td>\n",
       "      <td>C</td>\n",
       "      <td>L</td>\n",
       "      <td>F</td>\n",
       "      <td>A</td>\n",
       "      <td>...</td>\n",
       "      <td>D</td>\n",
       "      <td>D</td>\n",
       "      <td>0.487882</td>\n",
       "      <td>0.522347</td>\n",
       "      <td>0.232436</td>\n",
       "      <td>0.832482</td>\n",
       "      <td>0.810663</td>\n",
       "      <td>0.596939</td>\n",
       "      <td>0.373997</td>\n",
       "      <td>0.518024</td>\n",
       "    </tr>\n",
       "    <tr>\n",
       "      <th>299998</th>\n",
       "      <td>B</td>\n",
       "      <td>H</td>\n",
       "      <td>A</td>\n",
       "      <td>D</td>\n",
       "      <td>B</td>\n",
       "      <td>BI</td>\n",
       "      <td>A</td>\n",
       "      <td>AA</td>\n",
       "      <td>AX</td>\n",
       "      <td>A</td>\n",
       "      <td>...</td>\n",
       "      <td>D</td>\n",
       "      <td>A</td>\n",
       "      <td>0.331900</td>\n",
       "      <td>0.812891</td>\n",
       "      <td>0.630708</td>\n",
       "      <td>0.346898</td>\n",
       "      <td>0.735147</td>\n",
       "      <td>0.563488</td>\n",
       "      <td>0.680430</td>\n",
       "      <td>0.318453</td>\n",
       "    </tr>\n",
       "    <tr>\n",
       "      <th>299999</th>\n",
       "      <td>A</td>\n",
       "      <td>F</td>\n",
       "      <td>C</td>\n",
       "      <td>A</td>\n",
       "      <td>E</td>\n",
       "      <td>BI</td>\n",
       "      <td>C</td>\n",
       "      <td>AV</td>\n",
       "      <td>S</td>\n",
       "      <td>A</td>\n",
       "      <td>...</td>\n",
       "      <td>D</td>\n",
       "      <td>B</td>\n",
       "      <td>0.822600</td>\n",
       "      <td>0.819735</td>\n",
       "      <td>0.848696</td>\n",
       "      <td>0.819377</td>\n",
       "      <td>0.355467</td>\n",
       "      <td>0.218153</td>\n",
       "      <td>0.823655</td>\n",
       "      <td>0.330515</td>\n",
       "    </tr>\n",
       "  </tbody>\n",
       "</table>\n",
       "<p>300000 rows × 27 columns</p>\n",
       "</div>"
      ],
      "text/plain": [
       "       cat0 cat1 cat2 cat3 cat4 cat5 cat6 cat7 cat8 cat9  ... cat17 cat18  \\\n",
       "0         A    I    A    B    B   BI    A    S    Q    A  ...     D     B   \n",
       "1         A    I    A    A    E   BI    K    W   AD    F  ...     D     B   \n",
       "2         A    K    A    A    E   BI    A    E   BM    L  ...     D     B   \n",
       "3         A    K    A    C    E   BI    A    Y   AD    F  ...     D     B   \n",
       "4         A    I    G    B    E   BI    C    G    Q    A  ...     D     B   \n",
       "...     ...  ...  ...  ...  ...  ...  ...  ...  ...  ...  ...   ...   ...   \n",
       "299995    A    N    F    A    E   BU    A   AS    K    A  ...     D     B   \n",
       "299996    A    K    A    A    G   BI    A    K   AE    E  ...     D     B   \n",
       "299997    A    G    M    A    H   BI    C    L    F    A  ...     D     D   \n",
       "299998    B    H    A    D    B   BI    A   AA   AX    A  ...     D     A   \n",
       "299999    A    F    C    A    E   BI    C   AV    S    A  ...     D     B   \n",
       "\n",
       "           cont0     cont1     cont3     cont4     cont5     cont6     cont8  \\\n",
       "0       0.629858  0.855349  0.795549  0.681917  0.621672  0.592184  0.815254   \n",
       "1       0.370727  0.328929  0.541366  0.388982  0.357778  0.600044  0.399353   \n",
       "2       0.502272  0.322749  0.616352  0.793687  0.552877  0.352113  0.412303   \n",
       "3       0.934242  0.707663  0.807807  0.800032  0.619147  0.221789  0.633669   \n",
       "4       0.254427  0.274514  0.277308  0.610578  0.128291  0.578764  0.351103   \n",
       "...          ...       ...       ...       ...       ...       ...       ...   \n",
       "299995  0.681700  0.500730  0.671927  0.390566  0.145840  0.262767  0.519340   \n",
       "299996  0.489226  0.790664  0.620356  0.384891  0.735879  0.547731  0.470575   \n",
       "299997  0.487882  0.522347  0.232436  0.832482  0.810663  0.596939  0.373997   \n",
       "299998  0.331900  0.812891  0.630708  0.346898  0.735147  0.563488  0.680430   \n",
       "299999  0.822600  0.819735  0.848696  0.819377  0.355467  0.218153  0.823655   \n",
       "\n",
       "           cont9  \n",
       "0       0.965006  \n",
       "1       0.927406  \n",
       "2       0.292696  \n",
       "3       0.760318  \n",
       "4       0.357084  \n",
       "...          ...  \n",
       "299995  0.617436  \n",
       "299996  0.275743  \n",
       "299997  0.518024  \n",
       "299998  0.318453  \n",
       "299999  0.330515  \n",
       "\n",
       "[300000 rows x 27 columns]"
      ]
     },
     "execution_count": 27,
     "metadata": {},
     "output_type": "execute_result"
    }
   ],
   "source": [
    "X"
   ]
  },
  {
   "cell_type": "code",
   "execution_count": 28,
   "id": "assisted-christmas",
   "metadata": {
    "ExecuteTime": {
     "end_time": "2021-03-26T17:35:30.257166Z",
     "start_time": "2021-03-26T17:35:29.912363Z"
    },
    "hidden": true
   },
   "outputs": [],
   "source": [
    "from sklearn.preprocessing import OneHotEncoder"
   ]
  },
  {
   "cell_type": "code",
   "execution_count": 29,
   "id": "announced-electron",
   "metadata": {
    "ExecuteTime": {
     "end_time": "2021-03-26T17:35:30.411373Z",
     "start_time": "2021-03-26T17:35:30.261975Z"
    },
    "hidden": true
   },
   "outputs": [
    {
     "data": {
      "text/html": [
       "<div>\n",
       "<style scoped>\n",
       "    .dataframe tbody tr th:only-of-type {\n",
       "        vertical-align: middle;\n",
       "    }\n",
       "\n",
       "    .dataframe tbody tr th {\n",
       "        vertical-align: top;\n",
       "    }\n",
       "\n",
       "    .dataframe thead th {\n",
       "        text-align: right;\n",
       "    }\n",
       "</style>\n",
       "<table border=\"1\" class=\"dataframe\">\n",
       "  <thead>\n",
       "    <tr style=\"text-align: right;\">\n",
       "      <th></th>\n",
       "      <th>cat5</th>\n",
       "      <th>cat13</th>\n",
       "      <th>cat8</th>\n",
       "      <th>cat14</th>\n",
       "      <th>cat11</th>\n",
       "      <th>cat18</th>\n",
       "      <th>cat3</th>\n",
       "      <th>cat15</th>\n",
       "      <th>cat10</th>\n",
       "      <th>cat4</th>\n",
       "      <th>cat9</th>\n",
       "      <th>cat16</th>\n",
       "      <th>cat1</th>\n",
       "      <th>cat6</th>\n",
       "      <th>cat0</th>\n",
       "      <th>cat12</th>\n",
       "      <th>cat17</th>\n",
       "      <th>cat7</th>\n",
       "      <th>cat2</th>\n",
       "    </tr>\n",
       "  </thead>\n",
       "  <tbody>\n",
       "    <tr>\n",
       "      <th>0</th>\n",
       "      <td>BI</td>\n",
       "      <td>A</td>\n",
       "      <td>Q</td>\n",
       "      <td>A</td>\n",
       "      <td>A</td>\n",
       "      <td>B</td>\n",
       "      <td>B</td>\n",
       "      <td>B</td>\n",
       "      <td>LO</td>\n",
       "      <td>B</td>\n",
       "      <td>A</td>\n",
       "      <td>D</td>\n",
       "      <td>I</td>\n",
       "      <td>A</td>\n",
       "      <td>A</td>\n",
       "      <td>A</td>\n",
       "      <td>D</td>\n",
       "      <td>S</td>\n",
       "      <td>A</td>\n",
       "    </tr>\n",
       "    <tr>\n",
       "      <th>1</th>\n",
       "      <td>BI</td>\n",
       "      <td>A</td>\n",
       "      <td>AD</td>\n",
       "      <td>B</td>\n",
       "      <td>A</td>\n",
       "      <td>B</td>\n",
       "      <td>A</td>\n",
       "      <td>D</td>\n",
       "      <td>HJ</td>\n",
       "      <td>E</td>\n",
       "      <td>F</td>\n",
       "      <td>B</td>\n",
       "      <td>I</td>\n",
       "      <td>K</td>\n",
       "      <td>A</td>\n",
       "      <td>B</td>\n",
       "      <td>D</td>\n",
       "      <td>W</td>\n",
       "      <td>A</td>\n",
       "    </tr>\n",
       "    <tr>\n",
       "      <th>2</th>\n",
       "      <td>BI</td>\n",
       "      <td>A</td>\n",
       "      <td>BM</td>\n",
       "      <td>A</td>\n",
       "      <td>A</td>\n",
       "      <td>B</td>\n",
       "      <td>A</td>\n",
       "      <td>B</td>\n",
       "      <td>DJ</td>\n",
       "      <td>E</td>\n",
       "      <td>L</td>\n",
       "      <td>D</td>\n",
       "      <td>K</td>\n",
       "      <td>A</td>\n",
       "      <td>A</td>\n",
       "      <td>B</td>\n",
       "      <td>D</td>\n",
       "      <td>E</td>\n",
       "      <td>A</td>\n",
       "    </tr>\n",
       "    <tr>\n",
       "      <th>3</th>\n",
       "      <td>BI</td>\n",
       "      <td>A</td>\n",
       "      <td>AD</td>\n",
       "      <td>A</td>\n",
       "      <td>A</td>\n",
       "      <td>B</td>\n",
       "      <td>C</td>\n",
       "      <td>B</td>\n",
       "      <td>KV</td>\n",
       "      <td>E</td>\n",
       "      <td>F</td>\n",
       "      <td>D</td>\n",
       "      <td>K</td>\n",
       "      <td>A</td>\n",
       "      <td>A</td>\n",
       "      <td>A</td>\n",
       "      <td>D</td>\n",
       "      <td>Y</td>\n",
       "      <td>A</td>\n",
       "    </tr>\n",
       "    <tr>\n",
       "      <th>4</th>\n",
       "      <td>BI</td>\n",
       "      <td>A</td>\n",
       "      <td>Q</td>\n",
       "      <td>B</td>\n",
       "      <td>A</td>\n",
       "      <td>B</td>\n",
       "      <td>B</td>\n",
       "      <td>B</td>\n",
       "      <td>DP</td>\n",
       "      <td>E</td>\n",
       "      <td>A</td>\n",
       "      <td>B</td>\n",
       "      <td>I</td>\n",
       "      <td>C</td>\n",
       "      <td>A</td>\n",
       "      <td>A</td>\n",
       "      <td>D</td>\n",
       "      <td>G</td>\n",
       "      <td>G</td>\n",
       "    </tr>\n",
       "    <tr>\n",
       "      <th>...</th>\n",
       "      <td>...</td>\n",
       "      <td>...</td>\n",
       "      <td>...</td>\n",
       "      <td>...</td>\n",
       "      <td>...</td>\n",
       "      <td>...</td>\n",
       "      <td>...</td>\n",
       "      <td>...</td>\n",
       "      <td>...</td>\n",
       "      <td>...</td>\n",
       "      <td>...</td>\n",
       "      <td>...</td>\n",
       "      <td>...</td>\n",
       "      <td>...</td>\n",
       "      <td>...</td>\n",
       "      <td>...</td>\n",
       "      <td>...</td>\n",
       "      <td>...</td>\n",
       "      <td>...</td>\n",
       "    </tr>\n",
       "    <tr>\n",
       "      <th>299995</th>\n",
       "      <td>BU</td>\n",
       "      <td>A</td>\n",
       "      <td>K</td>\n",
       "      <td>B</td>\n",
       "      <td>A</td>\n",
       "      <td>B</td>\n",
       "      <td>A</td>\n",
       "      <td>D</td>\n",
       "      <td>HG</td>\n",
       "      <td>E</td>\n",
       "      <td>A</td>\n",
       "      <td>B</td>\n",
       "      <td>N</td>\n",
       "      <td>A</td>\n",
       "      <td>A</td>\n",
       "      <td>A</td>\n",
       "      <td>D</td>\n",
       "      <td>AS</td>\n",
       "      <td>F</td>\n",
       "    </tr>\n",
       "    <tr>\n",
       "      <th>299996</th>\n",
       "      <td>BI</td>\n",
       "      <td>A</td>\n",
       "      <td>AE</td>\n",
       "      <td>B</td>\n",
       "      <td>A</td>\n",
       "      <td>B</td>\n",
       "      <td>A</td>\n",
       "      <td>B</td>\n",
       "      <td>HK</td>\n",
       "      <td>G</td>\n",
       "      <td>E</td>\n",
       "      <td>D</td>\n",
       "      <td>K</td>\n",
       "      <td>A</td>\n",
       "      <td>A</td>\n",
       "      <td>B</td>\n",
       "      <td>D</td>\n",
       "      <td>K</td>\n",
       "      <td>A</td>\n",
       "    </tr>\n",
       "    <tr>\n",
       "      <th>299997</th>\n",
       "      <td>BI</td>\n",
       "      <td>A</td>\n",
       "      <td>F</td>\n",
       "      <td>B</td>\n",
       "      <td>B</td>\n",
       "      <td>D</td>\n",
       "      <td>A</td>\n",
       "      <td>D</td>\n",
       "      <td>HC</td>\n",
       "      <td>H</td>\n",
       "      <td>A</td>\n",
       "      <td>B</td>\n",
       "      <td>G</td>\n",
       "      <td>C</td>\n",
       "      <td>A</td>\n",
       "      <td>A</td>\n",
       "      <td>D</td>\n",
       "      <td>L</td>\n",
       "      <td>M</td>\n",
       "    </tr>\n",
       "    <tr>\n",
       "      <th>299998</th>\n",
       "      <td>BI</td>\n",
       "      <td>A</td>\n",
       "      <td>AX</td>\n",
       "      <td>A</td>\n",
       "      <td>A</td>\n",
       "      <td>A</td>\n",
       "      <td>D</td>\n",
       "      <td>B</td>\n",
       "      <td>BF</td>\n",
       "      <td>B</td>\n",
       "      <td>A</td>\n",
       "      <td>A</td>\n",
       "      <td>H</td>\n",
       "      <td>A</td>\n",
       "      <td>B</td>\n",
       "      <td>A</td>\n",
       "      <td>D</td>\n",
       "      <td>AA</td>\n",
       "      <td>A</td>\n",
       "    </tr>\n",
       "    <tr>\n",
       "      <th>299999</th>\n",
       "      <td>BI</td>\n",
       "      <td>A</td>\n",
       "      <td>S</td>\n",
       "      <td>A</td>\n",
       "      <td>A</td>\n",
       "      <td>B</td>\n",
       "      <td>A</td>\n",
       "      <td>B</td>\n",
       "      <td>LM</td>\n",
       "      <td>E</td>\n",
       "      <td>A</td>\n",
       "      <td>D</td>\n",
       "      <td>F</td>\n",
       "      <td>C</td>\n",
       "      <td>A</td>\n",
       "      <td>A</td>\n",
       "      <td>D</td>\n",
       "      <td>AV</td>\n",
       "      <td>C</td>\n",
       "    </tr>\n",
       "  </tbody>\n",
       "</table>\n",
       "<p>300000 rows × 19 columns</p>\n",
       "</div>"
      ],
      "text/plain": [
       "       cat5 cat13 cat8 cat14 cat11 cat18 cat3 cat15 cat10 cat4 cat9 cat16  \\\n",
       "0        BI     A    Q     A     A     B    B     B    LO    B    A     D   \n",
       "1        BI     A   AD     B     A     B    A     D    HJ    E    F     B   \n",
       "2        BI     A   BM     A     A     B    A     B    DJ    E    L     D   \n",
       "3        BI     A   AD     A     A     B    C     B    KV    E    F     D   \n",
       "4        BI     A    Q     B     A     B    B     B    DP    E    A     B   \n",
       "...     ...   ...  ...   ...   ...   ...  ...   ...   ...  ...  ...   ...   \n",
       "299995   BU     A    K     B     A     B    A     D    HG    E    A     B   \n",
       "299996   BI     A   AE     B     A     B    A     B    HK    G    E     D   \n",
       "299997   BI     A    F     B     B     D    A     D    HC    H    A     B   \n",
       "299998   BI     A   AX     A     A     A    D     B    BF    B    A     A   \n",
       "299999   BI     A    S     A     A     B    A     B    LM    E    A     D   \n",
       "\n",
       "       cat1 cat6 cat0 cat12 cat17 cat7 cat2  \n",
       "0         I    A    A     A     D    S    A  \n",
       "1         I    K    A     B     D    W    A  \n",
       "2         K    A    A     B     D    E    A  \n",
       "3         K    A    A     A     D    Y    A  \n",
       "4         I    C    A     A     D    G    G  \n",
       "...     ...  ...  ...   ...   ...  ...  ...  \n",
       "299995    N    A    A     A     D   AS    F  \n",
       "299996    K    A    A     B     D    K    A  \n",
       "299997    G    C    A     A     D    L    M  \n",
       "299998    H    A    B     A     D   AA    A  \n",
       "299999    F    C    A     A     D   AV    C  \n",
       "\n",
       "[300000 rows x 19 columns]"
      ]
     },
     "execution_count": 29,
     "metadata": {},
     "output_type": "execute_result"
    }
   ],
   "source": [
    "X[cat_cols]"
   ]
  },
  {
   "cell_type": "code",
   "execution_count": 30,
   "id": "outdoor-filling",
   "metadata": {
    "ExecuteTime": {
     "end_time": "2021-03-26T17:35:30.421436Z",
     "start_time": "2021-03-26T17:35:30.415260Z"
    },
    "hidden": true
   },
   "outputs": [],
   "source": [
    "# Encode categorical variables\n",
    "def one_hot_encoding(X):\n",
    "    ohe = OneHotEncoder(handle_unknown='ignore')\n",
    "    ohe.fit(X[cat_cols])\n",
    "    return pd.DataFrame(ohe.transform(X).toarray())"
   ]
  },
  {
   "cell_type": "code",
   "execution_count": 31,
   "id": "assured-obligation",
   "metadata": {
    "ExecuteTime": {
     "end_time": "2021-03-26T17:35:32.107604Z",
     "start_time": "2021-03-26T17:35:30.424753Z"
    },
    "hidden": true
   },
   "outputs": [],
   "source": [
    "X_cat_ohe = one_hot_encoding(X[cat_cols])"
   ]
  },
  {
   "cell_type": "code",
   "execution_count": 32,
   "id": "medieval-subdivision",
   "metadata": {
    "ExecuteTime": {
     "end_time": "2021-03-26T17:35:32.261041Z",
     "start_time": "2021-03-26T17:35:32.110057Z"
    },
    "hidden": true
   },
   "outputs": [
    {
     "data": {
      "text/html": [
       "<div>\n",
       "<style scoped>\n",
       "    .dataframe tbody tr th:only-of-type {\n",
       "        vertical-align: middle;\n",
       "    }\n",
       "\n",
       "    .dataframe tbody tr th {\n",
       "        vertical-align: top;\n",
       "    }\n",
       "\n",
       "    .dataframe thead th {\n",
       "        text-align: right;\n",
       "    }\n",
       "</style>\n",
       "<table border=\"1\" class=\"dataframe\">\n",
       "  <thead>\n",
       "    <tr style=\"text-align: right;\">\n",
       "      <th></th>\n",
       "      <th>0</th>\n",
       "      <th>1</th>\n",
       "      <th>2</th>\n",
       "      <th>3</th>\n",
       "      <th>4</th>\n",
       "      <th>5</th>\n",
       "      <th>6</th>\n",
       "      <th>7</th>\n",
       "      <th>8</th>\n",
       "      <th>9</th>\n",
       "      <th>...</th>\n",
       "      <th>613</th>\n",
       "      <th>614</th>\n",
       "      <th>615</th>\n",
       "      <th>616</th>\n",
       "      <th>617</th>\n",
       "      <th>618</th>\n",
       "      <th>619</th>\n",
       "      <th>620</th>\n",
       "      <th>621</th>\n",
       "      <th>622</th>\n",
       "    </tr>\n",
       "  </thead>\n",
       "  <tbody>\n",
       "    <tr>\n",
       "      <th>0</th>\n",
       "      <td>0.0</td>\n",
       "      <td>0.0</td>\n",
       "      <td>0.0</td>\n",
       "      <td>0.0</td>\n",
       "      <td>0.0</td>\n",
       "      <td>0.0</td>\n",
       "      <td>0.0</td>\n",
       "      <td>0.0</td>\n",
       "      <td>0.0</td>\n",
       "      <td>0.0</td>\n",
       "      <td>...</td>\n",
       "      <td>0.0</td>\n",
       "      <td>0.0</td>\n",
       "      <td>0.0</td>\n",
       "      <td>0.0</td>\n",
       "      <td>0.0</td>\n",
       "      <td>0.0</td>\n",
       "      <td>0.0</td>\n",
       "      <td>0.0</td>\n",
       "      <td>0.0</td>\n",
       "      <td>0.0</td>\n",
       "    </tr>\n",
       "    <tr>\n",
       "      <th>1</th>\n",
       "      <td>0.0</td>\n",
       "      <td>0.0</td>\n",
       "      <td>0.0</td>\n",
       "      <td>0.0</td>\n",
       "      <td>0.0</td>\n",
       "      <td>0.0</td>\n",
       "      <td>0.0</td>\n",
       "      <td>0.0</td>\n",
       "      <td>0.0</td>\n",
       "      <td>0.0</td>\n",
       "      <td>...</td>\n",
       "      <td>0.0</td>\n",
       "      <td>0.0</td>\n",
       "      <td>0.0</td>\n",
       "      <td>0.0</td>\n",
       "      <td>0.0</td>\n",
       "      <td>0.0</td>\n",
       "      <td>0.0</td>\n",
       "      <td>0.0</td>\n",
       "      <td>0.0</td>\n",
       "      <td>0.0</td>\n",
       "    </tr>\n",
       "    <tr>\n",
       "      <th>2</th>\n",
       "      <td>0.0</td>\n",
       "      <td>0.0</td>\n",
       "      <td>0.0</td>\n",
       "      <td>0.0</td>\n",
       "      <td>0.0</td>\n",
       "      <td>0.0</td>\n",
       "      <td>0.0</td>\n",
       "      <td>0.0</td>\n",
       "      <td>0.0</td>\n",
       "      <td>0.0</td>\n",
       "      <td>...</td>\n",
       "      <td>0.0</td>\n",
       "      <td>0.0</td>\n",
       "      <td>0.0</td>\n",
       "      <td>0.0</td>\n",
       "      <td>0.0</td>\n",
       "      <td>0.0</td>\n",
       "      <td>0.0</td>\n",
       "      <td>0.0</td>\n",
       "      <td>0.0</td>\n",
       "      <td>0.0</td>\n",
       "    </tr>\n",
       "    <tr>\n",
       "      <th>3</th>\n",
       "      <td>0.0</td>\n",
       "      <td>0.0</td>\n",
       "      <td>0.0</td>\n",
       "      <td>0.0</td>\n",
       "      <td>0.0</td>\n",
       "      <td>0.0</td>\n",
       "      <td>0.0</td>\n",
       "      <td>0.0</td>\n",
       "      <td>0.0</td>\n",
       "      <td>0.0</td>\n",
       "      <td>...</td>\n",
       "      <td>0.0</td>\n",
       "      <td>0.0</td>\n",
       "      <td>0.0</td>\n",
       "      <td>0.0</td>\n",
       "      <td>0.0</td>\n",
       "      <td>0.0</td>\n",
       "      <td>0.0</td>\n",
       "      <td>0.0</td>\n",
       "      <td>0.0</td>\n",
       "      <td>0.0</td>\n",
       "    </tr>\n",
       "    <tr>\n",
       "      <th>4</th>\n",
       "      <td>0.0</td>\n",
       "      <td>0.0</td>\n",
       "      <td>0.0</td>\n",
       "      <td>0.0</td>\n",
       "      <td>0.0</td>\n",
       "      <td>0.0</td>\n",
       "      <td>0.0</td>\n",
       "      <td>0.0</td>\n",
       "      <td>0.0</td>\n",
       "      <td>0.0</td>\n",
       "      <td>...</td>\n",
       "      <td>0.0</td>\n",
       "      <td>0.0</td>\n",
       "      <td>0.0</td>\n",
       "      <td>0.0</td>\n",
       "      <td>0.0</td>\n",
       "      <td>0.0</td>\n",
       "      <td>0.0</td>\n",
       "      <td>0.0</td>\n",
       "      <td>0.0</td>\n",
       "      <td>0.0</td>\n",
       "    </tr>\n",
       "    <tr>\n",
       "      <th>...</th>\n",
       "      <td>...</td>\n",
       "      <td>...</td>\n",
       "      <td>...</td>\n",
       "      <td>...</td>\n",
       "      <td>...</td>\n",
       "      <td>...</td>\n",
       "      <td>...</td>\n",
       "      <td>...</td>\n",
       "      <td>...</td>\n",
       "      <td>...</td>\n",
       "      <td>...</td>\n",
       "      <td>...</td>\n",
       "      <td>...</td>\n",
       "      <td>...</td>\n",
       "      <td>...</td>\n",
       "      <td>...</td>\n",
       "      <td>...</td>\n",
       "      <td>...</td>\n",
       "      <td>...</td>\n",
       "      <td>...</td>\n",
       "      <td>...</td>\n",
       "    </tr>\n",
       "    <tr>\n",
       "      <th>299995</th>\n",
       "      <td>0.0</td>\n",
       "      <td>0.0</td>\n",
       "      <td>0.0</td>\n",
       "      <td>0.0</td>\n",
       "      <td>0.0</td>\n",
       "      <td>0.0</td>\n",
       "      <td>0.0</td>\n",
       "      <td>0.0</td>\n",
       "      <td>0.0</td>\n",
       "      <td>0.0</td>\n",
       "      <td>...</td>\n",
       "      <td>0.0</td>\n",
       "      <td>0.0</td>\n",
       "      <td>0.0</td>\n",
       "      <td>0.0</td>\n",
       "      <td>0.0</td>\n",
       "      <td>0.0</td>\n",
       "      <td>0.0</td>\n",
       "      <td>0.0</td>\n",
       "      <td>0.0</td>\n",
       "      <td>0.0</td>\n",
       "    </tr>\n",
       "    <tr>\n",
       "      <th>299996</th>\n",
       "      <td>0.0</td>\n",
       "      <td>0.0</td>\n",
       "      <td>0.0</td>\n",
       "      <td>0.0</td>\n",
       "      <td>0.0</td>\n",
       "      <td>0.0</td>\n",
       "      <td>0.0</td>\n",
       "      <td>0.0</td>\n",
       "      <td>0.0</td>\n",
       "      <td>0.0</td>\n",
       "      <td>...</td>\n",
       "      <td>0.0</td>\n",
       "      <td>0.0</td>\n",
       "      <td>0.0</td>\n",
       "      <td>0.0</td>\n",
       "      <td>0.0</td>\n",
       "      <td>0.0</td>\n",
       "      <td>0.0</td>\n",
       "      <td>0.0</td>\n",
       "      <td>0.0</td>\n",
       "      <td>0.0</td>\n",
       "    </tr>\n",
       "    <tr>\n",
       "      <th>299997</th>\n",
       "      <td>0.0</td>\n",
       "      <td>0.0</td>\n",
       "      <td>0.0</td>\n",
       "      <td>0.0</td>\n",
       "      <td>0.0</td>\n",
       "      <td>0.0</td>\n",
       "      <td>0.0</td>\n",
       "      <td>0.0</td>\n",
       "      <td>0.0</td>\n",
       "      <td>0.0</td>\n",
       "      <td>...</td>\n",
       "      <td>0.0</td>\n",
       "      <td>0.0</td>\n",
       "      <td>0.0</td>\n",
       "      <td>1.0</td>\n",
       "      <td>0.0</td>\n",
       "      <td>0.0</td>\n",
       "      <td>0.0</td>\n",
       "      <td>0.0</td>\n",
       "      <td>0.0</td>\n",
       "      <td>0.0</td>\n",
       "    </tr>\n",
       "    <tr>\n",
       "      <th>299998</th>\n",
       "      <td>0.0</td>\n",
       "      <td>0.0</td>\n",
       "      <td>0.0</td>\n",
       "      <td>0.0</td>\n",
       "      <td>0.0</td>\n",
       "      <td>0.0</td>\n",
       "      <td>0.0</td>\n",
       "      <td>0.0</td>\n",
       "      <td>0.0</td>\n",
       "      <td>0.0</td>\n",
       "      <td>...</td>\n",
       "      <td>0.0</td>\n",
       "      <td>0.0</td>\n",
       "      <td>0.0</td>\n",
       "      <td>0.0</td>\n",
       "      <td>0.0</td>\n",
       "      <td>0.0</td>\n",
       "      <td>0.0</td>\n",
       "      <td>0.0</td>\n",
       "      <td>0.0</td>\n",
       "      <td>0.0</td>\n",
       "    </tr>\n",
       "    <tr>\n",
       "      <th>299999</th>\n",
       "      <td>0.0</td>\n",
       "      <td>0.0</td>\n",
       "      <td>0.0</td>\n",
       "      <td>0.0</td>\n",
       "      <td>0.0</td>\n",
       "      <td>0.0</td>\n",
       "      <td>0.0</td>\n",
       "      <td>0.0</td>\n",
       "      <td>0.0</td>\n",
       "      <td>0.0</td>\n",
       "      <td>...</td>\n",
       "      <td>0.0</td>\n",
       "      <td>0.0</td>\n",
       "      <td>0.0</td>\n",
       "      <td>0.0</td>\n",
       "      <td>0.0</td>\n",
       "      <td>0.0</td>\n",
       "      <td>0.0</td>\n",
       "      <td>0.0</td>\n",
       "      <td>0.0</td>\n",
       "      <td>0.0</td>\n",
       "    </tr>\n",
       "  </tbody>\n",
       "</table>\n",
       "<p>300000 rows × 623 columns</p>\n",
       "</div>"
      ],
      "text/plain": [
       "        0    1    2    3    4    5    6    7    8    9    ...  613  614  615  \\\n",
       "0       0.0  0.0  0.0  0.0  0.0  0.0  0.0  0.0  0.0  0.0  ...  0.0  0.0  0.0   \n",
       "1       0.0  0.0  0.0  0.0  0.0  0.0  0.0  0.0  0.0  0.0  ...  0.0  0.0  0.0   \n",
       "2       0.0  0.0  0.0  0.0  0.0  0.0  0.0  0.0  0.0  0.0  ...  0.0  0.0  0.0   \n",
       "3       0.0  0.0  0.0  0.0  0.0  0.0  0.0  0.0  0.0  0.0  ...  0.0  0.0  0.0   \n",
       "4       0.0  0.0  0.0  0.0  0.0  0.0  0.0  0.0  0.0  0.0  ...  0.0  0.0  0.0   \n",
       "...     ...  ...  ...  ...  ...  ...  ...  ...  ...  ...  ...  ...  ...  ...   \n",
       "299995  0.0  0.0  0.0  0.0  0.0  0.0  0.0  0.0  0.0  0.0  ...  0.0  0.0  0.0   \n",
       "299996  0.0  0.0  0.0  0.0  0.0  0.0  0.0  0.0  0.0  0.0  ...  0.0  0.0  0.0   \n",
       "299997  0.0  0.0  0.0  0.0  0.0  0.0  0.0  0.0  0.0  0.0  ...  0.0  0.0  0.0   \n",
       "299998  0.0  0.0  0.0  0.0  0.0  0.0  0.0  0.0  0.0  0.0  ...  0.0  0.0  0.0   \n",
       "299999  0.0  0.0  0.0  0.0  0.0  0.0  0.0  0.0  0.0  0.0  ...  0.0  0.0  0.0   \n",
       "\n",
       "        616  617  618  619  620  621  622  \n",
       "0       0.0  0.0  0.0  0.0  0.0  0.0  0.0  \n",
       "1       0.0  0.0  0.0  0.0  0.0  0.0  0.0  \n",
       "2       0.0  0.0  0.0  0.0  0.0  0.0  0.0  \n",
       "3       0.0  0.0  0.0  0.0  0.0  0.0  0.0  \n",
       "4       0.0  0.0  0.0  0.0  0.0  0.0  0.0  \n",
       "...     ...  ...  ...  ...  ...  ...  ...  \n",
       "299995  0.0  0.0  0.0  0.0  0.0  0.0  0.0  \n",
       "299996  0.0  0.0  0.0  0.0  0.0  0.0  0.0  \n",
       "299997  1.0  0.0  0.0  0.0  0.0  0.0  0.0  \n",
       "299998  0.0  0.0  0.0  0.0  0.0  0.0  0.0  \n",
       "299999  0.0  0.0  0.0  0.0  0.0  0.0  0.0  \n",
       "\n",
       "[300000 rows x 623 columns]"
      ]
     },
     "execution_count": 32,
     "metadata": {},
     "output_type": "execute_result"
    }
   ],
   "source": [
    "X_cat_ohe"
   ]
  },
  {
   "cell_type": "code",
   "execution_count": 33,
   "id": "sized-handbook",
   "metadata": {
    "ExecuteTime": {
     "end_time": "2021-03-26T17:35:34.327451Z",
     "start_time": "2021-03-26T17:35:32.264693Z"
    },
    "hidden": true,
    "scrolled": true
   },
   "outputs": [],
   "source": [
    "new_X = X_cat_ohe.join(X[num_cols])"
   ]
  },
  {
   "cell_type": "code",
   "execution_count": 34,
   "id": "announced-floor",
   "metadata": {
    "ExecuteTime": {
     "end_time": "2021-03-26T17:35:34.452639Z",
     "start_time": "2021-03-26T17:35:34.329887Z"
    },
    "hidden": true
   },
   "outputs": [
    {
     "data": {
      "text/html": [
       "<div>\n",
       "<style scoped>\n",
       "    .dataframe tbody tr th:only-of-type {\n",
       "        vertical-align: middle;\n",
       "    }\n",
       "\n",
       "    .dataframe tbody tr th {\n",
       "        vertical-align: top;\n",
       "    }\n",
       "\n",
       "    .dataframe thead th {\n",
       "        text-align: right;\n",
       "    }\n",
       "</style>\n",
       "<table border=\"1\" class=\"dataframe\">\n",
       "  <thead>\n",
       "    <tr style=\"text-align: right;\">\n",
       "      <th></th>\n",
       "      <th>0</th>\n",
       "      <th>1</th>\n",
       "      <th>2</th>\n",
       "      <th>3</th>\n",
       "      <th>4</th>\n",
       "      <th>5</th>\n",
       "      <th>6</th>\n",
       "      <th>7</th>\n",
       "      <th>8</th>\n",
       "      <th>9</th>\n",
       "      <th>...</th>\n",
       "      <th>621</th>\n",
       "      <th>622</th>\n",
       "      <th>cont0</th>\n",
       "      <th>cont1</th>\n",
       "      <th>cont3</th>\n",
       "      <th>cont4</th>\n",
       "      <th>cont5</th>\n",
       "      <th>cont6</th>\n",
       "      <th>cont8</th>\n",
       "      <th>cont9</th>\n",
       "    </tr>\n",
       "  </thead>\n",
       "  <tbody>\n",
       "    <tr>\n",
       "      <th>0</th>\n",
       "      <td>0.0</td>\n",
       "      <td>0.0</td>\n",
       "      <td>0.0</td>\n",
       "      <td>0.0</td>\n",
       "      <td>0.0</td>\n",
       "      <td>0.0</td>\n",
       "      <td>0.0</td>\n",
       "      <td>0.0</td>\n",
       "      <td>0.0</td>\n",
       "      <td>0.0</td>\n",
       "      <td>...</td>\n",
       "      <td>0.0</td>\n",
       "      <td>0.0</td>\n",
       "      <td>0.629858</td>\n",
       "      <td>0.855349</td>\n",
       "      <td>0.795549</td>\n",
       "      <td>0.681917</td>\n",
       "      <td>0.621672</td>\n",
       "      <td>0.592184</td>\n",
       "      <td>0.815254</td>\n",
       "      <td>0.965006</td>\n",
       "    </tr>\n",
       "    <tr>\n",
       "      <th>1</th>\n",
       "      <td>0.0</td>\n",
       "      <td>0.0</td>\n",
       "      <td>0.0</td>\n",
       "      <td>0.0</td>\n",
       "      <td>0.0</td>\n",
       "      <td>0.0</td>\n",
       "      <td>0.0</td>\n",
       "      <td>0.0</td>\n",
       "      <td>0.0</td>\n",
       "      <td>0.0</td>\n",
       "      <td>...</td>\n",
       "      <td>0.0</td>\n",
       "      <td>0.0</td>\n",
       "      <td>0.370727</td>\n",
       "      <td>0.328929</td>\n",
       "      <td>0.541366</td>\n",
       "      <td>0.388982</td>\n",
       "      <td>0.357778</td>\n",
       "      <td>0.600044</td>\n",
       "      <td>0.399353</td>\n",
       "      <td>0.927406</td>\n",
       "    </tr>\n",
       "    <tr>\n",
       "      <th>2</th>\n",
       "      <td>0.0</td>\n",
       "      <td>0.0</td>\n",
       "      <td>0.0</td>\n",
       "      <td>0.0</td>\n",
       "      <td>0.0</td>\n",
       "      <td>0.0</td>\n",
       "      <td>0.0</td>\n",
       "      <td>0.0</td>\n",
       "      <td>0.0</td>\n",
       "      <td>0.0</td>\n",
       "      <td>...</td>\n",
       "      <td>0.0</td>\n",
       "      <td>0.0</td>\n",
       "      <td>0.502272</td>\n",
       "      <td>0.322749</td>\n",
       "      <td>0.616352</td>\n",
       "      <td>0.793687</td>\n",
       "      <td>0.552877</td>\n",
       "      <td>0.352113</td>\n",
       "      <td>0.412303</td>\n",
       "      <td>0.292696</td>\n",
       "    </tr>\n",
       "    <tr>\n",
       "      <th>3</th>\n",
       "      <td>0.0</td>\n",
       "      <td>0.0</td>\n",
       "      <td>0.0</td>\n",
       "      <td>0.0</td>\n",
       "      <td>0.0</td>\n",
       "      <td>0.0</td>\n",
       "      <td>0.0</td>\n",
       "      <td>0.0</td>\n",
       "      <td>0.0</td>\n",
       "      <td>0.0</td>\n",
       "      <td>...</td>\n",
       "      <td>0.0</td>\n",
       "      <td>0.0</td>\n",
       "      <td>0.934242</td>\n",
       "      <td>0.707663</td>\n",
       "      <td>0.807807</td>\n",
       "      <td>0.800032</td>\n",
       "      <td>0.619147</td>\n",
       "      <td>0.221789</td>\n",
       "      <td>0.633669</td>\n",
       "      <td>0.760318</td>\n",
       "    </tr>\n",
       "    <tr>\n",
       "      <th>4</th>\n",
       "      <td>0.0</td>\n",
       "      <td>0.0</td>\n",
       "      <td>0.0</td>\n",
       "      <td>0.0</td>\n",
       "      <td>0.0</td>\n",
       "      <td>0.0</td>\n",
       "      <td>0.0</td>\n",
       "      <td>0.0</td>\n",
       "      <td>0.0</td>\n",
       "      <td>0.0</td>\n",
       "      <td>...</td>\n",
       "      <td>0.0</td>\n",
       "      <td>0.0</td>\n",
       "      <td>0.254427</td>\n",
       "      <td>0.274514</td>\n",
       "      <td>0.277308</td>\n",
       "      <td>0.610578</td>\n",
       "      <td>0.128291</td>\n",
       "      <td>0.578764</td>\n",
       "      <td>0.351103</td>\n",
       "      <td>0.357084</td>\n",
       "    </tr>\n",
       "    <tr>\n",
       "      <th>...</th>\n",
       "      <td>...</td>\n",
       "      <td>...</td>\n",
       "      <td>...</td>\n",
       "      <td>...</td>\n",
       "      <td>...</td>\n",
       "      <td>...</td>\n",
       "      <td>...</td>\n",
       "      <td>...</td>\n",
       "      <td>...</td>\n",
       "      <td>...</td>\n",
       "      <td>...</td>\n",
       "      <td>...</td>\n",
       "      <td>...</td>\n",
       "      <td>...</td>\n",
       "      <td>...</td>\n",
       "      <td>...</td>\n",
       "      <td>...</td>\n",
       "      <td>...</td>\n",
       "      <td>...</td>\n",
       "      <td>...</td>\n",
       "      <td>...</td>\n",
       "    </tr>\n",
       "    <tr>\n",
       "      <th>299995</th>\n",
       "      <td>0.0</td>\n",
       "      <td>0.0</td>\n",
       "      <td>0.0</td>\n",
       "      <td>0.0</td>\n",
       "      <td>0.0</td>\n",
       "      <td>0.0</td>\n",
       "      <td>0.0</td>\n",
       "      <td>0.0</td>\n",
       "      <td>0.0</td>\n",
       "      <td>0.0</td>\n",
       "      <td>...</td>\n",
       "      <td>0.0</td>\n",
       "      <td>0.0</td>\n",
       "      <td>0.681700</td>\n",
       "      <td>0.500730</td>\n",
       "      <td>0.671927</td>\n",
       "      <td>0.390566</td>\n",
       "      <td>0.145840</td>\n",
       "      <td>0.262767</td>\n",
       "      <td>0.519340</td>\n",
       "      <td>0.617436</td>\n",
       "    </tr>\n",
       "    <tr>\n",
       "      <th>299996</th>\n",
       "      <td>0.0</td>\n",
       "      <td>0.0</td>\n",
       "      <td>0.0</td>\n",
       "      <td>0.0</td>\n",
       "      <td>0.0</td>\n",
       "      <td>0.0</td>\n",
       "      <td>0.0</td>\n",
       "      <td>0.0</td>\n",
       "      <td>0.0</td>\n",
       "      <td>0.0</td>\n",
       "      <td>...</td>\n",
       "      <td>0.0</td>\n",
       "      <td>0.0</td>\n",
       "      <td>0.489226</td>\n",
       "      <td>0.790664</td>\n",
       "      <td>0.620356</td>\n",
       "      <td>0.384891</td>\n",
       "      <td>0.735879</td>\n",
       "      <td>0.547731</td>\n",
       "      <td>0.470575</td>\n",
       "      <td>0.275743</td>\n",
       "    </tr>\n",
       "    <tr>\n",
       "      <th>299997</th>\n",
       "      <td>0.0</td>\n",
       "      <td>0.0</td>\n",
       "      <td>0.0</td>\n",
       "      <td>0.0</td>\n",
       "      <td>0.0</td>\n",
       "      <td>0.0</td>\n",
       "      <td>0.0</td>\n",
       "      <td>0.0</td>\n",
       "      <td>0.0</td>\n",
       "      <td>0.0</td>\n",
       "      <td>...</td>\n",
       "      <td>0.0</td>\n",
       "      <td>0.0</td>\n",
       "      <td>0.487882</td>\n",
       "      <td>0.522347</td>\n",
       "      <td>0.232436</td>\n",
       "      <td>0.832482</td>\n",
       "      <td>0.810663</td>\n",
       "      <td>0.596939</td>\n",
       "      <td>0.373997</td>\n",
       "      <td>0.518024</td>\n",
       "    </tr>\n",
       "    <tr>\n",
       "      <th>299998</th>\n",
       "      <td>0.0</td>\n",
       "      <td>0.0</td>\n",
       "      <td>0.0</td>\n",
       "      <td>0.0</td>\n",
       "      <td>0.0</td>\n",
       "      <td>0.0</td>\n",
       "      <td>0.0</td>\n",
       "      <td>0.0</td>\n",
       "      <td>0.0</td>\n",
       "      <td>0.0</td>\n",
       "      <td>...</td>\n",
       "      <td>0.0</td>\n",
       "      <td>0.0</td>\n",
       "      <td>0.331900</td>\n",
       "      <td>0.812891</td>\n",
       "      <td>0.630708</td>\n",
       "      <td>0.346898</td>\n",
       "      <td>0.735147</td>\n",
       "      <td>0.563488</td>\n",
       "      <td>0.680430</td>\n",
       "      <td>0.318453</td>\n",
       "    </tr>\n",
       "    <tr>\n",
       "      <th>299999</th>\n",
       "      <td>0.0</td>\n",
       "      <td>0.0</td>\n",
       "      <td>0.0</td>\n",
       "      <td>0.0</td>\n",
       "      <td>0.0</td>\n",
       "      <td>0.0</td>\n",
       "      <td>0.0</td>\n",
       "      <td>0.0</td>\n",
       "      <td>0.0</td>\n",
       "      <td>0.0</td>\n",
       "      <td>...</td>\n",
       "      <td>0.0</td>\n",
       "      <td>0.0</td>\n",
       "      <td>0.822600</td>\n",
       "      <td>0.819735</td>\n",
       "      <td>0.848696</td>\n",
       "      <td>0.819377</td>\n",
       "      <td>0.355467</td>\n",
       "      <td>0.218153</td>\n",
       "      <td>0.823655</td>\n",
       "      <td>0.330515</td>\n",
       "    </tr>\n",
       "  </tbody>\n",
       "</table>\n",
       "<p>300000 rows × 631 columns</p>\n",
       "</div>"
      ],
      "text/plain": [
       "          0    1    2    3    4    5    6    7    8    9  ...  621  622  \\\n",
       "0       0.0  0.0  0.0  0.0  0.0  0.0  0.0  0.0  0.0  0.0  ...  0.0  0.0   \n",
       "1       0.0  0.0  0.0  0.0  0.0  0.0  0.0  0.0  0.0  0.0  ...  0.0  0.0   \n",
       "2       0.0  0.0  0.0  0.0  0.0  0.0  0.0  0.0  0.0  0.0  ...  0.0  0.0   \n",
       "3       0.0  0.0  0.0  0.0  0.0  0.0  0.0  0.0  0.0  0.0  ...  0.0  0.0   \n",
       "4       0.0  0.0  0.0  0.0  0.0  0.0  0.0  0.0  0.0  0.0  ...  0.0  0.0   \n",
       "...     ...  ...  ...  ...  ...  ...  ...  ...  ...  ...  ...  ...  ...   \n",
       "299995  0.0  0.0  0.0  0.0  0.0  0.0  0.0  0.0  0.0  0.0  ...  0.0  0.0   \n",
       "299996  0.0  0.0  0.0  0.0  0.0  0.0  0.0  0.0  0.0  0.0  ...  0.0  0.0   \n",
       "299997  0.0  0.0  0.0  0.0  0.0  0.0  0.0  0.0  0.0  0.0  ...  0.0  0.0   \n",
       "299998  0.0  0.0  0.0  0.0  0.0  0.0  0.0  0.0  0.0  0.0  ...  0.0  0.0   \n",
       "299999  0.0  0.0  0.0  0.0  0.0  0.0  0.0  0.0  0.0  0.0  ...  0.0  0.0   \n",
       "\n",
       "           cont0     cont1     cont3     cont4     cont5     cont6     cont8  \\\n",
       "0       0.629858  0.855349  0.795549  0.681917  0.621672  0.592184  0.815254   \n",
       "1       0.370727  0.328929  0.541366  0.388982  0.357778  0.600044  0.399353   \n",
       "2       0.502272  0.322749  0.616352  0.793687  0.552877  0.352113  0.412303   \n",
       "3       0.934242  0.707663  0.807807  0.800032  0.619147  0.221789  0.633669   \n",
       "4       0.254427  0.274514  0.277308  0.610578  0.128291  0.578764  0.351103   \n",
       "...          ...       ...       ...       ...       ...       ...       ...   \n",
       "299995  0.681700  0.500730  0.671927  0.390566  0.145840  0.262767  0.519340   \n",
       "299996  0.489226  0.790664  0.620356  0.384891  0.735879  0.547731  0.470575   \n",
       "299997  0.487882  0.522347  0.232436  0.832482  0.810663  0.596939  0.373997   \n",
       "299998  0.331900  0.812891  0.630708  0.346898  0.735147  0.563488  0.680430   \n",
       "299999  0.822600  0.819735  0.848696  0.819377  0.355467  0.218153  0.823655   \n",
       "\n",
       "           cont9  \n",
       "0       0.965006  \n",
       "1       0.927406  \n",
       "2       0.292696  \n",
       "3       0.760318  \n",
       "4       0.357084  \n",
       "...          ...  \n",
       "299995  0.617436  \n",
       "299996  0.275743  \n",
       "299997  0.518024  \n",
       "299998  0.318453  \n",
       "299999  0.330515  \n",
       "\n",
       "[300000 rows x 631 columns]"
      ]
     },
     "execution_count": 34,
     "metadata": {},
     "output_type": "execute_result"
    }
   ],
   "source": [
    "new_X"
   ]
  },
  {
   "cell_type": "markdown",
   "id": "nominated-venture",
   "metadata": {
    "ExecuteTime": {
     "end_time": "2021-03-18T11:56:02.361303Z",
     "start_time": "2021-03-18T11:56:02.145064Z"
    }
   },
   "source": [
    "## Baseline Model "
   ]
  },
  {
   "cell_type": "code",
   "execution_count": 35,
   "id": "laughing-baking",
   "metadata": {
    "ExecuteTime": {
     "end_time": "2021-03-26T17:35:34.760104Z",
     "start_time": "2021-03-26T17:35:34.455751Z"
    }
   },
   "outputs": [],
   "source": [
    "from sklearn.model_selection import cross_validate\n",
    "from sklearn.model_selection import train_test_split\n",
    "from sklearn.linear_model import LogisticRegression # explicit class import from module\n",
    "from sklearn.model_selection import GridSearchCV"
   ]
  },
  {
   "cell_type": "code",
   "execution_count": 36,
   "id": "wanted-springer",
   "metadata": {
    "ExecuteTime": {
     "end_time": "2021-03-26T17:35:34.776795Z",
     "start_time": "2021-03-26T17:35:34.765996Z"
    }
   },
   "outputs": [],
   "source": [
    "model = LogisticRegression(max_iter=1000)"
   ]
  },
  {
   "cell_type": "code",
   "execution_count": 37,
   "id": "afraid-commission",
   "metadata": {
    "ExecuteTime": {
     "end_time": "2021-03-26T17:35:34.814001Z",
     "start_time": "2021-03-26T17:35:34.788394Z"
    }
   },
   "outputs": [],
   "source": [
    "X = new_X"
   ]
  },
  {
   "cell_type": "code",
   "execution_count": 38,
   "id": "hydraulic-thompson",
   "metadata": {
    "ExecuteTime": {
     "end_time": "2021-03-26T17:40:29.390918Z",
     "start_time": "2021-03-26T17:35:34.819428Z"
    }
   },
   "outputs": [],
   "source": [
    "from sklearn.model_selection import cross_val_score \n",
    "\n",
    "cv_results = cross_validate(model, X, y, cv=3)"
   ]
  },
  {
   "cell_type": "code",
   "execution_count": 39,
   "id": "quick-fleece",
   "metadata": {
    "ExecuteTime": {
     "end_time": "2021-03-26T17:40:29.420718Z",
     "start_time": "2021-03-26T17:40:29.394187Z"
    }
   },
   "outputs": [
    {
     "data": {
      "text/plain": [
       "{'fit_time': array([ 92.95678234,  98.1558466 , 102.89804268]),\n",
       " 'score_time': array([0.11277485, 0.16210485, 0.15996099]),\n",
       " 'test_score': array([0.8448 , 0.84278, 0.84523])}"
      ]
     },
     "execution_count": 39,
     "metadata": {},
     "output_type": "execute_result"
    }
   ],
   "source": [
    "cv_results"
   ]
  },
  {
   "cell_type": "code",
   "execution_count": 40,
   "id": "exterior-dress",
   "metadata": {
    "ExecuteTime": {
     "end_time": "2021-03-26T17:40:29.466326Z",
     "start_time": "2021-03-26T17:40:29.437854Z"
    }
   },
   "outputs": [
    {
     "data": {
      "text/plain": [
       "0.84427"
      ]
     },
     "execution_count": 40,
     "metadata": {},
     "output_type": "execute_result"
    }
   ],
   "source": [
    "cv_results['test_score'].mean()"
   ]
  },
  {
   "cell_type": "markdown",
   "id": "junior-stanley",
   "metadata": {
    "ExecuteTime": {
     "end_time": "2021-03-18T18:59:18.288235Z",
     "start_time": "2021-03-18T18:59:18.265374Z"
    }
   },
   "source": [
    "### Finding F1 score"
   ]
  },
  {
   "cell_type": "code",
   "execution_count": null,
   "id": "severe-chile",
   "metadata": {},
   "outputs": [],
   "source": [
    "### removed cross_val"
   ]
  },
  {
   "cell_type": "code",
   "execution_count": null,
   "id": "looking-traffic",
   "metadata": {},
   "outputs": [],
   "source": []
  },
  {
   "cell_type": "markdown",
   "id": "spanish-tyler",
   "metadata": {},
   "source": [
    "## Feature permutation"
   ]
  },
  {
   "cell_type": "code",
   "execution_count": null,
   "id": "further-theme",
   "metadata": {
    "ExecuteTime": {
     "start_time": "2021-03-26T17:45:41.180Z"
    }
   },
   "outputs": [],
   "source": [
    "from sklearn.inspection import permutation_importance\n",
    "\n",
    "log_model = LogisticRegression().fit(X, y) # Fit model\n",
    "\n",
    "permutation_score = permutation_importance(log_model, X, y, n_repeats=100) # Perform Permutation\n",
    "\n",
    "importance_df = pd.DataFrame(np.vstack((X.columns,\n",
    "                                        permutation_score.importances_mean)).T) # Unstack results\n",
    "importance_df.columns=['feature','score decrease']\n",
    "\n",
    "importance_df.sort_values(by=\"score decrease\", ascending = False) # Order by importance"
   ]
  },
  {
   "cell_type": "code",
   "execution_count": null,
   "id": "successful-webmaster",
   "metadata": {
    "ExecuteTime": {
     "end_time": "2021-03-26T17:40:29.723900Z",
     "start_time": "2021-03-26T17:35:22.639Z"
    }
   },
   "outputs": [],
   "source": [
    "X = X.drop(columns=['WHATEVER COLUMNS']) # Drops weak features\n",
    "\n",
    "log_reg = LogisticRegression()\n",
    "\n",
    "scores = cross_val_score(log_reg, X, y, cv=10)\n",
    "\n",
    "scores.mean()"
   ]
  },
  {
   "cell_type": "markdown",
   "id": "diagnostic-chick",
   "metadata": {
    "ExecuteTime": {
     "end_time": "2021-03-18T19:05:15.854187Z",
     "start_time": "2021-03-18T19:05:15.848770Z"
    }
   },
   "source": [
    "# Modeling"
   ]
  },
  {
   "cell_type": "markdown",
   "id": "allied-nitrogen",
   "metadata": {},
   "source": [
    "## XGBoost"
   ]
  },
  {
   "cell_type": "code",
   "execution_count": null,
   "id": "sought-freeze",
   "metadata": {
    "ExecuteTime": {
     "end_time": "2021-03-26T17:40:29.726538Z",
     "start_time": "2021-03-26T17:35:22.646Z"
    }
   },
   "outputs": [],
   "source": [
    "import xgboost as xgb\n",
    "\n",
    "model=xgb.XGBClassifier(random_state=1,learning_rate=0.01)\n",
    "model.fit(X_train, y_train)\n",
    "model.score(X_test,y_test)"
   ]
  },
  {
   "cell_type": "code",
   "execution_count": null,
   "id": "golden-reservoir",
   "metadata": {
    "ExecuteTime": {
     "end_time": "2021-03-26T17:40:29.728647Z",
     "start_time": "2021-03-26T17:35:22.651Z"
    }
   },
   "outputs": [],
   "source": [
    "model.score(X_test,y_test)"
   ]
  },
  {
   "cell_type": "code",
   "execution_count": null,
   "id": "thousand-control",
   "metadata": {
    "ExecuteTime": {
     "end_time": "2021-03-26T17:40:29.730634Z",
     "start_time": "2021-03-26T17:35:22.656Z"
    }
   },
   "outputs": [],
   "source": [
    "!pip install xgboost"
   ]
  },
  {
   "cell_type": "code",
   "execution_count": null,
   "id": "military-matthew",
   "metadata": {
    "ExecuteTime": {
     "end_time": "2021-03-26T17:40:29.735498Z",
     "start_time": "2021-03-26T17:35:22.660Z"
    }
   },
   "outputs": [],
   "source": [
    "data_test = pd.read_csv('raw_data/test.csv')"
   ]
  },
  {
   "cell_type": "markdown",
   "id": "supreme-membrane",
   "metadata": {
    "ExecuteTime": {
     "end_time": "2021-03-18T16:34:25.286896Z",
     "start_time": "2021-03-18T16:34:25.257997Z"
    }
   },
   "source": [
    "## SGDClassifier"
   ]
  },
  {
   "cell_type": "code",
   "execution_count": null,
   "id": "ethical-reaction",
   "metadata": {
    "ExecuteTime": {
     "end_time": "2021-03-26T17:40:29.736888Z",
     "start_time": "2021-03-26T17:35:22.664Z"
    }
   },
   "outputs": [],
   "source": [
    "from sklearn.linear_model import SGDClassifier"
   ]
  },
  {
   "cell_type": "code",
   "execution_count": null,
   "id": "isolated-baptist",
   "metadata": {
    "ExecuteTime": {
     "end_time": "2021-03-26T17:40:29.738809Z",
     "start_time": "2021-03-26T17:35:22.669Z"
    }
   },
   "outputs": [],
   "source": [
    "model=SGDClassifier()"
   ]
  },
  {
   "cell_type": "code",
   "execution_count": null,
   "id": "elementary-orleans",
   "metadata": {
    "ExecuteTime": {
     "end_time": "2021-03-26T17:40:29.740654Z",
     "start_time": "2021-03-26T17:35:22.673Z"
    }
   },
   "outputs": [],
   "source": [
    "cv_result=cross_validate(model, new_data, y, cv=5) "
   ]
  },
  {
   "cell_type": "code",
   "execution_count": null,
   "id": "expensive-northern",
   "metadata": {
    "ExecuteTime": {
     "end_time": "2021-03-26T17:40:29.742485Z",
     "start_time": "2021-03-26T17:35:22.678Z"
    }
   },
   "outputs": [],
   "source": [
    "cv_result['test_score'].mean()"
   ]
  },
  {
   "cell_type": "code",
   "execution_count": null,
   "id": "mobile-awareness",
   "metadata": {
    "ExecuteTime": {
     "end_time": "2021-03-26T17:40:29.745514Z",
     "start_time": "2021-03-26T17:35:22.682Z"
    }
   },
   "outputs": [],
   "source": [
    "cross_val_score(model, new_data, y, scoring=\"f1\", cv = 7).mean()"
   ]
  },
  {
   "cell_type": "markdown",
   "id": "static-albuquerque",
   "metadata": {},
   "source": [
    "## Test Set"
   ]
  },
  {
   "cell_type": "code",
   "execution_count": null,
   "id": "reduced-emergency",
   "metadata": {
    "ExecuteTime": {
     "end_time": "2021-03-26T17:40:29.747736Z",
     "start_time": "2021-03-26T17:35:22.686Z"
    }
   },
   "outputs": [],
   "source": [
    "test_enc=ohe.transform(data_test[cat_cols]).toarray()\n",
    "data_test[cat_cols]=test_enc\n",
    "model.predict(test)"
   ]
  }
 ],
 "metadata": {
  "kernelspec": {
   "display_name": "Python 3",
   "language": "python",
   "name": "python3"
  },
  "language_info": {
   "codemirror_mode": {
    "name": "ipython",
    "version": 3
   },
   "file_extension": ".py",
   "mimetype": "text/x-python",
   "name": "python",
   "nbconvert_exporter": "python",
   "pygments_lexer": "ipython3",
   "version": "3.8.6"
  },
  "toc": {
   "base_numbering": 1,
   "nav_menu": {},
   "number_sections": true,
   "sideBar": true,
   "skip_h1_title": false,
   "title_cell": "Table of Contents",
   "title_sidebar": "Contents",
   "toc_cell": false,
   "toc_position": {},
   "toc_section_display": true,
   "toc_window_display": false
  },
  "varInspector": {
   "cols": {
    "lenName": 16,
    "lenType": 16,
    "lenVar": 40
   },
   "kernels_config": {
    "python": {
     "delete_cmd_postfix": "",
     "delete_cmd_prefix": "del ",
     "library": "var_list.py",
     "varRefreshCmd": "print(var_dic_list())"
    },
    "r": {
     "delete_cmd_postfix": ") ",
     "delete_cmd_prefix": "rm(",
     "library": "var_list.r",
     "varRefreshCmd": "cat(var_dic_list()) "
    }
   },
   "types_to_exclude": [
    "module",
    "function",
    "builtin_function_or_method",
    "instance",
    "_Feature"
   ],
   "window_display": false
  }
 },
 "nbformat": 4,
 "nbformat_minor": 5
}
