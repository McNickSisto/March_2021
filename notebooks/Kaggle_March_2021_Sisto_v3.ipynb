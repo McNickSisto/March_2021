{
 "cells": [
  {
   "cell_type": "markdown",
   "id": "graphic-retreat",
   "metadata": {
    "ExecuteTime": {
     "end_time": "2021-03-27T20:50:06.253324Z",
     "start_time": "2021-03-27T20:50:06.240977Z"
    }
   },
   "source": [
    "# Importing Modules"
   ]
  },
  {
   "cell_type": "code",
   "execution_count": 1,
   "id": "chubby-software",
   "metadata": {
    "ExecuteTime": {
     "end_time": "2021-03-31T15:37:35.337905Z",
     "start_time": "2021-03-31T15:37:31.885306Z"
    }
   },
   "outputs": [],
   "source": [
    "#basic\n",
    "import pandas as pd\n",
    "import seaborn as sns\n",
    "import numpy as np\n",
    "import matplotlib.pyplot as plt\n",
    "\n",
    "#sklearn \n",
    "from sklearn.model_selection import train_test_split\n",
    "from sklearn.compose import ColumnTransformer, make_column_selector\n",
    "from sklearn.preprocessing import OneHotEncoder\n",
    "from sklearn.model_selection import cross_validate\n",
    "from sklearn.model_selection import train_test_split\n",
    "from sklearn.linear_model import LogisticRegression\n",
    "from sklearn.model_selection import GridSearchCV\n",
    "from sklearn.model_selection import cross_val_score \n",
    "from sklearn.model_selection import learning_curve\n",
    "from sklearn.metrics import roc_auc_score\n",
    "from sklearn.linear_model import SGDClassifier\n",
    "\n",
    "#Other\n",
    "from imblearn.over_sampling import SMOTE\n",
    "from xgboost import XGBClassifier"
   ]
  },
  {
   "cell_type": "markdown",
   "id": "consolidated-diversity",
   "metadata": {},
   "source": [
    "# Data Exploration"
   ]
  },
  {
   "cell_type": "markdown",
   "id": "perfect-deadline",
   "metadata": {
    "ExecuteTime": {
     "end_time": "2021-03-27T20:51:45.245448Z",
     "start_time": "2021-03-27T20:51:45.241160Z"
    }
   },
   "source": [
    "## Importing Data"
   ]
  },
  {
   "cell_type": "code",
   "execution_count": 2,
   "id": "indian-sociology",
   "metadata": {
    "ExecuteTime": {
     "end_time": "2021-03-31T15:37:38.224548Z",
     "start_time": "2021-03-31T15:37:35.349367Z"
    }
   },
   "outputs": [],
   "source": [
    "df = pd.read_csv('raw_data/train.csv')"
   ]
  },
  {
   "cell_type": "code",
   "execution_count": 3,
   "id": "bizarre-failing",
   "metadata": {
    "ExecuteTime": {
     "end_time": "2021-03-31T15:37:38.329930Z",
     "start_time": "2021-03-31T15:37:38.229679Z"
    }
   },
   "outputs": [
    {
     "data": {
      "text/html": [
       "<div>\n",
       "<style scoped>\n",
       "    .dataframe tbody tr th:only-of-type {\n",
       "        vertical-align: middle;\n",
       "    }\n",
       "\n",
       "    .dataframe tbody tr th {\n",
       "        vertical-align: top;\n",
       "    }\n",
       "\n",
       "    .dataframe thead th {\n",
       "        text-align: right;\n",
       "    }\n",
       "</style>\n",
       "<table border=\"1\" class=\"dataframe\">\n",
       "  <thead>\n",
       "    <tr style=\"text-align: right;\">\n",
       "      <th></th>\n",
       "      <th>id</th>\n",
       "      <th>cat0</th>\n",
       "      <th>cat1</th>\n",
       "      <th>cat2</th>\n",
       "      <th>cat3</th>\n",
       "      <th>cat4</th>\n",
       "      <th>cat5</th>\n",
       "      <th>cat6</th>\n",
       "      <th>cat7</th>\n",
       "      <th>cat8</th>\n",
       "      <th>...</th>\n",
       "      <th>cont2</th>\n",
       "      <th>cont3</th>\n",
       "      <th>cont4</th>\n",
       "      <th>cont5</th>\n",
       "      <th>cont6</th>\n",
       "      <th>cont7</th>\n",
       "      <th>cont8</th>\n",
       "      <th>cont9</th>\n",
       "      <th>cont10</th>\n",
       "      <th>target</th>\n",
       "    </tr>\n",
       "  </thead>\n",
       "  <tbody>\n",
       "    <tr>\n",
       "      <th>0</th>\n",
       "      <td>0</td>\n",
       "      <td>A</td>\n",
       "      <td>I</td>\n",
       "      <td>A</td>\n",
       "      <td>B</td>\n",
       "      <td>B</td>\n",
       "      <td>BI</td>\n",
       "      <td>A</td>\n",
       "      <td>S</td>\n",
       "      <td>Q</td>\n",
       "      <td>...</td>\n",
       "      <td>0.759439</td>\n",
       "      <td>0.795549</td>\n",
       "      <td>0.681917</td>\n",
       "      <td>0.621672</td>\n",
       "      <td>0.592184</td>\n",
       "      <td>0.791921</td>\n",
       "      <td>0.815254</td>\n",
       "      <td>0.965006</td>\n",
       "      <td>0.665915</td>\n",
       "      <td>0</td>\n",
       "    </tr>\n",
       "    <tr>\n",
       "      <th>1</th>\n",
       "      <td>1</td>\n",
       "      <td>A</td>\n",
       "      <td>I</td>\n",
       "      <td>A</td>\n",
       "      <td>A</td>\n",
       "      <td>E</td>\n",
       "      <td>BI</td>\n",
       "      <td>K</td>\n",
       "      <td>W</td>\n",
       "      <td>AD</td>\n",
       "      <td>...</td>\n",
       "      <td>0.386385</td>\n",
       "      <td>0.541366</td>\n",
       "      <td>0.388982</td>\n",
       "      <td>0.357778</td>\n",
       "      <td>0.600044</td>\n",
       "      <td>0.408701</td>\n",
       "      <td>0.399353</td>\n",
       "      <td>0.927406</td>\n",
       "      <td>0.493729</td>\n",
       "      <td>0</td>\n",
       "    </tr>\n",
       "    <tr>\n",
       "      <th>2</th>\n",
       "      <td>2</td>\n",
       "      <td>A</td>\n",
       "      <td>K</td>\n",
       "      <td>A</td>\n",
       "      <td>A</td>\n",
       "      <td>E</td>\n",
       "      <td>BI</td>\n",
       "      <td>A</td>\n",
       "      <td>E</td>\n",
       "      <td>BM</td>\n",
       "      <td>...</td>\n",
       "      <td>0.343255</td>\n",
       "      <td>0.616352</td>\n",
       "      <td>0.793687</td>\n",
       "      <td>0.552877</td>\n",
       "      <td>0.352113</td>\n",
       "      <td>0.388835</td>\n",
       "      <td>0.412303</td>\n",
       "      <td>0.292696</td>\n",
       "      <td>0.549452</td>\n",
       "      <td>0</td>\n",
       "    </tr>\n",
       "    <tr>\n",
       "      <th>3</th>\n",
       "      <td>3</td>\n",
       "      <td>A</td>\n",
       "      <td>K</td>\n",
       "      <td>A</td>\n",
       "      <td>C</td>\n",
       "      <td>E</td>\n",
       "      <td>BI</td>\n",
       "      <td>A</td>\n",
       "      <td>Y</td>\n",
       "      <td>AD</td>\n",
       "      <td>...</td>\n",
       "      <td>0.831147</td>\n",
       "      <td>0.807807</td>\n",
       "      <td>0.800032</td>\n",
       "      <td>0.619147</td>\n",
       "      <td>0.221789</td>\n",
       "      <td>0.897617</td>\n",
       "      <td>0.633669</td>\n",
       "      <td>0.760318</td>\n",
       "      <td>0.934242</td>\n",
       "      <td>0</td>\n",
       "    </tr>\n",
       "    <tr>\n",
       "      <th>4</th>\n",
       "      <td>4</td>\n",
       "      <td>A</td>\n",
       "      <td>I</td>\n",
       "      <td>G</td>\n",
       "      <td>B</td>\n",
       "      <td>E</td>\n",
       "      <td>BI</td>\n",
       "      <td>C</td>\n",
       "      <td>G</td>\n",
       "      <td>Q</td>\n",
       "      <td>...</td>\n",
       "      <td>0.338818</td>\n",
       "      <td>0.277308</td>\n",
       "      <td>0.610578</td>\n",
       "      <td>0.128291</td>\n",
       "      <td>0.578764</td>\n",
       "      <td>0.279167</td>\n",
       "      <td>0.351103</td>\n",
       "      <td>0.357084</td>\n",
       "      <td>0.328960</td>\n",
       "      <td>1</td>\n",
       "    </tr>\n",
       "  </tbody>\n",
       "</table>\n",
       "<p>5 rows × 32 columns</p>\n",
       "</div>"
      ],
      "text/plain": [
       "   id cat0 cat1 cat2 cat3 cat4 cat5 cat6 cat7 cat8  ...     cont2     cont3  \\\n",
       "0   0    A    I    A    B    B   BI    A    S    Q  ...  0.759439  0.795549   \n",
       "1   1    A    I    A    A    E   BI    K    W   AD  ...  0.386385  0.541366   \n",
       "2   2    A    K    A    A    E   BI    A    E   BM  ...  0.343255  0.616352   \n",
       "3   3    A    K    A    C    E   BI    A    Y   AD  ...  0.831147  0.807807   \n",
       "4   4    A    I    G    B    E   BI    C    G    Q  ...  0.338818  0.277308   \n",
       "\n",
       "      cont4     cont5     cont6     cont7     cont8     cont9    cont10 target  \n",
       "0  0.681917  0.621672  0.592184  0.791921  0.815254  0.965006  0.665915      0  \n",
       "1  0.388982  0.357778  0.600044  0.408701  0.399353  0.927406  0.493729      0  \n",
       "2  0.793687  0.552877  0.352113  0.388835  0.412303  0.292696  0.549452      0  \n",
       "3  0.800032  0.619147  0.221789  0.897617  0.633669  0.760318  0.934242      0  \n",
       "4  0.610578  0.128291  0.578764  0.279167  0.351103  0.357084  0.328960      1  \n",
       "\n",
       "[5 rows x 32 columns]"
      ]
     },
     "execution_count": 3,
     "metadata": {},
     "output_type": "execute_result"
    }
   ],
   "source": [
    "df.head()"
   ]
  },
  {
   "cell_type": "code",
   "execution_count": 4,
   "id": "activated-memorial",
   "metadata": {
    "ExecuteTime": {
     "end_time": "2021-03-31T15:37:38.408489Z",
     "start_time": "2021-03-31T15:37:38.335947Z"
    }
   },
   "outputs": [],
   "source": [
    "df.set_index('id', inplace=True)"
   ]
  },
  {
   "cell_type": "markdown",
   "id": "communist-humor",
   "metadata": {
    "ExecuteTime": {
     "end_time": "2021-03-27T20:54:28.157980Z",
     "start_time": "2021-03-27T20:54:28.153772Z"
    }
   },
   "source": [
    "## Duplicates & Null Values"
   ]
  },
  {
   "cell_type": "code",
   "execution_count": 5,
   "id": "promotional-choir",
   "metadata": {
    "ExecuteTime": {
     "end_time": "2021-03-31T15:37:38.444648Z",
     "start_time": "2021-03-31T15:37:38.411688Z"
    }
   },
   "outputs": [
    {
     "data": {
      "text/plain": [
       "300000"
      ]
     },
     "execution_count": 5,
     "metadata": {},
     "output_type": "execute_result"
    }
   ],
   "source": [
    "len(df) # Check number of rows before removing duplicates - no duplicates"
   ]
  },
  {
   "cell_type": "code",
   "execution_count": 6,
   "id": "historic-edwards",
   "metadata": {
    "ExecuteTime": {
     "end_time": "2021-03-31T15:37:39.272566Z",
     "start_time": "2021-03-31T15:37:38.449067Z"
    }
   },
   "outputs": [
    {
     "data": {
      "text/plain": [
       "cat0      0\n",
       "cat16     0\n",
       "cont10    0\n",
       "cont9     0\n",
       "cont8     0\n",
       "cont7     0\n",
       "cont6     0\n",
       "cont5     0\n",
       "cont4     0\n",
       "cont3     0\n",
       "cont2     0\n",
       "cont1     0\n",
       "cont0     0\n",
       "cat18     0\n",
       "cat17     0\n",
       "cat15     0\n",
       "cat1      0\n",
       "cat14     0\n",
       "cat13     0\n",
       "cat12     0\n",
       "cat11     0\n",
       "cat10     0\n",
       "cat9      0\n",
       "cat8      0\n",
       "cat7      0\n",
       "cat6      0\n",
       "cat5      0\n",
       "cat4      0\n",
       "cat3      0\n",
       "cat2      0\n",
       "target    0\n",
       "dtype: int64"
      ]
     },
     "execution_count": 6,
     "metadata": {},
     "output_type": "execute_result"
    }
   ],
   "source": [
    "df.isnull().sum().sort_values(ascending=False) #NaN count for each column"
   ]
  },
  {
   "cell_type": "markdown",
   "id": "cardiac-bennett",
   "metadata": {
    "ExecuteTime": {
     "end_time": "2021-03-27T20:53:53.832341Z",
     "start_time": "2021-03-27T20:53:53.823970Z"
    }
   },
   "source": [
    "## Categorical & Numerical Columns"
   ]
  },
  {
   "cell_type": "code",
   "execution_count": 7,
   "id": "surface-identifier",
   "metadata": {
    "ExecuteTime": {
     "end_time": "2021-03-31T15:37:39.368104Z",
     "start_time": "2021-03-31T15:37:39.276387Z"
    }
   },
   "outputs": [
    {
     "name": "stdout",
     "output_type": "stream",
     "text": [
      "categorical Columns: ['cat0', 'cat1', 'cat2', 'cat3', 'cat4', 'cat5', 'cat6', 'cat7', 'cat8', 'cat9', 'cat10', 'cat11', 'cat12', 'cat13', 'cat14', 'cat15', 'cat16', 'cat17', 'cat18']\n",
      "Numerical Columns: ['cont0', 'cont1', 'cont2', 'cont3', 'cont4', 'cont5', 'cont6', 'cont7', 'cont8', 'cont9', 'cont10', 'target']\n"
     ]
    }
   ],
   "source": [
    "cat_cols = list(df.select_dtypes(exclude=['float64', 'int64']).columns)\n",
    "num_cols = list(df.select_dtypes(include=['float64', 'int64']).columns)\n",
    "print(f\"categorical Columns: {cat_cols}\")\n",
    "print(f\"Numerical Columns: {num_cols}\")"
   ]
  },
  {
   "cell_type": "code",
   "execution_count": 8,
   "id": "governmental-sleeping",
   "metadata": {
    "ExecuteTime": {
     "end_time": "2021-03-31T15:38:07.100929Z",
     "start_time": "2021-03-31T15:37:39.385370Z"
    }
   },
   "outputs": [
    {
     "data": {
      "image/png": "[encoded data removed]",
      "text/plain": [
       "<Figure size 2160x3600 with 19 Axes>"
      ]
     },
     "metadata": {
      "needs_background": "light"
     },
     "output_type": "display_data"
    }
   ],
   "source": [
    "plt.figure(figsize=(30,50))\n",
    "for index, cat in enumerate(cat_cols):\n",
    "    index += 1\n",
    "    plt.subplot(10,2,index)\n",
    "    x = df[cat]\n",
    "    sns.histplot(x)"
   ]
  },
  {
   "cell_type": "code",
   "execution_count": 9,
   "id": "automatic-dayton",
   "metadata": {
    "ExecuteTime": {
     "end_time": "2021-03-31T15:38:10.506344Z",
     "start_time": "2021-03-31T15:38:07.104998Z"
    }
   },
   "outputs": [
    {
     "data": {
      "image/png": "[encoded data removed]",
      "text/plain": [
       "<Figure size 1440x1080 with 12 Axes>"
      ]
     },
     "metadata": {
      "needs_background": "light"
     },
     "output_type": "display_data"
    }
   ],
   "source": [
    "### Numerical Features\n",
    "df.hist(bins=50, figsize=(20,15))\n",
    "plt.show()"
   ]
  },
  {
   "cell_type": "markdown",
   "id": "selected-extension",
   "metadata": {
    "heading_collapsed": true
   },
   "source": [
    "## Target Balance"
   ]
  },
  {
   "cell_type": "code",
   "execution_count": 10,
   "id": "tight-accordance",
   "metadata": {
    "ExecuteTime": {
     "end_time": "2021-03-31T15:38:11.035265Z",
     "start_time": "2021-03-31T15:38:10.509766Z"
    },
    "hidden": true
   },
   "outputs": [
    {
     "data": {
      "text/plain": [
       "<AxesSubplot:xlabel='target', ylabel='Count'>"
      ]
     },
     "execution_count": 10,
     "metadata": {},
     "output_type": "execute_result"
    },
    {
     "data": {
      "image/png": "[encoded data removed]",
      "text/plain": [
       "<Figure size 432x288 with 1 Axes>"
      ]
     },
     "metadata": {
      "needs_background": "light"
     },
     "output_type": "display_data"
    }
   ],
   "source": [
    "sns.histplot(df['target']) #imbalanced, so i shouldnt use accuracy[[TN,FP], [FN,TP]], F1 identifies 1, & w/o wrong ones"
   ]
  },
  {
   "cell_type": "markdown",
   "id": "adverse-speaker",
   "metadata": {
    "ExecuteTime": {
     "end_time": "2021-03-27T20:58:10.587035Z",
     "start_time": "2021-03-27T20:58:10.582262Z"
    },
    "heading_collapsed": true
   },
   "source": [
    "## Correlation Matrix"
   ]
  },
  {
   "cell_type": "code",
   "execution_count": 11,
   "id": "detected-capital",
   "metadata": {
    "ExecuteTime": {
     "end_time": "2021-03-31T15:38:11.641524Z",
     "start_time": "2021-03-31T15:38:11.039475Z"
    },
    "hidden": true
   },
   "outputs": [
    {
     "data": {
      "text/plain": [
       "<AxesSubplot:>"
      ]
     },
     "execution_count": 11,
     "metadata": {},
     "output_type": "execute_result"
    },
    {
     "data": {
      "image/png": "[encoded data removed]",
      "text/plain": [
       "<Figure size 432x288 with 2 Axes>"
      ]
     },
     "metadata": {
      "needs_background": "light"
     },
     "output_type": "display_data"
    }
   ],
   "source": [
    "# Heatmap\n",
    "corr = df.corr()\n",
    "sns.heatmap(corr, \n",
    "        xticklabels=corr.columns,\n",
    "        yticklabels=corr.columns,\n",
    "        cmap= \"YlGnBu\")"
   ]
  },
  {
   "cell_type": "markdown",
   "id": "beautiful-poultry",
   "metadata": {
    "ExecuteTime": {
     "end_time": "2021-03-27T21:02:52.796992Z",
     "start_time": "2021-03-27T21:02:52.784058Z"
    }
   },
   "source": [
    "# Feature Selection"
   ]
  },
  {
   "cell_type": "markdown",
   "id": "boring-cleaner",
   "metadata": {
    "ExecuteTime": {
     "end_time": "2021-03-27T21:03:12.233158Z",
     "start_time": "2021-03-27T21:03:12.226866Z"
    }
   },
   "source": [
    "## Dropping numerical features"
   ]
  },
  {
   "cell_type": "code",
   "execution_count": 12,
   "id": "behavioral-court",
   "metadata": {
    "ExecuteTime": {
     "end_time": "2021-03-31T15:38:11.653609Z",
     "start_time": "2021-03-31T15:38:11.649837Z"
    }
   },
   "outputs": [],
   "source": [
    "#df_no_corr = df.drop(columns = ['cont2','cont7','cont10'])"
   ]
  },
  {
   "cell_type": "code",
   "execution_count": 13,
   "id": "fifty-pencil",
   "metadata": {
    "ExecuteTime": {
     "end_time": "2021-03-31T15:38:11.676695Z",
     "start_time": "2021-03-31T15:38:11.656471Z"
    }
   },
   "outputs": [],
   "source": [
    "#df_no_corr.shape"
   ]
  },
  {
   "cell_type": "code",
   "execution_count": 14,
   "id": "metropolitan-helping",
   "metadata": {
    "ExecuteTime": {
     "end_time": "2021-03-31T15:38:11.690253Z",
     "start_time": "2021-03-31T15:38:11.682983Z"
    },
    "scrolled": true
   },
   "outputs": [],
   "source": [
    "#new_num_cols = df_no_corr._get_numeric_data().columns\n",
    "#new_num_cols"
   ]
  },
  {
   "cell_type": "markdown",
   "id": "japanese-partition",
   "metadata": {
    "ExecuteTime": {
     "end_time": "2021-03-27T21:03:29.271187Z",
     "start_time": "2021-03-27T21:03:29.266071Z"
    },
    "heading_collapsed": true
   },
   "source": [
    "## Changing long tails for categorical features"
   ]
  },
  {
   "cell_type": "code",
   "execution_count": 15,
   "id": "divided-street",
   "metadata": {
    "ExecuteTime": {
     "end_time": "2021-03-31T15:38:11.702393Z",
     "start_time": "2021-03-31T15:38:11.692802Z"
    },
    "hidden": true
   },
   "outputs": [],
   "source": [
    "# def value_rem(df=df, cat_cols=cat_cols, q=.8):\n",
    "#     for column in cat_cols:\n",
    "#         ## creating dict of value counts for each feature\n",
    "#         print(column)\n",
    "#         d_ = df[column].value_counts()\n",
    "# #         print(f\"Selected quantile: {d_.quantile(q=q)}\")\n",
    "#         for k, v in dict(d_).items():\n",
    "# #             print(f\"value: {k}, count: {v}\")\n",
    "#             if v < d_.quantile(q=q):\n",
    "#                 df[column] = df[column].replace(k, \"other\")\n",
    "# #                 print(f\"replaced value: {k}\")\n",
    "#     return df"
   ]
  },
  {
   "cell_type": "code",
   "execution_count": 16,
   "id": "silver-scheme",
   "metadata": {
    "ExecuteTime": {
     "end_time": "2021-03-31T15:38:11.721753Z",
     "start_time": "2021-03-31T15:38:11.705157Z"
    },
    "hidden": true
   },
   "outputs": [],
   "source": [
    "# df_red = value_rem(df=df_no_corr)"
   ]
  },
  {
   "cell_type": "code",
   "execution_count": 17,
   "id": "warming-ranking",
   "metadata": {
    "ExecuteTime": {
     "end_time": "2021-03-31T15:38:11.740808Z",
     "start_time": "2021-03-31T15:38:11.726293Z"
    },
    "hidden": true,
    "scrolled": true
   },
   "outputs": [],
   "source": [
    "#df_red"
   ]
  },
  {
   "cell_type": "markdown",
   "id": "appropriate-arctic",
   "metadata": {
    "ExecuteTime": {
     "end_time": "2021-03-27T21:06:11.033316Z",
     "start_time": "2021-03-27T21:06:11.003419Z"
    }
   },
   "source": [
    "# Data Preprocessing"
   ]
  },
  {
   "cell_type": "markdown",
   "id": "departmental-emergency",
   "metadata": {
    "ExecuteTime": {
     "end_time": "2021-03-29T20:46:46.813806Z",
     "start_time": "2021-03-29T20:46:46.810000Z"
    }
   },
   "source": [
    "## Label Encoding"
   ]
  },
  {
   "cell_type": "code",
   "execution_count": 18,
   "id": "overhead-investment",
   "metadata": {
    "ExecuteTime": {
     "end_time": "2021-03-31T15:38:11.762528Z",
     "start_time": "2021-03-31T15:38:11.744653Z"
    }
   },
   "outputs": [],
   "source": [
    "from sklearn.preprocessing import LabelEncoder"
   ]
  },
  {
   "cell_type": "code",
   "execution_count": 19,
   "id": "interior-drunk",
   "metadata": {
    "ExecuteTime": {
     "end_time": "2021-03-31T15:38:11.834473Z",
     "start_time": "2021-03-31T15:38:11.766006Z"
    }
   },
   "outputs": [],
   "source": [
    "X = df.drop(columns = 'target')\n",
    "y = df.target"
   ]
  },
  {
   "cell_type": "code",
   "execution_count": 20,
   "id": "allied-border",
   "metadata": {
    "ExecuteTime": {
     "end_time": "2021-03-31T15:38:11.849488Z",
     "start_time": "2021-03-31T15:38:11.837249Z"
    }
   },
   "outputs": [],
   "source": [
    "# # Encoder Categorical Data\n",
    "# for c in X.columns:\n",
    "#     lbl = LabelEncoder()\n",
    "#     if X[c].dtype=='object': \n",
    "#         print(c, X[c].unique().tolist())\n",
    "#         lbl.fit(X[c].unique().tolist())\n",
    "#         X[c] = lbl.transform(X[c])"
   ]
  },
  {
   "cell_type": "markdown",
   "id": "adolescent-scottish",
   "metadata": {
    "ExecuteTime": {
     "end_time": "2021-03-27T21:06:33.692795Z",
     "start_time": "2021-03-27T21:06:33.688103Z"
    }
   },
   "source": [
    "## One Hot Encoding"
   ]
  },
  {
   "cell_type": "code",
   "execution_count": 21,
   "id": "introductory-precipitation",
   "metadata": {
    "ExecuteTime": {
     "end_time": "2021-03-31T15:38:11.938184Z",
     "start_time": "2021-03-31T15:38:11.853105Z"
    }
   },
   "outputs": [],
   "source": [
    "X = df.drop(columns = 'target')\n",
    "y = df.target"
   ]
  },
  {
   "cell_type": "code",
   "execution_count": 22,
   "id": "complex-charlotte",
   "metadata": {
    "ExecuteTime": {
     "end_time": "2021-03-31T15:38:11.944793Z",
     "start_time": "2021-03-31T15:38:11.940432Z"
    }
   },
   "outputs": [],
   "source": [
    "### OneHotEncoder for cat vals // ordinal encoding does not apply since the vlaue of the cats is unknown\n",
    "cat_transformer = OneHotEncoder(handle_unknown='ignore')"
   ]
  },
  {
   "cell_type": "code",
   "execution_count": 23,
   "id": "starting-twist",
   "metadata": {
    "ExecuteTime": {
     "end_time": "2021-03-31T15:38:11.974414Z",
     "start_time": "2021-03-31T15:38:11.957453Z"
    }
   },
   "outputs": [],
   "source": [
    "preprocessor = ColumnTransformer([('cat_transformer', cat_transformer, cat_cols)], remainder=\"passthrough\")"
   ]
  },
  {
   "cell_type": "code",
   "execution_count": 24,
   "id": "legendary-album",
   "metadata": {
    "ExecuteTime": {
     "end_time": "2021-03-31T15:38:14.169436Z",
     "start_time": "2021-03-31T15:38:11.981418Z"
    }
   },
   "outputs": [],
   "source": [
    "X = preprocessor.fit_transform(X)"
   ]
  },
  {
   "cell_type": "code",
   "execution_count": 25,
   "id": "killing-powder",
   "metadata": {
    "ExecuteTime": {
     "end_time": "2021-03-31T15:38:14.184744Z",
     "start_time": "2021-03-31T15:38:14.172027Z"
    }
   },
   "outputs": [
    {
     "data": {
      "text/plain": [
       "634"
      ]
     },
     "execution_count": 25,
     "metadata": {},
     "output_type": "execute_result"
    }
   ],
   "source": [
    "# ## to inspect the encoded df we need to get the generated column names\n",
    "columns = preprocessor.get_feature_names()\n",
    "len(columns)"
   ]
  },
  {
   "cell_type": "code",
   "execution_count": 26,
   "id": "reasonable-telling",
   "metadata": {
    "ExecuteTime": {
     "end_time": "2021-03-31T15:38:14.766485Z",
     "start_time": "2021-03-31T15:38:14.189304Z"
    }
   },
   "outputs": [],
   "source": [
    "X = pd.DataFrame(X.toarray(), columns=columns)"
   ]
  },
  {
   "cell_type": "code",
   "execution_count": 27,
   "id": "cooked-agriculture",
   "metadata": {
    "ExecuteTime": {
     "end_time": "2021-03-31T15:38:14.775427Z",
     "start_time": "2021-03-31T15:38:14.768978Z"
    },
    "scrolled": true
   },
   "outputs": [
    {
     "data": {
      "text/plain": [
       "(300000, 634)"
      ]
     },
     "execution_count": 27,
     "metadata": {},
     "output_type": "execute_result"
    }
   ],
   "source": [
    "X.shape"
   ]
  },
  {
   "cell_type": "markdown",
   "id": "alive-degree",
   "metadata": {
    "ExecuteTime": {
     "end_time": "2021-03-27T21:14:27.073982Z",
     "start_time": "2021-03-27T21:14:27.055922Z"
    }
   },
   "source": [
    "## SMOTE Balancing"
   ]
  },
  {
   "cell_type": "code",
   "execution_count": 28,
   "id": "nonprofit-continuity",
   "metadata": {
    "ExecuteTime": {
     "end_time": "2021-03-31T15:47:03.738729Z",
     "start_time": "2021-03-31T15:38:14.783291Z"
    }
   },
   "outputs": [],
   "source": [
    "X_resampled, y_resampled = SMOTE().fit_resample(X, y)"
   ]
  },
  {
   "cell_type": "code",
   "execution_count": 29,
   "id": "marine-locator",
   "metadata": {
    "ExecuteTime": {
     "end_time": "2021-03-31T15:47:03.752103Z",
     "start_time": "2021-03-31T15:47:03.743177Z"
    }
   },
   "outputs": [
    {
     "data": {
      "text/plain": [
       "(441078, 634)"
      ]
     },
     "execution_count": 29,
     "metadata": {},
     "output_type": "execute_result"
    }
   ],
   "source": [
    "X_resampled.shape\n",
    "## there are 98 634 more rows in the resampled train data"
   ]
  },
  {
   "cell_type": "code",
   "execution_count": 74,
   "id": "impossible-cleanup",
   "metadata": {
    "ExecuteTime": {
     "end_time": "2021-03-31T21:01:32.140351Z",
     "start_time": "2021-03-31T21:01:31.240623Z"
    }
   },
   "outputs": [
    {
     "data": {
      "text/html": [
       "<div>\n",
       "<style scoped>\n",
       "    .dataframe tbody tr th:only-of-type {\n",
       "        vertical-align: middle;\n",
       "    }\n",
       "\n",
       "    .dataframe tbody tr th {\n",
       "        vertical-align: top;\n",
       "    }\n",
       "\n",
       "    .dataframe thead th {\n",
       "        text-align: right;\n",
       "    }\n",
       "</style>\n",
       "<table border=\"1\" class=\"dataframe\">\n",
       "  <thead>\n",
       "    <tr style=\"text-align: right;\">\n",
       "      <th></th>\n",
       "      <th>cat_transformer__x0_A</th>\n",
       "      <th>cat_transformer__x0_B</th>\n",
       "      <th>cat_transformer__x1_A</th>\n",
       "      <th>cat_transformer__x1_B</th>\n",
       "      <th>cat_transformer__x1_C</th>\n",
       "      <th>cat_transformer__x1_D</th>\n",
       "      <th>cat_transformer__x1_E</th>\n",
       "      <th>cat_transformer__x1_F</th>\n",
       "      <th>cat_transformer__x1_G</th>\n",
       "      <th>cat_transformer__x1_H</th>\n",
       "      <th>...</th>\n",
       "      <th>cont2</th>\n",
       "      <th>cont3</th>\n",
       "      <th>cont4</th>\n",
       "      <th>cont5</th>\n",
       "      <th>cont6</th>\n",
       "      <th>cont7</th>\n",
       "      <th>cont8</th>\n",
       "      <th>cont9</th>\n",
       "      <th>cont10</th>\n",
       "      <th>target</th>\n",
       "    </tr>\n",
       "  </thead>\n",
       "  <tbody>\n",
       "    <tr>\n",
       "      <th>0</th>\n",
       "      <td>1.0</td>\n",
       "      <td>0.0</td>\n",
       "      <td>0.0</td>\n",
       "      <td>0.0</td>\n",
       "      <td>0.0</td>\n",
       "      <td>0.0</td>\n",
       "      <td>0.0</td>\n",
       "      <td>0.000000</td>\n",
       "      <td>0.0</td>\n",
       "      <td>0.000000</td>\n",
       "      <td>...</td>\n",
       "      <td>0.759439</td>\n",
       "      <td>0.795549</td>\n",
       "      <td>0.681917</td>\n",
       "      <td>0.621672</td>\n",
       "      <td>0.592184</td>\n",
       "      <td>0.791921</td>\n",
       "      <td>0.815254</td>\n",
       "      <td>0.965006</td>\n",
       "      <td>0.665915</td>\n",
       "      <td>0</td>\n",
       "    </tr>\n",
       "    <tr>\n",
       "      <th>1</th>\n",
       "      <td>1.0</td>\n",
       "      <td>0.0</td>\n",
       "      <td>0.0</td>\n",
       "      <td>0.0</td>\n",
       "      <td>0.0</td>\n",
       "      <td>0.0</td>\n",
       "      <td>0.0</td>\n",
       "      <td>0.000000</td>\n",
       "      <td>0.0</td>\n",
       "      <td>0.000000</td>\n",
       "      <td>...</td>\n",
       "      <td>0.386385</td>\n",
       "      <td>0.541366</td>\n",
       "      <td>0.388982</td>\n",
       "      <td>0.357778</td>\n",
       "      <td>0.600044</td>\n",
       "      <td>0.408701</td>\n",
       "      <td>0.399353</td>\n",
       "      <td>0.927406</td>\n",
       "      <td>0.493729</td>\n",
       "      <td>0</td>\n",
       "    </tr>\n",
       "    <tr>\n",
       "      <th>2</th>\n",
       "      <td>1.0</td>\n",
       "      <td>0.0</td>\n",
       "      <td>0.0</td>\n",
       "      <td>0.0</td>\n",
       "      <td>0.0</td>\n",
       "      <td>0.0</td>\n",
       "      <td>0.0</td>\n",
       "      <td>0.000000</td>\n",
       "      <td>0.0</td>\n",
       "      <td>0.000000</td>\n",
       "      <td>...</td>\n",
       "      <td>0.343255</td>\n",
       "      <td>0.616352</td>\n",
       "      <td>0.793687</td>\n",
       "      <td>0.552877</td>\n",
       "      <td>0.352113</td>\n",
       "      <td>0.388835</td>\n",
       "      <td>0.412303</td>\n",
       "      <td>0.292696</td>\n",
       "      <td>0.549452</td>\n",
       "      <td>0</td>\n",
       "    </tr>\n",
       "    <tr>\n",
       "      <th>3</th>\n",
       "      <td>1.0</td>\n",
       "      <td>0.0</td>\n",
       "      <td>0.0</td>\n",
       "      <td>0.0</td>\n",
       "      <td>0.0</td>\n",
       "      <td>0.0</td>\n",
       "      <td>0.0</td>\n",
       "      <td>0.000000</td>\n",
       "      <td>0.0</td>\n",
       "      <td>0.000000</td>\n",
       "      <td>...</td>\n",
       "      <td>0.831147</td>\n",
       "      <td>0.807807</td>\n",
       "      <td>0.800032</td>\n",
       "      <td>0.619147</td>\n",
       "      <td>0.221789</td>\n",
       "      <td>0.897617</td>\n",
       "      <td>0.633669</td>\n",
       "      <td>0.760318</td>\n",
       "      <td>0.934242</td>\n",
       "      <td>0</td>\n",
       "    </tr>\n",
       "    <tr>\n",
       "      <th>4</th>\n",
       "      <td>1.0</td>\n",
       "      <td>0.0</td>\n",
       "      <td>0.0</td>\n",
       "      <td>0.0</td>\n",
       "      <td>0.0</td>\n",
       "      <td>0.0</td>\n",
       "      <td>0.0</td>\n",
       "      <td>0.000000</td>\n",
       "      <td>0.0</td>\n",
       "      <td>0.000000</td>\n",
       "      <td>...</td>\n",
       "      <td>0.338818</td>\n",
       "      <td>0.277308</td>\n",
       "      <td>0.610578</td>\n",
       "      <td>0.128291</td>\n",
       "      <td>0.578764</td>\n",
       "      <td>0.279167</td>\n",
       "      <td>0.351103</td>\n",
       "      <td>0.357084</td>\n",
       "      <td>0.328960</td>\n",
       "      <td>1</td>\n",
       "    </tr>\n",
       "    <tr>\n",
       "      <th>...</th>\n",
       "      <td>...</td>\n",
       "      <td>...</td>\n",
       "      <td>...</td>\n",
       "      <td>...</td>\n",
       "      <td>...</td>\n",
       "      <td>...</td>\n",
       "      <td>...</td>\n",
       "      <td>...</td>\n",
       "      <td>...</td>\n",
       "      <td>...</td>\n",
       "      <td>...</td>\n",
       "      <td>...</td>\n",
       "      <td>...</td>\n",
       "      <td>...</td>\n",
       "      <td>...</td>\n",
       "      <td>...</td>\n",
       "      <td>...</td>\n",
       "      <td>...</td>\n",
       "      <td>...</td>\n",
       "      <td>...</td>\n",
       "      <td>...</td>\n",
       "    </tr>\n",
       "    <tr>\n",
       "      <th>441073</th>\n",
       "      <td>1.0</td>\n",
       "      <td>0.0</td>\n",
       "      <td>0.0</td>\n",
       "      <td>0.0</td>\n",
       "      <td>0.0</td>\n",
       "      <td>0.0</td>\n",
       "      <td>0.0</td>\n",
       "      <td>0.232442</td>\n",
       "      <td>0.0</td>\n",
       "      <td>0.767558</td>\n",
       "      <td>...</td>\n",
       "      <td>0.287950</td>\n",
       "      <td>0.600446</td>\n",
       "      <td>0.797126</td>\n",
       "      <td>0.695854</td>\n",
       "      <td>0.566418</td>\n",
       "      <td>0.272594</td>\n",
       "      <td>0.385536</td>\n",
       "      <td>0.459037</td>\n",
       "      <td>0.371045</td>\n",
       "      <td>1</td>\n",
       "    </tr>\n",
       "    <tr>\n",
       "      <th>441074</th>\n",
       "      <td>1.0</td>\n",
       "      <td>0.0</td>\n",
       "      <td>0.0</td>\n",
       "      <td>0.0</td>\n",
       "      <td>0.0</td>\n",
       "      <td>0.0</td>\n",
       "      <td>0.0</td>\n",
       "      <td>0.000000</td>\n",
       "      <td>0.0</td>\n",
       "      <td>0.000000</td>\n",
       "      <td>...</td>\n",
       "      <td>0.579621</td>\n",
       "      <td>0.792986</td>\n",
       "      <td>0.725086</td>\n",
       "      <td>0.212949</td>\n",
       "      <td>0.232171</td>\n",
       "      <td>0.891910</td>\n",
       "      <td>0.702162</td>\n",
       "      <td>0.567451</td>\n",
       "      <td>0.896829</td>\n",
       "      <td>1</td>\n",
       "    </tr>\n",
       "    <tr>\n",
       "      <th>441075</th>\n",
       "      <td>1.0</td>\n",
       "      <td>0.0</td>\n",
       "      <td>0.0</td>\n",
       "      <td>0.0</td>\n",
       "      <td>0.0</td>\n",
       "      <td>0.0</td>\n",
       "      <td>0.0</td>\n",
       "      <td>0.000000</td>\n",
       "      <td>0.0</td>\n",
       "      <td>0.000000</td>\n",
       "      <td>...</td>\n",
       "      <td>0.151153</td>\n",
       "      <td>0.321981</td>\n",
       "      <td>0.238893</td>\n",
       "      <td>0.680356</td>\n",
       "      <td>0.543227</td>\n",
       "      <td>0.295242</td>\n",
       "      <td>0.264107</td>\n",
       "      <td>0.268845</td>\n",
       "      <td>0.303570</td>\n",
       "      <td>1</td>\n",
       "    </tr>\n",
       "    <tr>\n",
       "      <th>441076</th>\n",
       "      <td>1.0</td>\n",
       "      <td>0.0</td>\n",
       "      <td>0.0</td>\n",
       "      <td>0.0</td>\n",
       "      <td>0.0</td>\n",
       "      <td>0.0</td>\n",
       "      <td>0.0</td>\n",
       "      <td>0.000000</td>\n",
       "      <td>0.0</td>\n",
       "      <td>0.000000</td>\n",
       "      <td>...</td>\n",
       "      <td>0.793074</td>\n",
       "      <td>0.246293</td>\n",
       "      <td>0.216769</td>\n",
       "      <td>0.776622</td>\n",
       "      <td>0.815340</td>\n",
       "      <td>0.385442</td>\n",
       "      <td>0.663515</td>\n",
       "      <td>0.580435</td>\n",
       "      <td>0.515950</td>\n",
       "      <td>1</td>\n",
       "    </tr>\n",
       "    <tr>\n",
       "      <th>441077</th>\n",
       "      <td>1.0</td>\n",
       "      <td>0.0</td>\n",
       "      <td>0.0</td>\n",
       "      <td>0.0</td>\n",
       "      <td>0.0</td>\n",
       "      <td>0.0</td>\n",
       "      <td>0.0</td>\n",
       "      <td>0.000000</td>\n",
       "      <td>0.0</td>\n",
       "      <td>0.000000</td>\n",
       "      <td>...</td>\n",
       "      <td>0.814597</td>\n",
       "      <td>0.867057</td>\n",
       "      <td>0.685272</td>\n",
       "      <td>0.639131</td>\n",
       "      <td>0.258451</td>\n",
       "      <td>0.829274</td>\n",
       "      <td>0.764325</td>\n",
       "      <td>0.820671</td>\n",
       "      <td>0.948687</td>\n",
       "      <td>1</td>\n",
       "    </tr>\n",
       "  </tbody>\n",
       "</table>\n",
       "<p>441078 rows × 635 columns</p>\n",
       "</div>"
      ],
      "text/plain": [
       "        cat_transformer__x0_A  cat_transformer__x0_B  cat_transformer__x1_A  \\\n",
       "0                         1.0                    0.0                    0.0   \n",
       "1                         1.0                    0.0                    0.0   \n",
       "2                         1.0                    0.0                    0.0   \n",
       "3                         1.0                    0.0                    0.0   \n",
       "4                         1.0                    0.0                    0.0   \n",
       "...                       ...                    ...                    ...   \n",
       "441073                    1.0                    0.0                    0.0   \n",
       "441074                    1.0                    0.0                    0.0   \n",
       "441075                    1.0                    0.0                    0.0   \n",
       "441076                    1.0                    0.0                    0.0   \n",
       "441077                    1.0                    0.0                    0.0   \n",
       "\n",
       "        cat_transformer__x1_B  cat_transformer__x1_C  cat_transformer__x1_D  \\\n",
       "0                         0.0                    0.0                    0.0   \n",
       "1                         0.0                    0.0                    0.0   \n",
       "2                         0.0                    0.0                    0.0   \n",
       "3                         0.0                    0.0                    0.0   \n",
       "4                         0.0                    0.0                    0.0   \n",
       "...                       ...                    ...                    ...   \n",
       "441073                    0.0                    0.0                    0.0   \n",
       "441074                    0.0                    0.0                    0.0   \n",
       "441075                    0.0                    0.0                    0.0   \n",
       "441076                    0.0                    0.0                    0.0   \n",
       "441077                    0.0                    0.0                    0.0   \n",
       "\n",
       "        cat_transformer__x1_E  cat_transformer__x1_F  cat_transformer__x1_G  \\\n",
       "0                         0.0               0.000000                    0.0   \n",
       "1                         0.0               0.000000                    0.0   \n",
       "2                         0.0               0.000000                    0.0   \n",
       "3                         0.0               0.000000                    0.0   \n",
       "4                         0.0               0.000000                    0.0   \n",
       "...                       ...                    ...                    ...   \n",
       "441073                    0.0               0.232442                    0.0   \n",
       "441074                    0.0               0.000000                    0.0   \n",
       "441075                    0.0               0.000000                    0.0   \n",
       "441076                    0.0               0.000000                    0.0   \n",
       "441077                    0.0               0.000000                    0.0   \n",
       "\n",
       "        cat_transformer__x1_H  ...     cont2     cont3     cont4     cont5  \\\n",
       "0                    0.000000  ...  0.759439  0.795549  0.681917  0.621672   \n",
       "1                    0.000000  ...  0.386385  0.541366  0.388982  0.357778   \n",
       "2                    0.000000  ...  0.343255  0.616352  0.793687  0.552877   \n",
       "3                    0.000000  ...  0.831147  0.807807  0.800032  0.619147   \n",
       "4                    0.000000  ...  0.338818  0.277308  0.610578  0.128291   \n",
       "...                       ...  ...       ...       ...       ...       ...   \n",
       "441073               0.767558  ...  0.287950  0.600446  0.797126  0.695854   \n",
       "441074               0.000000  ...  0.579621  0.792986  0.725086  0.212949   \n",
       "441075               0.000000  ...  0.151153  0.321981  0.238893  0.680356   \n",
       "441076               0.000000  ...  0.793074  0.246293  0.216769  0.776622   \n",
       "441077               0.000000  ...  0.814597  0.867057  0.685272  0.639131   \n",
       "\n",
       "           cont6     cont7     cont8     cont9    cont10  target  \n",
       "0       0.592184  0.791921  0.815254  0.965006  0.665915       0  \n",
       "1       0.600044  0.408701  0.399353  0.927406  0.493729       0  \n",
       "2       0.352113  0.388835  0.412303  0.292696  0.549452       0  \n",
       "3       0.221789  0.897617  0.633669  0.760318  0.934242       0  \n",
       "4       0.578764  0.279167  0.351103  0.357084  0.328960       1  \n",
       "...          ...       ...       ...       ...       ...     ...  \n",
       "441073  0.566418  0.272594  0.385536  0.459037  0.371045       1  \n",
       "441074  0.232171  0.891910  0.702162  0.567451  0.896829       1  \n",
       "441075  0.543227  0.295242  0.264107  0.268845  0.303570       1  \n",
       "441076  0.815340  0.385442  0.663515  0.580435  0.515950       1  \n",
       "441077  0.258451  0.829274  0.764325  0.820671  0.948687       1  \n",
       "\n",
       "[441078 rows x 635 columns]"
      ]
     },
     "execution_count": 74,
     "metadata": {},
     "output_type": "execute_result"
    }
   ],
   "source": [
    "X_resampled.join(y_resampled)"
   ]
  },
  {
   "cell_type": "markdown",
   "id": "continuing-harbor",
   "metadata": {
    "ExecuteTime": {
     "end_time": "2021-03-27T21:17:16.626569Z",
     "start_time": "2021-03-27T21:17:16.601864Z"
    }
   },
   "source": [
    "# Modelling"
   ]
  },
  {
   "cell_type": "markdown",
   "id": "baking-service",
   "metadata": {},
   "source": [
    "## Train & Test Split"
   ]
  },
  {
   "cell_type": "code",
   "execution_count": 30,
   "id": "personal-heading",
   "metadata": {
    "ExecuteTime": {
     "end_time": "2021-03-31T15:47:04.197104Z",
     "start_time": "2021-03-31T15:47:03.755216Z"
    }
   },
   "outputs": [],
   "source": [
    "X_train, X_val, y_train, y_val = train_test_split(X, y, test_size=.3, random_state=1)"
   ]
  },
  {
   "cell_type": "markdown",
   "id": "proved-williams",
   "metadata": {
    "ExecuteTime": {
     "end_time": "2021-03-27T21:17:16.642506Z",
     "start_time": "2021-03-27T21:17:16.629749Z"
    }
   },
   "source": [
    "## Baseline Model"
   ]
  },
  {
   "cell_type": "code",
   "execution_count": 31,
   "id": "dying-maker",
   "metadata": {
    "ExecuteTime": {
     "end_time": "2021-03-31T15:47:04.205402Z",
     "start_time": "2021-03-31T15:47:04.200354Z"
    }
   },
   "outputs": [],
   "source": [
    "log = LogisticRegression(max_iter=1000)"
   ]
  },
  {
   "cell_type": "code",
   "execution_count": 32,
   "id": "popular-browse",
   "metadata": {
    "ExecuteTime": {
     "end_time": "2021-03-31T15:48:52.843367Z",
     "start_time": "2021-03-31T15:47:04.209796Z"
    }
   },
   "outputs": [
    {
     "data": {
      "text/plain": [
       "LogisticRegression(max_iter=1000)"
      ]
     },
     "execution_count": 32,
     "metadata": {},
     "output_type": "execute_result"
    }
   ],
   "source": [
    "log.fit(X_train, y_train)"
   ]
  },
  {
   "cell_type": "code",
   "execution_count": 33,
   "id": "potential-civilization",
   "metadata": {
    "ExecuteTime": {
     "end_time": "2021-03-31T15:48:52.863630Z",
     "start_time": "2021-03-31T15:48:52.854012Z"
    }
   },
   "outputs": [],
   "source": [
    "def predict_proba(X_val, y_val):\n",
    "    y_pred = log.predict_proba(X_val)[:, 1] # This grabs the positive class prediction\n",
    "    score = roc_auc_score(y_val, y_pred)\n",
    "    return score"
   ]
  },
  {
   "cell_type": "code",
   "execution_count": 34,
   "id": "naked-punch",
   "metadata": {
    "ExecuteTime": {
     "end_time": "2021-03-31T15:48:53.048474Z",
     "start_time": "2021-03-31T15:48:52.873482Z"
    }
   },
   "outputs": [
    {
     "data": {
      "text/plain": [
       "0.8840675989140273"
      ]
     },
     "execution_count": 34,
     "metadata": {},
     "output_type": "execute_result"
    }
   ],
   "source": [
    "score = predict_proba(X_val, y_val)\n",
    "score"
   ]
  },
  {
   "cell_type": "markdown",
   "id": "imported-slave",
   "metadata": {},
   "source": [
    "## Baseline Model with SMOTE"
   ]
  },
  {
   "cell_type": "code",
   "execution_count": 35,
   "id": "asian-income",
   "metadata": {
    "ExecuteTime": {
     "end_time": "2021-03-31T15:48:55.981100Z",
     "start_time": "2021-03-31T15:48:53.062342Z"
    }
   },
   "outputs": [],
   "source": [
    "X_train, X_val, y_train, y_val = train_test_split(X_resampled, y_resampled, test_size=.3, random_state=1)"
   ]
  },
  {
   "cell_type": "code",
   "execution_count": 36,
   "id": "naughty-sussex",
   "metadata": {
    "ExecuteTime": {
     "end_time": "2021-03-31T15:51:39.988100Z",
     "start_time": "2021-03-31T15:48:55.983727Z"
    }
   },
   "outputs": [
    {
     "data": {
      "text/plain": [
       "LogisticRegression(max_iter=1000)"
      ]
     },
     "execution_count": 36,
     "metadata": {},
     "output_type": "execute_result"
    }
   ],
   "source": [
    "log.fit(X_train, y_train)"
   ]
  },
  {
   "cell_type": "code",
   "execution_count": 37,
   "id": "controlling-kazakhstan",
   "metadata": {
    "ExecuteTime": {
     "end_time": "2021-03-31T15:51:40.294522Z",
     "start_time": "2021-03-31T15:51:40.000281Z"
    }
   },
   "outputs": [
    {
     "data": {
      "text/plain": [
       "0.8854554818146729"
      ]
     },
     "execution_count": 37,
     "metadata": {},
     "output_type": "execute_result"
    }
   ],
   "source": [
    "score = predict_proba(X_val, y_val)\n",
    "score"
   ]
  },
  {
   "cell_type": "markdown",
   "id": "fitted-northwest",
   "metadata": {
    "ExecuteTime": {
     "end_time": "2021-03-27T21:17:55.631798Z",
     "start_time": "2021-03-27T21:17:55.594518Z"
    }
   },
   "source": [
    "## Feature Permutation"
   ]
  },
  {
   "cell_type": "code",
   "execution_count": 38,
   "id": "thorough-filing",
   "metadata": {
    "ExecuteTime": {
     "end_time": "2021-03-31T20:09:47.015139Z",
     "start_time": "2021-03-31T15:51:40.298008Z"
    }
   },
   "outputs": [
    {
     "data": {
      "text/html": [
       "<div>\n",
       "<style scoped>\n",
       "    .dataframe tbody tr th:only-of-type {\n",
       "        vertical-align: middle;\n",
       "    }\n",
       "\n",
       "    .dataframe tbody tr th {\n",
       "        vertical-align: top;\n",
       "    }\n",
       "\n",
       "    .dataframe thead th {\n",
       "        text-align: right;\n",
       "    }\n",
       "</style>\n",
       "<table border=\"1\" class=\"dataframe\">\n",
       "  <thead>\n",
       "    <tr style=\"text-align: right;\">\n",
       "      <th></th>\n",
       "      <th>feature</th>\n",
       "      <th>score decrease</th>\n",
       "    </tr>\n",
       "  </thead>\n",
       "  <tbody>\n",
       "    <tr>\n",
       "      <th>614</th>\n",
       "      <td>cat_transformer__x16_D</td>\n",
       "      <td>0.006194</td>\n",
       "    </tr>\n",
       "    <tr>\n",
       "      <th>628</th>\n",
       "      <td>cont5</td>\n",
       "      <td>0.006053</td>\n",
       "    </tr>\n",
       "    <tr>\n",
       "      <th>612</th>\n",
       "      <td>cat_transformer__x16_B</td>\n",
       "      <td>0.004548</td>\n",
       "    </tr>\n",
       "    <tr>\n",
       "      <th>605</th>\n",
       "      <td>cat_transformer__x14_A</td>\n",
       "      <td>0.004323</td>\n",
       "    </tr>\n",
       "    <tr>\n",
       "      <th>102</th>\n",
       "      <td>cat_transformer__x5_BI</td>\n",
       "      <td>0.003632</td>\n",
       "    </tr>\n",
       "    <tr>\n",
       "      <th>...</th>\n",
       "      <td>...</td>\n",
       "      <td>...</td>\n",
       "    </tr>\n",
       "    <tr>\n",
       "      <th>215</th>\n",
       "      <td>cat_transformer__x7_U</td>\n",
       "      <td>-0.000048</td>\n",
       "    </tr>\n",
       "    <tr>\n",
       "      <th>201</th>\n",
       "      <td>cat_transformer__x7_G</td>\n",
       "      <td>-0.000051</td>\n",
       "    </tr>\n",
       "    <tr>\n",
       "      <th>56</th>\n",
       "      <td>cat_transformer__x4_H</td>\n",
       "      <td>-0.000055</td>\n",
       "    </tr>\n",
       "    <tr>\n",
       "      <th>318</th>\n",
       "      <td>cat_transformer__x10_AV</td>\n",
       "      <td>-0.000061</td>\n",
       "    </tr>\n",
       "    <tr>\n",
       "      <th>288</th>\n",
       "      <td>cat_transformer__x9_I</td>\n",
       "      <td>-0.000100</td>\n",
       "    </tr>\n",
       "  </tbody>\n",
       "</table>\n",
       "<p>634 rows × 2 columns</p>\n",
       "</div>"
      ],
      "text/plain": [
       "                     feature score decrease\n",
       "614   cat_transformer__x16_D       0.006194\n",
       "628                    cont5       0.006053\n",
       "612   cat_transformer__x16_B       0.004548\n",
       "605   cat_transformer__x14_A       0.004323\n",
       "102   cat_transformer__x5_BI       0.003632\n",
       "..                       ...            ...\n",
       "215    cat_transformer__x7_U      -0.000048\n",
       "201    cat_transformer__x7_G      -0.000051\n",
       "56     cat_transformer__x4_H      -0.000055\n",
       "318  cat_transformer__x10_AV      -0.000061\n",
       "288    cat_transformer__x9_I      -0.000100\n",
       "\n",
       "[634 rows x 2 columns]"
      ]
     },
     "execution_count": 38,
     "metadata": {},
     "output_type": "execute_result"
    }
   ],
   "source": [
    "from sklearn.inspection import permutation_importance\n",
    "\n",
    "log_model = log.fit(X_train, y_train) # Fit model\n",
    "\n",
    "permutation_score = permutation_importance(log_model, X_train, y_train, n_repeats=50) # Perform Permutation\n",
    "\n",
    "importance_df = pd.DataFrame(np.vstack((X_train.columns,\n",
    "                                        permutation_score.importances_mean)).T) # Unstack results\n",
    "\n",
    "importance_df.columns=['feature','score decrease']\n",
    "\n",
    "importance_df.sort_values(by=\"score decrease\", ascending = False) # Order by importance"
   ]
  },
  {
   "cell_type": "code",
   "execution_count": 39,
   "id": "liked-jason",
   "metadata": {
    "ExecuteTime": {
     "end_time": "2021-03-31T20:09:47.036957Z",
     "start_time": "2021-03-31T20:09:47.024937Z"
    },
    "scrolled": true
   },
   "outputs": [
    {
     "data": {
      "text/plain": [
       "0      cat_transformer__x0_A\n",
       "1      cat_transformer__x0_B\n",
       "2      cat_transformer__x1_A\n",
       "3      cat_transformer__x1_B\n",
       "4      cat_transformer__x1_C\n",
       "               ...          \n",
       "629                    cont6\n",
       "630                    cont7\n",
       "631                    cont8\n",
       "632                    cont9\n",
       "633                   cont10\n",
       "Name: feature, Length: 434, dtype: object"
      ]
     },
     "execution_count": 39,
     "metadata": {},
     "output_type": "execute_result"
    }
   ],
   "source": [
    "feat_keep = importance_df[importance_df['score decrease']>0].feature\n",
    "feat_keep"
   ]
  },
  {
   "cell_type": "markdown",
   "id": "first-booking",
   "metadata": {},
   "source": [
    "## Exporting new data to CSV"
   ]
  },
  {
   "cell_type": "code",
   "execution_count": 79,
   "id": "latter-article",
   "metadata": {
    "ExecuteTime": {
     "end_time": "2021-03-31T21:13:29.731666Z",
     "start_time": "2021-03-31T21:13:10.514774Z"
    }
   },
   "outputs": [],
   "source": [
    "final_data = X_resampled[feat_keep].join(y_resampled)"
   ]
  },
  {
   "cell_type": "code",
   "execution_count": 80,
   "id": "respiratory-india",
   "metadata": {
    "ExecuteTime": {
     "end_time": "2021-03-31T21:13:30.545380Z",
     "start_time": "2021-03-31T21:13:29.752473Z"
    }
   },
   "outputs": [
    {
     "data": {
      "text/html": [
       "<div>\n",
       "<style scoped>\n",
       "    .dataframe tbody tr th:only-of-type {\n",
       "        vertical-align: middle;\n",
       "    }\n",
       "\n",
       "    .dataframe tbody tr th {\n",
       "        vertical-align: top;\n",
       "    }\n",
       "\n",
       "    .dataframe thead th {\n",
       "        text-align: right;\n",
       "    }\n",
       "</style>\n",
       "<table border=\"1\" class=\"dataframe\">\n",
       "  <thead>\n",
       "    <tr style=\"text-align: right;\">\n",
       "      <th></th>\n",
       "      <th>cat_transformer__x0_A</th>\n",
       "      <th>cat_transformer__x0_B</th>\n",
       "      <th>cat_transformer__x1_A</th>\n",
       "      <th>cat_transformer__x1_B</th>\n",
       "      <th>cat_transformer__x1_C</th>\n",
       "      <th>cat_transformer__x1_F</th>\n",
       "      <th>cat_transformer__x1_G</th>\n",
       "      <th>cat_transformer__x1_I</th>\n",
       "      <th>cat_transformer__x1_J</th>\n",
       "      <th>cat_transformer__x1_K</th>\n",
       "      <th>...</th>\n",
       "      <th>cont2</th>\n",
       "      <th>cont3</th>\n",
       "      <th>cont4</th>\n",
       "      <th>cont5</th>\n",
       "      <th>cont6</th>\n",
       "      <th>cont7</th>\n",
       "      <th>cont8</th>\n",
       "      <th>cont9</th>\n",
       "      <th>cont10</th>\n",
       "      <th>target</th>\n",
       "    </tr>\n",
       "  </thead>\n",
       "  <tbody>\n",
       "    <tr>\n",
       "      <th>0</th>\n",
       "      <td>1.0</td>\n",
       "      <td>0.0</td>\n",
       "      <td>0.0</td>\n",
       "      <td>0.0</td>\n",
       "      <td>0.0</td>\n",
       "      <td>0.000000</td>\n",
       "      <td>0.0</td>\n",
       "      <td>1.0</td>\n",
       "      <td>0.0</td>\n",
       "      <td>0.0</td>\n",
       "      <td>...</td>\n",
       "      <td>0.759439</td>\n",
       "      <td>0.795549</td>\n",
       "      <td>0.681917</td>\n",
       "      <td>0.621672</td>\n",
       "      <td>0.592184</td>\n",
       "      <td>0.791921</td>\n",
       "      <td>0.815254</td>\n",
       "      <td>0.965006</td>\n",
       "      <td>0.665915</td>\n",
       "      <td>0</td>\n",
       "    </tr>\n",
       "    <tr>\n",
       "      <th>1</th>\n",
       "      <td>1.0</td>\n",
       "      <td>0.0</td>\n",
       "      <td>0.0</td>\n",
       "      <td>0.0</td>\n",
       "      <td>0.0</td>\n",
       "      <td>0.000000</td>\n",
       "      <td>0.0</td>\n",
       "      <td>1.0</td>\n",
       "      <td>0.0</td>\n",
       "      <td>0.0</td>\n",
       "      <td>...</td>\n",
       "      <td>0.386385</td>\n",
       "      <td>0.541366</td>\n",
       "      <td>0.388982</td>\n",
       "      <td>0.357778</td>\n",
       "      <td>0.600044</td>\n",
       "      <td>0.408701</td>\n",
       "      <td>0.399353</td>\n",
       "      <td>0.927406</td>\n",
       "      <td>0.493729</td>\n",
       "      <td>0</td>\n",
       "    </tr>\n",
       "    <tr>\n",
       "      <th>2</th>\n",
       "      <td>1.0</td>\n",
       "      <td>0.0</td>\n",
       "      <td>0.0</td>\n",
       "      <td>0.0</td>\n",
       "      <td>0.0</td>\n",
       "      <td>0.000000</td>\n",
       "      <td>0.0</td>\n",
       "      <td>0.0</td>\n",
       "      <td>0.0</td>\n",
       "      <td>1.0</td>\n",
       "      <td>...</td>\n",
       "      <td>0.343255</td>\n",
       "      <td>0.616352</td>\n",
       "      <td>0.793687</td>\n",
       "      <td>0.552877</td>\n",
       "      <td>0.352113</td>\n",
       "      <td>0.388835</td>\n",
       "      <td>0.412303</td>\n",
       "      <td>0.292696</td>\n",
       "      <td>0.549452</td>\n",
       "      <td>0</td>\n",
       "    </tr>\n",
       "    <tr>\n",
       "      <th>3</th>\n",
       "      <td>1.0</td>\n",
       "      <td>0.0</td>\n",
       "      <td>0.0</td>\n",
       "      <td>0.0</td>\n",
       "      <td>0.0</td>\n",
       "      <td>0.000000</td>\n",
       "      <td>0.0</td>\n",
       "      <td>0.0</td>\n",
       "      <td>0.0</td>\n",
       "      <td>1.0</td>\n",
       "      <td>...</td>\n",
       "      <td>0.831147</td>\n",
       "      <td>0.807807</td>\n",
       "      <td>0.800032</td>\n",
       "      <td>0.619147</td>\n",
       "      <td>0.221789</td>\n",
       "      <td>0.897617</td>\n",
       "      <td>0.633669</td>\n",
       "      <td>0.760318</td>\n",
       "      <td>0.934242</td>\n",
       "      <td>0</td>\n",
       "    </tr>\n",
       "    <tr>\n",
       "      <th>4</th>\n",
       "      <td>1.0</td>\n",
       "      <td>0.0</td>\n",
       "      <td>0.0</td>\n",
       "      <td>0.0</td>\n",
       "      <td>0.0</td>\n",
       "      <td>0.000000</td>\n",
       "      <td>0.0</td>\n",
       "      <td>1.0</td>\n",
       "      <td>0.0</td>\n",
       "      <td>0.0</td>\n",
       "      <td>...</td>\n",
       "      <td>0.338818</td>\n",
       "      <td>0.277308</td>\n",
       "      <td>0.610578</td>\n",
       "      <td>0.128291</td>\n",
       "      <td>0.578764</td>\n",
       "      <td>0.279167</td>\n",
       "      <td>0.351103</td>\n",
       "      <td>0.357084</td>\n",
       "      <td>0.328960</td>\n",
       "      <td>1</td>\n",
       "    </tr>\n",
       "    <tr>\n",
       "      <th>...</th>\n",
       "      <td>...</td>\n",
       "      <td>...</td>\n",
       "      <td>...</td>\n",
       "      <td>...</td>\n",
       "      <td>...</td>\n",
       "      <td>...</td>\n",
       "      <td>...</td>\n",
       "      <td>...</td>\n",
       "      <td>...</td>\n",
       "      <td>...</td>\n",
       "      <td>...</td>\n",
       "      <td>...</td>\n",
       "      <td>...</td>\n",
       "      <td>...</td>\n",
       "      <td>...</td>\n",
       "      <td>...</td>\n",
       "      <td>...</td>\n",
       "      <td>...</td>\n",
       "      <td>...</td>\n",
       "      <td>...</td>\n",
       "      <td>...</td>\n",
       "    </tr>\n",
       "    <tr>\n",
       "      <th>441073</th>\n",
       "      <td>1.0</td>\n",
       "      <td>0.0</td>\n",
       "      <td>0.0</td>\n",
       "      <td>0.0</td>\n",
       "      <td>0.0</td>\n",
       "      <td>0.232442</td>\n",
       "      <td>0.0</td>\n",
       "      <td>0.0</td>\n",
       "      <td>0.0</td>\n",
       "      <td>0.0</td>\n",
       "      <td>...</td>\n",
       "      <td>0.287950</td>\n",
       "      <td>0.600446</td>\n",
       "      <td>0.797126</td>\n",
       "      <td>0.695854</td>\n",
       "      <td>0.566418</td>\n",
       "      <td>0.272594</td>\n",
       "      <td>0.385536</td>\n",
       "      <td>0.459037</td>\n",
       "      <td>0.371045</td>\n",
       "      <td>1</td>\n",
       "    </tr>\n",
       "    <tr>\n",
       "      <th>441074</th>\n",
       "      <td>1.0</td>\n",
       "      <td>0.0</td>\n",
       "      <td>0.0</td>\n",
       "      <td>0.0</td>\n",
       "      <td>0.0</td>\n",
       "      <td>0.000000</td>\n",
       "      <td>0.0</td>\n",
       "      <td>0.0</td>\n",
       "      <td>0.0</td>\n",
       "      <td>1.0</td>\n",
       "      <td>...</td>\n",
       "      <td>0.579621</td>\n",
       "      <td>0.792986</td>\n",
       "      <td>0.725086</td>\n",
       "      <td>0.212949</td>\n",
       "      <td>0.232171</td>\n",
       "      <td>0.891910</td>\n",
       "      <td>0.702162</td>\n",
       "      <td>0.567451</td>\n",
       "      <td>0.896829</td>\n",
       "      <td>1</td>\n",
       "    </tr>\n",
       "    <tr>\n",
       "      <th>441075</th>\n",
       "      <td>1.0</td>\n",
       "      <td>0.0</td>\n",
       "      <td>0.0</td>\n",
       "      <td>0.0</td>\n",
       "      <td>0.0</td>\n",
       "      <td>0.000000</td>\n",
       "      <td>0.0</td>\n",
       "      <td>0.0</td>\n",
       "      <td>0.0</td>\n",
       "      <td>0.0</td>\n",
       "      <td>...</td>\n",
       "      <td>0.151153</td>\n",
       "      <td>0.321981</td>\n",
       "      <td>0.238893</td>\n",
       "      <td>0.680356</td>\n",
       "      <td>0.543227</td>\n",
       "      <td>0.295242</td>\n",
       "      <td>0.264107</td>\n",
       "      <td>0.268845</td>\n",
       "      <td>0.303570</td>\n",
       "      <td>1</td>\n",
       "    </tr>\n",
       "    <tr>\n",
       "      <th>441076</th>\n",
       "      <td>1.0</td>\n",
       "      <td>0.0</td>\n",
       "      <td>0.0</td>\n",
       "      <td>0.0</td>\n",
       "      <td>0.0</td>\n",
       "      <td>0.000000</td>\n",
       "      <td>0.0</td>\n",
       "      <td>0.0</td>\n",
       "      <td>0.0</td>\n",
       "      <td>0.0</td>\n",
       "      <td>...</td>\n",
       "      <td>0.793074</td>\n",
       "      <td>0.246293</td>\n",
       "      <td>0.216769</td>\n",
       "      <td>0.776622</td>\n",
       "      <td>0.815340</td>\n",
       "      <td>0.385442</td>\n",
       "      <td>0.663515</td>\n",
       "      <td>0.580435</td>\n",
       "      <td>0.515950</td>\n",
       "      <td>1</td>\n",
       "    </tr>\n",
       "    <tr>\n",
       "      <th>441077</th>\n",
       "      <td>1.0</td>\n",
       "      <td>0.0</td>\n",
       "      <td>0.0</td>\n",
       "      <td>0.0</td>\n",
       "      <td>0.0</td>\n",
       "      <td>0.000000</td>\n",
       "      <td>0.0</td>\n",
       "      <td>0.0</td>\n",
       "      <td>0.0</td>\n",
       "      <td>0.0</td>\n",
       "      <td>...</td>\n",
       "      <td>0.814597</td>\n",
       "      <td>0.867057</td>\n",
       "      <td>0.685272</td>\n",
       "      <td>0.639131</td>\n",
       "      <td>0.258451</td>\n",
       "      <td>0.829274</td>\n",
       "      <td>0.764325</td>\n",
       "      <td>0.820671</td>\n",
       "      <td>0.948687</td>\n",
       "      <td>1</td>\n",
       "    </tr>\n",
       "  </tbody>\n",
       "</table>\n",
       "<p>441078 rows × 435 columns</p>\n",
       "</div>"
      ],
      "text/plain": [
       "        cat_transformer__x0_A  cat_transformer__x0_B  cat_transformer__x1_A  \\\n",
       "0                         1.0                    0.0                    0.0   \n",
       "1                         1.0                    0.0                    0.0   \n",
       "2                         1.0                    0.0                    0.0   \n",
       "3                         1.0                    0.0                    0.0   \n",
       "4                         1.0                    0.0                    0.0   \n",
       "...                       ...                    ...                    ...   \n",
       "441073                    1.0                    0.0                    0.0   \n",
       "441074                    1.0                    0.0                    0.0   \n",
       "441075                    1.0                    0.0                    0.0   \n",
       "441076                    1.0                    0.0                    0.0   \n",
       "441077                    1.0                    0.0                    0.0   \n",
       "\n",
       "        cat_transformer__x1_B  cat_transformer__x1_C  cat_transformer__x1_F  \\\n",
       "0                         0.0                    0.0               0.000000   \n",
       "1                         0.0                    0.0               0.000000   \n",
       "2                         0.0                    0.0               0.000000   \n",
       "3                         0.0                    0.0               0.000000   \n",
       "4                         0.0                    0.0               0.000000   \n",
       "...                       ...                    ...                    ...   \n",
       "441073                    0.0                    0.0               0.232442   \n",
       "441074                    0.0                    0.0               0.000000   \n",
       "441075                    0.0                    0.0               0.000000   \n",
       "441076                    0.0                    0.0               0.000000   \n",
       "441077                    0.0                    0.0               0.000000   \n",
       "\n",
       "        cat_transformer__x1_G  cat_transformer__x1_I  cat_transformer__x1_J  \\\n",
       "0                         0.0                    1.0                    0.0   \n",
       "1                         0.0                    1.0                    0.0   \n",
       "2                         0.0                    0.0                    0.0   \n",
       "3                         0.0                    0.0                    0.0   \n",
       "4                         0.0                    1.0                    0.0   \n",
       "...                       ...                    ...                    ...   \n",
       "441073                    0.0                    0.0                    0.0   \n",
       "441074                    0.0                    0.0                    0.0   \n",
       "441075                    0.0                    0.0                    0.0   \n",
       "441076                    0.0                    0.0                    0.0   \n",
       "441077                    0.0                    0.0                    0.0   \n",
       "\n",
       "        cat_transformer__x1_K  ...     cont2     cont3     cont4     cont5  \\\n",
       "0                         0.0  ...  0.759439  0.795549  0.681917  0.621672   \n",
       "1                         0.0  ...  0.386385  0.541366  0.388982  0.357778   \n",
       "2                         1.0  ...  0.343255  0.616352  0.793687  0.552877   \n",
       "3                         1.0  ...  0.831147  0.807807  0.800032  0.619147   \n",
       "4                         0.0  ...  0.338818  0.277308  0.610578  0.128291   \n",
       "...                       ...  ...       ...       ...       ...       ...   \n",
       "441073                    0.0  ...  0.287950  0.600446  0.797126  0.695854   \n",
       "441074                    1.0  ...  0.579621  0.792986  0.725086  0.212949   \n",
       "441075                    0.0  ...  0.151153  0.321981  0.238893  0.680356   \n",
       "441076                    0.0  ...  0.793074  0.246293  0.216769  0.776622   \n",
       "441077                    0.0  ...  0.814597  0.867057  0.685272  0.639131   \n",
       "\n",
       "           cont6     cont7     cont8     cont9    cont10  target  \n",
       "0       0.592184  0.791921  0.815254  0.965006  0.665915       0  \n",
       "1       0.600044  0.408701  0.399353  0.927406  0.493729       0  \n",
       "2       0.352113  0.388835  0.412303  0.292696  0.549452       0  \n",
       "3       0.221789  0.897617  0.633669  0.760318  0.934242       0  \n",
       "4       0.578764  0.279167  0.351103  0.357084  0.328960       1  \n",
       "...          ...       ...       ...       ...       ...     ...  \n",
       "441073  0.566418  0.272594  0.385536  0.459037  0.371045       1  \n",
       "441074  0.232171  0.891910  0.702162  0.567451  0.896829       1  \n",
       "441075  0.543227  0.295242  0.264107  0.268845  0.303570       1  \n",
       "441076  0.815340  0.385442  0.663515  0.580435  0.515950       1  \n",
       "441077  0.258451  0.829274  0.764325  0.820671  0.948687       1  \n",
       "\n",
       "[441078 rows x 435 columns]"
      ]
     },
     "execution_count": 80,
     "metadata": {},
     "output_type": "execute_result"
    }
   ],
   "source": [
    "final_data"
   ]
  },
  {
   "cell_type": "code",
   "execution_count": 81,
   "id": "classical-flashing",
   "metadata": {
    "ExecuteTime": {
     "end_time": "2021-03-31T21:16:37.378833Z",
     "start_time": "2021-03-31T21:13:30.549972Z"
    }
   },
   "outputs": [],
   "source": [
    "final_data.to_csv('Data_March_Treated.csv')"
   ]
  },
  {
   "cell_type": "code",
   "execution_count": 40,
   "id": "played-chair",
   "metadata": {
    "ExecuteTime": {
     "end_time": "2021-03-31T20:09:56.185814Z",
     "start_time": "2021-03-31T20:09:47.038931Z"
    }
   },
   "outputs": [],
   "source": [
    "X_train, X_val, y_train, y_val = train_test_split(X_resampled[feat_keep], y_resampled, test_size=.3, random_state=1)"
   ]
  },
  {
   "cell_type": "code",
   "execution_count": 41,
   "id": "sublime-chess",
   "metadata": {
    "ExecuteTime": {
     "end_time": "2021-03-31T20:09:56.231292Z",
     "start_time": "2021-03-31T20:09:56.188312Z"
    }
   },
   "outputs": [
    {
     "data": {
      "text/html": [
       "<div>\n",
       "<style scoped>\n",
       "    .dataframe tbody tr th:only-of-type {\n",
       "        vertical-align: middle;\n",
       "    }\n",
       "\n",
       "    .dataframe tbody tr th {\n",
       "        vertical-align: top;\n",
       "    }\n",
       "\n",
       "    .dataframe thead th {\n",
       "        text-align: right;\n",
       "    }\n",
       "</style>\n",
       "<table border=\"1\" class=\"dataframe\">\n",
       "  <thead>\n",
       "    <tr style=\"text-align: right;\">\n",
       "      <th></th>\n",
       "      <th>cat_transformer__x0_A</th>\n",
       "      <th>cat_transformer__x0_B</th>\n",
       "      <th>cat_transformer__x1_A</th>\n",
       "      <th>cat_transformer__x1_B</th>\n",
       "      <th>cat_transformer__x1_C</th>\n",
       "      <th>cat_transformer__x1_F</th>\n",
       "      <th>cat_transformer__x1_G</th>\n",
       "      <th>cat_transformer__x1_I</th>\n",
       "      <th>cat_transformer__x1_J</th>\n",
       "      <th>cat_transformer__x1_K</th>\n",
       "      <th>...</th>\n",
       "      <th>cont1</th>\n",
       "      <th>cont2</th>\n",
       "      <th>cont3</th>\n",
       "      <th>cont4</th>\n",
       "      <th>cont5</th>\n",
       "      <th>cont6</th>\n",
       "      <th>cont7</th>\n",
       "      <th>cont8</th>\n",
       "      <th>cont9</th>\n",
       "      <th>cont10</th>\n",
       "    </tr>\n",
       "  </thead>\n",
       "  <tbody>\n",
       "    <tr>\n",
       "      <th>14272</th>\n",
       "      <td>1.0</td>\n",
       "      <td>0.0</td>\n",
       "      <td>0.0</td>\n",
       "      <td>0.0</td>\n",
       "      <td>0.0</td>\n",
       "      <td>0.000000</td>\n",
       "      <td>0.0</td>\n",
       "      <td>0.000000</td>\n",
       "      <td>0.000000</td>\n",
       "      <td>1.0</td>\n",
       "      <td>...</td>\n",
       "      <td>0.759745</td>\n",
       "      <td>0.802656</td>\n",
       "      <td>0.291339</td>\n",
       "      <td>0.303853</td>\n",
       "      <td>0.131722</td>\n",
       "      <td>0.389936</td>\n",
       "      <td>0.861615</td>\n",
       "      <td>0.375944</td>\n",
       "      <td>0.309905</td>\n",
       "      <td>0.847446</td>\n",
       "    </tr>\n",
       "    <tr>\n",
       "      <th>196350</th>\n",
       "      <td>1.0</td>\n",
       "      <td>0.0</td>\n",
       "      <td>0.0</td>\n",
       "      <td>1.0</td>\n",
       "      <td>0.0</td>\n",
       "      <td>0.000000</td>\n",
       "      <td>0.0</td>\n",
       "      <td>0.000000</td>\n",
       "      <td>0.000000</td>\n",
       "      <td>0.0</td>\n",
       "      <td>...</td>\n",
       "      <td>0.479891</td>\n",
       "      <td>0.444910</td>\n",
       "      <td>0.387853</td>\n",
       "      <td>0.285263</td>\n",
       "      <td>0.806833</td>\n",
       "      <td>0.722420</td>\n",
       "      <td>0.323233</td>\n",
       "      <td>0.576045</td>\n",
       "      <td>0.342115</td>\n",
       "      <td>0.409506</td>\n",
       "    </tr>\n",
       "    <tr>\n",
       "      <th>12580</th>\n",
       "      <td>1.0</td>\n",
       "      <td>0.0</td>\n",
       "      <td>0.0</td>\n",
       "      <td>0.0</td>\n",
       "      <td>0.0</td>\n",
       "      <td>0.000000</td>\n",
       "      <td>0.0</td>\n",
       "      <td>1.000000</td>\n",
       "      <td>0.000000</td>\n",
       "      <td>0.0</td>\n",
       "      <td>...</td>\n",
       "      <td>0.463287</td>\n",
       "      <td>0.441202</td>\n",
       "      <td>0.651419</td>\n",
       "      <td>0.622047</td>\n",
       "      <td>0.181163</td>\n",
       "      <td>0.182087</td>\n",
       "      <td>0.673344</td>\n",
       "      <td>0.404213</td>\n",
       "      <td>0.424719</td>\n",
       "      <td>0.634186</td>\n",
       "    </tr>\n",
       "    <tr>\n",
       "      <th>388153</th>\n",
       "      <td>1.0</td>\n",
       "      <td>0.0</td>\n",
       "      <td>0.0</td>\n",
       "      <td>0.0</td>\n",
       "      <td>0.0</td>\n",
       "      <td>0.652054</td>\n",
       "      <td>0.0</td>\n",
       "      <td>0.347946</td>\n",
       "      <td>0.000000</td>\n",
       "      <td>0.0</td>\n",
       "      <td>...</td>\n",
       "      <td>0.669933</td>\n",
       "      <td>0.697440</td>\n",
       "      <td>0.542311</td>\n",
       "      <td>0.738291</td>\n",
       "      <td>0.792345</td>\n",
       "      <td>0.641598</td>\n",
       "      <td>0.553142</td>\n",
       "      <td>0.523379</td>\n",
       "      <td>0.299032</td>\n",
       "      <td>0.506013</td>\n",
       "    </tr>\n",
       "    <tr>\n",
       "      <th>421941</th>\n",
       "      <td>1.0</td>\n",
       "      <td>0.0</td>\n",
       "      <td>0.0</td>\n",
       "      <td>0.0</td>\n",
       "      <td>0.0</td>\n",
       "      <td>0.000000</td>\n",
       "      <td>0.0</td>\n",
       "      <td>1.000000</td>\n",
       "      <td>0.000000</td>\n",
       "      <td>0.0</td>\n",
       "      <td>...</td>\n",
       "      <td>0.643429</td>\n",
       "      <td>0.639782</td>\n",
       "      <td>0.262101</td>\n",
       "      <td>0.779337</td>\n",
       "      <td>0.568775</td>\n",
       "      <td>0.616595</td>\n",
       "      <td>0.554370</td>\n",
       "      <td>0.844865</td>\n",
       "      <td>0.253911</td>\n",
       "      <td>0.408073</td>\n",
       "    </tr>\n",
       "    <tr>\n",
       "      <th>...</th>\n",
       "      <td>...</td>\n",
       "      <td>...</td>\n",
       "      <td>...</td>\n",
       "      <td>...</td>\n",
       "      <td>...</td>\n",
       "      <td>...</td>\n",
       "      <td>...</td>\n",
       "      <td>...</td>\n",
       "      <td>...</td>\n",
       "      <td>...</td>\n",
       "      <td>...</td>\n",
       "      <td>...</td>\n",
       "      <td>...</td>\n",
       "      <td>...</td>\n",
       "      <td>...</td>\n",
       "      <td>...</td>\n",
       "      <td>...</td>\n",
       "      <td>...</td>\n",
       "      <td>...</td>\n",
       "      <td>...</td>\n",
       "      <td>...</td>\n",
       "    </tr>\n",
       "    <tr>\n",
       "      <th>202615</th>\n",
       "      <td>1.0</td>\n",
       "      <td>0.0</td>\n",
       "      <td>0.0</td>\n",
       "      <td>0.0</td>\n",
       "      <td>0.0</td>\n",
       "      <td>0.000000</td>\n",
       "      <td>0.0</td>\n",
       "      <td>0.000000</td>\n",
       "      <td>0.000000</td>\n",
       "      <td>0.0</td>\n",
       "      <td>...</td>\n",
       "      <td>0.752400</td>\n",
       "      <td>0.832276</td>\n",
       "      <td>0.037547</td>\n",
       "      <td>0.803224</td>\n",
       "      <td>0.553753</td>\n",
       "      <td>0.329064</td>\n",
       "      <td>0.757331</td>\n",
       "      <td>0.534106</td>\n",
       "      <td>0.708734</td>\n",
       "      <td>0.907396</td>\n",
       "    </tr>\n",
       "    <tr>\n",
       "      <th>147747</th>\n",
       "      <td>1.0</td>\n",
       "      <td>0.0</td>\n",
       "      <td>0.0</td>\n",
       "      <td>0.0</td>\n",
       "      <td>0.0</td>\n",
       "      <td>0.000000</td>\n",
       "      <td>0.0</td>\n",
       "      <td>0.000000</td>\n",
       "      <td>0.000000</td>\n",
       "      <td>1.0</td>\n",
       "      <td>...</td>\n",
       "      <td>0.490242</td>\n",
       "      <td>0.625979</td>\n",
       "      <td>0.572625</td>\n",
       "      <td>0.482695</td>\n",
       "      <td>0.003158</td>\n",
       "      <td>0.104739</td>\n",
       "      <td>0.888760</td>\n",
       "      <td>0.618821</td>\n",
       "      <td>0.870323</td>\n",
       "      <td>0.939967</td>\n",
       "    </tr>\n",
       "    <tr>\n",
       "      <th>334990</th>\n",
       "      <td>1.0</td>\n",
       "      <td>0.0</td>\n",
       "      <td>0.0</td>\n",
       "      <td>0.0</td>\n",
       "      <td>0.0</td>\n",
       "      <td>0.000000</td>\n",
       "      <td>0.0</td>\n",
       "      <td>0.000000</td>\n",
       "      <td>0.758461</td>\n",
       "      <td>0.0</td>\n",
       "      <td>...</td>\n",
       "      <td>0.358539</td>\n",
       "      <td>0.335247</td>\n",
       "      <td>0.325155</td>\n",
       "      <td>0.256987</td>\n",
       "      <td>0.797899</td>\n",
       "      <td>0.574849</td>\n",
       "      <td>0.376691</td>\n",
       "      <td>0.381351</td>\n",
       "      <td>0.433945</td>\n",
       "      <td>0.460110</td>\n",
       "    </tr>\n",
       "    <tr>\n",
       "      <th>62995</th>\n",
       "      <td>0.0</td>\n",
       "      <td>1.0</td>\n",
       "      <td>0.0</td>\n",
       "      <td>0.0</td>\n",
       "      <td>0.0</td>\n",
       "      <td>1.000000</td>\n",
       "      <td>0.0</td>\n",
       "      <td>0.000000</td>\n",
       "      <td>0.000000</td>\n",
       "      <td>0.0</td>\n",
       "      <td>...</td>\n",
       "      <td>0.591496</td>\n",
       "      <td>0.533550</td>\n",
       "      <td>0.726442</td>\n",
       "      <td>0.388959</td>\n",
       "      <td>0.158581</td>\n",
       "      <td>0.222123</td>\n",
       "      <td>0.733533</td>\n",
       "      <td>0.686987</td>\n",
       "      <td>0.327736</td>\n",
       "      <td>0.946782</td>\n",
       "    </tr>\n",
       "    <tr>\n",
       "      <th>384739</th>\n",
       "      <td>1.0</td>\n",
       "      <td>0.0</td>\n",
       "      <td>0.0</td>\n",
       "      <td>0.0</td>\n",
       "      <td>0.0</td>\n",
       "      <td>0.000000</td>\n",
       "      <td>0.0</td>\n",
       "      <td>0.000000</td>\n",
       "      <td>0.000000</td>\n",
       "      <td>0.0</td>\n",
       "      <td>...</td>\n",
       "      <td>0.206174</td>\n",
       "      <td>0.201162</td>\n",
       "      <td>0.335667</td>\n",
       "      <td>0.713427</td>\n",
       "      <td>0.701045</td>\n",
       "      <td>0.428742</td>\n",
       "      <td>0.270157</td>\n",
       "      <td>0.294642</td>\n",
       "      <td>0.433108</td>\n",
       "      <td>0.391640</td>\n",
       "    </tr>\n",
       "  </tbody>\n",
       "</table>\n",
       "<p>132324 rows × 434 columns</p>\n",
       "</div>"
      ],
      "text/plain": [
       "        cat_transformer__x0_A  cat_transformer__x0_B  cat_transformer__x1_A  \\\n",
       "14272                     1.0                    0.0                    0.0   \n",
       "196350                    1.0                    0.0                    0.0   \n",
       "12580                     1.0                    0.0                    0.0   \n",
       "388153                    1.0                    0.0                    0.0   \n",
       "421941                    1.0                    0.0                    0.0   \n",
       "...                       ...                    ...                    ...   \n",
       "202615                    1.0                    0.0                    0.0   \n",
       "147747                    1.0                    0.0                    0.0   \n",
       "334990                    1.0                    0.0                    0.0   \n",
       "62995                     0.0                    1.0                    0.0   \n",
       "384739                    1.0                    0.0                    0.0   \n",
       "\n",
       "        cat_transformer__x1_B  cat_transformer__x1_C  cat_transformer__x1_F  \\\n",
       "14272                     0.0                    0.0               0.000000   \n",
       "196350                    1.0                    0.0               0.000000   \n",
       "12580                     0.0                    0.0               0.000000   \n",
       "388153                    0.0                    0.0               0.652054   \n",
       "421941                    0.0                    0.0               0.000000   \n",
       "...                       ...                    ...                    ...   \n",
       "202615                    0.0                    0.0               0.000000   \n",
       "147747                    0.0                    0.0               0.000000   \n",
       "334990                    0.0                    0.0               0.000000   \n",
       "62995                     0.0                    0.0               1.000000   \n",
       "384739                    0.0                    0.0               0.000000   \n",
       "\n",
       "        cat_transformer__x1_G  cat_transformer__x1_I  cat_transformer__x1_J  \\\n",
       "14272                     0.0               0.000000               0.000000   \n",
       "196350                    0.0               0.000000               0.000000   \n",
       "12580                     0.0               1.000000               0.000000   \n",
       "388153                    0.0               0.347946               0.000000   \n",
       "421941                    0.0               1.000000               0.000000   \n",
       "...                       ...                    ...                    ...   \n",
       "202615                    0.0               0.000000               0.000000   \n",
       "147747                    0.0               0.000000               0.000000   \n",
       "334990                    0.0               0.000000               0.758461   \n",
       "62995                     0.0               0.000000               0.000000   \n",
       "384739                    0.0               0.000000               0.000000   \n",
       "\n",
       "        cat_transformer__x1_K  ...     cont1     cont2     cont3     cont4  \\\n",
       "14272                     1.0  ...  0.759745  0.802656  0.291339  0.303853   \n",
       "196350                    0.0  ...  0.479891  0.444910  0.387853  0.285263   \n",
       "12580                     0.0  ...  0.463287  0.441202  0.651419  0.622047   \n",
       "388153                    0.0  ...  0.669933  0.697440  0.542311  0.738291   \n",
       "421941                    0.0  ...  0.643429  0.639782  0.262101  0.779337   \n",
       "...                       ...  ...       ...       ...       ...       ...   \n",
       "202615                    0.0  ...  0.752400  0.832276  0.037547  0.803224   \n",
       "147747                    1.0  ...  0.490242  0.625979  0.572625  0.482695   \n",
       "334990                    0.0  ...  0.358539  0.335247  0.325155  0.256987   \n",
       "62995                     0.0  ...  0.591496  0.533550  0.726442  0.388959   \n",
       "384739                    0.0  ...  0.206174  0.201162  0.335667  0.713427   \n",
       "\n",
       "           cont5     cont6     cont7     cont8     cont9    cont10  \n",
       "14272   0.131722  0.389936  0.861615  0.375944  0.309905  0.847446  \n",
       "196350  0.806833  0.722420  0.323233  0.576045  0.342115  0.409506  \n",
       "12580   0.181163  0.182087  0.673344  0.404213  0.424719  0.634186  \n",
       "388153  0.792345  0.641598  0.553142  0.523379  0.299032  0.506013  \n",
       "421941  0.568775  0.616595  0.554370  0.844865  0.253911  0.408073  \n",
       "...          ...       ...       ...       ...       ...       ...  \n",
       "202615  0.553753  0.329064  0.757331  0.534106  0.708734  0.907396  \n",
       "147747  0.003158  0.104739  0.888760  0.618821  0.870323  0.939967  \n",
       "334990  0.797899  0.574849  0.376691  0.381351  0.433945  0.460110  \n",
       "62995   0.158581  0.222123  0.733533  0.686987  0.327736  0.946782  \n",
       "384739  0.701045  0.428742  0.270157  0.294642  0.433108  0.391640  \n",
       "\n",
       "[132324 rows x 434 columns]"
      ]
     },
     "execution_count": 41,
     "metadata": {},
     "output_type": "execute_result"
    }
   ],
   "source": [
    "X_val"
   ]
  },
  {
   "cell_type": "code",
   "execution_count": 42,
   "id": "aquatic-accessory",
   "metadata": {
    "ExecuteTime": {
     "end_time": "2021-03-31T20:12:20.447627Z",
     "start_time": "2021-03-31T20:09:56.233715Z"
    }
   },
   "outputs": [
    {
     "data": {
      "text/plain": [
       "LogisticRegression(max_iter=1000)"
      ]
     },
     "execution_count": 42,
     "metadata": {},
     "output_type": "execute_result"
    }
   ],
   "source": [
    "log.fit(X_train, y_train)"
   ]
  },
  {
   "cell_type": "code",
   "execution_count": 43,
   "id": "great-antibody",
   "metadata": {
    "ExecuteTime": {
     "end_time": "2021-03-31T20:12:20.679494Z",
     "start_time": "2021-03-31T20:12:20.457535Z"
    }
   },
   "outputs": [
    {
     "data": {
      "text/plain": [
       "0.8851477849358682"
      ]
     },
     "execution_count": 43,
     "metadata": {},
     "output_type": "execute_result"
    }
   ],
   "source": [
    "score = predict_proba(X_val, y_val)\n",
    "score"
   ]
  },
  {
   "cell_type": "markdown",
   "id": "ongoing-string",
   "metadata": {
    "ExecuteTime": {
     "end_time": "2021-03-27T21:17:55.660492Z",
     "start_time": "2021-03-27T21:17:55.635948Z"
    }
   },
   "source": [
    "# Further Modelling"
   ]
  },
  {
   "cell_type": "markdown",
   "id": "continued-stock",
   "metadata": {},
   "source": [
    "## XGBClassifier"
   ]
  },
  {
   "cell_type": "code",
   "execution_count": 44,
   "id": "governing-tender",
   "metadata": {
    "ExecuteTime": {
     "end_time": "2021-03-31T20:24:20.584488Z",
     "start_time": "2021-03-31T20:12:20.682757Z"
    },
    "scrolled": false
   },
   "outputs": [
    {
     "name": "stderr",
     "output_type": "stream",
     "text": [
      "/home/sisto/.pyenv/versions/3.8.6/envs/lewagon/lib/python3.8/site-packages/xgboost/sklearn.py:888: UserWarning: The use of label encoder in XGBClassifier is deprecated and will be removed in a future release. To remove this warning, do the following: 1) Pass option use_label_encoder=False when constructing XGBClassifier object; and 2) Encode your labels (y) as integers starting with 0, i.e. 0, 1, 2, ..., [num_class - 1].\n",
      "  warnings.warn(label_encoder_deprecation_msg, UserWarning)\n"
     ]
    },
    {
     "name": "stdout",
     "output_type": "stream",
     "text": [
      "[22:12:27] WARNING: ../src/learner.cc:1061: Starting in XGBoost 1.3.0, the default evaluation metric used with the objective 'binary:logistic' was changed from 'error' to 'logloss'. Explicitly set eval_metric if you'd like to restore the old behavior.\n"
     ]
    },
    {
     "name": "stderr",
     "output_type": "stream",
     "text": [
      "/home/sisto/.pyenv/versions/3.8.6/envs/lewagon/lib/python3.8/site-packages/xgboost/sklearn.py:888: UserWarning: The use of label encoder in XGBClassifier is deprecated and will be removed in a future release. To remove this warning, do the following: 1) Pass option use_label_encoder=False when constructing XGBClassifier object; and 2) Encode your labels (y) as integers starting with 0, i.e. 0, 1, 2, ..., [num_class - 1].\n",
      "  warnings.warn(label_encoder_deprecation_msg, UserWarning)\n"
     ]
    },
    {
     "name": "stdout",
     "output_type": "stream",
     "text": [
      "[22:16:14] WARNING: ../src/learner.cc:1061: Starting in XGBoost 1.3.0, the default evaluation metric used with the objective 'binary:logistic' was changed from 'error' to 'logloss'. Explicitly set eval_metric if you'd like to restore the old behavior.\n"
     ]
    },
    {
     "name": "stderr",
     "output_type": "stream",
     "text": [
      "/home/sisto/.pyenv/versions/3.8.6/envs/lewagon/lib/python3.8/site-packages/xgboost/sklearn.py:888: UserWarning: The use of label encoder in XGBClassifier is deprecated and will be removed in a future release. To remove this warning, do the following: 1) Pass option use_label_encoder=False when constructing XGBClassifier object; and 2) Encode your labels (y) as integers starting with 0, i.e. 0, 1, 2, ..., [num_class - 1].\n",
      "  warnings.warn(label_encoder_deprecation_msg, UserWarning)\n"
     ]
    },
    {
     "name": "stdout",
     "output_type": "stream",
     "text": [
      "[22:20:12] WARNING: ../src/learner.cc:1061: Starting in XGBoost 1.3.0, the default evaluation metric used with the objective 'binary:logistic' was changed from 'error' to 'logloss'. Explicitly set eval_metric if you'd like to restore the old behavior.\n"
     ]
    },
    {
     "data": {
      "text/plain": [
       "0.8130873607485177"
      ]
     },
     "execution_count": 44,
     "metadata": {},
     "output_type": "execute_result"
    }
   ],
   "source": [
    "xgb = XGBClassifier(random_state=1, learning_rate=0.01)\n",
    "cv_results=cross_validate(xgb, X_train, y_train, scoring = 'f1', cv=3) \n",
    "cv_results['test_score'].mean()"
   ]
  },
  {
   "cell_type": "code",
   "execution_count": 67,
   "id": "under-protein",
   "metadata": {
    "ExecuteTime": {
     "end_time": "2021-03-31T20:48:00.976051Z",
     "start_time": "2021-03-31T20:43:30.630604Z"
    }
   },
   "outputs": [
    {
     "name": "stdout",
     "output_type": "stream",
     "text": [
      "[22:43:42] WARNING: ../src/learner.cc:1061: Starting in XGBoost 1.3.0, the default evaluation metric used with the objective 'binary:logistic' was changed from 'error' to 'logloss'. Explicitly set eval_metric if you'd like to restore the old behavior.\n"
     ]
    },
    {
     "data": {
      "text/plain": [
       "XGBClassifier(base_score=0.5, booster='gbtree', colsample_bylevel=1,\n",
       "              colsample_bynode=1, colsample_bytree=1, gamma=0, gpu_id=-1,\n",
       "              importance_type='gain', interaction_constraints='',\n",
       "              learning_rate=0.01, max_delta_step=0, max_depth=6,\n",
       "              min_child_weight=1, missing=nan, monotone_constraints='()',\n",
       "              n_estimators=100, n_jobs=4, num_parallel_tree=1, random_state=1,\n",
       "              reg_alpha=0, reg_lambda=1, scale_pos_weight=1, subsample=1,\n",
       "              tree_method='exact', validate_parameters=1, verbosity=None)"
      ]
     },
     "execution_count": 67,
     "metadata": {},
     "output_type": "execute_result"
    }
   ],
   "source": [
    "xgb.fit(X_train,y_train)"
   ]
  },
  {
   "cell_type": "code",
   "execution_count": 68,
   "id": "executive-diana",
   "metadata": {
    "ExecuteTime": {
     "end_time": "2021-03-31T20:48:00.984512Z",
     "start_time": "2021-03-31T20:48:00.980124Z"
    }
   },
   "outputs": [],
   "source": [
    "def predict_proba_xgb(X_val, y_val):\n",
    "    y_pred = xgb.predict_proba(X_val)[:, 1] # This grabs the positive class prediction\n",
    "    score = roc_auc_score(y_val, y_pred)\n",
    "    return score"
   ]
  },
  {
   "cell_type": "code",
   "execution_count": 69,
   "id": "monetary-kenya",
   "metadata": {
    "ExecuteTime": {
     "end_time": "2021-03-31T20:48:02.292930Z",
     "start_time": "2021-03-31T20:48:00.988724Z"
    }
   },
   "outputs": [
    {
     "data": {
      "text/plain": [
       "0.8987673985953589"
      ]
     },
     "execution_count": 69,
     "metadata": {},
     "output_type": "execute_result"
    }
   ],
   "source": [
    "score = predict_proba_xgb(X_val, y_val)\n",
    "score"
   ]
  },
  {
   "cell_type": "markdown",
   "id": "informed-thousand",
   "metadata": {},
   "source": [
    "## SGDClassifier"
   ]
  },
  {
   "cell_type": "code",
   "execution_count": 47,
   "id": "decimal-happening",
   "metadata": {
    "ExecuteTime": {
     "end_time": "2021-03-31T20:24:20.932125Z",
     "start_time": "2021-03-31T20:24:20.917554Z"
    }
   },
   "outputs": [],
   "source": [
    "sgd = SGDClassifier()"
   ]
  },
  {
   "cell_type": "code",
   "execution_count": 48,
   "id": "proved-cooper",
   "metadata": {
    "ExecuteTime": {
     "end_time": "2021-03-31T20:24:57.054747Z",
     "start_time": "2021-03-31T20:24:20.936270Z"
    }
   },
   "outputs": [
    {
     "data": {
      "text/plain": [
       "0.7931868324661471"
      ]
     },
     "execution_count": 48,
     "metadata": {},
     "output_type": "execute_result"
    }
   ],
   "source": [
    "cv_results = cross_validate(sgd, X_train, y_train, scoring = 'f1', cv=5)\n",
    "cv_results['test_score'].mean()"
   ]
  },
  {
   "cell_type": "code",
   "execution_count": 70,
   "id": "therapeutic-colon",
   "metadata": {
    "ExecuteTime": {
     "end_time": "2021-03-31T20:49:19.701018Z",
     "start_time": "2021-03-31T20:49:11.102633Z"
    }
   },
   "outputs": [
    {
     "data": {
      "text/plain": [
       "SGDClassifier()"
      ]
     },
     "execution_count": 70,
     "metadata": {},
     "output_type": "execute_result"
    }
   ],
   "source": [
    "sgd.fit(X_train,y_train)"
   ]
  },
  {
   "cell_type": "code",
   "execution_count": 71,
   "id": "humanitarian-expression",
   "metadata": {
    "ExecuteTime": {
     "end_time": "2021-03-31T20:49:19.710604Z",
     "start_time": "2021-03-31T20:49:19.704537Z"
    }
   },
   "outputs": [],
   "source": [
    "def predict_proba_sgd(X_val, y_val):\n",
    "    y_pred = sgd.predict_proba(X_val)[:, 1] # This grabs the positive class prediction\n",
    "    score = roc_auc_score(y_val, y_pred)\n",
    "    return score"
   ]
  },
  {
   "cell_type": "code",
   "execution_count": 72,
   "id": "endless-bikini",
   "metadata": {
    "ExecuteTime": {
     "end_time": "2021-03-31T20:49:19.751290Z",
     "start_time": "2021-03-31T20:49:19.714683Z"
    }
   },
   "outputs": [
    {
     "ename": "AttributeError",
     "evalue": "probability estimates are not available for loss='hinge'",
     "output_type": "error",
     "traceback": [
      "\u001b[0;31m---------------------------------------------------------------------------\u001b[0m",
      "\u001b[0;31mAttributeError\u001b[0m                            Traceback (most recent call last)",
      "\u001b[0;32m<ipython-input-72-6f839744665a>\u001b[0m in \u001b[0;36m<module>\u001b[0;34m\u001b[0m\n\u001b[0;32m----> 1\u001b[0;31m \u001b[0mscore\u001b[0m \u001b[0;34m=\u001b[0m \u001b[0mpredict_proba_sgd\u001b[0m\u001b[0;34m(\u001b[0m\u001b[0mX_val\u001b[0m\u001b[0;34m,\u001b[0m \u001b[0my_val\u001b[0m\u001b[0;34m)\u001b[0m\u001b[0;34m\u001b[0m\u001b[0;34m\u001b[0m\u001b[0m\n\u001b[0m\u001b[1;32m      2\u001b[0m \u001b[0mscore\u001b[0m\u001b[0;34m\u001b[0m\u001b[0;34m\u001b[0m\u001b[0m\n",
      "\u001b[0;32m<ipython-input-71-20db06858243>\u001b[0m in \u001b[0;36mpredict_proba_sgd\u001b[0;34m(X_val, y_val)\u001b[0m\n\u001b[1;32m      1\u001b[0m \u001b[0;32mdef\u001b[0m \u001b[0mpredict_proba_sgd\u001b[0m\u001b[0;34m(\u001b[0m\u001b[0mX_val\u001b[0m\u001b[0;34m,\u001b[0m \u001b[0my_val\u001b[0m\u001b[0;34m)\u001b[0m\u001b[0;34m:\u001b[0m\u001b[0;34m\u001b[0m\u001b[0;34m\u001b[0m\u001b[0m\n\u001b[0;32m----> 2\u001b[0;31m     \u001b[0my_pred\u001b[0m \u001b[0;34m=\u001b[0m \u001b[0msgd\u001b[0m\u001b[0;34m.\u001b[0m\u001b[0mpredict_proba\u001b[0m\u001b[0;34m(\u001b[0m\u001b[0mX_val\u001b[0m\u001b[0;34m)\u001b[0m\u001b[0;34m[\u001b[0m\u001b[0;34m:\u001b[0m\u001b[0;34m,\u001b[0m \u001b[0;36m1\u001b[0m\u001b[0;34m]\u001b[0m \u001b[0;31m# This grabs the positive class prediction\u001b[0m\u001b[0;34m\u001b[0m\u001b[0;34m\u001b[0m\u001b[0m\n\u001b[0m\u001b[1;32m      3\u001b[0m     \u001b[0mscore\u001b[0m \u001b[0;34m=\u001b[0m \u001b[0mroc_auc_score\u001b[0m\u001b[0;34m(\u001b[0m\u001b[0my_val\u001b[0m\u001b[0;34m,\u001b[0m \u001b[0my_pred\u001b[0m\u001b[0;34m)\u001b[0m\u001b[0;34m\u001b[0m\u001b[0;34m\u001b[0m\u001b[0m\n\u001b[1;32m      4\u001b[0m     \u001b[0;32mreturn\u001b[0m \u001b[0mscore\u001b[0m\u001b[0;34m\u001b[0m\u001b[0;34m\u001b[0m\u001b[0m\n",
      "\u001b[0;32m~/.pyenv/versions/3.8.6/envs/lewagon/lib/python3.8/site-packages/sklearn/linear_model/_stochastic_gradient.py\u001b[0m in \u001b[0;36mpredict_proba\u001b[0;34m(self)\u001b[0m\n\u001b[1;32m   1025\u001b[0m         \u001b[0mhttp\u001b[0m\u001b[0;34m:\u001b[0m\u001b[0;34m//\u001b[0m\u001b[0mjmlr\u001b[0m\u001b[0;34m.\u001b[0m\u001b[0mcsail\u001b[0m\u001b[0;34m.\u001b[0m\u001b[0mmit\u001b[0m\u001b[0;34m.\u001b[0m\u001b[0medu\u001b[0m\u001b[0;34m/\u001b[0m\u001b[0mpapers\u001b[0m\u001b[0;34m/\u001b[0m\u001b[0mvolume2\u001b[0m\u001b[0;34m/\u001b[0m\u001b[0mzhang02c\u001b[0m\u001b[0;34m/\u001b[0m\u001b[0mzhang02c\u001b[0m\u001b[0;34m.\u001b[0m\u001b[0mpdf\u001b[0m\u001b[0;34m\u001b[0m\u001b[0;34m\u001b[0m\u001b[0m\n\u001b[1;32m   1026\u001b[0m         \"\"\"\n\u001b[0;32m-> 1027\u001b[0;31m         \u001b[0mself\u001b[0m\u001b[0;34m.\u001b[0m\u001b[0m_check_proba\u001b[0m\u001b[0;34m(\u001b[0m\u001b[0;34m)\u001b[0m\u001b[0;34m\u001b[0m\u001b[0;34m\u001b[0m\u001b[0m\n\u001b[0m\u001b[1;32m   1028\u001b[0m         \u001b[0;32mreturn\u001b[0m \u001b[0mself\u001b[0m\u001b[0;34m.\u001b[0m\u001b[0m_predict_proba\u001b[0m\u001b[0;34m\u001b[0m\u001b[0;34m\u001b[0m\u001b[0m\n\u001b[1;32m   1029\u001b[0m \u001b[0;34m\u001b[0m\u001b[0m\n",
      "\u001b[0;32m~/.pyenv/versions/3.8.6/envs/lewagon/lib/python3.8/site-packages/sklearn/linear_model/_stochastic_gradient.py\u001b[0m in \u001b[0;36m_check_proba\u001b[0;34m(self)\u001b[0m\n\u001b[1;32m    985\u001b[0m     \u001b[0;32mdef\u001b[0m \u001b[0m_check_proba\u001b[0m\u001b[0;34m(\u001b[0m\u001b[0mself\u001b[0m\u001b[0;34m)\u001b[0m\u001b[0;34m:\u001b[0m\u001b[0;34m\u001b[0m\u001b[0;34m\u001b[0m\u001b[0m\n\u001b[1;32m    986\u001b[0m         \u001b[0;32mif\u001b[0m \u001b[0mself\u001b[0m\u001b[0;34m.\u001b[0m\u001b[0mloss\u001b[0m \u001b[0;32mnot\u001b[0m \u001b[0;32min\u001b[0m \u001b[0;34m(\u001b[0m\u001b[0;34m\"log\"\u001b[0m\u001b[0;34m,\u001b[0m \u001b[0;34m\"modified_huber\"\u001b[0m\u001b[0;34m)\u001b[0m\u001b[0;34m:\u001b[0m\u001b[0;34m\u001b[0m\u001b[0;34m\u001b[0m\u001b[0m\n\u001b[0;32m--> 987\u001b[0;31m             raise AttributeError(\"probability estimates are not available for\"\n\u001b[0m\u001b[1;32m    988\u001b[0m                                  \" loss=%r\" % self.loss)\n\u001b[1;32m    989\u001b[0m \u001b[0;34m\u001b[0m\u001b[0m\n",
      "\u001b[0;31mAttributeError\u001b[0m: probability estimates are not available for loss='hinge'"
     ]
    }
   ],
   "source": [
    "score = predict_proba_sgd(X_val, y_val)\n",
    "score"
   ]
  },
  {
   "cell_type": "markdown",
   "id": "fundamental-exhibit",
   "metadata": {},
   "source": [
    "# Fine Tuning Model"
   ]
  },
  {
   "cell_type": "markdown",
   "id": "identified-hebrew",
   "metadata": {
    "ExecuteTime": {
     "end_time": "2021-03-29T14:13:12.851502Z",
     "start_time": "2021-03-29T14:13:12.845253Z"
    }
   },
   "source": [
    "# SUBMISSION"
   ]
  },
  {
   "cell_type": "code",
   "execution_count": 51,
   "id": "athletic-breakfast",
   "metadata": {
    "ExecuteTime": {
     "end_time": "2021-03-31T20:24:58.524208Z",
     "start_time": "2021-03-31T20:24:57.293589Z"
    }
   },
   "outputs": [],
   "source": [
    "X_test = pd.read_csv('raw_data/test.csv')"
   ]
  },
  {
   "cell_type": "code",
   "execution_count": 52,
   "id": "controversial-blogger",
   "metadata": {
    "ExecuteTime": {
     "end_time": "2021-03-31T20:24:58.536641Z",
     "start_time": "2021-03-31T20:24:58.526410Z"
    }
   },
   "outputs": [],
   "source": [
    "X_test.set_index('id', inplace=True)"
   ]
  },
  {
   "cell_type": "code",
   "execution_count": 53,
   "id": "modular-envelope",
   "metadata": {
    "ExecuteTime": {
     "end_time": "2021-03-31T20:25:00.328997Z",
     "start_time": "2021-03-31T20:24:58.540341Z"
    }
   },
   "outputs": [],
   "source": [
    "X_test = preprocessor.transform(X_test)"
   ]
  },
  {
   "cell_type": "code",
   "execution_count": 54,
   "id": "filled-component",
   "metadata": {
    "ExecuteTime": {
     "end_time": "2021-03-31T20:25:00.353547Z",
     "start_time": "2021-03-31T20:25:00.332129Z"
    }
   },
   "outputs": [
    {
     "data": {
      "text/plain": [
       "(200000, 634)"
      ]
     },
     "execution_count": 54,
     "metadata": {},
     "output_type": "execute_result"
    }
   ],
   "source": [
    "X_test.shape"
   ]
  },
  {
   "cell_type": "code",
   "execution_count": 55,
   "id": "faced-shipping",
   "metadata": {
    "ExecuteTime": {
     "end_time": "2021-03-31T20:25:00.376619Z",
     "start_time": "2021-03-31T20:25:00.358444Z"
    }
   },
   "outputs": [
    {
     "data": {
      "text/plain": [
       "<200000x634 sparse matrix of type '<class 'numpy.float64'>'\n",
       "\twith 5999990 stored elements in Compressed Sparse Row format>"
      ]
     },
     "execution_count": 55,
     "metadata": {},
     "output_type": "execute_result"
    }
   ],
   "source": [
    "X_test"
   ]
  },
  {
   "cell_type": "code",
   "execution_count": 56,
   "id": "unlikely-shock",
   "metadata": {
    "ExecuteTime": {
     "end_time": "2021-03-31T20:25:00.388907Z",
     "start_time": "2021-03-31T20:25:00.380417Z"
    }
   },
   "outputs": [],
   "source": [
    "list_col = X_train.columns.tolist()"
   ]
  },
  {
   "cell_type": "code",
   "execution_count": 57,
   "id": "italic-belle",
   "metadata": {
    "ExecuteTime": {
     "end_time": "2021-03-31T20:25:00.741084Z",
     "start_time": "2021-03-31T20:25:00.392470Z"
    }
   },
   "outputs": [],
   "source": [
    "X_test = pd.DataFrame(X_test.toarray(), columns=columns)"
   ]
  },
  {
   "cell_type": "code",
   "execution_count": 58,
   "id": "likely-access",
   "metadata": {
    "ExecuteTime": {
     "end_time": "2021-03-31T20:25:01.133579Z",
     "start_time": "2021-03-31T20:25:00.743744Z"
    }
   },
   "outputs": [],
   "source": [
    "X_test = X_test[list_col]"
   ]
  },
  {
   "cell_type": "code",
   "execution_count": 59,
   "id": "known-artwork",
   "metadata": {
    "ExecuteTime": {
     "end_time": "2021-03-31T20:25:01.204650Z",
     "start_time": "2021-03-31T20:25:01.136258Z"
    }
   },
   "outputs": [],
   "source": [
    "submission_data = pd.read_csv('sample_submission.csv', index_col='id')"
   ]
  },
  {
   "cell_type": "code",
   "execution_count": 60,
   "id": "lesser-shift",
   "metadata": {
    "ExecuteTime": {
     "end_time": "2021-03-31T20:25:01.212153Z",
     "start_time": "2021-03-31T20:25:01.207484Z"
    }
   },
   "outputs": [],
   "source": [
    "model = XGBClassifier(n_estimators = 200, learning_rate = 0.01, early_stop = 5)"
   ]
  },
  {
   "cell_type": "code",
   "execution_count": 61,
   "id": "western-yellow",
   "metadata": {
    "ExecuteTime": {
     "end_time": "2021-03-31T20:34:37.417510Z",
     "start_time": "2021-03-31T20:25:01.216006Z"
    }
   },
   "outputs": [
    {
     "name": "stderr",
     "output_type": "stream",
     "text": [
      "/home/sisto/.pyenv/versions/3.8.6/envs/lewagon/lib/python3.8/site-packages/xgboost/sklearn.py:888: UserWarning: The use of label encoder in XGBClassifier is deprecated and will be removed in a future release. To remove this warning, do the following: 1) Pass option use_label_encoder=False when constructing XGBClassifier object; and 2) Encode your labels (y) as integers starting with 0, i.e. 0, 1, 2, ..., [num_class - 1].\n",
      "  warnings.warn(label_encoder_deprecation_msg, UserWarning)\n"
     ]
    },
    {
     "name": "stdout",
     "output_type": "stream",
     "text": [
      "[22:25:03] WARNING: ../src/learner.cc:541: \n",
      "Parameters: { early_stop } might not be used.\n",
      "\n",
      "  This may not be accurate due to some parameters are only used in language bindings but\n",
      "  passed down to XGBoost core.  Or some parameters are not used but slip through this\n",
      "  verification. Please open an issue if you find above cases.\n",
      "\n",
      "\n",
      "[22:25:08] WARNING: ../src/learner.cc:1061: Starting in XGBoost 1.3.0, the default evaluation metric used with the objective 'binary:logistic' was changed from 'error' to 'logloss'. Explicitly set eval_metric if you'd like to restore the old behavior.\n"
     ]
    },
    {
     "data": {
      "text/plain": [
       "XGBClassifier(base_score=0.5, booster='gbtree', colsample_bylevel=1,\n",
       "              colsample_bynode=1, colsample_bytree=1, early_stop=5, gamma=0,\n",
       "              gpu_id=-1, importance_type='gain', interaction_constraints='',\n",
       "              learning_rate=0.01, max_delta_step=0, max_depth=6,\n",
       "              min_child_weight=1, missing=nan, monotone_constraints='()',\n",
       "              n_estimators=200, n_jobs=4, num_parallel_tree=1, random_state=0,\n",
       "              reg_alpha=0, reg_lambda=1, scale_pos_weight=1, subsample=1,\n",
       "              tree_method='exact', validate_parameters=1, verbosity=None)"
      ]
     },
     "execution_count": 61,
     "metadata": {},
     "output_type": "execute_result"
    }
   ],
   "source": [
    "model.fit(X_train,y_train)"
   ]
  },
  {
   "cell_type": "code",
   "execution_count": 62,
   "id": "annoying-offense",
   "metadata": {
    "ExecuteTime": {
     "end_time": "2021-03-31T20:34:41.346511Z",
     "start_time": "2021-03-31T20:34:37.421025Z"
    }
   },
   "outputs": [
    {
     "data": {
      "text/html": [
       "<div>\n",
       "<style scoped>\n",
       "    .dataframe tbody tr th:only-of-type {\n",
       "        vertical-align: middle;\n",
       "    }\n",
       "\n",
       "    .dataframe tbody tr th {\n",
       "        vertical-align: top;\n",
       "    }\n",
       "\n",
       "    .dataframe thead th {\n",
       "        text-align: right;\n",
       "    }\n",
       "</style>\n",
       "<table border=\"1\" class=\"dataframe\">\n",
       "  <thead>\n",
       "    <tr style=\"text-align: right;\">\n",
       "      <th></th>\n",
       "      <th>target</th>\n",
       "    </tr>\n",
       "    <tr>\n",
       "      <th>id</th>\n",
       "      <th></th>\n",
       "    </tr>\n",
       "  </thead>\n",
       "  <tbody>\n",
       "    <tr>\n",
       "      <th>5</th>\n",
       "      <td>0.266100</td>\n",
       "    </tr>\n",
       "    <tr>\n",
       "      <th>6</th>\n",
       "      <td>0.772234</td>\n",
       "    </tr>\n",
       "    <tr>\n",
       "      <th>8</th>\n",
       "      <td>0.199267</td>\n",
       "    </tr>\n",
       "    <tr>\n",
       "      <th>9</th>\n",
       "      <td>0.255335</td>\n",
       "    </tr>\n",
       "    <tr>\n",
       "      <th>11</th>\n",
       "      <td>0.298748</td>\n",
       "    </tr>\n",
       "  </tbody>\n",
       "</table>\n",
       "</div>"
      ],
      "text/plain": [
       "      target\n",
       "id          \n",
       "5   0.266100\n",
       "6   0.772234\n",
       "8   0.199267\n",
       "9   0.255335\n",
       "11  0.298748"
      ]
     },
     "execution_count": 62,
     "metadata": {},
     "output_type": "execute_result"
    }
   ],
   "source": [
    "submission_data['target'] = model.predict_proba(X_test)[:, 1]\n",
    "submission_data.to_csv('XGBClassifier_v1.csv')\n",
    "\n",
    "submission_data.head()"
   ]
  }
 ],
 "metadata": {
  "kernelspec": {
   "display_name": "Python 3",
   "language": "python",
   "name": "python3"
  },
  "language_info": {
   "codemirror_mode": {
    "name": "ipython",
    "version": 3
   },
   "file_extension": ".py",
   "mimetype": "text/x-python",
   "name": "python",
   "nbconvert_exporter": "python",
   "pygments_lexer": "ipython3",
   "version": "3.8.6"
  },
  "toc": {
   "base_numbering": 1,
   "nav_menu": {},
   "number_sections": true,
   "sideBar": true,
   "skip_h1_title": false,
   "title_cell": "Table of Contents",
   "title_sidebar": "Contents",
   "toc_cell": false,
   "toc_position": {},
   "toc_section_display": true,
   "toc_window_display": false
  }
 },
 "nbformat": 4,
 "nbformat_minor": 5
}
