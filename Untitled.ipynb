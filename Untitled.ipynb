{
 "cells": [
  {
   "cell_type": "markdown",
   "id": "obvious-rwanda",
   "metadata": {},
   "source": [
    "# Tabular Competition"
   ]
  },
  {
   "cell_type": "markdown",
   "id": "exciting-farmer",
   "metadata": {},
   "source": [
    "## Explore"
   ]
  },
  {
   "cell_type": "code",
   "execution_count": 29,
   "id": "super-motion",
   "metadata": {
    "ExecuteTime": {
     "end_time": "2021-03-18T11:31:21.341877Z",
     "start_time": "2021-03-18T11:31:21.327660Z"
    }
   },
   "outputs": [],
   "source": [
    "import pandas as pd\n",
    "import numpy as np\n",
    "import matplotlib.pyplot as plt\n",
    "import seaborn as sns"
   ]
  },
  {
   "cell_type": "code",
   "execution_count": 2,
   "id": "protecting-polyester",
   "metadata": {
    "ExecuteTime": {
     "end_time": "2021-03-18T10:46:21.393104Z",
     "start_time": "2021-03-18T10:46:19.741786Z"
    }
   },
   "outputs": [],
   "source": [
    "data = pd.read_csv('raw_data/train.csv')"
   ]
  },
  {
   "cell_type": "code",
   "execution_count": 3,
   "id": "looking-father",
   "metadata": {
    "ExecuteTime": {
     "end_time": "2021-03-18T10:46:26.976923Z",
     "start_time": "2021-03-18T10:46:26.933327Z"
    }
   },
   "outputs": [
    {
     "data": {
      "text/html": [
       "<div>\n",
       "<style scoped>\n",
       "    .dataframe tbody tr th:only-of-type {\n",
       "        vertical-align: middle;\n",
       "    }\n",
       "\n",
       "    .dataframe tbody tr th {\n",
       "        vertical-align: top;\n",
       "    }\n",
       "\n",
       "    .dataframe thead th {\n",
       "        text-align: right;\n",
       "    }\n",
       "</style>\n",
       "<table border=\"1\" class=\"dataframe\">\n",
       "  <thead>\n",
       "    <tr style=\"text-align: right;\">\n",
       "      <th></th>\n",
       "      <th>id</th>\n",
       "      <th>cat0</th>\n",
       "      <th>cat1</th>\n",
       "      <th>cat2</th>\n",
       "      <th>cat3</th>\n",
       "      <th>cat4</th>\n",
       "      <th>cat5</th>\n",
       "      <th>cat6</th>\n",
       "      <th>cat7</th>\n",
       "      <th>cat8</th>\n",
       "      <th>...</th>\n",
       "      <th>cont2</th>\n",
       "      <th>cont3</th>\n",
       "      <th>cont4</th>\n",
       "      <th>cont5</th>\n",
       "      <th>cont6</th>\n",
       "      <th>cont7</th>\n",
       "      <th>cont8</th>\n",
       "      <th>cont9</th>\n",
       "      <th>cont10</th>\n",
       "      <th>target</th>\n",
       "    </tr>\n",
       "  </thead>\n",
       "  <tbody>\n",
       "    <tr>\n",
       "      <th>0</th>\n",
       "      <td>0</td>\n",
       "      <td>A</td>\n",
       "      <td>I</td>\n",
       "      <td>A</td>\n",
       "      <td>B</td>\n",
       "      <td>B</td>\n",
       "      <td>BI</td>\n",
       "      <td>A</td>\n",
       "      <td>S</td>\n",
       "      <td>Q</td>\n",
       "      <td>...</td>\n",
       "      <td>0.759439</td>\n",
       "      <td>0.795549</td>\n",
       "      <td>0.681917</td>\n",
       "      <td>0.621672</td>\n",
       "      <td>0.592184</td>\n",
       "      <td>0.791921</td>\n",
       "      <td>0.815254</td>\n",
       "      <td>0.965006</td>\n",
       "      <td>0.665915</td>\n",
       "      <td>0</td>\n",
       "    </tr>\n",
       "    <tr>\n",
       "      <th>1</th>\n",
       "      <td>1</td>\n",
       "      <td>A</td>\n",
       "      <td>I</td>\n",
       "      <td>A</td>\n",
       "      <td>A</td>\n",
       "      <td>E</td>\n",
       "      <td>BI</td>\n",
       "      <td>K</td>\n",
       "      <td>W</td>\n",
       "      <td>AD</td>\n",
       "      <td>...</td>\n",
       "      <td>0.386385</td>\n",
       "      <td>0.541366</td>\n",
       "      <td>0.388982</td>\n",
       "      <td>0.357778</td>\n",
       "      <td>0.600044</td>\n",
       "      <td>0.408701</td>\n",
       "      <td>0.399353</td>\n",
       "      <td>0.927406</td>\n",
       "      <td>0.493729</td>\n",
       "      <td>0</td>\n",
       "    </tr>\n",
       "    <tr>\n",
       "      <th>2</th>\n",
       "      <td>2</td>\n",
       "      <td>A</td>\n",
       "      <td>K</td>\n",
       "      <td>A</td>\n",
       "      <td>A</td>\n",
       "      <td>E</td>\n",
       "      <td>BI</td>\n",
       "      <td>A</td>\n",
       "      <td>E</td>\n",
       "      <td>BM</td>\n",
       "      <td>...</td>\n",
       "      <td>0.343255</td>\n",
       "      <td>0.616352</td>\n",
       "      <td>0.793687</td>\n",
       "      <td>0.552877</td>\n",
       "      <td>0.352113</td>\n",
       "      <td>0.388835</td>\n",
       "      <td>0.412303</td>\n",
       "      <td>0.292696</td>\n",
       "      <td>0.549452</td>\n",
       "      <td>0</td>\n",
       "    </tr>\n",
       "    <tr>\n",
       "      <th>3</th>\n",
       "      <td>3</td>\n",
       "      <td>A</td>\n",
       "      <td>K</td>\n",
       "      <td>A</td>\n",
       "      <td>C</td>\n",
       "      <td>E</td>\n",
       "      <td>BI</td>\n",
       "      <td>A</td>\n",
       "      <td>Y</td>\n",
       "      <td>AD</td>\n",
       "      <td>...</td>\n",
       "      <td>0.831147</td>\n",
       "      <td>0.807807</td>\n",
       "      <td>0.800032</td>\n",
       "      <td>0.619147</td>\n",
       "      <td>0.221789</td>\n",
       "      <td>0.897617</td>\n",
       "      <td>0.633669</td>\n",
       "      <td>0.760318</td>\n",
       "      <td>0.934242</td>\n",
       "      <td>0</td>\n",
       "    </tr>\n",
       "    <tr>\n",
       "      <th>4</th>\n",
       "      <td>4</td>\n",
       "      <td>A</td>\n",
       "      <td>I</td>\n",
       "      <td>G</td>\n",
       "      <td>B</td>\n",
       "      <td>E</td>\n",
       "      <td>BI</td>\n",
       "      <td>C</td>\n",
       "      <td>G</td>\n",
       "      <td>Q</td>\n",
       "      <td>...</td>\n",
       "      <td>0.338818</td>\n",
       "      <td>0.277308</td>\n",
       "      <td>0.610578</td>\n",
       "      <td>0.128291</td>\n",
       "      <td>0.578764</td>\n",
       "      <td>0.279167</td>\n",
       "      <td>0.351103</td>\n",
       "      <td>0.357084</td>\n",
       "      <td>0.328960</td>\n",
       "      <td>1</td>\n",
       "    </tr>\n",
       "  </tbody>\n",
       "</table>\n",
       "<p>5 rows × 32 columns</p>\n",
       "</div>"
      ],
      "text/plain": [
       "   id cat0 cat1 cat2 cat3 cat4 cat5 cat6 cat7 cat8  ...     cont2     cont3  \\\n",
       "0   0    A    I    A    B    B   BI    A    S    Q  ...  0.759439  0.795549   \n",
       "1   1    A    I    A    A    E   BI    K    W   AD  ...  0.386385  0.541366   \n",
       "2   2    A    K    A    A    E   BI    A    E   BM  ...  0.343255  0.616352   \n",
       "3   3    A    K    A    C    E   BI    A    Y   AD  ...  0.831147  0.807807   \n",
       "4   4    A    I    G    B    E   BI    C    G    Q  ...  0.338818  0.277308   \n",
       "\n",
       "      cont4     cont5     cont6     cont7     cont8     cont9    cont10 target  \n",
       "0  0.681917  0.621672  0.592184  0.791921  0.815254  0.965006  0.665915      0  \n",
       "1  0.388982  0.357778  0.600044  0.408701  0.399353  0.927406  0.493729      0  \n",
       "2  0.793687  0.552877  0.352113  0.388835  0.412303  0.292696  0.549452      0  \n",
       "3  0.800032  0.619147  0.221789  0.897617  0.633669  0.760318  0.934242      0  \n",
       "4  0.610578  0.128291  0.578764  0.279167  0.351103  0.357084  0.328960      1  \n",
       "\n",
       "[5 rows x 32 columns]"
      ]
     },
     "execution_count": 3,
     "metadata": {},
     "output_type": "execute_result"
    }
   ],
   "source": [
    "data.head()\n"
   ]
  },
  {
   "cell_type": "code",
   "execution_count": 6,
   "id": "passing-pillow",
   "metadata": {
    "ExecuteTime": {
     "end_time": "2021-03-18T10:49:32.984723Z",
     "start_time": "2021-03-18T10:49:32.144608Z"
    }
   },
   "outputs": [
    {
     "data": {
      "text/plain": [
       "<AxesSubplot:>"
      ]
     },
     "execution_count": 6,
     "metadata": {},
     "output_type": "execute_result"
    },
    {
     "data": {
      "image/png": "[encoded data removed]",
      "text/plain": [
       "<Figure size 432x288 with 2 Axes>"
      ]
     },
     "metadata": {
      "needs_background": "light"
     },
     "output_type": "display_data"
    }
   ],
   "source": [
    "# Heatmap\n",
    "corr = data.corr()\n",
    "sns.heatmap(corr, \n",
    "        xticklabels=corr.columns,\n",
    "        yticklabels=corr.columns,\n",
    "        cmap= \"YlGnBu\")"
   ]
  },
  {
   "cell_type": "code",
   "execution_count": 11,
   "id": "congressional-campaign",
   "metadata": {
    "ExecuteTime": {
     "end_time": "2021-03-18T10:51:13.172548Z",
     "start_time": "2021-03-18T10:51:12.918626Z"
    }
   },
   "outputs": [
    {
     "data": {
      "text/plain": [
       "id        0\n",
       "cat0      0\n",
       "cat1      0\n",
       "cat2      0\n",
       "cat3      0\n",
       "cat4      0\n",
       "cat5      0\n",
       "cat6      0\n",
       "cat7      0\n",
       "cat8      0\n",
       "cat9      0\n",
       "cat10     0\n",
       "cat11     0\n",
       "cat12     0\n",
       "cat13     0\n",
       "cat14     0\n",
       "cat15     0\n",
       "cat16     0\n",
       "cat17     0\n",
       "cat18     0\n",
       "cont0     0\n",
       "cont1     0\n",
       "cont2     0\n",
       "cont3     0\n",
       "cont4     0\n",
       "cont5     0\n",
       "cont6     0\n",
       "cont7     0\n",
       "cont8     0\n",
       "cont9     0\n",
       "cont10    0\n",
       "target    0\n",
       "dtype: int64"
      ]
     },
     "execution_count": 11,
     "metadata": {},
     "output_type": "execute_result"
    }
   ],
   "source": [
    "data.isnull().sum()"
   ]
  },
  {
   "cell_type": "code",
   "execution_count": 15,
   "id": "proprietary-tracker",
   "metadata": {
    "ExecuteTime": {
     "end_time": "2021-03-18T10:53:29.727134Z",
     "start_time": "2021-03-18T10:53:29.156244Z"
    }
   },
   "outputs": [
    {
     "data": {
      "text/plain": [
       "<AxesSubplot:>"
      ]
     },
     "execution_count": 15,
     "metadata": {},
     "output_type": "execute_result"
    },
    {
     "data": {
      "image/png": "[encoded data removed]",
      "text/plain": [
       "<Figure size 432x288 with 1 Axes>"
      ]
     },
     "metadata": {
      "needs_background": "light"
     },
     "output_type": "display_data"
    }
   ],
   "source": [
    "data[['cont']].boxplot()"
   ]
  },
  {
   "cell_type": "code",
   "execution_count": 17,
   "id": "southern-campus",
   "metadata": {
    "ExecuteTime": {
     "end_time": "2021-03-18T10:54:26.768087Z",
     "start_time": "2021-03-18T10:54:26.745386Z"
    }
   },
   "outputs": [
    {
     "data": {
      "text/plain": [
       "cont1    1.009958\n",
       "dtype: float64"
      ]
     },
     "execution_count": 17,
     "metadata": {},
     "output_type": "execute_result"
    }
   ],
   "source": [
    "data[['cont1']].max()"
   ]
  },
  {
   "cell_type": "code",
   "execution_count": 18,
   "id": "turkish-writer",
   "metadata": {
    "ExecuteTime": {
     "end_time": "2021-03-18T10:54:36.858483Z",
     "start_time": "2021-03-18T10:54:36.386949Z"
    }
   },
   "outputs": [
    {
     "data": {
      "text/plain": [
       "id               0\n",
       "cat0             A\n",
       "cat1             A\n",
       "cat2             A\n",
       "cat3             A\n",
       "cat4             A\n",
       "cat5             A\n",
       "cat6             A\n",
       "cat7             A\n",
       "cat8             A\n",
       "cat9             A\n",
       "cat10           AA\n",
       "cat11            A\n",
       "cat12            A\n",
       "cat13            A\n",
       "cat14            A\n",
       "cat15            A\n",
       "cat16            A\n",
       "cat17            A\n",
       "cat18            A\n",
       "cont0    -0.049562\n",
       "cont1     0.084480\n",
       "cont2     0.094493\n",
       "cont3    -0.045316\n",
       "cont4     0.168071\n",
       "cont5    -0.036379\n",
       "cont6     0.005199\n",
       "cont7     0.090901\n",
       "cont8     0.024139\n",
       "cont9     0.214866\n",
       "cont10    0.097789\n",
       "target           0\n",
       "dtype: object"
      ]
     },
     "execution_count": 18,
     "metadata": {},
     "output_type": "execute_result"
    }
   ],
   "source": [
    "data.min()"
   ]
  },
  {
   "cell_type": "code",
   "execution_count": 19,
   "id": "australian-heart",
   "metadata": {
    "ExecuteTime": {
     "end_time": "2021-03-18T10:54:46.269746Z",
     "start_time": "2021-03-18T10:54:45.831168Z"
    }
   },
   "outputs": [
    {
     "data": {
      "text/plain": [
       "id          499999\n",
       "cat0             B\n",
       "cat1             O\n",
       "cat2             U\n",
       "cat3             N\n",
       "cat4             T\n",
       "cat5            ZZ\n",
       "cat6             Y\n",
       "cat7             Y\n",
       "cat8             Y\n",
       "cat9             X\n",
       "cat10            Y\n",
       "cat11            B\n",
       "cat12            B\n",
       "cat13            B\n",
       "cat14            B\n",
       "cat15            D\n",
       "cat16            D\n",
       "cat17            D\n",
       "cat18            D\n",
       "cont0     1.004559\n",
       "cont1     1.009958\n",
       "cont2     1.016600\n",
       "cont3     0.952187\n",
       "cont4     0.858578\n",
       "cont5     0.853022\n",
       "cont6     0.966553\n",
       "cont7     1.035818\n",
       "cont8     1.055885\n",
       "cont9     1.005652\n",
       "cont10    1.011331\n",
       "target           1\n",
       "dtype: object"
      ]
     },
     "execution_count": 19,
     "metadata": {},
     "output_type": "execute_result"
    }
   ],
   "source": [
    "data.max()"
   ]
  },
  {
   "cell_type": "code",
   "execution_count": 20,
   "id": "difficult-orchestra",
   "metadata": {
    "ExecuteTime": {
     "end_time": "2021-03-18T10:55:13.968313Z",
     "start_time": "2021-03-18T10:55:13.623298Z"
    }
   },
   "outputs": [
    {
     "data": {
      "text/html": [
       "<div>\n",
       "<style scoped>\n",
       "    .dataframe tbody tr th:only-of-type {\n",
       "        vertical-align: middle;\n",
       "    }\n",
       "\n",
       "    .dataframe tbody tr th {\n",
       "        vertical-align: top;\n",
       "    }\n",
       "\n",
       "    .dataframe thead th {\n",
       "        text-align: right;\n",
       "    }\n",
       "</style>\n",
       "<table border=\"1\" class=\"dataframe\">\n",
       "  <thead>\n",
       "    <tr style=\"text-align: right;\">\n",
       "      <th></th>\n",
       "      <th>id</th>\n",
       "      <th>cont0</th>\n",
       "      <th>cont1</th>\n",
       "      <th>cont2</th>\n",
       "      <th>cont3</th>\n",
       "      <th>cont4</th>\n",
       "      <th>cont5</th>\n",
       "      <th>cont6</th>\n",
       "      <th>cont7</th>\n",
       "      <th>cont8</th>\n",
       "      <th>cont9</th>\n",
       "      <th>cont10</th>\n",
       "      <th>target</th>\n",
       "    </tr>\n",
       "  </thead>\n",
       "  <tbody>\n",
       "    <tr>\n",
       "      <th>count</th>\n",
       "      <td>300000.000000</td>\n",
       "      <td>300000.000000</td>\n",
       "      <td>300000.000000</td>\n",
       "      <td>300000.000000</td>\n",
       "      <td>300000.000000</td>\n",
       "      <td>300000.000000</td>\n",
       "      <td>300000.000000</td>\n",
       "      <td>300000.000000</td>\n",
       "      <td>300000.000000</td>\n",
       "      <td>300000.000000</td>\n",
       "      <td>300000.000000</td>\n",
       "      <td>300000.000000</td>\n",
       "      <td>300000.000000</td>\n",
       "    </tr>\n",
       "    <tr>\n",
       "      <th>mean</th>\n",
       "      <td>250183.425697</td>\n",
       "      <td>0.504749</td>\n",
       "      <td>0.494073</td>\n",
       "      <td>0.516632</td>\n",
       "      <td>0.474235</td>\n",
       "      <td>0.504848</td>\n",
       "      <td>0.502257</td>\n",
       "      <td>0.488229</td>\n",
       "      <td>0.501739</td>\n",
       "      <td>0.488074</td>\n",
       "      <td>0.469496</td>\n",
       "      <td>0.508230</td>\n",
       "      <td>0.264870</td>\n",
       "    </tr>\n",
       "    <tr>\n",
       "      <th>std</th>\n",
       "      <td>144320.334812</td>\n",
       "      <td>0.206788</td>\n",
       "      <td>0.213037</td>\n",
       "      <td>0.214851</td>\n",
       "      <td>0.216636</td>\n",
       "      <td>0.227474</td>\n",
       "      <td>0.241243</td>\n",
       "      <td>0.211335</td>\n",
       "      <td>0.203496</td>\n",
       "      <td>0.179048</td>\n",
       "      <td>0.194516</td>\n",
       "      <td>0.203393</td>\n",
       "      <td>0.441265</td>\n",
       "    </tr>\n",
       "    <tr>\n",
       "      <th>min</th>\n",
       "      <td>0.000000</td>\n",
       "      <td>-0.049562</td>\n",
       "      <td>0.084480</td>\n",
       "      <td>0.094493</td>\n",
       "      <td>-0.045316</td>\n",
       "      <td>0.168071</td>\n",
       "      <td>-0.036379</td>\n",
       "      <td>0.005199</td>\n",
       "      <td>0.090901</td>\n",
       "      <td>0.024139</td>\n",
       "      <td>0.214866</td>\n",
       "      <td>0.097789</td>\n",
       "      <td>0.000000</td>\n",
       "    </tr>\n",
       "    <tr>\n",
       "      <th>25%</th>\n",
       "      <td>125399.750000</td>\n",
       "      <td>0.344985</td>\n",
       "      <td>0.317363</td>\n",
       "      <td>0.326047</td>\n",
       "      <td>0.292249</td>\n",
       "      <td>0.279303</td>\n",
       "      <td>0.276442</td>\n",
       "      <td>0.323914</td>\n",
       "      <td>0.353054</td>\n",
       "      <td>0.358915</td>\n",
       "      <td>0.309934</td>\n",
       "      <td>0.368312</td>\n",
       "      <td>0.000000</td>\n",
       "    </tr>\n",
       "    <tr>\n",
       "      <th>50%</th>\n",
       "      <td>250192.500000</td>\n",
       "      <td>0.479650</td>\n",
       "      <td>0.463170</td>\n",
       "      <td>0.471247</td>\n",
       "      <td>0.387564</td>\n",
       "      <td>0.479858</td>\n",
       "      <td>0.554768</td>\n",
       "      <td>0.518089</td>\n",
       "      <td>0.435404</td>\n",
       "      <td>0.410908</td>\n",
       "      <td>0.407477</td>\n",
       "      <td>0.446576</td>\n",
       "      <td>0.000000</td>\n",
       "    </tr>\n",
       "    <tr>\n",
       "      <th>75%</th>\n",
       "      <td>375246.250000</td>\n",
       "      <td>0.637657</td>\n",
       "      <td>0.693992</td>\n",
       "      <td>0.704625</td>\n",
       "      <td>0.644950</td>\n",
       "      <td>0.725779</td>\n",
       "      <td>0.735225</td>\n",
       "      <td>0.608537</td>\n",
       "      <td>0.642023</td>\n",
       "      <td>0.612725</td>\n",
       "      <td>0.586793</td>\n",
       "      <td>0.581957</td>\n",
       "      <td>1.000000</td>\n",
       "    </tr>\n",
       "    <tr>\n",
       "      <th>max</th>\n",
       "      <td>499999.000000</td>\n",
       "      <td>1.004559</td>\n",
       "      <td>1.009958</td>\n",
       "      <td>1.016600</td>\n",
       "      <td>0.952187</td>\n",
       "      <td>0.858578</td>\n",
       "      <td>0.853022</td>\n",
       "      <td>0.966553</td>\n",
       "      <td>1.035818</td>\n",
       "      <td>1.055885</td>\n",
       "      <td>1.005652</td>\n",
       "      <td>1.011331</td>\n",
       "      <td>1.000000</td>\n",
       "    </tr>\n",
       "  </tbody>\n",
       "</table>\n",
       "</div>"
      ],
      "text/plain": [
       "                  id          cont0          cont1          cont2  \\\n",
       "count  300000.000000  300000.000000  300000.000000  300000.000000   \n",
       "mean   250183.425697       0.504749       0.494073       0.516632   \n",
       "std    144320.334812       0.206788       0.213037       0.214851   \n",
       "min         0.000000      -0.049562       0.084480       0.094493   \n",
       "25%    125399.750000       0.344985       0.317363       0.326047   \n",
       "50%    250192.500000       0.479650       0.463170       0.471247   \n",
       "75%    375246.250000       0.637657       0.693992       0.704625   \n",
       "max    499999.000000       1.004559       1.009958       1.016600   \n",
       "\n",
       "               cont3          cont4          cont5          cont6  \\\n",
       "count  300000.000000  300000.000000  300000.000000  300000.000000   \n",
       "mean        0.474235       0.504848       0.502257       0.488229   \n",
       "std         0.216636       0.227474       0.241243       0.211335   \n",
       "min        -0.045316       0.168071      -0.036379       0.005199   \n",
       "25%         0.292249       0.279303       0.276442       0.323914   \n",
       "50%         0.387564       0.479858       0.554768       0.518089   \n",
       "75%         0.644950       0.725779       0.735225       0.608537   \n",
       "max         0.952187       0.858578       0.853022       0.966553   \n",
       "\n",
       "               cont7          cont8          cont9         cont10  \\\n",
       "count  300000.000000  300000.000000  300000.000000  300000.000000   \n",
       "mean        0.501739       0.488074       0.469496       0.508230   \n",
       "std         0.203496       0.179048       0.194516       0.203393   \n",
       "min         0.090901       0.024139       0.214866       0.097789   \n",
       "25%         0.353054       0.358915       0.309934       0.368312   \n",
       "50%         0.435404       0.410908       0.407477       0.446576   \n",
       "75%         0.642023       0.612725       0.586793       0.581957   \n",
       "max         1.035818       1.055885       1.005652       1.011331   \n",
       "\n",
       "              target  \n",
       "count  300000.000000  \n",
       "mean        0.264870  \n",
       "std         0.441265  \n",
       "min         0.000000  \n",
       "25%         0.000000  \n",
       "50%         0.000000  \n",
       "75%         1.000000  \n",
       "max         1.000000  "
      ]
     },
     "execution_count": 20,
     "metadata": {},
     "output_type": "execute_result"
    }
   ],
   "source": [
    "data.describe()"
   ]
  },
  {
   "cell_type": "code",
   "execution_count": 26,
   "id": "cathedral-sherman",
   "metadata": {
    "ExecuteTime": {
     "end_time": "2021-03-18T11:11:12.272813Z",
     "start_time": "2021-03-18T11:11:12.030859Z"
    }
   },
   "outputs": [],
   "source": [
    "X= data.drop(columns ='target')"
   ]
  },
  {
   "cell_type": "code",
   "execution_count": 27,
   "id": "relevant-breath",
   "metadata": {
    "ExecuteTime": {
     "end_time": "2021-03-18T11:13:15.076828Z",
     "start_time": "2021-03-18T11:13:15.065149Z"
    }
   },
   "outputs": [],
   "source": [
    "y=data['target']"
   ]
  },
  {
   "cell_type": "code",
   "execution_count": 28,
   "id": "consecutive-garden",
   "metadata": {
    "ExecuteTime": {
     "end_time": "2021-03-18T11:13:21.304017Z",
     "start_time": "2021-03-18T11:13:21.292112Z"
    }
   },
   "outputs": [
    {
     "data": {
      "text/plain": [
       "Index(['id', 'cont0', 'cont1', 'cont2', 'cont3', 'cont4', 'cont5', 'cont6',\n",
       "       'cont7', 'cont8', 'cont9', 'cont10'],\n",
       "      dtype='object')"
      ]
     },
     "execution_count": 28,
     "metadata": {},
     "output_type": "execute_result"
    }
   ],
   "source": [
    "X._get_numeric_data().columns"
   ]
  },
  {
   "cell_type": "code",
   "execution_count": null,
   "id": "meaningful-binding",
   "metadata": {},
   "outputs": [],
   "source": []
  }
 ],
 "metadata": {
  "kernelspec": {
   "display_name": "Python 3",
   "language": "python",
   "name": "python3"
  },
  "language_info": {
   "codemirror_mode": {
    "name": "ipython",
    "version": 3
   },
   "file_extension": ".py",
   "mimetype": "text/x-python",
   "name": "python",
   "nbconvert_exporter": "python",
   "pygments_lexer": "ipython3",
   "version": "3.8.6"
  },
  "toc": {
   "base_numbering": 1,
   "nav_menu": {},
   "number_sections": true,
   "sideBar": true,
   "skip_h1_title": false,
   "title_cell": "Table of Contents",
   "title_sidebar": "Contents",
   "toc_cell": false,
   "toc_position": {},
   "toc_section_display": true,
   "toc_window_display": false
  },
  "varInspector": {
   "cols": {
    "lenName": 16,
    "lenType": 16,
    "lenVar": 40
   },
   "kernels_config": {
    "python": {
     "delete_cmd_postfix": "",
     "delete_cmd_prefix": "del ",
     "library": "var_list.py",
     "varRefreshCmd": "print(var_dic_list())"
    },
    "r": {
     "delete_cmd_postfix": ") ",
     "delete_cmd_prefix": "rm(",
     "library": "var_list.r",
     "varRefreshCmd": "cat(var_dic_list()) "
    }
   },
   "types_to_exclude": [
    "module",
    "function",
    "builtin_function_or_method",
    "instance",
    "_Feature"
   ],
   "window_display": false
  }
 },
 "nbformat": 4,
 "nbformat_minor": 5
}
